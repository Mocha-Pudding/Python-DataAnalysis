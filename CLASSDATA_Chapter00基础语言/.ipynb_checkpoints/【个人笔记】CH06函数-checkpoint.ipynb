{
 "cells": [
  {
   "cell_type": "code",
   "execution_count": null,
   "metadata": {},
   "outputs": [],
   "source": [
    "'''\n",
    "【课程6.2】  自定义函数\n",
    "\n",
    "如何创建函数？def语句\n",
    "\n",
    "'''"
   ]
  },
  {
   "cell_type": "code",
   "execution_count": null,
   "metadata": {},
   "outputs": [],
   "source": []
  },
  {
   "cell_type": "markdown",
   "metadata": {},
   "source": [
    "小作业\n",
    "\n",
    "① 函数f（x），输入一个字符串，分别print出每个字母\n",
    "\n",
    "② f(x,y,z),函数内部算法：生成 ((x+y)(x-y))*z\n",
    "\n",
    "③ 编写一个求平均值的函数 f(*m)\n",
    "\n",
    "④ 定义一个函数，用于求矩形面积、圆形面积\n",
    "\n",
    "⑤ 定义一个函数，函数的作用是把输入的列表变成一连串字典的key，并生成字典，需要用input输入"
   ]
  },
  {
   "cell_type": "code",
   "execution_count": 1,
   "metadata": {},
   "outputs": [
    {
     "name": "stdout",
     "output_type": "stream",
     "text": [
      "请输入一个列表:123\n",
      "123 <class 'str'>\n"
     ]
    }
   ],
   "source": [
    "lst = input(\"请输入一个列表:\")\n",
    "print(lst, type(lst))"
   ]
  },
  {
   "cell_type": "code",
   "execution_count": null,
   "metadata": {},
   "outputs": [],
   "source": [
    "'''\n",
    "【课程6.3】  局部变量及全局变量\n",
    "\n",
    "定义在函数内部的变量拥有一个局部作用域，定义在函数外的拥有全局作用域。\n",
    "\n",
    "局部变量只能在其被声明的函数内部访问，而全局变量可以在整个程序范围内访问。调用函数时，所有在函数内声明的变量名称都将被加入到作用域中\n",
    "\n",
    "'''"
   ]
  },
  {
   "cell_type": "code",
   "execution_count": null,
   "metadata": {},
   "outputs": [],
   "source": []
  },
  {
   "cell_type": "code",
   "execution_count": null,
   "metadata": {},
   "outputs": [],
   "source": [
    "'''\n",
    "【课程6.4】  匿名函数Lambda\n",
    "\n",
    "lambda 语句创建匿名函数。\n",
    "\n",
    "'''"
   ]
  },
  {
   "cell_type": "code",
   "execution_count": null,
   "metadata": {},
   "outputs": [],
   "source": []
  },
  {
   "cell_type": "markdown",
   "metadata": {},
   "source": [
    "小作业\n",
    "\n",
    "① 用lambda创建一个求元素个数的匿名函数\n",
    "\n",
    "② 定义一个函数，可将输入的所有数字从大到小依次排序\n",
    "\n",
    "③ 定义一个函数，随机输入一个学生的成绩后，学习成绩>=90分的同学用A表示，60-89分之间的用B表示，60分以下的用C表示，最后输出成绩评分\n",
    "\n",
    "④ 定义一个函数，可统计出输入任意的字符中英文字母、空格、数字和其它字符的个数"
   ]
  },
  {
   "cell_type": "code",
   "execution_count": 1,
   "metadata": {},
   "outputs": [
    {
     "name": "stdout",
     "output_type": "stream",
     "text": [
      "10\n"
     ]
    }
   ],
   "source": [
    "# ① 用lambda创建一个求元素个数的匿名函数\n",
    "\n",
    "count = lambda lst:len(lst)\n",
    "print(count([1,2,3,4,5,6,7,8,9,10]))"
   ]
  },
  {
   "cell_type": "code",
   "execution_count": 7,
   "metadata": {},
   "outputs": [
    {
     "name": "stdout",
     "output_type": "stream",
     "text": [
      "[657, 234, 98, 77, 55, 44, 4]\n"
     ]
    }
   ],
   "source": [
    "# ② 定义一个函数，可将输入的所有数字从大到小依次排序\n",
    "\n",
    "def func(*var):\n",
    "    lst = list(var)\n",
    "    lst_re = sorted(lst, reverse = True)\n",
    "    return lst_re\n",
    "print(func(234,44,657,55,4,77,98))"
   ]
  },
  {
   "cell_type": "code",
   "execution_count": 17,
   "metadata": {},
   "outputs": [
    {
     "name": "stdout",
     "output_type": "stream",
     "text": [
      "请输入学生成绩：78\n",
      "该生成绩为B\n"
     ]
    }
   ],
   "source": [
    "# ③ 定义一个函数，随机输入一个学生的成绩后，学习成绩>=90分的同学用A表示，60-89分之间的用B表示，60分以下的用C表示，最后输出成绩评分\n",
    "\n",
    "def score_func():\n",
    "    scroe = int(input(\"请输入学生成绩：\"))\n",
    "    if scroe >= 90:\n",
    "        print(\"该生成绩为A\")\n",
    "    elif scroe>=60 and scroe<=89:\n",
    "        print(\"该生成绩为B\")\n",
    "    elif scroe<60:\n",
    "        print(\"该生成绩为C\")\n",
    "score_func()"
   ]
  },
  {
   "cell_type": "markdown",
   "metadata": {},
   "source": [
    "### 判断是否为字母、空格、数字\n",
    "#### isalpha（）\n",
    "#### isspace（）\n",
    "#### isdigit（）"
   ]
  },
  {
   "cell_type": "code",
   "execution_count": null,
   "metadata": {},
   "outputs": [],
   "source": [
    "# ④ 定义一个函数，可统计出输入任意的字符中英文字母、空格、数字和其它字符的个数\n",
    "\n",
    "def "
   ]
  },
  {
   "cell_type": "code",
   "execution_count": null,
   "metadata": {},
   "outputs": [],
   "source": []
  },
  {
   "cell_type": "code",
   "execution_count": null,
   "metadata": {},
   "outputs": [],
   "source": []
  }
 ],
 "metadata": {
  "kernelspec": {
   "display_name": "Python 3",
   "language": "python",
   "name": "python3"
  },
  "language_info": {
   "codemirror_mode": {
    "name": "ipython",
    "version": 3
   },
   "file_extension": ".py",
   "mimetype": "text/x-python",
   "name": "python",
   "nbconvert_exporter": "python",
   "pygments_lexer": "ipython3",
   "version": "3.7.3"
  }
 },
 "nbformat": 4,
 "nbformat_minor": 2
}
