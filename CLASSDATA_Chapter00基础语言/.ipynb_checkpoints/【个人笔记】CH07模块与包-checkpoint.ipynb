{
 "cells": [
  {
   "cell_type": "code",
   "execution_count": null,
   "metadata": {},
   "outputs": [],
   "source": [
    "'''\n",
    "【课程7.2】  模块创建及import指令运用\n",
    "\n",
    "Python 模块(Module)，是一个 Python 文件，以 .py 结尾，包含了 Python 对象定义和Python语句\n",
    "\n",
    "'''"
   ]
  },
  {
   "cell_type": "code",
   "execution_count": 1,
   "metadata": {},
   "outputs": [
    {
     "name": "stdout",
     "output_type": "stream",
     "text": [
      "C:\\ProgramData\\Anaconda3\\lib\\site-packages\\pandas\\__init__.py\n"
     ]
    }
   ],
   "source": [
    "# 添加模块前，可以查询pandas模块所在的文件路径，然后把自己定义的模块添加到sit-packages文件夹里面去\n",
    "import pandas\n",
    "print(pandas.__file__)"
   ]
  },
  {
   "cell_type": "code",
   "execution_count": 2,
   "metadata": {},
   "outputs": [],
   "source": [
    "# 或者直接把模块所在的路径添加进去\n",
    "import sys\n",
    "sys.path.append(\"C:\\\\Users\\\\Mocha-Pudding\\\\Desktop\")"
   ]
  },
  {
   "cell_type": "code",
   "execution_count": 3,
   "metadata": {},
   "outputs": [
    {
     "name": "stdout",
     "output_type": "stream",
     "text": [
      "test....\n",
      "Happy birthday to China 70th Anniversary!\n",
      "6\n"
     ]
    },
    {
     "data": {
      "text/plain": [
       "8"
      ]
     },
     "execution_count": 3,
     "metadata": {},
     "output_type": "execute_result"
    }
   ],
   "source": [
    "# testmod.py 模块里的定义\n",
    "\"\"\"\n",
    "def show_func():\n",
    "\tprint(\"Happy birthday to China 70th Anniversary!\")\n",
    "\n",
    "def math_func(a,b):\n",
    "\tprint(a*b)\n",
    "\treturn (a**b)\n",
    "\n",
    "\"\"\"\n",
    "\n",
    "# 调用模块中的方法\n",
    "import testmod\n",
    "print('test....')\n",
    "\n",
    "# 调用模块中的方法\n",
    "testmod.show_func()\n",
    "testmod.math_func(2,3)\n",
    "# print(testmod.math_func(2,3))"
   ]
  },
  {
   "cell_type": "code",
   "execution_count": null,
   "metadata": {},
   "outputs": [],
   "source": []
  }
 ],
 "metadata": {
  "kernelspec": {
   "display_name": "Python 3",
   "language": "python",
   "name": "python3"
  },
  "language_info": {
   "codemirror_mode": {
    "name": "ipython",
    "version": 3
   },
   "file_extension": ".py",
   "mimetype": "text/x-python",
   "name": "python",
   "nbconvert_exporter": "python",
   "pygments_lexer": "ipython3",
   "version": "3.7.3"
  }
 },
 "nbformat": 4,
 "nbformat_minor": 2
}
