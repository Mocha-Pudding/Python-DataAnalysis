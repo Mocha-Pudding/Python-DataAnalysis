{
 "cells": [
  {
   "cell_type": "code",
   "execution_count": null,
   "metadata": {},
   "outputs": [],
   "source": [
    "'''\n",
    "【课程8.1】  文件对象声明及基本操作\n",
    "\n",
    "另一种数据格式：文件/文档\n",
    "\n",
    "'''"
   ]
  },
  {
   "cell_type": "code",
   "execution_count": 1,
   "metadata": {
    "scrolled": false
   },
   "outputs": [
    {
     "name": "stdout",
     "output_type": "stream",
     "text": [
      "The Zen of Python, by Tim Peters\n",
      "\n",
      "Beautiful is better than ugly.\n",
      "Explicit is better than implicit.\n",
      "Simple is better than complex.\n",
      "Complex is better than complicated.\n",
      "Flat is better than nested.\n",
      "Sparse is better than dense.\n",
      "Readability counts.\n",
      "Special cases aren't special enough to break the rules.\n",
      "Although practicality beats purity.\n",
      "Errors should never pass silently.\n",
      "Unless explicitly silenced.\n",
      "In the face of ambiguity, refuse the temptation to guess.\n",
      "There should be one-- and preferably only one --obvious way to do it.\n",
      "Although that way may not be obvious at first unless you're Dutch.\n",
      "Now is better than never.\n",
      "Although never is often better than *right* now.\n",
      "If the implementation is hard to explain, it's a bad idea.\n",
      "If the implementation is easy to explain, it may be a good idea.\n",
      "Namespaces are one honking great idea -- let's do more of those!\n"
     ]
    }
   ],
   "source": [
    "import this"
   ]
  },
  {
   "cell_type": "code",
   "execution_count": 8,
   "metadata": {},
   "outputs": [
    {
     "name": "stdout",
     "output_type": "stream",
     "text": [
      "C:\\Users\\Mocha-Pudding\\Desktop\\test.txt\n",
      "C:/Users/Mocha-Pudding/Desktop/test.txt\n",
      "C:\\Users\\Mocha-Pudding\\Desktop\\test.txt\n"
     ]
    }
   ],
   "source": [
    "# 本地文件的界定：指向一个本地存储的文件，是一个链接或者一个映射\n",
    "\n",
    "path1 = \"C:\\\\Users\\\\Mocha-Pudding\\\\Desktop\\\\test.txt\"   # 两个反斜杠：\\\\（第一个\\是转义符）\n",
    "path2 = \"C:/Users/Mocha-Pudding/Desktop/test.txt\"   # 单个斜杠：/\n",
    "path3 = r\"C:\\Users\\Mocha-Pudding\\Desktop\\test.txt\"   # r用于防止字符转义\n",
    "\n",
    "print(path1)\n",
    "print(path2)\n",
    "print(path3)"
   ]
  },
  {
   "cell_type": "code",
   "execution_count": 12,
   "metadata": {},
   "outputs": [
    {
     "name": "stdout",
     "output_type": "stream",
     "text": [
      "<class '_io.TextIOWrapper'>\n",
      "<_io.TextIOWrapper name='C:\\\\Users\\\\Mocha-Pudding\\\\Desktop\\\\test.txt' mode='r' encoding='cp936'>\n",
      "The Zen of Python, by Tim Peters\n",
      "\n",
      "Beautiful is better than ugly.\n",
      "Explicit is better than implicit.\n",
      "Simple is better than complex.\n",
      "Complex is better than complicated.\n",
      "Flat is better than nested.\n",
      "Sparse is better than dense.\n",
      "Readability counts.\n",
      "Special cases aren't special enough to break the rules.\n",
      "Although practicality beats purity.\n",
      "Errors should never pass silently.\n",
      "Unless explicitly silenced.\n",
      "In the face of ambiguity, refuse the temptation to guess.\n",
      "There should be one-- and preferably only one --obvious way to do it.\n",
      "Although that way may not be obvious at first unless you're Dutch.\n",
      "Now is better than never.\n",
      "Although never is often better than *right* now.\n",
      "If the implementation is hard to explain, it's a bad idea.\n",
      "If the implementation is easy to explain, it may be a good idea.\n",
      "Namespaces are one honking great idea -- let's do more of those!\n"
     ]
    }
   ],
   "source": [
    "# 读取文件：open语句\n",
    "\n",
    "f = open(path1,mode='r')\n",
    "print(type(f))\n",
    "print(f)\n",
    "print(f.read())"
   ]
  },
  {
   "cell_type": "code",
   "execution_count": null,
   "metadata": {},
   "outputs": [],
   "source": [
    "'''\n",
    "【课程8.2】  系统模块下的路径操作\n",
    "\n",
    "os 模块：提供了非常丰富的方法用来处理文件和目录\n",
    "\n",
    "'''"
   ]
  },
  {
   "cell_type": "code",
   "execution_count": 16,
   "metadata": {},
   "outputs": [
    {
     "name": "stdout",
     "output_type": "stream",
     "text": [
      "nt\n",
      "C:\\Users\\Mocha-Pudding\\Desktop\n",
      "['Anaconda Navigator.lnk', 'Atom.lnk', 'B&W-ZJ.jpeg', 'BMW 3 Series Touring G21.jpg', 'BMW 3 Series Touring.jpg', 'Cmder.lnk', 'Command Prompt.lnk', 'corr_liang.png', 'desktop.ini', 'FLY ME TO THE MOON.jpg', 'GitHub Desktop.lnk', 'IBM SPSS Statistics 24.lnk', 'IEC.xlsx', 'IMG_4748.JPG', 'IMG_8595.JPG', 'IMG_8596.JPG', 'IMG_8624.JPG', 'IntraSource.xlsx', 'ITU页面解析提取字段.png', 'Leica M2 by Canon T70\\uf02250mm f1.4 FD\\uf022TX400.jpg', 'MongoDB Compass.lnk', 'MtWellington.jpg', 'PES 2020', 'PyExercise', 'Sagitar Long-Wheelbase.jpg', 'screenshot_Spider', 'Shadowsocks.lnk', 'Snipping Tool.lnk', 'Spydeer.jpg', 'Spydr_test.py', 'SSTap-beta.lnk', 'Sublime Text 3.lnk', 'test.txt', 'testmod.py', 'The Fun of Programming_798.jpeg', 'win', 'Zam Zam Singapore.jpg', 'zufang', '__pycache__', '在职证明.doc', '地市级党委书记数据库(2000-10).csv', '大海.jpg', '大理喜洲古镇废弃白色大巴.jpg', '微专业_数据分析师Python', '曾小仙女', '有道云笔记.lnk', '柯基.jpg', '百度网盘.lnk', '社保个人缴费历史查询20190522.pdf', '网易有道词典.lnk']\n",
      "C:\\Users\\Mocha-Pudding\\Desktop\n"
     ]
    }
   ],
   "source": [
    "# os模块：系统模块 - 常用命令\n",
    "import os  # 导入模块\n",
    "\n",
    "print(os.name)  # 输出字符串指示正在使用的平台。如果是window 则用'nt'表示，对Linux/Unix用户，它是'posix'。\n",
    "\n",
    "print(os.getcwd())  # 函数得到当前工作目录，即当前Python脚本工作的目录路径。\n",
    "print(os.listdir())  # 返回指定目录下的所有文件和目录名。\n",
    "\n",
    "os.chdir('C:/Users/Mocha-Pudding/Desktop/' )  # 切换到目标路径\n",
    "print(os.getcwd())"
   ]
  },
  {
   "cell_type": "code",
   "execution_count": null,
   "metadata": {},
   "outputs": [],
   "source": []
  },
  {
   "cell_type": "code",
   "execution_count": 18,
   "metadata": {},
   "outputs": [
    {
     "name": "stdout",
     "output_type": "stream",
     "text": [
      "C:\\Users\\Mocha-Pudding\\Desktop\n"
     ]
    }
   ],
   "source": [
    "import os\n",
    "print(os.getcwd())"
   ]
  }
 ],
 "metadata": {
  "kernelspec": {
   "display_name": "Python 3",
   "language": "python",
   "name": "python3"
  },
  "language_info": {
   "codemirror_mode": {
    "name": "ipython",
    "version": 3
   },
   "file_extension": ".py",
   "mimetype": "text/x-python",
   "name": "python",
   "nbconvert_exporter": "python",
   "pygments_lexer": "ipython3",
   "version": "3.7.3"
  }
 },
 "nbformat": 4,
 "nbformat_minor": 2
}
