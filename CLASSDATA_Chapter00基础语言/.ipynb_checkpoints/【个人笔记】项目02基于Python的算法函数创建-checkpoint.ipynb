{
 "cells": [
  {
   "cell_type": "markdown",
   "metadata": {},
   "source": [
    "### 【项目02】  基于Python的算法函数创建\n",
    "\n",
    "#### 作业要求：\n",
    "##### 根据不同题目，完成代码书写并成功运行"
   ]
  },
  {
   "cell_type": "code",
   "execution_count": 4,
   "metadata": {},
   "outputs": [
    {
     "name": "stdout",
     "output_type": "stream",
     "text": [
      "满足条件的数字为：[12, 13, 14, 21, 23, 24, 31, 32, 34, 41, 42, 43]\n",
      "满足条件的数字一共有:12个\n"
     ]
    }
   ],
   "source": [
    "# 题目1：有1、2、3、4个数字，能组成多少个互不相同且无重复数字的两位数？都是多少？\n",
    "# 该题目不用创建函数\n",
    "n = 0\n",
    "m = []\n",
    "for i in range(1,5):\n",
    "    for j in range(1,5):\n",
    "        if i != j:\n",
    "            n += 1\n",
    "            num = i*10+j\n",
    "#             print(num)\n",
    "            m.append(num)\n",
    "print(\"满足条件的数字为：%s\" %m)\n",
    "print(\"满足条件的数字一共有:%d个\" %n)"
   ]
  },
  {
   "cell_type": "code",
   "execution_count": null,
   "metadata": {},
   "outputs": [],
   "source": []
  },
  {
   "cell_type": "code",
   "execution_count": 7,
   "metadata": {},
   "outputs": [
    {
     "name": "stdout",
     "output_type": "stream",
     "text": [
      "请输入第1个数字：22\n",
      "请输入第2个数字：ZJ\n",
      "输入的内容不为数字，请重新输入第2个数字：18\n",
      "请输入第3个数字：26\n"
     ]
    },
    {
     "data": {
      "text/plain": [
       "[18.0, 22.0, 26.0]"
      ]
     },
     "execution_count": 7,
     "metadata": {},
     "output_type": "execute_result"
    }
   ],
   "source": [
    "# 题目2：输入三个整数x,y,z，请把这三个数由小到大输出，可调用input()。（需要加判断：判断输入数据是否为数字）\n",
    "# 提示：判断是否为数字：.isdigit()\n",
    "# 该题目需要创建函数\n",
    "\n",
    "def f(n): # n为输入次数\n",
    "    lst = []\n",
    "    for i in range(1, n+1):\n",
    "        number = input(\"请输入第%i个数字：\" % i)\n",
    "        while number.isdigit() == False:\n",
    "            number = input(\"输入的内容不为数字，请重新输入第%i个数字：\" % i)\n",
    "        else:\n",
    "            lst.append(float(number))\n",
    "    return (sorted(lst))   # reverse=True 从大到小，默认reverse=False\n",
    "\n",
    "f(3)"
   ]
  },
  {
   "cell_type": "code",
   "execution_count": null,
   "metadata": {},
   "outputs": [],
   "source": []
  },
  {
   "cell_type": "code",
   "execution_count": 10,
   "metadata": {},
   "outputs": [
    {
     "name": "stdout",
     "output_type": "stream",
     "text": [
      "请输入一行字符：\n",
      "sdafj 435kjkl4335jklfwi43l @##2843jhjfd f43j@%(32\n",
      "输入的字符中，有23个字母，有17个数字，有3个空格和6个其他字符\n"
     ]
    }
   ],
   "source": [
    "# 题目3：输入一行字符，分别统计出其中英文字母、空格、数字和其它字符的个数。\n",
    "# 提示：利用while语句,条件为输入的字符不为'\\n'.\n",
    "# 该题目不需要创建函数\n",
    "\n",
    "str = input(\"请输入一行字符：\\n\")\n",
    "letter = 0\n",
    "space = 0\n",
    "digit = 0\n",
    "others = 0\n",
    "for c in str:\n",
    "    if c.isalpha():\n",
    "        letter +=1\n",
    "    elif c.isdigit():\n",
    "        digit+= 1\n",
    "    elif c.isspace():\n",
    "        space += 1\n",
    "    else:\n",
    "        others += 1\n",
    "# print(\"输入的字符中，有%d个字母，有%d个数字，有%d个空格和%d个其他字符\" %(letter,digit,space,others))\n",
    "print(\"输入的字符中，有{}个字母，有{}个数字，有{}个空格和{}个其他字符\".format(letter,digit,space,others))"
   ]
  },
  {
   "cell_type": "code",
   "execution_count": null,
   "metadata": {},
   "outputs": [],
   "source": []
  },
  {
   "cell_type": "code",
   "execution_count": 11,
   "metadata": {},
   "outputs": [
    {
     "name": "stdout",
     "output_type": "stream",
     "text": [
      "第9天剩下4个桃子\n",
      "第8天剩下10个桃子\n",
      "第7天剩下22个桃子\n",
      "第6天剩下46个桃子\n",
      "第5天剩下94个桃子\n",
      "第4天剩下190个桃子\n",
      "第3天剩下382个桃子\n",
      "第2天剩下766个桃子\n",
      "第1天剩下1534个桃子\n",
      "第一天一共采了1534个桃子\n"
     ]
    }
   ],
   "source": [
    "# 题目4：猴子吃桃问题\n",
    "# 猴子第一天摘下若干个桃子，当即吃了一半，还不瘾，又多吃了一个,\n",
    "# 第二天早上又将剩下的桃子吃掉一半，又多吃了一个。\n",
    "# 以后每天早上都吃了前一天剩下的一半零一个。到第10天早上想再吃时，见只剩下一个桃子了。求第一天共摘了多少?\n",
    "# 提示：采取逆向思维的方法，从后往前推断。\n",
    "# 该题目不需要创建函数\n",
    "\n",
    "# 反推：\n",
    "# 10 -       1\n",
    "# 9  - 2-1   4\n",
    "# 8  - 5-1   10\n",
    "# 7  - 11-1  22\n",
    "# 6  - 23-1  46\n",
    "# 5  - 47-1  94\n",
    "# 4  - 95-1 190\n",
    "# 3  - 191-1 382\n",
    "# 2  - 383-1 766\n",
    "# 1  - 767-1 1534\n",
    "\n",
    "n = 1 # 最后一天剩下一个桃子\n",
    "for day in range(9,0,-1):\n",
    "    m = (n + 1) * 2\n",
    "    n = m\n",
    "    print(\"第%i天剩下%i个桃子\" %(day, n))\n",
    "print(\"第一天一共采了%i个桃子\" % n)"
   ]
  },
  {
   "cell_type": "code",
   "execution_count": null,
   "metadata": {},
   "outputs": [],
   "source": []
  },
  {
   "cell_type": "code",
   "execution_count": 12,
   "metadata": {},
   "outputs": [
    {
     "name": "stdout",
     "output_type": "stream",
     "text": [
      "请输入一个数字：（小于100）：22\n",
      "大了\n",
      "请重新输入一个数字：（小于100）：12\n",
      "大了\n",
      "请重新输入一个数字：（小于100）：5\n",
      "大了\n",
      "请重新输入一个数字：（小于100）：4\n",
      "大了\n",
      "请重新输入一个数字：（小于100）：2\n",
      "大了\n",
      "请重新输入一个数字：（小于100）：1\n",
      "大了\n",
      "请重新输入一个数字：（小于100）：0\n",
      "恭喜你答对了，正确答案为：0\n",
      "耗时14.818847秒\n"
     ]
    }
   ],
   "source": [
    "# 题目5：猜数字问题，要求如下：\n",
    "# ① 随机生成一个整数\n",
    "# ② 猜一个数字并输入\n",
    "# ③ 判断是大是小，直到猜正确\n",
    "# ④ 判断时间\n",
    "# 提示：需要用time模块、random模块\n",
    "# 该题目不需要创建函数\n",
    "\n",
    "import time\n",
    "import random\n",
    "\n",
    "N = random.randint(0,100)\n",
    "c = int(input(\"请输入一个数字：（小于100）：\"))\n",
    "start = time.time()\n",
    "\n",
    "while c != N:\n",
    "    if c > N:\n",
    "        print(\"大了\")\n",
    "        c = int(input(\"请重新输入一个数字：（小于100）：\"))\n",
    "    elif c < N:\n",
    "        print(\"小了\")\n",
    "        c = int(input(\"请重新输入一个数字：（小于100）：\"))\n",
    "\n",
    "end = time.time()\n",
    "cost_time = end - start\n",
    "print(\"恭喜你答对了，正确答案为：%i\" % N)\n",
    "print(\"耗时%f秒\" % cost_time)"
   ]
  },
  {
   "cell_type": "code",
   "execution_count": 16,
   "metadata": {},
   "outputs": [
    {
     "name": "stdout",
     "output_type": "stream",
     "text": [
      "Do you want to play a game with me?('y' or 'n')y\n",
      "input a character:\n",
      "88\n",
      "Please input the number you guess:\n",
      "\n",
      "input your guess:\n",
      "50\n",
      "Please input a little bigger character\n",
      "input your guess:\n",
      "80\n",
      "Please input a little bigger character\n",
      "input your guess:\n",
      "90\n",
      "Please input a little smaller character\n",
      "input your guess:\n",
      "75\n",
      "Please input a little bigger character\n",
      "input your guess:\n",
      "79\n",
      "Please input a little bigger character\n",
      "input your guess:\n",
      "82\n",
      "Please input a little bigger character\n",
      "input your guess:\n",
      "85\n",
      "Please input a little smaller character\n",
      "input your guess:\n",
      "84\n",
      "Please input a little smaller character\n",
      "input your guess:\n",
      "83\n",
      "It took you 25.34 seconds\n",
      "you are stupid!\n",
      "Congradulations\n",
      "The number you guess is 83\n"
     ]
    }
   ],
   "source": [
    "import time\n",
    "import random\n",
    "    \n",
    "play_it = input('Do you want to play a game with me?(\\'y\\' or \\'n\\')')   # 询问是否参与游戏\n",
    "while play_it == 'y':\n",
    "    c = input('input a character:\\n')   # 输入字符\n",
    "    i = random.randint(0,100)\n",
    "    print( 'Please input the number you guess:\\n')\n",
    "    start_time = time.time()  # 记录开始时间\n",
    "    guess = int(input('input your guess:\\n'))\n",
    "    while guess != i:\n",
    "        if guess > i:\n",
    "            print( 'Please input a little smaller character')\n",
    "            guess = int(input('input your guess:\\n'))\n",
    "        else:\n",
    "            print( 'Please input a little bigger character')\n",
    "            guess = int(input('input your guess:\\n'))\n",
    "    end_time = time.time()  # 记录结束时间\n",
    "    usedtime = end_time - start_time\n",
    "    print( 'It took you %.2f seconds' % usedtime)\n",
    "    if usedtime < 15:\n",
    "        print( 'you are very clever!')\n",
    "    elif usedtime < 25:\n",
    "        print( 'you are normal!')\n",
    "    else:\n",
    "        print( 'you are stupid!')\n",
    "    print( 'Congradulations')\n",
    "    print( 'The number you guess is %d' % i)\n",
    "    break\n",
    "else:\n",
    "    print('hehe')"
   ]
  },
  {
   "cell_type": "code",
   "execution_count": null,
   "metadata": {},
   "outputs": [],
   "source": []
  }
 ],
 "metadata": {
  "kernelspec": {
   "display_name": "Python 3",
   "language": "python",
   "name": "python3"
  },
  "language_info": {
   "codemirror_mode": {
    "name": "ipython",
    "version": 3
   },
   "file_extension": ".py",
   "mimetype": "text/x-python",
   "name": "python",
   "nbconvert_exporter": "python",
   "pygments_lexer": "ipython3",
   "version": "3.7.3"
  }
 },
 "nbformat": 4,
 "nbformat_minor": 2
}
