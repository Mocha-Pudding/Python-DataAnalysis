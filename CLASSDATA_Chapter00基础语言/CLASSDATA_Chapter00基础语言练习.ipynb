{
 "cells": [
  {
   "cell_type": "markdown",
   "metadata": {},
   "source": [
    "小作业\n",
    "\n",
    "① 生成一个数值列表，用for循环打印出所有元素\n",
    "\n",
    "② 用for循环遍历一个字符串，打印出各个字母\n",
    "\n",
    "③ 生成一个字典，分别打印出key和value\n",
    "\n",
    "④ 用input输入一个循环次数n，打印hello world n遍\n",
    "\n",
    "⑤ 码一个等差数列，四个变量：首项a，项数n，公差d，求和s，这几个参数都可通过input()输入\n",
    "\n",
    "⑥ 两组列表[\"a\", \"b\", \"c\"],[1,2,3]，用for循环把它们组成一个字典，一一对应"
   ]
  },
  {
   "cell_type": "code",
   "execution_count": 1,
   "metadata": {},
   "outputs": [
    {
     "name": "stdout",
     "output_type": "stream",
     "text": [
      "0\n",
      "1\n",
      "2\n",
      "3\n",
      "4\n"
     ]
    }
   ],
   "source": [
    "# ① 生成一个数值列表，用for循环打印出所有元素\n",
    "\n",
    "list = range(5)\n",
    "for i in list:\n",
    "    print(i)"
   ]
  },
  {
   "cell_type": "code",
   "execution_count": 2,
   "metadata": {},
   "outputs": [
    {
     "name": "stdout",
     "output_type": "stream",
     "text": [
      "请输入一个字符串：dfhkhfadjks\n",
      "d\n",
      "f\n",
      "h\n",
      "k\n",
      "h\n",
      "f\n",
      "a\n",
      "d\n",
      "j\n",
      "k\n",
      "s\n"
     ]
    }
   ],
   "source": [
    "# ② 用for循环遍历一个字符串，打印出各个字母\n",
    "\n",
    "str = input(\"请输入一个字符串：\")\n",
    "for s in str:\n",
    "    print(s)"
   ]
  },
  {
   "cell_type": "code",
   "execution_count": 12,
   "metadata": {},
   "outputs": [
    {
     "name": "stdout",
     "output_type": "stream",
     "text": [
      "Lukaku 92\n",
      "Rashford 89\n",
      "Pogba 91\n",
      "92\n",
      "89\n",
      "91\n"
     ]
    }
   ],
   "source": [
    "# ③ 生成一个字典，分别打印出key和value\n",
    "\n",
    "dict = {'Lukaku':92, 'Rashford':89, 'Pogba':91}\n",
    "for key in dict.keys():\n",
    "    print(key, dict[key])\n",
    "for value in dict.values():\n",
    "    print(value)"
   ]
  },
  {
   "cell_type": "code",
   "execution_count": 16,
   "metadata": {},
   "outputs": [
    {
     "name": "stdout",
     "output_type": "stream",
     "text": [
      "请输入循环次数：6\n",
      "hello word!\n",
      "hello word!\n",
      "hello word!\n",
      "hello word!\n",
      "hello word!\n",
      "hello word!\n"
     ]
    }
   ],
   "source": [
    "# ④ 用input输入一个循环次数n，打印hello world n遍\n",
    "\n",
    "n = int(input(\"请输入循环次数：\"))\n",
    "for i in range(n):\n",
    "    print('hello word!')"
   ]
  },
  {
   "cell_type": "code",
   "execution_count": 3,
   "metadata": {},
   "outputs": [
    {
     "name": "stdout",
     "output_type": "stream",
     "text": [
      "请输入等差数列首项a1：2\n",
      "请输入等差数列项数n：3\n",
      "请输入等差数列公差d：2\n"
     ]
    },
    {
     "ename": "TypeError",
     "evalue": "can't multiply sequence by non-int of type 'str'",
     "output_type": "error",
     "traceback": [
      "\u001b[1;31m---------------------------------------------------------------------------\u001b[0m",
      "\u001b[1;31mTypeError\u001b[0m                                 Traceback (most recent call last)",
      "\u001b[1;32m<ipython-input-3-f4aff9d1d7ce>\u001b[0m in \u001b[0;36m<module>\u001b[1;34m\u001b[0m\n\u001b[0;32m      5\u001b[0m \u001b[0md\u001b[0m \u001b[1;33m=\u001b[0m \u001b[0minput\u001b[0m\u001b[1;33m(\u001b[0m\u001b[1;34m\"请输入等差数列公差d：\"\u001b[0m\u001b[1;33m)\u001b[0m\u001b[1;33m\u001b[0m\u001b[1;33m\u001b[0m\u001b[0m\n\u001b[0;32m      6\u001b[0m \u001b[1;33m\u001b[0m\u001b[0m\n\u001b[1;32m----> 7\u001b[1;33m \u001b[0ms\u001b[0m \u001b[1;33m=\u001b[0m \u001b[0mn\u001b[0m\u001b[1;33m*\u001b[0m\u001b[0ma\u001b[0m\u001b[1;33m+\u001b[0m\u001b[0mn\u001b[0m\u001b[1;33m(\u001b[0m\u001b[0mn\u001b[0m\u001b[1;33m-\u001b[0m\u001b[1;36m1\u001b[0m\u001b[1;33m)\u001b[0m\u001b[1;33m/\u001b[0m\u001b[1;36m2\u001b[0m\u001b[1;33m*\u001b[0m\u001b[0md\u001b[0m\u001b[1;33m\u001b[0m\u001b[1;33m\u001b[0m\u001b[0m\n\u001b[0m\u001b[0;32m      8\u001b[0m \u001b[0mprint\u001b[0m\u001b[1;33m(\u001b[0m\u001b[1;34m\"该等差数列的和s是%d\"\u001b[0m\u001b[1;33m,\u001b[0m \u001b[0ms\u001b[0m\u001b[1;33m)\u001b[0m\u001b[1;33m\u001b[0m\u001b[1;33m\u001b[0m\u001b[0m\n",
      "\u001b[1;31mTypeError\u001b[0m: can't multiply sequence by non-int of type 'str'"
     ]
    }
   ],
   "source": [
    "# ⑤ 码一个等差数列，四个变量：首项a，项数n，公差d，求和s，这几个参数都可通过input()输入\n",
    "\n",
    "a = input(\"请输入等差数列首项a1：\")\n",
    "n = input(\"请输入等差数列项数n：\")\n",
    "d = input(\"请输入等差数列公差d：\")\n",
    "\n",
    "s = n*a+n(n-1)/2*d\n",
    "print(\"该等差数列的和s是%d\", s)"
   ]
  },
  {
   "cell_type": "code",
   "execution_count": 5,
   "metadata": {},
   "outputs": [
    {
     "name": "stdout",
     "output_type": "stream",
     "text": [
      "请输入等差数列首项a1：10\n",
      "请输入等差数列项数n：10\n",
      "请输入等差数列公差d：2\n",
      "190.0\n"
     ]
    }
   ],
   "source": [
    "a = float(input(\"请输入等差数列首项a1：\"))\n",
    "n = int(input(\"请输入等差数列项数n：\"))\n",
    "d = float(input(\"请输入等差数列公差d：\"))\n",
    "\n",
    "# a1 = a\n",
    "# a2 = a + d\n",
    "# a3 = a2 + d = a + 2*d\n",
    "# a4 = a3 + d = a2 + 2*d = a1 + 3*d\n",
    "# .\n",
    "# .\n",
    "# .\n",
    "\n",
    "s = 0\n",
    "for i in range(n):\n",
    "    an = a + d*i\n",
    "    s = s + an\n",
    "print(s)"
   ]
  },
  {
   "cell_type": "code",
   "execution_count": 9,
   "metadata": {},
   "outputs": [
    {
     "name": "stdout",
     "output_type": "stream",
     "text": [
      "['a', 1]\n",
      "['b', 2]\n",
      "['c', 3]\n",
      "[['a', 1], ['b', 2], ['c', 3]]\n",
      "{'a': 1, 'b': 2, 'c': 3}\n"
     ]
    }
   ],
   "source": [
    "# ⑥ 两组列表[\"a\", \"b\", \"c\"],[1,2,3]，用for循环把它们组成一个字典，一一对应\n",
    "\n",
    "list1 = ['a', 'b', 'c']\n",
    "list2 = [1, 2, 3]\n",
    "# {'a':1, 'b':2, 'c':3}\n",
    "\n",
    "m = []\n",
    "for i in range(3):\n",
    "    listi = [list1[i], list2[i]]\n",
    "    print(listi)\n",
    "    m.append(listi)\n",
    "print(m)\n",
    "dic = dict(m)\n",
    "print(dic)"
   ]
  },
  {
   "cell_type": "code",
   "execution_count": null,
   "metadata": {},
   "outputs": [],
   "source": []
  }
 ],
 "metadata": {
  "kernelspec": {
   "display_name": "Python 3",
   "language": "python",
   "name": "python3"
  },
  "language_info": {
   "codemirror_mode": {
    "name": "ipython",
    "version": 3
   },
   "file_extension": ".py",
   "mimetype": "text/x-python",
   "name": "python",
   "nbconvert_exporter": "python",
   "pygments_lexer": "ipython3",
   "version": "3.7.3"
  }
 },
 "nbformat": 4,
 "nbformat_minor": 2
}
