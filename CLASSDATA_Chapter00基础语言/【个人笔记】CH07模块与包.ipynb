{
 "cells": [
  {
   "cell_type": "code",
   "execution_count": null,
   "metadata": {},
   "outputs": [],
   "source": [
    "'''\n",
    "【课程7.2】  模块创建及import指令运用\n",
    "\n",
    "Python 模块(Module)，是一个 Python 文件，以 .py 结尾，包含了 Python 对象定义和Python语句\n",
    "\n",
    "'''"
   ]
  },
  {
   "cell_type": "code",
   "execution_count": 1,
   "metadata": {},
   "outputs": [
    {
     "name": "stdout",
     "output_type": "stream",
     "text": [
      "C:\\ProgramData\\Anaconda3\\lib\\site-packages\\pandas\\__init__.py\n"
     ]
    }
   ],
   "source": [
    "# 添加模块前，可以查询pandas模块所在的文件路径，然后把自己定义的模块添加到sit-packages文件夹里面去\n",
    "import pandas\n",
    "print(pandas.__file__)"
   ]
  },
  {
   "cell_type": "code",
   "execution_count": 2,
   "metadata": {},
   "outputs": [],
   "source": [
    "# 或者直接把模块所在的路径添加进去\n",
    "import sys\n",
    "sys.path.append(\"C:\\\\Users\\\\Mocha-Pudding\\\\Desktop\")"
   ]
  },
  {
   "cell_type": "code",
   "execution_count": 3,
   "metadata": {},
   "outputs": [
    {
     "name": "stdout",
     "output_type": "stream",
     "text": [
      "test....\n",
      "Happy birthday to China 70th Anniversary!\n",
      "6\n"
     ]
    },
    {
     "data": {
      "text/plain": [
       "8"
      ]
     },
     "execution_count": 3,
     "metadata": {},
     "output_type": "execute_result"
    }
   ],
   "source": [
    "# testmod.py 模块里的定义\n",
    "\"\"\"\n",
    "def show_func():\n",
    "\tprint(\"Happy birthday to China 70th Anniversary!\")\n",
    "\n",
    "def math_func(a,b):\n",
    "\tprint(a*b)\n",
    "\treturn (a**b)\n",
    "\n",
    "\"\"\"\n",
    "\n",
    "# 调用模块中的方法\n",
    "import testmod\n",
    "print('test....')\n",
    "\n",
    "# 调用模块中的方法\n",
    "testmod.show_func()\n",
    "testmod.math_func(2,3)\n",
    "# print(testmod.math_func(2,3))"
   ]
  },
  {
   "cell_type": "markdown",
   "metadata": {},
   "source": [
    "#### 1.import语句"
   ]
  },
  {
   "cell_type": "markdown",
   "metadata": {},
   "source": [
    " #### 2.import...as...简化模块名语句"
   ]
  },
  {
   "cell_type": "markdown",
   "metadata": {},
   "source": [
    "#### 3.调用部分模块语句：From…import 语句\n",
    "\n",
    "##### -单独导入模块的部分功能，但无法使用其他未导入模块功能"
   ]
  },
  {
   "cell_type": "markdown",
   "metadata": {},
   "source": [
    "#### 4.Python标准模块 —— random随机数"
   ]
  },
  {
   "cell_type": "code",
   "execution_count": 17,
   "metadata": {},
   "outputs": [
    {
     "name": "stdout",
     "output_type": "stream",
     "text": [
      "0.2221761806749174 7.824485017857286\n",
      "78\n",
      "41\n",
      "[92, 88, 24, 67, 3]\n",
      "[16, 4, 13, 11, 5, 1, 10, 9, 8, 6, 15, 7, 14, 18, 0, 2, 19, 12, 17, 3]\n"
     ]
    }
   ],
   "source": [
    "import random\n",
    "\n",
    "x = random.random()\n",
    "y = random.random()\n",
    "print(x,y*100)\n",
    "\n",
    "m = random.randint(0,100)\n",
    "print(m)\n",
    "\n",
    "lst = list(range(100))\n",
    "s = random.choice(lst)\n",
    "print(s)\n",
    "\n",
    "sli = random.sample(lst,5)\n",
    "print(sli)\n",
    "\n",
    "lst2 = list(range(20))\n",
    "random.shuffle(lst2)\n",
    "print(lst2)"
   ]
  },
  {
   "cell_type": "markdown",
   "metadata": {},
   "source": [
    "#### 5.Python标准模块 —— time时间模块"
   ]
  },
  {
   "cell_type": "code",
   "execution_count": 25,
   "metadata": {},
   "outputs": [
    {
     "name": "stdout",
     "output_type": "stream",
     "text": [
      "hello, China!\n",
      "hello, China!\n",
      "hello, China!\n",
      "hello, China!\n",
      "hello, China!\n",
      "Thu Oct  3 15:05:27 2019\n",
      "<class 'str'>\n",
      "time.struct_time(tm_year=2019, tm_mon=10, tm_mday=3, tm_hour=15, tm_min=5, tm_sec=27, tm_wday=3, tm_yday=276, tm_isdst=0)\n",
      "<class 'time.struct_time'>\n",
      "2019-10-03 15:05:27\n"
     ]
    }
   ],
   "source": [
    "import time\n",
    "\n",
    "for i in range(5):\n",
    "    print('hello, China!')\n",
    "    time.sleep(1)\n",
    "#     time.sleep(random.uniform(1,5))\n",
    "\n",
    "nowTime = time.ctime()\n",
    "print(nowTime)\n",
    "print(type(nowTime))\n",
    "\n",
    "localTime = time.localtime()\n",
    "print(localTime)\n",
    "print(type(localTime))\n",
    "# 将当前时间转为当前时区的struct_time\n",
    "# wday 0-6表示周日到周六\n",
    "# ydat 1-366 一年中的第几天\n",
    "# isdst 是否为夏令时，默认为-1\n",
    "\n",
    "print(time.strftime('%Y-%m-%d %H:%M:%S',time.localtime()))\n",
    "# time.strftime(a,b)\n",
    "# a为格式化字符串格式\n",
    "# b为时间戳，一般用localtime()"
   ]
  },
  {
   "cell_type": "code",
   "execution_count": null,
   "metadata": {},
   "outputs": [],
   "source": []
  }
 ],
 "metadata": {
  "kernelspec": {
   "display_name": "Python 3",
   "language": "python",
   "name": "python3"
  },
  "language_info": {
   "codemirror_mode": {
    "name": "ipython",
    "version": 3
   },
   "file_extension": ".py",
   "mimetype": "text/x-python",
   "name": "python",
   "nbconvert_exporter": "python",
   "pygments_lexer": "ipython3",
   "version": "3.7.3"
  }
 },
 "nbformat": 4,
 "nbformat_minor": 2
}
