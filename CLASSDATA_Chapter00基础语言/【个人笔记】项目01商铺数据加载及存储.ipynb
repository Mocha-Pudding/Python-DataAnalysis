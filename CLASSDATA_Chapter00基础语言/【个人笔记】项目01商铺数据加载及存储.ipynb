{
 "cells": [
  {
   "cell_type": "markdown",
   "metadata": {},
   "source": [
    "## 【项目01】  商铺数据加载及存储\n",
    "\n",
    "### 作业要求：\n",
    "- 1、成功读取“商铺数据.csv”文件\n",
    "- 2、解析数据，存成列表字典格式：[{'var1':value1,'var2':value2,'var3':values,...},...,{}]\n",
    "- 3、数据清洗：\n",
    " - ① comment，price两个字段清洗成数字\n",
    " - ② 清除字段缺失的数据\n",
    " - ③ commentlist拆分成三个字段，并且清洗成数字\n",
    "- 4、结果存为.pkl文件"
   ]
  },
  {
   "cell_type": "code",
   "execution_count": 6,
   "metadata": {},
   "outputs": [
    {
     "name": "stdout",
     "output_type": "stream",
     "text": [
      "G:\\Python学习\\Python-DataAnalysis\\CLASSDATA_Chapter00基础语言\\商铺数据.csv\n"
     ]
    }
   ],
   "source": [
    "# 读取数据   G:\\Python学习\\Python-DataAnalysis\\CLASSDATA_Chapter00基础语言\\商铺数据.csv\n",
    "import os\n",
    "work_path = os.getcwd()\n",
    "file_path = work_path + \"\\商铺数据.csv\"\n",
    "print(file_path)"
   ]
  },
  {
   "cell_type": "code",
   "execution_count": null,
   "metadata": {},
   "outputs": [],
   "source": []
  }
 ],
 "metadata": {
  "kernelspec": {
   "display_name": "Python 3",
   "language": "python",
   "name": "python3"
  },
  "language_info": {
   "codemirror_mode": {
    "name": "ipython",
    "version": 3
   },
   "file_extension": ".py",
   "mimetype": "text/x-python",
   "name": "python",
   "nbconvert_exporter": "python",
   "pygments_lexer": "ipython3",
   "version": "3.7.3"
  }
 },
 "nbformat": 4,
 "nbformat_minor": 2
}
