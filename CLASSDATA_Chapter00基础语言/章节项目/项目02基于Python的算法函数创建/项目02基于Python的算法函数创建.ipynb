{
 "cells": [
  {
   "cell_type": "code",
   "execution_count": 1,
   "metadata": {},
   "outputs": [
    {
     "data": {
      "text/plain": [
       "'\\n【项目02】  基于Python的算法函数创建\\n\\n作业要求：\\n根据不同题目，完成代码书写并成功运行\\n\\n'"
      ]
     },
     "execution_count": 1,
     "metadata": {},
     "output_type": "execute_result"
    }
   ],
   "source": [
    "'''\n",
    "【项目02】  基于Python的算法函数创建\n",
    "\n",
    "作业要求：\n",
    "根据不同题目，完成代码书写并成功运行\n",
    "\n",
    "'''"
   ]
  },
  {
   "cell_type": "code",
   "execution_count": null,
   "metadata": {
    "collapsed": true
   },
   "outputs": [],
   "source": [
    "# 题目1：有1、2、3、4个数字，能组成多少个互不相同且无重复数字的两位数？都是多少？\n",
    "# 该题目不用创建函数"
   ]
  },
  {
   "cell_type": "code",
   "execution_count": null,
   "metadata": {
    "collapsed": true
   },
   "outputs": [],
   "source": [
    "# 题目2：输入三个整数x,y,z，请把这三个数由小到大输出，可调用input()。（需要加判断：判断输入数据是否为数字）\n",
    "# 提示：判断是否为数字：.isdigit()\n",
    "# 该题目需要创建函数"
   ]
  },
  {
   "cell_type": "code",
   "execution_count": null,
   "metadata": {
    "collapsed": true
   },
   "outputs": [],
   "source": [
    "# 题目3：输入一行字符，分别统计出其中英文字母、空格、数字和其它字符的个数。\n",
    "# 提示：利用while语句,条件为输入的字符不为'\\n'.\n",
    "# 该题目不需要创建函数"
   ]
  },
  {
   "cell_type": "code",
   "execution_count": null,
   "metadata": {
    "collapsed": true
   },
   "outputs": [],
   "source": [
    "# 题目4：猴子吃桃问题\n",
    "# 猴子第一天摘下若干个桃子，当即吃了一半，还不瘾，又多吃了一个,\n",
    "# 第二天早上又将剩下的桃子吃掉一半，又多吃了一个。\n",
    "# 以后每天早上都吃了前一天剩下的一半零一个。到第10天早上想再吃时，见只剩下一个桃子了。求第一天共摘了多少?\n",
    "# 提示：采取逆向思维的方法，从后往前推断。\n",
    "# 该题目不需要创建函数"
   ]
  },
  {
   "cell_type": "code",
   "execution_count": null,
   "metadata": {
    "collapsed": true
   },
   "outputs": [],
   "source": [
    "# 题目5：猜数字问题，要求如下：\n",
    "# ① 随机生成一个整数\n",
    "# ② 猜一个数字并输入\n",
    "# ③ 判断是大是小，直到猜正确\n",
    "# ④ 判断时间\n",
    "# 提示：需要用time模块、random模块\n",
    "# 该题目不需要创建函数"
   ]
  }
 ],
 "metadata": {
  "anaconda-cloud": {},
  "kernelspec": {
   "display_name": "Python 3",
   "language": "python",
   "name": "python3"
  },
  "language_info": {
   "codemirror_mode": {
    "name": "ipython",
    "version": 3
   },
   "file_extension": ".py",
   "mimetype": "text/x-python",
   "name": "python",
   "nbconvert_exporter": "python",
   "pygments_lexer": "ipython3",
   "version": "3.7.3"
  }
 },
 "nbformat": 4,
 "nbformat_minor": 1
}
