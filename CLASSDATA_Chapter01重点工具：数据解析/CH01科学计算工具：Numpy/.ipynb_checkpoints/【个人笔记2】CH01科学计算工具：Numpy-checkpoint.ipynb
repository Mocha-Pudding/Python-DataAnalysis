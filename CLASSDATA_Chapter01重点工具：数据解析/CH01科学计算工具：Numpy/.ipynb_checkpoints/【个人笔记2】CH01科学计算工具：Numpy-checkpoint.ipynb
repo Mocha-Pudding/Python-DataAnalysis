{
 "cells": [
  {
   "cell_type": "code",
   "execution_count": null,
   "metadata": {},
   "outputs": [],
   "source": [
    "'''\n",
    "【课程1.2】  Numpy基础数据结构\n",
    "\n",
    "NumPy数组是一个多维数组对象，称为ndarray。其由两部分组成：\n",
    "① 实际的数据\n",
    "② 描述这些数据的元数据\n",
    "\n",
    "'''"
   ]
  },
  {
   "cell_type": "code",
   "execution_count": 18,
   "metadata": {},
   "outputs": [
    {
     "name": "stdout",
     "output_type": "stream",
     "text": [
      "[[1 2 3 4 5 6]\n",
      " [2 3 4 5 6 7]]\n",
      "2\n",
      "(2, 6)\n",
      "12\n",
      "<class 'numpy.ndarray'> int32\n",
      "4\n",
      "<memory at 0x0000000009E31A68>\n"
     ]
    },
    {
     "data": {
      "text/plain": [
       "array([[1, 2, 3, 4, 5, 6],\n",
       "       [2, 3, 4, 5, 6, 7]])"
      ]
     },
     "execution_count": 18,
     "metadata": {},
     "output_type": "execute_result"
    }
   ],
   "source": [
    "# 多维数组ndarray\n",
    "\n",
    "import numpy as np\n",
    "\n",
    "ar = np.array([[1,2,3,4,5,6],[2,3,4,5,6,7]])\n",
    "print(ar)\n",
    "print(ar.ndim)   # 数组的维度个数，轴\n",
    "print(ar.shape)  # 数组的维度，几行几列\n",
    "print(ar.size)   # 数组的元素个数\n",
    "print(type(ar), ar.dtype)  # 数组的类型，和数组里面元素的类型\n",
    "print(ar.itemsize)   # 每个元素字节大小\n",
    "print(ar.data)\n",
    "ar"
   ]
  },
  {
   "cell_type": "code",
   "execution_count": 12,
   "metadata": {},
   "outputs": [
    {
     "name": "stdout",
     "output_type": "stream",
     "text": [
      "[1 2 3 4 5 6] \n",
      " 1\n",
      "--------------------------------------------------------------------------------\n",
      "[[1 2 3 4 5 6]\n",
      " [2 3 4 5 6 7]] \n",
      " 2\n",
      "--------------------------------------------------------------------------------\n",
      "[[[1 2 3 4 5 6]\n",
      "  [2 3 4 5 6 7]\n",
      "  [3 4 5 6 7 8]]\n",
      "\n",
      " [[1 2 3 4 5 6]\n",
      "  [2 3 4 5 6 7]\n",
      "  [3 4 5 6 7 8]]] \n",
      " 3\n",
      "--------------------------------------------------------------------------------\n"
     ]
    }
   ],
   "source": [
    "# 多维数组演示 维度的个数（轴数） ar.ndim\n",
    "\n",
    "# 一维数组\n",
    "ar_1 = np.array([1,2,3,4,5,6])\n",
    "print(ar_1, '\\n',ar_1.ndim)\n",
    "print('-'*80)\n",
    "\n",
    "# 二维数组 由多个一维数组组成\n",
    "ar_2 = np.array([[1,2,3,4,5,6],[2,3,4,5,6,7]])\n",
    "print(ar_2, '\\n',ar_2.ndim)\n",
    "print('-'*80)\n",
    "\n",
    "#  三维数组 由多个二维数组组成\n",
    "ar_3 = np.array([[[1,2,3,4,5,6],[2,3,4,5,6,7],[3,4,5,6,7,8]],[[1,2,3,4,5,6],[2,3,4,5,6,7],[3,4,5,6,7,8]]])\n",
    "print(ar_3, '\\n',ar_3.ndim)\n",
    "print('-'*80)\n",
    "\n",
    "# 四维数组 由多个三维数组组成，以此内推…"
   ]
  },
  {
   "cell_type": "code",
   "execution_count": 32,
   "metadata": {},
   "outputs": [
    {
     "name": "stdout",
     "output_type": "stream",
     "text": [
      "[0 1 2 3 4 5 6 7 8 9]\n",
      "[0 1 2 3 4 5 6 7 8 9]\n",
      "[1 2 3 4 5 6]\n",
      "--------------------------------------------------------\n",
      "[[1 2 3 4 5]\n",
      " [2 3 4 5 6]] 2 int32\n",
      "[['1' '2' '3' '4' '5']\n",
      " ['a' 'b' 'c' 'd' 'e']] 2 <U11\n",
      "[list([1, 2, 3, 4, 5]) list(['a', 'b', 'c'])] 1 object\n",
      "--------------------------------------------------------\n",
      "[[0.69434762 0.19600356 0.78168196 0.18383448 0.07031041]\n",
      " [0.91712702 0.19706813 0.70006688 0.76954788 0.75165578]]\n"
     ]
    }
   ],
   "source": [
    "# 创建数组：array()函数，括号内可以是列表、元祖、数组、生成器等\n",
    "\n",
    "ar1 = np.array(range(10))   # 直接通过生成器range去创建\n",
    "print(ar1)\n",
    "\n",
    "ar2 = np.arange(10)   # 创建数组：arange()，类似range()，在给定间隔内返回均匀间隔的值。\n",
    "print(ar2)\n",
    "\n",
    "ar3 = np.array([1,2,3,4,5,6])  # 使用列表创建\n",
    "print(ar3)\n",
    "\n",
    "print('--------------------------------------------------------')\n",
    "ar4 = np.array([[1,2,3,4,5],[2,3,4,5,6]])  # 使用嵌套的列表\n",
    "ar5 = np.array([[1,2,3,4,5],['a','b','c','d','e']])    # 元素个数相同时，是二维数组，但数值类型改变\n",
    "ar6 = np.array([[1,2,3,4,5],['a','b','c']])    # 元素个数不相同时，变成一维数组\n",
    "print(ar4, ar4.ndim, ar4.dtype)\n",
    "print(ar5, ar4.ndim, ar5.dtype)\n",
    "print(ar6, ar6.ndim, ar6.dtype)\n",
    "print('--------------------------------------------------------')\n",
    "\n",
    "ar1, ar2, ar3, ar4\n",
    "\n",
    "print(np.random.rand(10).reshape(2,5))   # 以后更多使用该种方法"
   ]
  },
  {
   "cell_type": "code",
   "execution_count": 44,
   "metadata": {},
   "outputs": [
    {
     "name": "stdout",
     "output_type": "stream",
     "text": [
      "[10.  10.5 11.  11.5 12.  12.5 13.  13.5 14.  14.5 15.  15.5 16.  16.5\n",
      " 17.  17.5 18.  18.5 19.  19.5 20. ]\n",
      "[10.         10.47619048 10.95238095 11.42857143 11.9047619  12.38095238\n",
      " 12.85714286 13.33333333 13.80952381 14.28571429 14.76190476 15.23809524\n",
      " 15.71428571 16.19047619 16.66666667 17.14285714 17.61904762 18.0952381\n",
      " 18.57142857 19.04761905 19.52380952]\n",
      "[10.  10.5 11.  11.5 12.  12.5 13.  13.5 14.  14.5 15.  15.5 16.  16.5\n",
      " 17.  17.5 18.  18.5 19.  19.5]\n",
      "(array([10. , 10.5, 11. , 11.5, 12. , 12.5, 13. , 13.5, 14. , 14.5, 15. ,\n",
      "       15.5, 16. , 16.5, 17. , 17.5, 18. , 18.5, 19. , 19.5, 20. ]), 0.5)\n"
     ]
    }
   ],
   "source": [
    "# 创建数组：linspace():返回在间隔[开始，停止]上计算的num个均匀间隔的样本。\n",
    "\n",
    "print(np.linspace(10,20,num=21))\n",
    "print(np.linspace(10,20,num=21,endpoint=False))\n",
    "print(np.linspace(10,20,num=20,endpoint=False))\n",
    "print(np.linspace(10,20,num=21,retstep=True))"
   ]
  },
  {
   "cell_type": "code",
   "execution_count": 50,
   "metadata": {},
   "outputs": [
    {
     "name": "stdout",
     "output_type": "stream",
     "text": [
      "[0. 0. 0. 0. 0. 0. 0. 0. 0. 0.]\n",
      "[[0. 0. 0. 0. 0.]\n",
      " [0. 0. 0. 0. 0.]]\n",
      "[[0 0 0 0 0]\n",
      " [0 0 0 0 0]]\n",
      "--------------------------------------------------------\n",
      "[[ 0  1  2  3  4  5  6  7  8  9]\n",
      " [10 11 12 13 14 15 16 17 18 19]]\n",
      "[[0. 0. 0. 0. 0. 0. 0. 0. 0. 0.]\n",
      " [0. 0. 0. 0. 0. 0. 0. 0. 0. 0.]]\n",
      "--------------------------------------------------------\n"
     ]
    }
   ],
   "source": [
    "# 创建数组：zeros()/zeros_like()/ones()/ones_like()\n",
    "\n",
    "print(np.zeros(10))\n",
    "print(np.zeros((2,5)))\n",
    "print(np.zeros((2,5),dtype=int))\n",
    "\n",
    "print('--------------------------------------------------------')\n",
    "ar = np.array([list(range(10)),list(range(10,20))])\n",
    "print(ar)\n",
    "print(np.zeros_like(ar,dtype=float))\n",
    "print('--------------------------------------------------------')"
   ]
  },
  {
   "cell_type": "code",
   "execution_count": null,
   "metadata": {},
   "outputs": [],
   "source": []
  },
  {
   "cell_type": "code",
   "execution_count": null,
   "metadata": {},
   "outputs": [],
   "source": []
  }
 ],
 "metadata": {
  "kernelspec": {
   "display_name": "Python 3",
   "language": "python",
   "name": "python3"
  },
  "language_info": {
   "codemirror_mode": {
    "name": "ipython",
    "version": 3
   },
   "file_extension": ".py",
   "mimetype": "text/x-python",
   "name": "python",
   "nbconvert_exporter": "python",
   "pygments_lexer": "ipython3",
   "version": "3.7.3"
  }
 },
 "nbformat": 4,
 "nbformat_minor": 2
}
