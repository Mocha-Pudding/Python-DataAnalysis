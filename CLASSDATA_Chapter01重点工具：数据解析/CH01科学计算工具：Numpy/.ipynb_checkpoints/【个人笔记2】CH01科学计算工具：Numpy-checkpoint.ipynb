{
 "cells": [
  {
   "cell_type": "code",
   "execution_count": null,
   "metadata": {},
   "outputs": [],
   "source": [
    "'''\n",
    "【课程1.2】  Numpy基础数据结构\n",
    "\n",
    "NumPy数组是一个多维数组对象，称为ndarray。其由两部分组成：\n",
    "① 实际的数据\n",
    "② 描述这些数据的元数据\n",
    "\n",
    "'''"
   ]
  },
  {
   "cell_type": "code",
   "execution_count": 18,
   "metadata": {},
   "outputs": [
    {
     "name": "stdout",
     "output_type": "stream",
     "text": [
      "[[1 2 3 4 5 6]\n",
      " [2 3 4 5 6 7]]\n",
      "2\n",
      "(2, 6)\n",
      "12\n",
      "<class 'numpy.ndarray'> int32\n",
      "4\n",
      "<memory at 0x0000000009E31A68>\n"
     ]
    },
    {
     "data": {
      "text/plain": [
       "array([[1, 2, 3, 4, 5, 6],\n",
       "       [2, 3, 4, 5, 6, 7]])"
      ]
     },
     "execution_count": 18,
     "metadata": {},
     "output_type": "execute_result"
    }
   ],
   "source": [
    "# 多维数组ndarray\n",
    "\n",
    "import numpy as np\n",
    "\n",
    "ar = np.array([[1,2,3,4,5,6],[2,3,4,5,6,7]])\n",
    "print(ar)\n",
    "print(ar.ndim)   # 数组的维度个数，轴\n",
    "print(ar.shape)  # 数组的维度，几行几列\n",
    "print(ar.size)   # 数组的元素个数\n",
    "print(type(ar), ar.dtype)  # 数组的类型，和数组里面元素的类型\n",
    "print(ar.itemsize)   # 每个元素字节大小\n",
    "print(ar.data)\n",
    "ar"
   ]
  },
  {
   "cell_type": "code",
   "execution_count": 12,
   "metadata": {},
   "outputs": [
    {
     "name": "stdout",
     "output_type": "stream",
     "text": [
      "[1 2 3 4 5 6] \n",
      " 1\n",
      "--------------------------------------------------------------------------------\n",
      "[[1 2 3 4 5 6]\n",
      " [2 3 4 5 6 7]] \n",
      " 2\n",
      "--------------------------------------------------------------------------------\n",
      "[[[1 2 3 4 5 6]\n",
      "  [2 3 4 5 6 7]\n",
      "  [3 4 5 6 7 8]]\n",
      "\n",
      " [[1 2 3 4 5 6]\n",
      "  [2 3 4 5 6 7]\n",
      "  [3 4 5 6 7 8]]] \n",
      " 3\n",
      "--------------------------------------------------------------------------------\n"
     ]
    }
   ],
   "source": [
    "# 多维数组演示 维度的个数（轴数） ar.ndim\n",
    "\n",
    "# 一维数组\n",
    "ar_1 = np.array([1,2,3,4,5,6])\n",
    "print(ar_1, '\\n',ar_1.ndim)\n",
    "print('-'*80)\n",
    "\n",
    "# 二维数组 由多个一维数组组成\n",
    "ar_2 = np.array([[1,2,3,4,5,6],[2,3,4,5,6,7]])\n",
    "print(ar_2, '\\n',ar_2.ndim)\n",
    "print('-'*80)\n",
    "\n",
    "#  三维数组 由多个二维数组组成\n",
    "ar_3 = np.array([[[1,2,3,4,5,6],[2,3,4,5,6,7],[3,4,5,6,7,8]],[[1,2,3,4,5,6],[2,3,4,5,6,7],[3,4,5,6,7,8]]])\n",
    "print(ar_3, '\\n',ar_3.ndim)\n",
    "print('-'*80)\n",
    "\n",
    "# 四维数组 由多个三维数组组成，以此内推…"
   ]
  },
  {
   "cell_type": "code",
   "execution_count": 32,
   "metadata": {},
   "outputs": [
    {
     "name": "stdout",
     "output_type": "stream",
     "text": [
      "[0 1 2 3 4 5 6 7 8 9]\n",
      "[0 1 2 3 4 5 6 7 8 9]\n",
      "[1 2 3 4 5 6]\n",
      "--------------------------------------------------------\n",
      "[[1 2 3 4 5]\n",
      " [2 3 4 5 6]] 2 int32\n",
      "[['1' '2' '3' '4' '5']\n",
      " ['a' 'b' 'c' 'd' 'e']] 2 <U11\n",
      "[list([1, 2, 3, 4, 5]) list(['a', 'b', 'c'])] 1 object\n",
      "--------------------------------------------------------\n",
      "[[0.69434762 0.19600356 0.78168196 0.18383448 0.07031041]\n",
      " [0.91712702 0.19706813 0.70006688 0.76954788 0.75165578]]\n"
     ]
    }
   ],
   "source": [
    "# 创建数组：array()函数，括号内可以是列表、元祖、数组、生成器等\n",
    "\n",
    "ar1 = np.array(range(10))   # 直接通过生成器range去创建\n",
    "print(ar1)\n",
    "\n",
    "ar2 = np.arange(10)   # 创建数组：arange()，类似range()，在给定间隔内返回均匀间隔的值。\n",
    "print(ar2)\n",
    "\n",
    "ar3 = np.array([1,2,3,4,5,6])  # 使用列表创建\n",
    "print(ar3)\n",
    "\n",
    "print('--------------------------------------------------------')\n",
    "ar4 = np.array([[1,2,3,4,5],[2,3,4,5,6]])  # 使用嵌套的列表\n",
    "ar5 = np.array([[1,2,3,4,5],['a','b','c','d','e']])    # 元素个数相同时，是二维数组，但数值类型改变\n",
    "ar6 = np.array([[1,2,3,4,5],['a','b','c']])    # 元素个数不相同时，变成一维数组\n",
    "print(ar4, ar4.ndim, ar4.dtype)\n",
    "print(ar5, ar4.ndim, ar5.dtype)\n",
    "print(ar6, ar6.ndim, ar6.dtype)\n",
    "print('--------------------------------------------------------')\n",
    "\n",
    "ar1, ar2, ar3, ar4\n",
    "\n",
    "print(np.random.rand(10).reshape(2,5))   # 以后更多使用该种方法"
   ]
  },
  {
   "cell_type": "code",
   "execution_count": 44,
   "metadata": {},
   "outputs": [
    {
     "name": "stdout",
     "output_type": "stream",
     "text": [
      "[10.  10.5 11.  11.5 12.  12.5 13.  13.5 14.  14.5 15.  15.5 16.  16.5\n",
      " 17.  17.5 18.  18.5 19.  19.5 20. ]\n",
      "[10.         10.47619048 10.95238095 11.42857143 11.9047619  12.38095238\n",
      " 12.85714286 13.33333333 13.80952381 14.28571429 14.76190476 15.23809524\n",
      " 15.71428571 16.19047619 16.66666667 17.14285714 17.61904762 18.0952381\n",
      " 18.57142857 19.04761905 19.52380952]\n",
      "[10.  10.5 11.  11.5 12.  12.5 13.  13.5 14.  14.5 15.  15.5 16.  16.5\n",
      " 17.  17.5 18.  18.5 19.  19.5]\n",
      "(array([10. , 10.5, 11. , 11.5, 12. , 12.5, 13. , 13.5, 14. , 14.5, 15. ,\n",
      "       15.5, 16. , 16.5, 17. , 17.5, 18. , 18.5, 19. , 19.5, 20. ]), 0.5)\n"
     ]
    }
   ],
   "source": [
    "# 创建数组：linspace():返回在间隔[开始，停止]上计算的num个均匀间隔的样本。\n",
    "\n",
    "print(np.linspace(10,20,num=21))\n",
    "print(np.linspace(10,20,num=21,endpoint=False))\n",
    "print(np.linspace(10,20,num=20,endpoint=False))\n",
    "print(np.linspace(10,20,num=21,retstep=True))"
   ]
  },
  {
   "cell_type": "code",
   "execution_count": 53,
   "metadata": {},
   "outputs": [
    {
     "name": "stdout",
     "output_type": "stream",
     "text": [
      "[0. 0. 0. 0. 0. 0. 0. 0. 0. 0.]\n",
      "[[0. 0. 0. 0. 0.]\n",
      " [0. 0. 0. 0. 0.]]\n",
      "[[0 0 0 0 0]\n",
      " [0 0 0 0 0]]\n",
      "--------------------------------------------------------\n",
      "[[ 0  1  2  3  4  5  6  7  8  9]\n",
      " [10 11 12 13 14 15 16 17 18 19]]\n",
      "[[0. 0. 0. 0. 0. 0. 0. 0. 0. 0.]\n",
      " [0. 0. 0. 0. 0. 0. 0. 0. 0. 0.]]\n",
      "--------------------------------------------------------\n",
      "[[1 1 1 1 1 1 1 1 1 1]\n",
      " [1 1 1 1 1 1 1 1 1 1]]\n",
      "[1. 1. 1. 1. 1. 1. 1. 1. 1.]\n",
      "[[1. 1. 1. 1. 1.]\n",
      " [1. 1. 1. 1. 1.]\n",
      " [1. 1. 1. 1. 1.]]\n",
      "[[[1. 1. 1. 1.]\n",
      "  [1. 1. 1. 1.]\n",
      "  [1. 1. 1. 1.]]\n",
      "\n",
      " [[1. 1. 1. 1.]\n",
      "  [1. 1. 1. 1.]\n",
      "  [1. 1. 1. 1.]]]\n"
     ]
    }
   ],
   "source": [
    "# 创建数组：zeros()/zeros_like()/ones()/ones_like()\n",
    "\n",
    "print(np.zeros(10))\n",
    "print(np.zeros((2,5)))\n",
    "print(np.zeros((2,5),dtype=int))\n",
    "\n",
    "print('--------------------------------------------------------')\n",
    "ar = np.array([list(range(10)),list(range(10,20))])\n",
    "print(ar)\n",
    "print(np.zeros_like(ar,dtype=float))\n",
    "print('--------------------------------------------------------')\n",
    "\n",
    "print(np.ones_like(ar))\n",
    "ar7 = np.ones(9)\n",
    "ar8 = np.ones((3,5))\n",
    "ar9 = np.ones((2,3,4))   # shape，2个3行4列的2维数组组成的三维数组\n",
    "print(ar7)\n",
    "print(ar8)\n",
    "print(ar9)"
   ]
  },
  {
   "cell_type": "code",
   "execution_count": 56,
   "metadata": {},
   "outputs": [
    {
     "name": "stdout",
     "output_type": "stream",
     "text": [
      "[[1. 0. 0. 0. 0.]\n",
      " [0. 1. 0. 0. 0.]\n",
      " [0. 0. 1. 0. 0.]\n",
      " [0. 0. 0. 1. 0.]\n",
      " [0. 0. 0. 0. 1.]]\n",
      "[[0. 0. 1. 0. 0. 0. 0. 0. 0. 0.]\n",
      " [0. 0. 0. 1. 0. 0. 0. 0. 0. 0.]\n",
      " [0. 0. 0. 0. 1. 0. 0. 0. 0. 0.]\n",
      " [0. 0. 0. 0. 0. 1. 0. 0. 0. 0.]\n",
      " [0. 0. 0. 0. 0. 0. 1. 0. 0. 0.]\n",
      " [0. 0. 0. 0. 0. 0. 0. 1. 0. 0.]\n",
      " [0. 0. 0. 0. 0. 0. 0. 0. 1. 0.]\n",
      " [0. 0. 0. 0. 0. 0. 0. 0. 0. 1.]\n",
      " [0. 0. 0. 0. 0. 0. 0. 0. 0. 0.]\n",
      " [0. 0. 0. 0. 0. 0. 0. 0. 0. 0.]]\n"
     ]
    }
   ],
   "source": [
    "# 创建数组：eye()\n",
    "\n",
    "print(np.eye(5))\n",
    "# 创建一个正方的N*N的单位矩阵，对角线值为1，其余为0\n",
    "\n",
    "print(np.eye(10,k=2))"
   ]
  },
  {
   "cell_type": "code",
   "execution_count": null,
   "metadata": {},
   "outputs": [],
   "source": []
  },
  {
   "cell_type": "code",
   "execution_count": null,
   "metadata": {},
   "outputs": [],
   "source": [
    "'''\n",
    "【课程1.3】  Numpy通用函数\n",
    "\n",
    "基本操作\n",
    "\n",
    "'''"
   ]
  },
  {
   "cell_type": "code",
   "execution_count": 27,
   "metadata": {},
   "outputs": [
    {
     "name": "stdout",
     "output_type": "stream",
     "text": [
      "[0 1 2 3 4 5 6 7 8 9]\n",
      "[[0. 0. 0. 0. 0.]\n",
      " [0. 0. 0. 0. 0.]]\n",
      "[0 1 2 3 4 5 6 7 8 9]\n",
      "[[0. 0.]\n",
      " [0. 0.]\n",
      " [0. 0.]\n",
      " [0. 0.]\n",
      " [0. 0.]]\n",
      "-----------------------------------------------------\n",
      "[[0 1]\n",
      " [2 3]\n",
      " [4 5]\n",
      " [6 7]\n",
      " [8 9]]\n",
      "[ 0  1  2  3  4  5  6  7  8  9 10 11 12 13 14 15]\n",
      "[[ 0  1  2  3  4  5  6  7]\n",
      " [ 8  9 10 11 12 13 14 15]]\n",
      "[[ 0  1  2  3]\n",
      " [ 4  5  6  7]\n",
      " [ 8  9 10 11]\n",
      " [12 13 14 15]]\n",
      "[[1 1 1 1 1 1 1 1 1 1 1 1 1 1 1 1 1 1 1 1 1 1 1 1 1]\n",
      " [1 1 1 1 1 1 1 1 1 1 1 1 1 1 1 1 1 1 1 1 1 1 1 1 1]\n",
      " [1 1 1 1 1 1 1 1 1 1 1 1 1 1 1 1 1 1 1 1 1 1 1 1 1]\n",
      " [1 1 1 1 1 1 1 1 1 1 1 1 1 1 1 1 1 1 1 1 1 1 1 1 1]]\n",
      "[[ 0  1]\n",
      " [ 2  3]\n",
      " [ 4  5]\n",
      " [ 6  7]\n",
      " [ 8  9]\n",
      " [10 11]\n",
      " [12 13]\n",
      " [14 15]]\n",
      "-----------------------------------------------------\n",
      "[[ 0  1  2  3  4  5]\n",
      " [ 6  7  8  9 10 11]]\n",
      "[[ 0  1  2  3  4  5  6  7]\n",
      " [ 8  9 10 11 12 13  0  1]]\n",
      "[[ 0  1  2  3  4  5]\n",
      " [ 6  7  8  9 10 11]]\n"
     ]
    }
   ],
   "source": [
    "# 数组形状：.T/.reshape()/.resize()\n",
    "\n",
    "import numpy as np\n",
    "\n",
    "ar1 = np.arange(10)\n",
    "ar2 = np.zeros((2,5))\n",
    "\n",
    "print(ar1)\n",
    "print(ar2)\n",
    "print(ar1.T)\n",
    "print(ar2.T)\n",
    "# .T方法：转置，例如原shape为(3,4)/(2,3,4)，转置结果为(4,3)/(4,3,2) → 所以一维数组转置后结果不变\n",
    "\n",
    "print('-----------------------------------------------------')\n",
    "\n",
    "print(ar1.reshape(5,2))\n",
    "ar3 = np.arange(16)\n",
    "print(ar3)\n",
    "print(ar3.reshape(2,8))\n",
    "print(ar3.reshape(4,4))\n",
    "print(np.ones((10,10),dtype=int).reshape(4,25))\n",
    "print(np.reshape(np.arange(16,dtype=int),(8,2)))\n",
    "# numpy.reshape(a, newshape, order='C')：为数组提供新形状，而不更改其数据，所以元素数量需要一致！！\n",
    "\n",
    "print('-----------------------------------------------------')\n",
    "\n",
    "print(np.resize(np.arange(12),(2,6)))\n",
    "print(np.resize(np.arange(14),(2,8)))\n",
    "print(np.resize(np.arange(16),(2,6)))\n",
    "# numpy.resize(a, new_shape)：返回具有指定形状的新数组，如有必要可重复填充所需数量的元素。\n",
    "\n",
    "# 由上面可知， numpy.reshape（）素数量需要一致；但numpy.resize（）不要求元素数量，少了填充，多了自动排序\n",
    "# 注意了：.T/.reshape()/.resize()都是生成新的数组！！！"
   ]
  },
  {
   "cell_type": "code",
   "execution_count": 36,
   "metadata": {},
   "outputs": [
    {
     "name": "stdout",
     "output_type": "stream",
     "text": [
      "[0 1 2 3 4 5 6 7 8 9]\n",
      "[0 1 2 3 4 5 6 7 8 9]\n",
      "---------------------------------\n",
      "True\n",
      "[ 0  1 22  3  4  5  6  7  8  9]\n",
      "[ 0  1 22  3  4  5  6  7  8  9]\n",
      "---------------------------------\n",
      "[  0   1  22   3   4 126   6   7   8   9]\n",
      "[  0   1  22   3   4 126   6   7   8   9]\n",
      "[ 0  1 22  3  4  5  6  7  8  9]\n",
      "---------------------------------\n",
      "[0 1 2 3 4 5 6 7 8 9]\n",
      "[[0 1 2 3 4 5]\n",
      " [6 7 8 9 0 1]]\n",
      "None\n",
      "[[0 1 2 3 4 5]\n",
      " [6 7 8 9 0 0]]\n"
     ]
    }
   ],
   "source": [
    "# 数组的复制\n",
    "\n",
    "ar4 = np.arange(10)\n",
    "ar5 = ar4\n",
    "print(ar4)\n",
    "print(ar5)\n",
    "print('---------------------------------')\n",
    "print(ar4 is ar5)\n",
    "ar4[2] = 22\n",
    "print(ar4)\n",
    "print(ar5)\n",
    "print('---------------------------------')\n",
    "\n",
    "ar6 = ar4.copy()\n",
    "ar4[5] = 126\n",
    "print(ar4)\n",
    "print(ar5)\n",
    "print(ar6)\n",
    "print('---------------------------------')\n",
    "\n",
    "s = np.arange(10)\n",
    "print(s)\n",
    "print(np.resize(s,(2,6)))\n",
    "print(s.resize(2,6))\n",
    "print(s)"
   ]
  },
  {
   "cell_type": "code",
   "execution_count": 39,
   "metadata": {},
   "outputs": [
    {
     "name": "stdout",
     "output_type": "stream",
     "text": [
      "[0. 1. 2. 3. 4. 5. 6. 7. 8. 9.] float64\n",
      "[0 1 2 3 4 5 6 7 8 9] int64\n"
     ]
    }
   ],
   "source": [
    "# 数组类型转换：.astype()\n",
    "\n",
    "ar7 = np.arange(10,dtype=float)\n",
    "ar8 = ar7.astype(np.int64)   # 转换数组类型\n",
    "print(ar7,ar7.dtype)\n",
    "print(ar8,ar8.dtype)\n",
    "\n",
    "# a.astype()：转换数组类型\n",
    "# 注意：养成好习惯，数组类型用np.int32，而不是直接int32"
   ]
  },
  {
   "cell_type": "code",
   "execution_count": 10,
   "metadata": {},
   "outputs": [
    {
     "name": "stdout",
     "output_type": "stream",
     "text": [
      "[0 1 2 3 4]\n",
      "[5 6 7 8]\n",
      "[0 1 2 3 4 5 6 7 8]\n",
      "------------------\n",
      "[[1]\n",
      " [2]\n",
      " [3]]\n",
      "[['a']\n",
      " ['b']\n",
      " ['c']]\n",
      "--------\n",
      "[['1' 'a']\n",
      " ['2' 'b']\n",
      " ['3' 'c']]\n",
      "--------\n",
      "[['1']\n",
      " ['2']\n",
      " ['3']\n",
      " ['a']\n",
      " ['b']\n",
      " ['c']]\n",
      "------------------\n",
      "[0 1 2 3 4]\n",
      "[5 6 7 8 9]\n",
      "[[0 1 2 3 4]\n",
      " [5 6 7 8 9]]\n",
      "--------\n",
      "[[0 1 2 3 4]\n",
      " [5 6 7 8 9]]\n",
      "--------\n",
      "[[0 5]\n",
      " [1 6]\n",
      " [2 7]\n",
      " [3 8]\n",
      " [4 9]]\n"
     ]
    }
   ],
   "source": [
    "# 数组堆叠\n",
    "\n",
    "import numpy as np\n",
    "\n",
    "a = np.arange(5)\n",
    "b = np.arange(5,9)\n",
    "print(a)\n",
    "print(b)\n",
    "print(np.hstack((a,b)))   # np.hstack() 横向连接\n",
    "print('------------------')\n",
    "\n",
    "a = np.array([[1],[2],[3]])\n",
    "b = np.array([['a'],['b'],['c']])\n",
    "print(a)\n",
    "print(b)\n",
    "print('--------')\n",
    "print(np.hstack((a,b)))   # np.hstack() 横向连接\n",
    "print('--------')\n",
    "print(np.vstack((a,b)))   # np.vstack() 纵向连接\n",
    "print('------------------')\n",
    "\n",
    "a = np.arange(5)\n",
    "b = np.arange(5,10)\n",
    "print(a)\n",
    "print(b)\n",
    "print(np.vstack((a,b)))\n",
    "print('--------')\n",
    "print(np.stack((a,b),axis=0))   # axis=0表示纵向连接\n",
    "print('--------')\n",
    "print(np.stack((a,b),axis=1))   # axis=1表示横向连接"
   ]
  },
  {
   "cell_type": "code",
   "execution_count": 20,
   "metadata": {},
   "outputs": [
    {
     "name": "stdout",
     "output_type": "stream",
     "text": [
      "[[ 0  1  2  3]\n",
      " [ 4  5  6  7]\n",
      " [ 8  9 10 11]\n",
      " [12 13 14 15]]\n",
      "------------------\n",
      "[array([[ 0,  1],\n",
      "       [ 4,  5],\n",
      "       [ 8,  9],\n",
      "       [12, 13]]), array([[ 2,  3],\n",
      "       [ 6,  7],\n",
      "       [10, 11],\n",
      "       [14, 15]])]\n",
      "[array([[ 0],\n",
      "       [ 4],\n",
      "       [ 8],\n",
      "       [12]]), array([[ 1],\n",
      "       [ 5],\n",
      "       [ 9],\n",
      "       [13]]), array([[ 2],\n",
      "       [ 6],\n",
      "       [10],\n",
      "       [14]]), array([[ 3],\n",
      "       [ 7],\n",
      "       [11],\n",
      "       [15]])]\n",
      "[[ 3]\n",
      " [ 7]\n",
      " [11]\n",
      " [15]]\n",
      "--------\n",
      "[array([[0, 1, 2, 3],\n",
      "       [4, 5, 6, 7]]), array([[ 8,  9, 10, 11],\n",
      "       [12, 13, 14, 15]])]\n",
      "[array([[0, 1, 2, 3]]), array([[4, 5, 6, 7]]), array([[ 8,  9, 10, 11]]), array([[12, 13, 14, 15]])]\n",
      "[[12 13 14 15]]\n"
     ]
    }
   ],
   "source": [
    "# 数组拆分   np.hsplit/np.vsplit\n",
    "\n",
    "ar = np.arange(16).reshape(4,4)\n",
    "print(ar)\n",
    "print('------------------')\n",
    "print(np.hsplit(ar,2))\n",
    "print(np.hsplit(ar,4))\n",
    "print(np.hsplit(ar,4)[3])\n",
    "print('--------')\n",
    "print(np.vsplit(ar,2))\n",
    "print(np.vsplit(ar,4))\n",
    "print(np.vsplit(ar,4)[3])"
   ]
  },
  {
   "cell_type": "code",
   "execution_count": 22,
   "metadata": {},
   "outputs": [
    {
     "name": "stdout",
     "output_type": "stream",
     "text": [
      "[[0 1 2]\n",
      " [3 4 5]]\n",
      "------------------\n",
      "[[10 11 12]\n",
      " [13 14 15]]\n",
      "--------\n",
      "[[ 0  2  4]\n",
      " [ 6  8 10]]\n",
      "--------\n",
      "[[1.         0.5        0.33333333]\n",
      " [0.25       0.2        0.16666667]]\n",
      "--------\n",
      "[[0.         1.         1.41421356]\n",
      " [1.73205081 2.         2.23606798]]\n",
      "--------\n",
      "2.5\n",
      "5\n",
      "0\n",
      "1.707825127659933\n",
      "2.9166666666666665\n",
      "15 [3 5 7]\n",
      "[1 2 3 4 5 6]\n"
     ]
    }
   ],
   "source": [
    "# 数组简单运算\n",
    "\n",
    "ar = np.arange(6).reshape(2,3)\n",
    "print(ar)\n",
    "print('------------------')\n",
    "print(ar + 10)   # 加法\n",
    "print('--------')\n",
    "print(ar * 2)   # 乘法\n",
    "print('--------')\n",
    "print(1 / (ar+1))  # 除法\n",
    "print('--------')\n",
    "print(ar ** 0.5)  # 幂\n",
    "# 与标量的运算\n",
    "print('--------')\n",
    "\n",
    "print(ar.mean())  # 求平均值\n",
    "print(ar.max())  # 求最大值\n",
    "print(ar.min())  # 求最小值\n",
    "print(ar.std())  # 求标准差\n",
    "print(ar.var())  # 求方差\n",
    "print(ar.sum(), np.sum(ar,axis = 0))  # 求和，np.sum() → axis为0，按列求和；axis为1，按行求和\n",
    "print(np.sort(np.array([1,4,3,2,5,6])))  # 排序\n",
    "# 常用函数"
   ]
  },
  {
   "cell_type": "code",
   "execution_count": null,
   "metadata": {},
   "outputs": [],
   "source": []
  },
  {
   "cell_type": "code",
   "execution_count": null,
   "metadata": {},
   "outputs": [],
   "source": [
    "'''\n",
    "【课程1.4】  Numpy索引及切片\n",
    "\n",
    "核心：基本索引及切片 / 布尔型索引及切片\n",
    "\n",
    "'''"
   ]
  },
  {
   "cell_type": "code",
   "execution_count": 33,
   "metadata": {},
   "outputs": [
    {
     "name": "stdout",
     "output_type": "stream",
     "text": [
      "[ 0  1  2  3  4  5  6  7  8  9 10 11 12 13 14 15 16 17 18 19]\n",
      "4\n",
      "[0 1 2]\n",
      "[ 0  2  4  6  8 10 12 14 16 18]\n",
      "--------------\n",
      "[[ 0  1  2  3]\n",
      " [ 4  5  6  7]\n",
      " [ 8  9 10 11]\n",
      " [12 13 14 15]]\n",
      "[ 8  9 10 11]\n",
      "10\n",
      "[[ 4  5  6  7]\n",
      " [ 8  9 10 11]]\n",
      "10\n",
      "[[2 3]]\n",
      "--------------\n",
      "[[[ 0  1]\n",
      "  [ 2  3]]\n",
      "\n",
      " [[ 4  5]\n",
      "  [ 6  7]]\n",
      "\n",
      " [[ 8  9]\n",
      "  [10 11]]]\n",
      "[[ 8  9]\n",
      " [10 11]]\n",
      "10\n"
     ]
    }
   ],
   "source": [
    "# 基本索引及切片\n",
    "\n",
    "ar = np.arange(20)\n",
    "print(ar)\n",
    "print(ar[4])\n",
    "print(ar[:3])\n",
    "print(ar[::2])\n",
    "print('--------------')\n",
    "# 一维数组索引及切片：一维数组类似于list\n",
    "\n",
    "ar = np.arange(16).reshape(4,4)\n",
    "print(ar)\n",
    "print(ar[2])\n",
    "print(ar[2][2])\n",
    "print(ar[1:3])\n",
    "print(ar[2,2])\n",
    "print(ar[:1,2:])\n",
    "print('--------------')\n",
    "# 二维数组索引及切片\n",
    "\n",
    "ar = np.arange(12).reshape(3,2,2)\n",
    "print(ar)\n",
    "print(ar[2])\n",
    "print(ar[2][1][0])\n",
    "# **三维数组索引及切片"
   ]
  },
  {
   "cell_type": "code",
   "execution_count": 40,
   "metadata": {},
   "outputs": [
    {
     "name": "stdout",
     "output_type": "stream",
     "text": [
      "[[ 0  1  2  3]\n",
      " [ 4  5  6  7]\n",
      " [ 8  9 10 11]]\n",
      "[ True False  True]\n",
      "[ True  True False False]\n",
      "--------------\n",
      "[[ 0  1  2  3]\n",
      " [ 8  9 10 11]]\n",
      "[[0 1]\n",
      " [4 5]\n",
      " [8 9]]\n",
      "--------------\n",
      "[[False False False False]\n",
      " [False False  True  True]\n",
      " [ True  True  True  True]] <class 'numpy.ndarray'>\n",
      "[ 6  7  8  9 10 11]\n"
     ]
    }
   ],
   "source": [
    "# 布尔型索引及切片\n",
    "\n",
    "ar = np.arange(12).reshape(3,4)\n",
    "print(ar)\n",
    "i = np.array([True,False,True])\n",
    "j = np.array([True,True,False,False])\n",
    "print(i)\n",
    "print(j)\n",
    "print('--------------')\n",
    "print(ar[i,:])  # 在第一维度做判断，只保留True，这里第一维度就是行，ar[i,:] = ar[i]（简单书写格式）\n",
    "print(ar[:,j])  # 在第二维度做判断，这里如果ar[:,i]会有警告，因为i是3个元素，而ar在列上有4个\n",
    "print('--------------')\n",
    "# 布尔型索引：以布尔型的矩阵去做筛选\n",
    "\n",
    "print(ar>5,type(ar>5))\n",
    "print(ar[ar>5])"
   ]
  },
  {
   "cell_type": "code",
   "execution_count": 41,
   "metadata": {},
   "outputs": [
    {
     "name": "stdout",
     "output_type": "stream",
     "text": [
      "[0 1 2 3 4 5 6 7 8 9]\n",
      "[  0   1   2   3   4 100   6 200 200   9]\n",
      "[0 1 2 3 4 5 6 7 8 9]\n",
      "[  0   1   2   3   4   5   6 200 200   9]\n"
     ]
    }
   ],
   "source": [
    "# 数组索引及切片的值更改、复制\n",
    "\n",
    "ar = np.arange(10)\n",
    "print(ar)\n",
    "ar[5] = 100\n",
    "ar[7:9] = 200\n",
    "print(ar)\n",
    "# 一个标量赋值给一个索引/切片时，会自动改变/传播原始数组\n",
    "\n",
    "ar = np.arange(10)\n",
    "b = ar.copy()\n",
    "b[7:9] = 200\n",
    "print(ar)\n",
    "print(b)\n",
    "# 复制"
   ]
  },
  {
   "cell_type": "code",
   "execution_count": null,
   "metadata": {},
   "outputs": [],
   "source": []
  },
  {
   "cell_type": "code",
   "execution_count": null,
   "metadata": {},
   "outputs": [],
   "source": [
    "'''\n",
    "【课程1.5】  Numpy随机数\n",
    "\n",
    "numpy.random包含多种概率分布的随机样本，是数据分析辅助的重点工具之一\n",
    "\n",
    "'''"
   ]
  },
  {
   "cell_type": "code",
   "execution_count": 42,
   "metadata": {},
   "outputs": [
    {
     "name": "stdout",
     "output_type": "stream",
     "text": [
      "[[ 1.08390914  0.27185895 -0.80813843  0.90425906  0.76739457 -0.82957336]\n",
      " [-1.05974287  0.5169269  -0.08200439 -1.37133503  0.20344034 -1.02242667]\n",
      " [ 0.21083987 -0.79675996  0.30157889  1.06009112  0.80347012 -0.2456349 ]\n",
      " [ 0.26725707  0.07347603 -0.07961039  1.09463667 -0.22546805  1.51807261]\n",
      " [-0.38439657  0.06837973  0.01373306 -1.60659524 -1.98393254  0.32693495]\n",
      " [-0.34759076 -0.1236171   0.75808747 -0.62917868  0.82132096 -1.89657794]]\n"
     ]
    }
   ],
   "source": [
    "# 随机数生成\n",
    "\n",
    "sample = np.random.normal(size=(6,6))   # np.random.normal 生成一个标准正太分布的4*4样本值\n",
    "print(sample)"
   ]
  },
  {
   "cell_type": "code",
   "execution_count": 55,
   "metadata": {},
   "outputs": [
    {
     "name": "stdout",
     "output_type": "stream",
     "text": [
      "0.13428297074726459 <class 'float'> \n",
      "--------\n",
      "[0.72133646 0.45931305 0.34675605 0.34044801] <class 'numpy.ndarray'> \n",
      "--------\n",
      "[[0.88557198 0.31736679 0.81859731 0.98206912]\n",
      " [0.25789279 0.47110242 0.98319748 0.51885558]\n",
      " [0.39407133 0.59311195 0.4692636  0.3151867 ]] <class 'numpy.ndarray'> \n",
      "--------\n"
     ]
    },
    {
     "data": {
      "text/plain": [
       "<matplotlib.collections.PathCollection at 0x10175780>"
      ]
     },
     "execution_count": 55,
     "metadata": {},
     "output_type": "execute_result"
    },
    {
     "data": {
      "image/png": "[encoded data removed]",
      "text/plain": [
       "<Figure size 432x288 with 1 Axes>"
      ]
     },
     "metadata": {
      "needs_background": "light"
     },
     "output_type": "display_data"
    }
   ],
   "source": [
    "# numpy.random.rand(d0, d1, ..., dn)：生成一个[0,1)之间的随机浮点数或N维浮点数组 —— 均匀分布\n",
    "\n",
    "a = np.random.rand()\n",
    "print(a, type(a), '\\n--------')\n",
    "# 生成一个随机浮点数\n",
    "\n",
    "b = np.random.rand(4)\n",
    "print(b,type(b), '\\n--------')  \n",
    "# 生成形状为4的一维数组\n",
    "\n",
    "c = np.random.rand(3,4)\n",
    "print(c,type(c), '\\n--------')  \n",
    "# 生成形状为3*4的二维数组\n",
    "\n",
    "################################################################################\n",
    "# 用散点图来说明均匀分布和正态分布的区别\n",
    "import matplotlib.pyplot as plt         # 导入matplotlib模块，用于图表辅助分析\n",
    "# % matplotlib inline                     # 魔法函数，每次运行自动生成图表\n",
    "\n",
    "data1 = np.random.rand(1000)\n",
    "data2 = np.random.rand(1000)\n",
    "\n",
    "plt.scatter(data1,data2)\n",
    "# 生成1000个均匀分布的样本值"
   ]
  },
  {
   "cell_type": "code",
   "execution_count": 51,
   "metadata": {},
   "outputs": [
    {
     "data": {
      "text/plain": [
       "<matplotlib.collections.PathCollection at 0x100dbac8>"
      ]
     },
     "execution_count": 51,
     "metadata": {},
     "output_type": "execute_result"
    },
    {
     "data": {
      "image/png": "[encoded data removed]",
      "text/plain": [
       "<Figure size 432x288 with 1 Axes>"
      ]
     },
     "metadata": {
      "needs_background": "light"
     },
     "output_type": "display_data"
    }
   ],
   "source": [
    "#  numpy.random.randn(d0, d1, ..., dn)：生成一个浮点数或N维浮点数组 —— 正态分布\n",
    "\n",
    "data3 = np.random.randn(1000)    # randn和rand的参数用法一样\n",
    "data4 = np.random.randn(1000)\n",
    "\n",
    "plt.scatter(data3,data4)\n",
    "# 生成1000个正态分布的样本值"
   ]
  },
  {
   "cell_type": "code",
   "execution_count": 4,
   "metadata": {},
   "outputs": [
    {
     "name": "stdout",
     "output_type": "stream",
     "text": [
      "[[42.57772617 43.13073476 92.87004175 28.68209692]\n",
      " [73.73887653 21.89103829 94.06972512  5.37014595]\n",
      " [44.98653584 21.08397275  6.72652982 50.71063043]] 2\n"
     ]
    }
   ],
   "source": [
    "import numpy as np\n",
    "\n",
    "a = np.random.rand(3,4)*100\n",
    "print(a, a.ndim)\n",
    "#生成一个[0,100)之间的随机2维浮点数组 —— 均匀分布"
   ]
  },
  {
   "cell_type": "code",
   "execution_count": 22,
   "metadata": {},
   "outputs": [
    {
     "name": "stdout",
     "output_type": "stream",
     "text": [
      "1\n",
      "2\n",
      "[6 1 9 9 6 5 2 3 8 6]\n",
      "[[3 5 6 3 7]\n",
      " [4 1 3 7 1]\n",
      " [4 8 2 3 6]]\n",
      "[[14 22 28 23 19]\n",
      " [30 21 17 22 28]\n",
      " [37 17 44 32 30]]\n"
     ]
    }
   ],
   "source": [
    "# numpy.random.randint(low, high=None, size=None, dtype='l')：生成一个整数或N维整数数组\n",
    "# 若high不为None时，取[low,high)之间随机整数，否则取值[0,low)之间随机整数，且high必须大于low \n",
    "# dtype参数：只能是int类型  \n",
    "\n",
    "print(np.random.randint(2))\n",
    "print(np.random.randint(2,10))\n",
    "print(np.random.randint(10,size=10))\n",
    "print(np.random.randint(10,size=(3,5)))\n",
    "print(np.random.randint(10,50,size=(3,5)))"
   ]
  },
  {
   "cell_type": "code",
   "execution_count": null,
   "metadata": {},
   "outputs": [],
   "source": []
  },
  {
   "cell_type": "code",
   "execution_count": null,
   "metadata": {},
   "outputs": [],
   "source": [
    "'''\n",
    "【课程1.6】  Numpy数据的输入输出\n",
    "\n",
    "numpy读取/写入数组数据、文本数据\n",
    "\n",
    "'''"
   ]
  },
  {
   "cell_type": "code",
   "execution_count": 24,
   "metadata": {},
   "outputs": [
    {
     "name": "stdout",
     "output_type": "stream",
     "text": [
      "G:\\Python学习\\Python-DataAnalysis\\CLASSDATA_Chapter01重点工具：数据解析\\CH01科学计算工具：Numpy\n",
      "[[0.35974916 0.96819388 0.54311939 0.10372045 0.87936469]\n",
      " [0.5618251  0.14718179 0.91540706 0.39504275 0.30312144]\n",
      " [0.98581619 0.20466126 0.06489094 0.30723118 0.79896829]\n",
      " [0.32658097 0.59667695 0.4946555  0.24726143 0.10659514]\n",
      " [0.6882771  0.33991576 0.93978338 0.88410544 0.05265435]]\n",
      "finished!\n"
     ]
    }
   ],
   "source": [
    "# 存储数组数据 .npy文件\n",
    "\n",
    "import os\n",
    "\n",
    "print(os.getcwd())\n",
    "# os.chdir('C:/Users/Mocha-Pudding/Desktop/')\n",
    "ar = np.random.rand(5,5)\n",
    "print(ar)\n",
    "np.save('test.npy',ar)\n",
    "print('finished!')"
   ]
  },
  {
   "cell_type": "code",
   "execution_count": 25,
   "metadata": {},
   "outputs": [
    {
     "name": "stdout",
     "output_type": "stream",
     "text": [
      "[[0.35974916 0.96819388 0.54311939 0.10372045 0.87936469]\n",
      " [0.5618251  0.14718179 0.91540706 0.39504275 0.30312144]\n",
      " [0.98581619 0.20466126 0.06489094 0.30723118 0.79896829]\n",
      " [0.32658097 0.59667695 0.4946555  0.24726143 0.10659514]\n",
      " [0.6882771  0.33991576 0.93978338 0.88410544 0.05265435]]\n"
     ]
    }
   ],
   "source": [
    "# 读取数组数据 .npy文件\n",
    "\n",
    "ar_load = np.load('test.npy')\n",
    "print(ar_load)"
   ]
  },
  {
   "cell_type": "code",
   "execution_count": 32,
   "metadata": {},
   "outputs": [
    {
     "name": "stdout",
     "output_type": "stream",
     "text": [
      "[[0.08519084 0.45658411 0.78533438 0.68655273 0.31584634 0.28504218\n",
      "  0.76131752 0.5941305 ]\n",
      " [0.76553728 0.2168259  0.28978937 0.77447333 0.62836211 0.79740309\n",
      "  0.70317015 0.12550542]\n",
      " [0.90764133 0.92813675 0.99442191 0.26957846 0.91867404 0.63306054\n",
      "  0.44524227 0.53745596]\n",
      " [0.91538881 0.70445654 0.86790381 0.30876163 0.3456528  0.5202952\n",
      "  0.10193933 0.58965376]\n",
      " [0.55305201 0.346428   0.33850052 0.74049717 0.0732824  0.7510769\n",
      "  0.66408595 0.04357039]\n",
      " [0.36893624 0.81752405 0.51856659 0.90760904 0.88705821 0.81007547\n",
      "  0.95649476 0.96835841]]\n",
      "finished!\n",
      "[[0.09 0.46 0.79 0.69 0.32 0.29 0.76 0.59]\n",
      " [0.77 0.22 0.29 0.77 0.63 0.8  0.7  0.13]\n",
      " [0.91 0.93 0.99 0.27 0.92 0.63 0.45 0.54]\n",
      " [0.92 0.7  0.87 0.31 0.35 0.52 0.1  0.59]\n",
      " [0.55 0.35 0.34 0.74 0.07 0.75 0.66 0.04]\n",
      " [0.37 0.82 0.52 0.91 0.89 0.81 0.96 0.97]] float64\n"
     ]
    }
   ],
   "source": [
    "# 存储/读取文本文件\n",
    "\n",
    "ar = np.random.rand(6,8)\n",
    "print(ar)\n",
    "# np.savetxt('savetext_test.txt',ar,delimiter=',')   # delimiter=',' 设置分隔符\n",
    "np.savetxt('savetext_test.txt',ar,delimiter=',',fmt='%.2f')   # delimiter=',' 设置分隔符； fmt='%.2f' 设置格式，默认为科学技术法\n",
    "print('finished!')\n",
    "\n",
    "ar_loadtxt = np.loadtxt('savetext_test.txt',delimiter=',')\n",
    "print(ar_loadtxt, ar_loadtxt.dtype)"
   ]
  },
  {
   "cell_type": "code",
   "execution_count": null,
   "metadata": {},
   "outputs": [],
   "source": []
  }
 ],
 "metadata": {
  "kernelspec": {
   "display_name": "Python 3",
   "language": "python",
   "name": "python3"
  },
  "language_info": {
   "codemirror_mode": {
    "name": "ipython",
    "version": 3
   },
   "file_extension": ".py",
   "mimetype": "text/x-python",
   "name": "python",
   "nbconvert_exporter": "python",
   "pygments_lexer": "ipython3",
   "version": "3.7.3"
  }
 },
 "nbformat": 4,
 "nbformat_minor": 2
}
