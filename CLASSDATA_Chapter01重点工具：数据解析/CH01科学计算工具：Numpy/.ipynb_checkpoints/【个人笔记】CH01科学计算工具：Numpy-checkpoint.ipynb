{
 "cells": [
  {
   "cell_type": "code",
   "execution_count": null,
   "metadata": {
    "collapsed": true
   },
   "outputs": [],
   "source": [
    "'''\n",
    "【课程1.2】  Numpy基础数据结构\n",
    "\n",
    "NumPy数组是一个多维数组对象，称为ndarray。其由两部分组成：\n",
    "① 实际的数据\n",
    "② 描述这些数据的元数据\n",
    "\n",
    "'''"
   ]
  },
  {
   "cell_type": "code",
   "execution_count": 14,
   "metadata": {},
   "outputs": [
    {
     "name": "stdout",
     "output_type": "stream",
     "text": [
      "[1, 2, 3, 4, 5, 6]\n",
      "[[ 1  2  3  4  5  6]\n",
      " [22 33 44 55 66 88]] <class 'numpy.ndarray'>\n",
      "2\n",
      "(2, 6)\n",
      "12\n",
      "<class 'numpy.ndarray'> int32\n",
      "4\n",
      "<memory at 0x000000000745D8B8>\n",
      "------------------------------\n",
      "[[ 1  2  3  4  5  6]\n",
      " [22 33 44 55 66 88]]\n"
     ]
    },
    {
     "data": {
      "text/plain": [
       "array([[ 1,  2,  3,  4,  5,  6],\n",
       "       [22, 33, 44, 55, 66, 88]])"
      ]
     },
     "execution_count": 14,
     "metadata": {},
     "output_type": "execute_result"
    }
   ],
   "source": [
    "import numpy as np\n",
    "\n",
    "ar = np.array([[1,2,3,4,5,6],[22,33,44,55,66,88]])\n",
    "print([1,2,3,4,5,6])\n",
    "print(ar,type(ar))\n",
    "print(ar.ndim)   # 轴数\n",
    "print(ar.shape)   # 数组的维度，对于n行m列的数组，shape为（n，m），这里是2行6列\n",
    "print(ar.size)   # 元素的个数\n",
    "print(type(ar),ar.dtype)\n",
    "print(ar.itemsize)\n",
    "print(ar.data)\n",
    "print('-'*30)\n",
    "print(ar)\n",
    "ar"
   ]
  },
  {
   "cell_type": "code",
   "execution_count": 33,
   "metadata": {},
   "outputs": [
    {
     "name": "stdout",
     "output_type": "stream",
     "text": [
      "[0 1 2 3 4 5 6 7 8 9]\n",
      "[0 1 2 3 4 5 6 7 8 9]\n",
      "[1 2 3 4 5 6]\n",
      "[[1 2 3 4 5]\n",
      " [2 3 4 5 6]]\n",
      "[list([1, 2, 3, 4, 5]) list(['a', 'b', 'c', 'd', 'e', 'f'])] 1\n",
      "[[ 0.52840934  0.14935172  0.51515262  0.7890446   0.68463136]\n",
      " [ 0.11247778  0.96305012  0.53876424  0.40503411  0.92404501]]\n"
     ]
    }
   ],
   "source": [
    "# 创建数组\n",
    "\n",
    "ar1 = np.array(range(10))\n",
    "ar2 = np.arange(10)\n",
    "ar3 = np.array([1,2,3,4,5,6])\n",
    "ar4 = np.array([[1,2,3,4,5],[2,3,4,5,6]])\n",
    "ar5 = np.array([[1,2,3,4,5],['a','b','c','d','e','f']])\n",
    "print(ar1)\n",
    "print(ar2)\n",
    "print(ar3)\n",
    "print(ar4)\n",
    "print(ar5,ar5.ndim)\n",
    "\n",
    "print(np.random.rand(10).reshape(2,5))"
   ]
  },
  {
   "cell_type": "code",
   "execution_count": 35,
   "metadata": {},
   "outputs": [
    {
     "name": "stdout",
     "output_type": "stream",
     "text": [
      "[0 1 2 3 4 5 6 7 8 9]\n",
      "[ 0.  1.  2.  3.  4.  5.  6.  7.  8.  9.]\n",
      "[ 5  6  7  8  9 10 11]\n",
      "[  5.   7.   9.  11.]\n",
      "[   0    1    2 ..., 9997 9998 9999]\n"
     ]
    }
   ],
   "source": [
    "# 创建数组：arange()，类似range()，在给定间隔内返回均匀间隔的值。\n",
    "\n",
    "print(np.arange(10))    # 返回0-9，整型\n",
    "print(np.arange(10.0))  # 返回0.0-9.0，浮点型\n",
    "print(np.arange(5,12))  # 返回5-11   取值：“前闭后开”的区间\n",
    "print(np.arange(5.0,12,2))  # 返回5.0-12.0，步长为2\n",
    "print(np.arange(10000))  # 如果数组太大而无法打印，NumPy会自动跳过数组的中心部分，并只打印边角："
   ]
  },
  {
   "cell_type": "code",
   "execution_count": 48,
   "metadata": {},
   "outputs": [
    {
     "name": "stdout",
     "output_type": "stream",
     "text": [
      "[ 10.          10.52631579  11.05263158  11.57894737  12.10526316\n",
      "  12.63157895  13.15789474  13.68421053  14.21052632  14.73684211\n",
      "  15.26315789  15.78947368  16.31578947  16.84210526  17.36842105\n",
      "  17.89473684  18.42105263  18.94736842  19.47368421  20.        ]\n",
      "--------------------------------------------------------------------------------\n",
      "[ 10.   10.5  11.   11.5  12.   12.5  13.   13.5  14.   14.5  15.   15.5\n",
      "  16.   16.5  17.   17.5  18.   18.5  19.   19.5  20. ]\n",
      "--------------------------------------------------------------------------------\n",
      "[ 10.          10.47619048  10.95238095  11.42857143  11.9047619\n",
      "  12.38095238  12.85714286  13.33333333  13.80952381  14.28571429\n",
      "  14.76190476  15.23809524  15.71428571  16.19047619  16.66666667\n",
      "  17.14285714  17.61904762  18.0952381   18.57142857  19.04761905\n",
      "  19.52380952]\n",
      "--------------------------------------------------------------------------------\n",
      "(array([ 10. ,  10.5,  11. ,  11.5,  12. ,  12.5,  13. ,  13.5,  14. ,\n",
      "        14.5,  15. ,  15.5,  16. ,  16.5,  17. ,  17.5,  18. ,  18.5,\n",
      "        19. ,  19.5,  20. ]), 0.5)\n",
      "<class 'tuple'>\n",
      "[ 10.   10.5  11.   11.5  12.   12.5  13.   13.5  14.   14.5  15.   15.5\n",
      "  16.   16.5  17.   17.5  18.   18.5  19.   19.5  20. ]\n"
     ]
    }
   ],
   "source": [
    "# 创建数组：linspace():返回在间隔[开始，停止]上计算的num个均匀间隔的样本。\n",
    "\n",
    "print(np.linspace(10,20,num = 20))\n",
    "print('-'*80)\n",
    "print(np.linspace(10,20,num = 21))\n",
    "print('-'*80)\n",
    "print(np.linspace(10,20,num = 21, endpoint=False))\n",
    "print('-'*80)\n",
    "s = np.linspace(10,20,num = 21, retstep = True)\n",
    "print(s)\n",
    "print(type(s))\n",
    "print(s[0])"
   ]
  },
  {
   "cell_type": "code",
   "execution_count": 61,
   "metadata": {},
   "outputs": [
    {
     "name": "stdout",
     "output_type": "stream",
     "text": [
      "[ 0.  0.  0.  0.  0.  0.  0.  0.  0.  0.]\n",
      "[[ 0.  0.  0.  0.  0.  0.]\n",
      " [ 0.  0.  0.  0.  0.  0.]\n",
      " [ 0.  0.  0.  0.  0.  0.]]\n",
      "[[0 0 0 0 0 0]\n",
      " [0 0 0 0 0 0]\n",
      " [0 0 0 0 0 0]]\n",
      "--------------------------------------------------------------------------------\n",
      "[[ 0  1  2  3  4  5  6  7  8  9]\n",
      " [10 11 12 13 14 15 16 17 18 19]]\n",
      "[[0 0 0 0 0 0 0 0 0 0]\n",
      " [0 0 0 0 0 0 0 0 0 0]]\n",
      "--------------------------------------------------------------------------------\n",
      "[ 1.  1.  1.  1.  1.  1.  1.  1.  1.]\n",
      "[[[ 1.  1.  1.  1.]\n",
      "  [ 1.  1.  1.  1.]\n",
      "  [ 1.  1.  1.  1.]]\n",
      "\n",
      " [[ 1.  1.  1.  1.]\n",
      "  [ 1.  1.  1.  1.]\n",
      "  [ 1.  1.  1.  1.]]]\n",
      "[ 1.  1.  1.  1.  1.  1.  1.  1.  1.]\n"
     ]
    }
   ],
   "source": [
    "# 创建数组：zeros()/zeros_like()/ones()/ones_like()\n",
    "\n",
    "print(np.zeros(10))\n",
    "print(np.zeros((3,6)))\n",
    "print(np.zeros((3,6), dtype=np.int))\n",
    "print('-'*80)\n",
    "\n",
    "ar = np.array([list(range(10)),list(range(10,20))])\n",
    "print(ar)\n",
    "\n",
    "print(np.zeros_like(ar))\n",
    "print('-'*80)\n",
    "\n",
    "ar5 = np.ones(9)   #用1来填充\n",
    "ar6 = np.ones((2,3,4))\n",
    "ar7 = np.ones_like(ar5)\n",
    "print(ar5)\n",
    "print(ar6)\n",
    "print(ar7)\n",
    "# ones()/ones_like()和zeros()/zeros_like()一样，只是填充为1"
   ]
  },
  {
   "cell_type": "code",
   "execution_count": 62,
   "metadata": {},
   "outputs": [
    {
     "name": "stdout",
     "output_type": "stream",
     "text": [
      "[[ 1.  0.  0.  0.  0.]\n",
      " [ 0.  1.  0.  0.  0.]\n",
      " [ 0.  0.  1.  0.  0.]\n",
      " [ 0.  0.  0.  1.  0.]\n",
      " [ 0.  0.  0.  0.  1.]]\n"
     ]
    }
   ],
   "source": [
    "# 创建数组：eye()\n",
    "\n",
    "print(np.eye(5))\n",
    "# 创建一个正方的N*N的单位矩阵，对角线值为1，其余为0"
   ]
  }
 ],
 "metadata": {
  "kernelspec": {
   "display_name": "Python 3",
   "language": "python",
   "name": "python3"
  },
  "language_info": {
   "codemirror_mode": {
    "name": "ipython",
    "version": 3
   },
   "file_extension": ".py",
   "mimetype": "text/x-python",
   "name": "python",
   "nbconvert_exporter": "python",
   "pygments_lexer": "ipython3",
   "version": "3.6.3"
  }
 },
 "nbformat": 4,
 "nbformat_minor": 2
}
