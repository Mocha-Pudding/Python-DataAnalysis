{
 "cells": [
  {
   "cell_type": "code",
   "execution_count": null,
   "metadata": {},
   "outputs": [],
   "source": [
    "'''\n",
    "【课程1.2】  Numpy基础数据结构\n",
    "\n",
    "NumPy数组是一个多维数组对象，称为ndarray。其由两部分组成：\n",
    "① 实际的数据\n",
    "② 描述这些数据的元数据\n",
    "\n",
    "'''"
   ]
  },
  {
   "cell_type": "code",
   "execution_count": 18,
   "metadata": {},
   "outputs": [
    {
     "name": "stdout",
     "output_type": "stream",
     "text": [
      "[[1 2 3 4 5 6]\n",
      " [2 3 4 5 6 7]]\n",
      "2\n",
      "(2, 6)\n",
      "12\n",
      "<class 'numpy.ndarray'> int32\n",
      "4\n",
      "<memory at 0x0000000009E31A68>\n"
     ]
    },
    {
     "data": {
      "text/plain": [
       "array([[1, 2, 3, 4, 5, 6],\n",
       "       [2, 3, 4, 5, 6, 7]])"
      ]
     },
     "execution_count": 18,
     "metadata": {},
     "output_type": "execute_result"
    }
   ],
   "source": [
    "# 多维数组ndarray\n",
    "\n",
    "import numpy as np\n",
    "\n",
    "ar = np.array([[1,2,3,4,5,6],[2,3,4,5,6,7]])\n",
    "print(ar)\n",
    "print(ar.ndim)   # 数组的维度个数，轴\n",
    "print(ar.shape)  # 数组的维度，几行几列\n",
    "print(ar.size)   # 数组的元素个数\n",
    "print(type(ar), ar.dtype)  # 数组的类型，和数组里面元素的类型\n",
    "print(ar.itemsize)   # 每个元素字节大小\n",
    "print(ar.data)\n",
    "ar"
   ]
  },
  {
   "cell_type": "code",
   "execution_count": 12,
   "metadata": {},
   "outputs": [
    {
     "name": "stdout",
     "output_type": "stream",
     "text": [
      "[1 2 3 4 5 6] \n",
      " 1\n",
      "--------------------------------------------------------------------------------\n",
      "[[1 2 3 4 5 6]\n",
      " [2 3 4 5 6 7]] \n",
      " 2\n",
      "--------------------------------------------------------------------------------\n",
      "[[[1 2 3 4 5 6]\n",
      "  [2 3 4 5 6 7]\n",
      "  [3 4 5 6 7 8]]\n",
      "\n",
      " [[1 2 3 4 5 6]\n",
      "  [2 3 4 5 6 7]\n",
      "  [3 4 5 6 7 8]]] \n",
      " 3\n",
      "--------------------------------------------------------------------------------\n"
     ]
    }
   ],
   "source": [
    "# 多维数组演示 维度的个数（轴数） ar.ndim\n",
    "\n",
    "# 一维数组\n",
    "ar_1 = np.array([1,2,3,4,5,6])\n",
    "print(ar_1, '\\n',ar_1.ndim)\n",
    "print('-'*80)\n",
    "\n",
    "# 二维数组 由多个一维数组组成\n",
    "ar_2 = np.array([[1,2,3,4,5,6],[2,3,4,5,6,7]])\n",
    "print(ar_2, '\\n',ar_2.ndim)\n",
    "print('-'*80)\n",
    "\n",
    "#  三维数组 由多个二维数组组成\n",
    "ar_3 = np.array([[[1,2,3,4,5,6],[2,3,4,5,6,7],[3,4,5,6,7,8]],[[1,2,3,4,5,6],[2,3,4,5,6,7],[3,4,5,6,7,8]]])\n",
    "print(ar_3, '\\n',ar_3.ndim)\n",
    "print('-'*80)\n",
    "\n",
    "# 四维数组 由多个三维数组组成，以此内推…"
   ]
  },
  {
   "cell_type": "code",
   "execution_count": 32,
   "metadata": {},
   "outputs": [
    {
     "name": "stdout",
     "output_type": "stream",
     "text": [
      "[0 1 2 3 4 5 6 7 8 9]\n",
      "[0 1 2 3 4 5 6 7 8 9]\n",
      "[1 2 3 4 5 6]\n",
      "--------------------------------------------------------\n",
      "[[1 2 3 4 5]\n",
      " [2 3 4 5 6]] 2 int32\n",
      "[['1' '2' '3' '4' '5']\n",
      " ['a' 'b' 'c' 'd' 'e']] 2 <U11\n",
      "[list([1, 2, 3, 4, 5]) list(['a', 'b', 'c'])] 1 object\n",
      "--------------------------------------------------------\n",
      "[[0.69434762 0.19600356 0.78168196 0.18383448 0.07031041]\n",
      " [0.91712702 0.19706813 0.70006688 0.76954788 0.75165578]]\n"
     ]
    }
   ],
   "source": [
    "# 创建数组：array()函数，括号内可以是列表、元祖、数组、生成器等\n",
    "\n",
    "ar1 = np.array(range(10))   # 直接通过生成器range去创建\n",
    "print(ar1)\n",
    "\n",
    "ar2 = np.arange(10)   # 创建数组：arange()，类似range()，在给定间隔内返回均匀间隔的值。\n",
    "print(ar2)\n",
    "\n",
    "ar3 = np.array([1,2,3,4,5,6])  # 使用列表创建\n",
    "print(ar3)\n",
    "\n",
    "print('--------------------------------------------------------')\n",
    "ar4 = np.array([[1,2,3,4,5],[2,3,4,5,6]])  # 使用嵌套的列表\n",
    "ar5 = np.array([[1,2,3,4,5],['a','b','c','d','e']])    # 元素个数相同时，是二维数组，但数值类型改变\n",
    "ar6 = np.array([[1,2,3,4,5],['a','b','c']])    # 元素个数不相同时，变成一维数组\n",
    "print(ar4, ar4.ndim, ar4.dtype)\n",
    "print(ar5, ar4.ndim, ar5.dtype)\n",
    "print(ar6, ar6.ndim, ar6.dtype)\n",
    "print('--------------------------------------------------------')\n",
    "\n",
    "ar1, ar2, ar3, ar4\n",
    "\n",
    "print(np.random.rand(10).reshape(2,5))   # 以后更多使用该种方法"
   ]
  },
  {
   "cell_type": "code",
   "execution_count": 44,
   "metadata": {},
   "outputs": [
    {
     "name": "stdout",
     "output_type": "stream",
     "text": [
      "[10.  10.5 11.  11.5 12.  12.5 13.  13.5 14.  14.5 15.  15.5 16.  16.5\n",
      " 17.  17.5 18.  18.5 19.  19.5 20. ]\n",
      "[10.         10.47619048 10.95238095 11.42857143 11.9047619  12.38095238\n",
      " 12.85714286 13.33333333 13.80952381 14.28571429 14.76190476 15.23809524\n",
      " 15.71428571 16.19047619 16.66666667 17.14285714 17.61904762 18.0952381\n",
      " 18.57142857 19.04761905 19.52380952]\n",
      "[10.  10.5 11.  11.5 12.  12.5 13.  13.5 14.  14.5 15.  15.5 16.  16.5\n",
      " 17.  17.5 18.  18.5 19.  19.5]\n",
      "(array([10. , 10.5, 11. , 11.5, 12. , 12.5, 13. , 13.5, 14. , 14.5, 15. ,\n",
      "       15.5, 16. , 16.5, 17. , 17.5, 18. , 18.5, 19. , 19.5, 20. ]), 0.5)\n"
     ]
    }
   ],
   "source": [
    "# 创建数组：linspace():返回在间隔[开始，停止]上计算的num个均匀间隔的样本。\n",
    "\n",
    "print(np.linspace(10,20,num=21))\n",
    "print(np.linspace(10,20,num=21,endpoint=False))\n",
    "print(np.linspace(10,20,num=20,endpoint=False))\n",
    "print(np.linspace(10,20,num=21,retstep=True))"
   ]
  },
  {
   "cell_type": "code",
   "execution_count": 53,
   "metadata": {},
   "outputs": [
    {
     "name": "stdout",
     "output_type": "stream",
     "text": [
      "[0. 0. 0. 0. 0. 0. 0. 0. 0. 0.]\n",
      "[[0. 0. 0. 0. 0.]\n",
      " [0. 0. 0. 0. 0.]]\n",
      "[[0 0 0 0 0]\n",
      " [0 0 0 0 0]]\n",
      "--------------------------------------------------------\n",
      "[[ 0  1  2  3  4  5  6  7  8  9]\n",
      " [10 11 12 13 14 15 16 17 18 19]]\n",
      "[[0. 0. 0. 0. 0. 0. 0. 0. 0. 0.]\n",
      " [0. 0. 0. 0. 0. 0. 0. 0. 0. 0.]]\n",
      "--------------------------------------------------------\n",
      "[[1 1 1 1 1 1 1 1 1 1]\n",
      " [1 1 1 1 1 1 1 1 1 1]]\n",
      "[1. 1. 1. 1. 1. 1. 1. 1. 1.]\n",
      "[[1. 1. 1. 1. 1.]\n",
      " [1. 1. 1. 1. 1.]\n",
      " [1. 1. 1. 1. 1.]]\n",
      "[[[1. 1. 1. 1.]\n",
      "  [1. 1. 1. 1.]\n",
      "  [1. 1. 1. 1.]]\n",
      "\n",
      " [[1. 1. 1. 1.]\n",
      "  [1. 1. 1. 1.]\n",
      "  [1. 1. 1. 1.]]]\n"
     ]
    }
   ],
   "source": [
    "# 创建数组：zeros()/zeros_like()/ones()/ones_like()\n",
    "\n",
    "print(np.zeros(10))\n",
    "print(np.zeros((2,5)))\n",
    "print(np.zeros((2,5),dtype=int))\n",
    "\n",
    "print('--------------------------------------------------------')\n",
    "ar = np.array([list(range(10)),list(range(10,20))])\n",
    "print(ar)\n",
    "print(np.zeros_like(ar,dtype=float))\n",
    "print('--------------------------------------------------------')\n",
    "\n",
    "print(np.ones_like(ar))\n",
    "ar7 = np.ones(9)\n",
    "ar8 = np.ones((3,5))\n",
    "ar9 = np.ones((2,3,4))   # shape，2个3行4列的2维数组组成的三维数组\n",
    "print(ar7)\n",
    "print(ar8)\n",
    "print(ar9)"
   ]
  },
  {
   "cell_type": "code",
   "execution_count": 56,
   "metadata": {},
   "outputs": [
    {
     "name": "stdout",
     "output_type": "stream",
     "text": [
      "[[1. 0. 0. 0. 0.]\n",
      " [0. 1. 0. 0. 0.]\n",
      " [0. 0. 1. 0. 0.]\n",
      " [0. 0. 0. 1. 0.]\n",
      " [0. 0. 0. 0. 1.]]\n",
      "[[0. 0. 1. 0. 0. 0. 0. 0. 0. 0.]\n",
      " [0. 0. 0. 1. 0. 0. 0. 0. 0. 0.]\n",
      " [0. 0. 0. 0. 1. 0. 0. 0. 0. 0.]\n",
      " [0. 0. 0. 0. 0. 1. 0. 0. 0. 0.]\n",
      " [0. 0. 0. 0. 0. 0. 1. 0. 0. 0.]\n",
      " [0. 0. 0. 0. 0. 0. 0. 1. 0. 0.]\n",
      " [0. 0. 0. 0. 0. 0. 0. 0. 1. 0.]\n",
      " [0. 0. 0. 0. 0. 0. 0. 0. 0. 1.]\n",
      " [0. 0. 0. 0. 0. 0. 0. 0. 0. 0.]\n",
      " [0. 0. 0. 0. 0. 0. 0. 0. 0. 0.]]\n"
     ]
    }
   ],
   "source": [
    "# 创建数组：eye()\n",
    "\n",
    "print(np.eye(5))\n",
    "# 创建一个正方的N*N的单位矩阵，对角线值为1，其余为0\n",
    "\n",
    "print(np.eye(10,k=2))"
   ]
  },
  {
   "cell_type": "code",
   "execution_count": null,
   "metadata": {},
   "outputs": [],
   "source": []
  },
  {
   "cell_type": "code",
   "execution_count": null,
   "metadata": {},
   "outputs": [],
   "source": [
    "'''\n",
    "【课程1.3】  Numpy通用函数\n",
    "\n",
    "基本操作\n",
    "\n",
    "'''"
   ]
  },
  {
   "cell_type": "code",
   "execution_count": 27,
   "metadata": {},
   "outputs": [
    {
     "name": "stdout",
     "output_type": "stream",
     "text": [
      "[0 1 2 3 4 5 6 7 8 9]\n",
      "[[0. 0. 0. 0. 0.]\n",
      " [0. 0. 0. 0. 0.]]\n",
      "[0 1 2 3 4 5 6 7 8 9]\n",
      "[[0. 0.]\n",
      " [0. 0.]\n",
      " [0. 0.]\n",
      " [0. 0.]\n",
      " [0. 0.]]\n",
      "-----------------------------------------------------\n",
      "[[0 1]\n",
      " [2 3]\n",
      " [4 5]\n",
      " [6 7]\n",
      " [8 9]]\n",
      "[ 0  1  2  3  4  5  6  7  8  9 10 11 12 13 14 15]\n",
      "[[ 0  1  2  3  4  5  6  7]\n",
      " [ 8  9 10 11 12 13 14 15]]\n",
      "[[ 0  1  2  3]\n",
      " [ 4  5  6  7]\n",
      " [ 8  9 10 11]\n",
      " [12 13 14 15]]\n",
      "[[1 1 1 1 1 1 1 1 1 1 1 1 1 1 1 1 1 1 1 1 1 1 1 1 1]\n",
      " [1 1 1 1 1 1 1 1 1 1 1 1 1 1 1 1 1 1 1 1 1 1 1 1 1]\n",
      " [1 1 1 1 1 1 1 1 1 1 1 1 1 1 1 1 1 1 1 1 1 1 1 1 1]\n",
      " [1 1 1 1 1 1 1 1 1 1 1 1 1 1 1 1 1 1 1 1 1 1 1 1 1]]\n",
      "[[ 0  1]\n",
      " [ 2  3]\n",
      " [ 4  5]\n",
      " [ 6  7]\n",
      " [ 8  9]\n",
      " [10 11]\n",
      " [12 13]\n",
      " [14 15]]\n",
      "-----------------------------------------------------\n",
      "[[ 0  1  2  3  4  5]\n",
      " [ 6  7  8  9 10 11]]\n",
      "[[ 0  1  2  3  4  5  6  7]\n",
      " [ 8  9 10 11 12 13  0  1]]\n",
      "[[ 0  1  2  3  4  5]\n",
      " [ 6  7  8  9 10 11]]\n"
     ]
    }
   ],
   "source": [
    "# 数组形状：.T/.reshape()/.resize()\n",
    "\n",
    "import numpy as np\n",
    "\n",
    "ar1 = np.arange(10)\n",
    "ar2 = np.zeros((2,5))\n",
    "\n",
    "print(ar1)\n",
    "print(ar2)\n",
    "print(ar1.T)\n",
    "print(ar2.T)\n",
    "# .T方法：转置，例如原shape为(3,4)/(2,3,4)，转置结果为(4,3)/(4,3,2) → 所以一维数组转置后结果不变\n",
    "\n",
    "print('-----------------------------------------------------')\n",
    "\n",
    "print(ar1.reshape(5,2))\n",
    "ar3 = np.arange(16)\n",
    "print(ar3)\n",
    "print(ar3.reshape(2,8))\n",
    "print(ar3.reshape(4,4))\n",
    "print(np.ones((10,10),dtype=int).reshape(4,25))\n",
    "print(np.reshape(np.arange(16,dtype=int),(8,2)))\n",
    "# numpy.reshape(a, newshape, order='C')：为数组提供新形状，而不更改其数据，所以元素数量需要一致！！\n",
    "\n",
    "print('-----------------------------------------------------')\n",
    "\n",
    "print(np.resize(np.arange(12),(2,6)))\n",
    "print(np.resize(np.arange(14),(2,8)))\n",
    "print(np.resize(np.arange(16),(2,6)))\n",
    "# numpy.resize(a, new_shape)：返回具有指定形状的新数组，如有必要可重复填充所需数量的元素。\n",
    "\n",
    "# 由上面可知， numpy.reshape（）素数量需要一致；但numpy.resize（）不要求元素数量，少了填充，多了自动排序\n",
    "# 注意了：.T/.reshape()/.resize()都是生成新的数组！！！"
   ]
  },
  {
   "cell_type": "code",
   "execution_count": 36,
   "metadata": {},
   "outputs": [
    {
     "name": "stdout",
     "output_type": "stream",
     "text": [
      "[0 1 2 3 4 5 6 7 8 9]\n",
      "[0 1 2 3 4 5 6 7 8 9]\n",
      "---------------------------------\n",
      "True\n",
      "[ 0  1 22  3  4  5  6  7  8  9]\n",
      "[ 0  1 22  3  4  5  6  7  8  9]\n",
      "---------------------------------\n",
      "[  0   1  22   3   4 126   6   7   8   9]\n",
      "[  0   1  22   3   4 126   6   7   8   9]\n",
      "[ 0  1 22  3  4  5  6  7  8  9]\n",
      "---------------------------------\n",
      "[0 1 2 3 4 5 6 7 8 9]\n",
      "[[0 1 2 3 4 5]\n",
      " [6 7 8 9 0 1]]\n",
      "None\n",
      "[[0 1 2 3 4 5]\n",
      " [6 7 8 9 0 0]]\n"
     ]
    }
   ],
   "source": [
    "# 数组的复制\n",
    "\n",
    "ar4 = np.arange(10)\n",
    "ar5 = ar4\n",
    "print(ar4)\n",
    "print(ar5)\n",
    "print('---------------------------------')\n",
    "print(ar4 is ar5)\n",
    "ar4[2] = 22\n",
    "print(ar4)\n",
    "print(ar5)\n",
    "print('---------------------------------')\n",
    "\n",
    "ar6 = ar4.copy()\n",
    "ar4[5] = 126\n",
    "print(ar4)\n",
    "print(ar5)\n",
    "print(ar6)\n",
    "print('---------------------------------')\n",
    "\n",
    "s = np.arange(10)\n",
    "print(s)\n",
    "print(np.resize(s,(2,6)))\n",
    "print(s.resize(2,6))\n",
    "print(s)"
   ]
  },
  {
   "cell_type": "code",
   "execution_count": 39,
   "metadata": {},
   "outputs": [
    {
     "name": "stdout",
     "output_type": "stream",
     "text": [
      "[0. 1. 2. 3. 4. 5. 6. 7. 8. 9.] float64\n",
      "[0 1 2 3 4 5 6 7 8 9] int64\n"
     ]
    }
   ],
   "source": [
    "# 数组类型转换：.astype()\n",
    "\n",
    "ar7 = np.arange(10,dtype=float)\n",
    "ar8 = ar7.astype(np.int64)   # 转换数组类型\n",
    "print(ar7,ar7.dtype)\n",
    "print(ar8,ar8.dtype)\n",
    "\n",
    "# a.astype()：转换数组类型\n",
    "# 注意：养成好习惯，数组类型用np.int32，而不是直接int32"
   ]
  },
  {
   "cell_type": "code",
   "execution_count": 10,
   "metadata": {},
   "outputs": [
    {
     "name": "stdout",
     "output_type": "stream",
     "text": [
      "[0 1 2 3 4]\n",
      "[5 6 7 8]\n",
      "[0 1 2 3 4 5 6 7 8]\n",
      "------------------\n",
      "[[1]\n",
      " [2]\n",
      " [3]]\n",
      "[['a']\n",
      " ['b']\n",
      " ['c']]\n",
      "--------\n",
      "[['1' 'a']\n",
      " ['2' 'b']\n",
      " ['3' 'c']]\n",
      "--------\n",
      "[['1']\n",
      " ['2']\n",
      " ['3']\n",
      " ['a']\n",
      " ['b']\n",
      " ['c']]\n",
      "------------------\n",
      "[0 1 2 3 4]\n",
      "[5 6 7 8 9]\n",
      "[[0 1 2 3 4]\n",
      " [5 6 7 8 9]]\n",
      "--------\n",
      "[[0 1 2 3 4]\n",
      " [5 6 7 8 9]]\n",
      "--------\n",
      "[[0 5]\n",
      " [1 6]\n",
      " [2 7]\n",
      " [3 8]\n",
      " [4 9]]\n"
     ]
    }
   ],
   "source": [
    "# 数组堆叠\n",
    "\n",
    "import numpy as np\n",
    "\n",
    "a = np.arange(5)\n",
    "b = np.arange(5,9)\n",
    "print(a)\n",
    "print(b)\n",
    "print(np.hstack((a,b)))   # np.hstack() 横向连接\n",
    "print('------------------')\n",
    "\n",
    "a = np.array([[1],[2],[3]])\n",
    "b = np.array([['a'],['b'],['c']])\n",
    "print(a)\n",
    "print(b)\n",
    "print('--------')\n",
    "print(np.hstack((a,b)))   # np.hstack() 横向连接\n",
    "print('--------')\n",
    "print(np.vstack((a,b)))   # np.vstack() 纵向连接\n",
    "print('------------------')\n",
    "\n",
    "a = np.arange(5)\n",
    "b = np.arange(5,10)\n",
    "print(a)\n",
    "print(b)\n",
    "print(np.vstack((a,b)))\n",
    "print('--------')\n",
    "print(np.stack((a,b),axis=0))   # axis=0表示纵向连接\n",
    "print('--------')\n",
    "print(np.stack((a,b),axis=1))   # axis=1表示横向连接"
   ]
  },
  {
   "cell_type": "code",
   "execution_count": 20,
   "metadata": {},
   "outputs": [
    {
     "name": "stdout",
     "output_type": "stream",
     "text": [
      "[[ 0  1  2  3]\n",
      " [ 4  5  6  7]\n",
      " [ 8  9 10 11]\n",
      " [12 13 14 15]]\n",
      "------------------\n",
      "[array([[ 0,  1],\n",
      "       [ 4,  5],\n",
      "       [ 8,  9],\n",
      "       [12, 13]]), array([[ 2,  3],\n",
      "       [ 6,  7],\n",
      "       [10, 11],\n",
      "       [14, 15]])]\n",
      "[array([[ 0],\n",
      "       [ 4],\n",
      "       [ 8],\n",
      "       [12]]), array([[ 1],\n",
      "       [ 5],\n",
      "       [ 9],\n",
      "       [13]]), array([[ 2],\n",
      "       [ 6],\n",
      "       [10],\n",
      "       [14]]), array([[ 3],\n",
      "       [ 7],\n",
      "       [11],\n",
      "       [15]])]\n",
      "[[ 3]\n",
      " [ 7]\n",
      " [11]\n",
      " [15]]\n",
      "--------\n",
      "[array([[0, 1, 2, 3],\n",
      "       [4, 5, 6, 7]]), array([[ 8,  9, 10, 11],\n",
      "       [12, 13, 14, 15]])]\n",
      "[array([[0, 1, 2, 3]]), array([[4, 5, 6, 7]]), array([[ 8,  9, 10, 11]]), array([[12, 13, 14, 15]])]\n",
      "[[12 13 14 15]]\n"
     ]
    }
   ],
   "source": [
    "# 数组拆分   np.hsplit/np.vsplit\n",
    "\n",
    "ar = np.arange(16).reshape(4,4)\n",
    "print(ar)\n",
    "print('------------------')\n",
    "print(np.hsplit(ar,2))\n",
    "print(np.hsplit(ar,4))\n",
    "print(np.hsplit(ar,4)[3])\n",
    "print('--------')\n",
    "print(np.vsplit(ar,2))\n",
    "print(np.vsplit(ar,4))\n",
    "print(np.vsplit(ar,4)[3])"
   ]
  },
  {
   "cell_type": "code",
   "execution_count": 22,
   "metadata": {},
   "outputs": [
    {
     "name": "stdout",
     "output_type": "stream",
     "text": [
      "[[0 1 2]\n",
      " [3 4 5]]\n",
      "------------------\n",
      "[[10 11 12]\n",
      " [13 14 15]]\n",
      "--------\n",
      "[[ 0  2  4]\n",
      " [ 6  8 10]]\n",
      "--------\n",
      "[[1.         0.5        0.33333333]\n",
      " [0.25       0.2        0.16666667]]\n",
      "--------\n",
      "[[0.         1.         1.41421356]\n",
      " [1.73205081 2.         2.23606798]]\n",
      "--------\n",
      "2.5\n",
      "5\n",
      "0\n",
      "1.707825127659933\n",
      "2.9166666666666665\n",
      "15 [3 5 7]\n",
      "[1 2 3 4 5 6]\n"
     ]
    }
   ],
   "source": [
    "# 数组简单运算\n",
    "\n",
    "ar = np.arange(6).reshape(2,3)\n",
    "print(ar)\n",
    "print('------------------')\n",
    "print(ar + 10)   # 加法\n",
    "print('--------')\n",
    "print(ar * 2)   # 乘法\n",
    "print('--------')\n",
    "print(1 / (ar+1))  # 除法\n",
    "print('--------')\n",
    "print(ar ** 0.5)  # 幂\n",
    "# 与标量的运算\n",
    "print('--------')\n",
    "\n",
    "print(ar.mean())  # 求平均值\n",
    "print(ar.max())  # 求最大值\n",
    "print(ar.min())  # 求最小值\n",
    "print(ar.std())  # 求标准差\n",
    "print(ar.var())  # 求方差\n",
    "print(ar.sum(), np.sum(ar,axis = 0))  # 求和，np.sum() → axis为0，按列求和；axis为1，按行求和\n",
    "print(np.sort(np.array([1,4,3,2,5,6])))  # 排序\n",
    "# 常用函数"
   ]
  },
  {
   "cell_type": "code",
   "execution_count": null,
   "metadata": {},
   "outputs": [],
   "source": []
  },
  {
   "cell_type": "code",
   "execution_count": null,
   "metadata": {},
   "outputs": [],
   "source": [
    "'''\n",
    "【课程1.4】  Numpy索引及切片\n",
    "\n",
    "核心：基本索引及切片 / 布尔型索引及切片\n",
    "\n",
    "'''"
   ]
  },
  {
   "cell_type": "code",
   "execution_count": null,
   "metadata": {},
   "outputs": [],
   "source": []
  },
  {
   "cell_type": "code",
   "execution_count": null,
   "metadata": {},
   "outputs": [],
   "source": []
  },
  {
   "cell_type": "code",
   "execution_count": null,
   "metadata": {},
   "outputs": [],
   "source": []
  },
  {
   "cell_type": "code",
   "execution_count": null,
   "metadata": {},
   "outputs": [],
   "source": []
  }
 ],
 "metadata": {
  "kernelspec": {
   "display_name": "Python 3",
   "language": "python",
   "name": "python3"
  },
  "language_info": {
   "codemirror_mode": {
    "name": "ipython",
    "version": 3
   },
   "file_extension": ".py",
   "mimetype": "text/x-python",
   "name": "python",
   "nbconvert_exporter": "python",
   "pygments_lexer": "ipython3",
   "version": "3.7.3"
  }
 },
 "nbformat": 4,
 "nbformat_minor": 2
}
