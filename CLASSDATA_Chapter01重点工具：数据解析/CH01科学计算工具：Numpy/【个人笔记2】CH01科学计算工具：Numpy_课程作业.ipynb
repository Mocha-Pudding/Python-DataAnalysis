{
 "cells": [
  {
   "cell_type": "code",
   "execution_count": null,
   "metadata": {},
   "outputs": [],
   "source": [
    "\"\"\"\n",
    "【课程1.2  Numpy基础数据结构】 课程作业\n",
    "\n",
    "\"\"\""
   ]
  },
  {
   "cell_type": "code",
   "execution_count": 14,
   "metadata": {},
   "outputs": [
    {
     "name": "stdout",
     "output_type": "stream",
     "text": [
      "[1 2 'a' 'hello' list([1, 2, 3]) {'two': 200, 'one': 100}]\n",
      "ar1的shape为：6\n",
      "--------\n",
      "[['0' '1' '2' '3' '4' '5']\n",
      " ['a' 'b' 'c' 'd' 'e' 'f']\n",
      " ['True' 'False' 'True' 'False' 'True' 'True']]\n",
      "ar2的shape为： (3, 6)\n",
      "--------\n",
      "[['0' '1' '2' '3' '4' '5']\n",
      " ['a' 'b' 'c' 'd' 'e' 'f']\n",
      " ['True' 'False' 'True' 'False' 'True' 'True']]\n",
      "a2的shape为： (3, 6)\n",
      "--------\n"
     ]
    }
   ],
   "source": [
    "# 作业1：分别按照要求，生成一个一维数组、二维数组，并且查看其shape\n",
    "\n",
    "import numpy as np\n",
    "\n",
    "ar1 = np.array([1,2,'a','hello',[1,2,3],{'two':200,'one':100}])\n",
    "print(ar1)\n",
    "print('ar1的shape为：%s' %ar1.shape)\n",
    "print('--------')\n",
    "\n",
    "ar2 = np.array([['0','1','2','3','4','5'],\n",
    "              ['a','b','c','d','e','f'],\n",
    "              [True,False,True,False,True,True]])\n",
    "print(ar2)\n",
    "print('ar2的shape为：',ar2.shape)\n",
    "print('--------')\n",
    "\n",
    "a2 = np.array([list(range(6)),\n",
    "              list('abcdef'),\n",
    "              ['True','False','True','False','True','True']])\n",
    "print(a2)\n",
    "print('a2的shape为：',a2.shape)\n",
    "print('--------')"
   ]
  },
  {
   "cell_type": "code",
   "execution_count": 18,
   "metadata": {},
   "outputs": [
    {
     "name": "stdout",
     "output_type": "stream",
     "text": [
      "[ 5.          6.11111111  7.22222222  8.33333333  9.44444444 10.55555556\n",
      " 11.66666667 12.77777778 13.88888889 15.        ]\n",
      "[ 5  6  7  8  9 10 11 12 13 14]\n",
      "[ 5  6  7  8  9 10 11 12 13 14]\n"
     ]
    }
   ],
   "source": [
    "# 作业2：生成一个一维数组，起始值为5，终点值为15，样本数为10个\n",
    "\n",
    "ar3 = np.linspace(5,15,num=10)\n",
    "ar4 = np.linspace(5,15,num=10,endpoint=False,dtype=int)\n",
    "print(ar3)\n",
    "print(ar4)\n",
    "\n",
    "print(np.arange(5,15))"
   ]
  },
  {
   "cell_type": "code",
   "execution_count": 20,
   "metadata": {},
   "outputs": [
    {
     "name": "stdout",
     "output_type": "stream",
     "text": [
      "[[0. 0. 0. 0.]\n",
      " [0. 0. 0. 0.]\n",
      " [0. 0. 0. 0.]\n",
      " [0. 0. 0. 0.]]\n",
      "--------\n",
      "[[1. 1. 1.]\n",
      " [1. 1. 1.]]\n",
      "--------\n",
      "[[1 0 0]\n",
      " [0 1 0]\n",
      " [0 0 1]]\n",
      "--------\n"
     ]
    }
   ],
   "source": [
    "# 作业3：按照要求创建以下数组\n",
    "\n",
    "ar5 = np.zeros((4,4))\n",
    "print(ar5)\n",
    "print('--------')\n",
    "\n",
    "ar6 = np.ones((2,3))\n",
    "print(ar6)\n",
    "print('--------')\n",
    "\n",
    "ar7 = np.eye(3,dtype=int)\n",
    "print(ar7)\n",
    "print('--------')"
   ]
  },
  {
   "cell_type": "code",
   "execution_count": null,
   "metadata": {},
   "outputs": [],
   "source": [
    "'''\n",
    "【课程1.3  Numpy通用函数】 课程作业\n",
    "\n",
    "'''"
   ]
  },
  {
   "cell_type": "code",
   "execution_count": 5,
   "metadata": {},
   "outputs": [
    {
     "name": "stdout",
     "output_type": "stream",
     "text": [
      "[[ 0  1  2  3  4]\n",
      " [ 5  6  7  8  9]\n",
      " [10 11 12 13 14]\n",
      " [15 16 17 18 19]]\n",
      "--------\n",
      "[[ 0  1  2  3  4  5]\n",
      " [ 6  7  8  9 10 11]\n",
      " [12 13 14 15 16 17]\n",
      " [18 19  0  1  2  3]\n",
      " [ 4  5  6  7  8  9]]\n"
     ]
    }
   ],
   "source": [
    "# 作业1：创建一个20个元素的数组，分别改变成两个形状：(4,5),(5,6) （提示：超出范围用resize）\n",
    "\n",
    "import numpy as np\n",
    "\n",
    "ar1 = np.arange(20).reshape(4,5)\n",
    "print(ar1)\n",
    "print('--------')\n",
    "ar2 = np.resize(np.arange(20),(5,6))\n",
    "print(ar2)"
   ]
  },
  {
   "cell_type": "code",
   "execution_count": 11,
   "metadata": {},
   "outputs": [
    {
     "name": "stdout",
     "output_type": "stream",
     "text": [
      "[['0' '1' '2' '3']\n",
      " ['4' '5' '6' '7']\n",
      " ['8' '9' '10' '11']\n",
      " ['12' '13' '14' '15']]\n"
     ]
    }
   ],
   "source": [
    "# 作业2：创建一个(4,4)的数组，把其元素类型改为字符型\n",
    "\n",
    "ar3 = np.arange(16).reshape(4,4)\n",
    "print(ar3.astype(np.str))"
   ]
  },
  {
   "cell_type": "code",
   "execution_count": 27,
   "metadata": {},
   "outputs": [
    {
     "name": "stdout",
     "output_type": "stream",
     "text": [
      "创建数组为：\n",
      " [[ 0  1  2  3]\n",
      " [ 4  5  6  7]\n",
      " [ 8  9 10 11]\n",
      " [12 13 14 15]] \n",
      "--------\n",
      "计算后的数组为：\n",
      " [[100 110 120 130]\n",
      " [140 150 160 170]\n",
      " [180 190 200 210]\n",
      " [220 230 240 250]] \n",
      "--------\n",
      "result的均值为：\n",
      " 175.0 \n",
      "--------\n",
      "result求和为：\n",
      " 2800 \n",
      "--------\n",
      "result按列求和（axis=0）结果为：\n",
      " [640 680 720 760] \n",
      "--------\n",
      "result按行求和（axis=1）结果为：\n",
      " [460 620 780 940] \n",
      "--------\n"
     ]
    }
   ],
   "source": [
    "# 作业3：根据要求创建数组，运用数组的运算方法得到结果：result = ar * 10 +100，并求出result的均值及求和\n",
    "\n",
    "ar4 = np.arange(16).reshape(4,4)\n",
    "print(\"创建数组为：\\n\", ar4 ,'\\n--------')\n",
    "result = ar4 * 10 + 100\n",
    "print(\"计算后的数组为：\\n\", result, '\\n--------')\n",
    "\n",
    "print(\"result的均值为：\\n\", result.mean(), '\\n--------')\n",
    "print(\"result求和为：\\n\", result.sum(), '\\n--------')\n",
    "print(\"result按列求和（axis=0）结果为：\\n\", result.sum(axis=0), '\\n--------')\n",
    "print(\"result按行求和（axis=1）结果为：\\n\", result.sum(axis=1), '\\n--------')"
   ]
  },
  {
   "cell_type": "code",
   "execution_count": null,
   "metadata": {},
   "outputs": [],
   "source": [
    "\"\"\"\n",
    "【课程1.4  Numpy索引及切片】 课程作业\n",
    "\n",
    "\"\"\""
   ]
  },
  {
   "cell_type": "code",
   "execution_count": 32,
   "metadata": {},
   "outputs": [
    {
     "name": "stdout",
     "output_type": "stream",
     "text": [
      "[[ 0  1  2  3  4]\n",
      " [ 5  6  7  8  9]\n",
      " [10 11 12 13 14]\n",
      " [15 16 17 18 19]\n",
      " [20 21 22 23 24]]\n",
      "--------\n",
      "ar[4]的值为：\n",
      " [20 21 22 23 24] \n",
      "--------\n",
      "ar[:2,3:]的值为：\n",
      " [[3 4]\n",
      " [8 9]] \n",
      "--------\n",
      "ar[3][2]的值为：\n",
      " 17 \n",
      "--------\n"
     ]
    }
   ],
   "source": [
    "# 作业1：按照要求创建数组，通过索引，其ar[4]、ar[:2,3:]、ar[3][2]分别是多少\n",
    "\n",
    "ar = np.arange(25).reshape(5,5)\n",
    "print(ar)\n",
    "print('--------')\n",
    "print(\"ar[4]的值为：\\n\", ar[4], '\\n--------')\n",
    "print(\"ar[:2,3:]的值为：\\n\", ar[:2,3:], '\\n--------')\n",
    "print(\"ar[3][2]的值为：\\n\", ar[3][2], '\\n--------')"
   ]
  },
  {
   "cell_type": "code",
   "execution_count": 34,
   "metadata": {},
   "outputs": [
    {
     "name": "stdout",
     "output_type": "stream",
     "text": [
      "[[0 1 2 3 4]\n",
      " [5 6 7 8 9]]\n",
      "--------\n",
      "[6 7 8 9]\n"
     ]
    }
   ],
   "source": [
    "# 作业2：按照要求创建数组，筛选出元素值大于5的值并生成新的数组\n",
    "\n",
    "ar = np.arange(10).reshape(2,5)\n",
    "print(ar)\n",
    "print('--------')\n",
    "print(ar[ar>5])"
   ]
  },
  {
   "cell_type": "code",
   "execution_count": null,
   "metadata": {},
   "outputs": [],
   "source": [
    "'''\n",
    "【课程1.5  Numpy随机数】 课程作业\n",
    "\n",
    "'''"
   ]
  },
  {
   "cell_type": "code",
   "execution_count": 16,
   "metadata": {},
   "outputs": [
    {
     "name": "stdout",
     "output_type": "stream",
     "text": [
      "[[ 0.  1.  2.  3.  4.]\n",
      " [ 5.  6.  7.  8.  9.]\n",
      " [10. 11. 12. 13. 14.]\n",
      " [15. 16. 17. 18. 19.]\n",
      " [20. 21. 22. 23. 24.]] \n",
      "--------\n",
      "[[ 0.90893937  0.04714939  2.          3.          4.        ]\n",
      " [ 0.6623947   0.66541221  7.          8.          9.        ]\n",
      " [10.         11.         12.         13.         14.        ]\n",
      " [15.         16.         17.         18.         19.        ]\n",
      " [20.         21.         22.         23.         24.        ]] \n",
      "--------\n",
      "[[ 0.90893937  0.04714939  2.          3.          4.        ]\n",
      " [ 0.6623947   0.66541221  7.          8.          9.        ]\n",
      " [ 0.34788744  0.18272902  0.39716746  0.16092101 14.        ]\n",
      " [ 0.1103495   0.97631177  0.09421293  0.550767   19.        ]\n",
      " [ 0.50776045  0.44308069  0.89071909  0.57464891 24.        ]]\n"
     ]
    }
   ],
   "source": [
    "# 作业1：请按照要求创建数组ar，再将ar[:2,:2]的值改为[0,1)的随机数\n",
    "import numpy as np\n",
    "\n",
    "ar = np.arange(25, dtype=np.float).reshape(5,5)\n",
    "print(ar, '\\n--------')\n",
    "ar[:2,:2] = np.random.rand(2,2)\n",
    "print(ar, '\\n--------')\n",
    "ar[2:,:4] = np.random.rand(3,4)\n",
    "print(ar)"
   ]
  },
  {
   "cell_type": "code",
   "execution_count": 24,
   "metadata": {},
   "outputs": [
    {
     "name": "stdout",
     "output_type": "stream",
     "text": [
      "[[ 0.03685813  2.04569326 -1.67297301 -1.34051808  0.05878568]\n",
      " [-0.63037269  0.81008954 -0.10644355  1.48586021 -1.03063815]] \n",
      "------\n",
      "[[-2.25469335 -0.83955778  0.45047912  1.3897414  -0.73533578]\n",
      " [ 1.28910532  1.25287133 -0.45835744  0.05968113  0.46740331]]\n",
      "--------------------------------------------------------\n",
      "[[ 0.24063038  0.9983178  -0.6111692   0.13590039 -0.97633155]\n",
      " [-0.5813925  -0.2183321   1.27370989  3.43958297 -1.59702897]] \n",
      "--------\n",
      "[[ 2.24942876  1.37488044  1.00323992 -1.04655128  1.14442449]\n",
      " [ 0.18560694 -0.83250358 -0.58388486 -0.40469816  1.0255632 ]] \n",
      "--------\n",
      "[[ 0.24063038  0.9983178  -0.6111692   0.13590039 -0.97633155]\n",
      " [-0.5813925  -0.2183321   1.27370989  3.43958297 -1.59702897]\n",
      " [ 2.24942876  1.37488044  1.00323992 -1.04655128  1.14442449]\n",
      " [ 0.18560694 -0.83250358 -0.58388486 -0.40469816  1.0255632 ]]\n"
     ]
    }
   ],
   "source": [
    "# 作业2： 创建2个包含10个元素的正太分布一维数组\n",
    "\n",
    "print(np.random.randn(2,5),'\\n------')\n",
    "print(np.random.randn(2,5))\n",
    "print('--------------------------------------------------------')\n",
    "ar1 = np.random.normal(size=(2,5))\n",
    "ar2 = np.random.normal(size=(2,5))\n",
    "print(ar1, '\\n--------')\n",
    "print(ar2, '\\n--------')\n",
    "print(np.vstack((ar1,ar2)))"
   ]
  },
  {
   "cell_type": "code",
   "execution_count": null,
   "metadata": {},
   "outputs": [],
   "source": [
    "\"\"\"\n",
    "【课程1.6  Numpy数据的输入输出】 课程作业\n",
    "\n",
    "\"\"\""
   ]
  },
  {
   "cell_type": "code",
   "execution_count": 29,
   "metadata": {},
   "outputs": [
    {
     "name": "stdout",
     "output_type": "stream",
     "text": [
      "[[45 40 90 96 33 72 45 91 86 36]\n",
      " [33 75 66 80 76 19 85  5 20  7]\n",
      " [70 84  8 14 41  8 58 33 80 51]\n",
      " [21 51 29 32 23 45 95 35 72 32]\n",
      " [63  4 47 67 91 23 36 84 17 11]\n",
      " [40 32 63 40 89 84 30 20 62 26]\n",
      " [65 17 32 13 39 30 48  6  7 83]\n",
      " [38 64 54 85 85 38 42 13 50 94]\n",
      " [42 23 21 79 59 17 13  3 89 45]\n",
      " [55 76 66 76  9 57  3 21 55 32]] \n",
      "------------\n",
      "finished!\n"
     ]
    }
   ],
   "source": [
    "# 作业1：创建一个10*10的整数随机数组，取值范围为0-100，并存为txt文件，用逗号分开\n",
    "\n",
    "ar = np.random.randint(100, size=(10,10))\n",
    "print(ar, '\\n------------')\n",
    "\n",
    "np.savetxt('homework_test.txt', ar,delimiter=',', fmt='%i')\n",
    "print('finished!')"
   ]
  },
  {
   "cell_type": "code",
   "execution_count": null,
   "metadata": {},
   "outputs": [],
   "source": []
  }
 ],
 "metadata": {
  "kernelspec": {
   "display_name": "Python 3",
   "language": "python",
   "name": "python3"
  },
  "language_info": {
   "codemirror_mode": {
    "name": "ipython",
    "version": 3
   },
   "file_extension": ".py",
   "mimetype": "text/x-python",
   "name": "python",
   "nbconvert_exporter": "python",
   "pygments_lexer": "ipython3",
   "version": "3.7.3"
  }
 },
 "nbformat": 4,
 "nbformat_minor": 2
}
