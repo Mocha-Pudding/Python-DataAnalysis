{
 "cells": [
  {
   "cell_type": "code",
   "execution_count": null,
   "metadata": {},
   "outputs": [],
   "source": [
    "\"\"\"\n",
    "【课程1.2  Numpy基础数据结构】 课程作业\n",
    "\n",
    "\"\"\""
   ]
  },
  {
   "cell_type": "code",
   "execution_count": 14,
   "metadata": {},
   "outputs": [
    {
     "name": "stdout",
     "output_type": "stream",
     "text": [
      "[1 2 'a' 'hello' list([1, 2, 3]) {'two': 200, 'one': 100}]\n",
      "ar1的shape为：6\n",
      "--------\n",
      "[['0' '1' '2' '3' '4' '5']\n",
      " ['a' 'b' 'c' 'd' 'e' 'f']\n",
      " ['True' 'False' 'True' 'False' 'True' 'True']]\n",
      "ar2的shape为： (3, 6)\n",
      "--------\n",
      "[['0' '1' '2' '3' '4' '5']\n",
      " ['a' 'b' 'c' 'd' 'e' 'f']\n",
      " ['True' 'False' 'True' 'False' 'True' 'True']]\n",
      "a2的shape为： (3, 6)\n",
      "--------\n"
     ]
    }
   ],
   "source": [
    "# 作业1：分别按照要求，生成一个一维数组、二维数组，并且查看其shape\n",
    "\n",
    "import numpy as np\n",
    "\n",
    "ar1 = np.array([1,2,'a','hello',[1,2,3],{'two':200,'one':100}])\n",
    "print(ar1)\n",
    "print('ar1的shape为：%s' %ar1.shape)\n",
    "print('--------')\n",
    "\n",
    "ar2 = np.array([['0','1','2','3','4','5'],\n",
    "              ['a','b','c','d','e','f'],\n",
    "              [True,False,True,False,True,True]])\n",
    "print(ar2)\n",
    "print('ar2的shape为：',ar2.shape)\n",
    "print('--------')\n",
    "\n",
    "a2 = np.array([list(range(6)),\n",
    "              list('abcdef'),\n",
    "              ['True','False','True','False','True','True']])\n",
    "print(a2)\n",
    "print('a2的shape为：',a2.shape)\n",
    "print('--------')"
   ]
  },
  {
   "cell_type": "code",
   "execution_count": null,
   "metadata": {},
   "outputs": [],
   "source": [
    "# 作业2：生成一个一维数组，起始值为5，终点值为15，样本数为10个\n",
    "\n"
   ]
  },
  {
   "cell_type": "code",
   "execution_count": null,
   "metadata": {},
   "outputs": [],
   "source": [
    "# 作业3：按照要求创建以下数组\n",
    "\n"
   ]
  },
  {
   "cell_type": "code",
   "execution_count": null,
   "metadata": {},
   "outputs": [],
   "source": [
    "'''\n",
    "【课程1.3  Numpy通用函数】 课程作业\n",
    "\n",
    "'''"
   ]
  },
  {
   "cell_type": "code",
   "execution_count": null,
   "metadata": {},
   "outputs": [],
   "source": [
    "# 作业1：创建一个20个元素的数组，分别改变成两个形状：(4,5),(5,6) （提示：超出范围用resize）\n",
    "\n"
   ]
  },
  {
   "cell_type": "code",
   "execution_count": null,
   "metadata": {},
   "outputs": [],
   "source": [
    "# 作业2：创建一个(4,4)的数组，把其元素类型改为字符型\n",
    "\n"
   ]
  },
  {
   "cell_type": "code",
   "execution_count": null,
   "metadata": {},
   "outputs": [],
   "source": [
    "# 作业3：根据要求创建数组，运用数组的运算方法得到结果：result = ar * 10 +100，并求出result的均值及求和\n",
    "\n"
   ]
  },
  {
   "cell_type": "code",
   "execution_count": null,
   "metadata": {},
   "outputs": [],
   "source": [
    "\"\"\"\n",
    "【课程1.4  Numpy索引及切片】 课程作业\n",
    "\n",
    "\"\"\""
   ]
  },
  {
   "cell_type": "code",
   "execution_count": null,
   "metadata": {},
   "outputs": [],
   "source": [
    "# 作业1：按照要求创建数组，通过索引，其ar[4]、ar[:2,3:]、ar[3][2]分别是多少\n",
    "\n"
   ]
  },
  {
   "cell_type": "code",
   "execution_count": null,
   "metadata": {},
   "outputs": [],
   "source": [
    "# 作业2：按照要求创建数组，筛选出元素值大于5的值并生成新的数组\n",
    "\n"
   ]
  },
  {
   "cell_type": "code",
   "execution_count": null,
   "metadata": {},
   "outputs": [],
   "source": [
    "'''\n",
    "【课程1.5  Numpy随机数】 课程作业\n",
    "\n",
    "'''"
   ]
  },
  {
   "cell_type": "code",
   "execution_count": null,
   "metadata": {},
   "outputs": [],
   "source": [
    "# 作业1：请按照要求创建数组ar，再将ar[:2,:2]的值改为[0,1)的随机数\n",
    "\n"
   ]
  },
  {
   "cell_type": "code",
   "execution_count": null,
   "metadata": {},
   "outputs": [],
   "source": [
    "# 作业2： 创建2个包含10个元素的正太分布一维数组\n",
    "\n"
   ]
  },
  {
   "cell_type": "code",
   "execution_count": null,
   "metadata": {},
   "outputs": [],
   "source": [
    "\"\"\"\n",
    "【课程1.6  Numpy数据的输入输出】 课程作业\n",
    "\n",
    "\"\"\""
   ]
  },
  {
   "cell_type": "code",
   "execution_count": null,
   "metadata": {},
   "outputs": [],
   "source": [
    "# 作业1：创建一个10*10的整数随机数组，取值范围为0-100，并存为txt文件，用逗号分开\n",
    "\n"
   ]
  },
  {
   "cell_type": "code",
   "execution_count": null,
   "metadata": {},
   "outputs": [],
   "source": []
  }
 ],
 "metadata": {
  "kernelspec": {
   "display_name": "Python 3",
   "language": "python",
   "name": "python3"
  },
  "language_info": {
   "codemirror_mode": {
    "name": "ipython",
    "version": 3
   },
   "file_extension": ".py",
   "mimetype": "text/x-python",
   "name": "python",
   "nbconvert_exporter": "python",
   "pygments_lexer": "ipython3",
   "version": "3.7.3"
  }
 },
 "nbformat": 4,
 "nbformat_minor": 2
}
