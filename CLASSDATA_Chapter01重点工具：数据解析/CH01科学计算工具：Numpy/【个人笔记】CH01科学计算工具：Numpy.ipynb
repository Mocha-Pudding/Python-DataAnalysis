{
 "cells": [
  {
   "cell_type": "code",
   "execution_count": null,
   "metadata": {
    "collapsed": true
   },
   "outputs": [],
   "source": [
    "'''\n",
    "【课程1.2】  Numpy基础数据结构\n",
    "\n",
    "NumPy数组是一个多维数组对象，称为ndarray。其由两部分组成：\n",
    "① 实际的数据\n",
    "② 描述这些数据的元数据\n",
    "\n",
    "'''"
   ]
  },
  {
   "cell_type": "code",
   "execution_count": 14,
   "metadata": {},
   "outputs": [
    {
     "name": "stdout",
     "output_type": "stream",
     "text": [
      "[1, 2, 3, 4, 5, 6]\n",
      "[[ 1  2  3  4  5  6]\n",
      " [22 33 44 55 66 88]] <class 'numpy.ndarray'>\n",
      "2\n",
      "(2, 6)\n",
      "12\n",
      "<class 'numpy.ndarray'> int32\n",
      "4\n",
      "<memory at 0x000000000745D8B8>\n",
      "------------------------------\n",
      "[[ 1  2  3  4  5  6]\n",
      " [22 33 44 55 66 88]]\n"
     ]
    },
    {
     "data": {
      "text/plain": [
       "array([[ 1,  2,  3,  4,  5,  6],\n",
       "       [22, 33, 44, 55, 66, 88]])"
      ]
     },
     "execution_count": 14,
     "metadata": {},
     "output_type": "execute_result"
    }
   ],
   "source": [
    "import numpy as np\n",
    "\n",
    "ar = np.array([[1,2,3,4,5,6],[22,33,44,55,66,88]])\n",
    "print([1,2,3,4,5,6])\n",
    "print(ar,type(ar))\n",
    "print(ar.ndim)   # 轴数\n",
    "print(ar.shape)   # 数组的维度，对于n行m列的数组，shape为（n，m），这里是2行6列\n",
    "print(ar.size)   # 元素的个数\n",
    "print(type(ar),ar.dtype)\n",
    "print(ar.itemsize)\n",
    "print(ar.data)\n",
    "print('-'*30)\n",
    "print(ar)\n",
    "ar"
   ]
  },
  {
   "cell_type": "code",
   "execution_count": 1,
   "metadata": {},
   "outputs": [
    {
     "name": "stdout",
     "output_type": "stream",
     "text": [
      "[[1 2 3 4 5 6]\n",
      " [2 3 4 5 6 7]\n",
      " [3 4 5 6 7 8]] <class 'numpy.ndarray'>\n",
      "[1, 2, 3, 4, 5, 6] <class 'list'>\n",
      "2\n",
      "(3, 6)\n"
     ]
    }
   ],
   "source": [
    "import numpy as np\n",
    "\n",
    "ar = np.array([[1,2,3,4,5,6], [2,3,4,5,6,7], [3,4,5,6,7,8]])\n",
    "list = [1,2,3,4,5,6]\n",
    "print(ar, type(ar))\n",
    "print(list, type(list))\n",
    "\n",
    "print(ar.ndim)   # 轴\n",
    "print(ar.shape)   # 形状：几行几列\n"
   ]
  },
  {
   "cell_type": "code",
   "execution_count": 33,
   "metadata": {},
   "outputs": [
    {
     "name": "stdout",
     "output_type": "stream",
     "text": [
      "[0 1 2 3 4 5 6 7 8 9]\n",
      "[0 1 2 3 4 5 6 7 8 9]\n",
      "[1 2 3 4 5 6]\n",
      "[[1 2 3 4 5]\n",
      " [2 3 4 5 6]]\n",
      "[list([1, 2, 3, 4, 5]) list(['a', 'b', 'c', 'd', 'e', 'f'])] 1\n",
      "[[ 0.52840934  0.14935172  0.51515262  0.7890446   0.68463136]\n",
      " [ 0.11247778  0.96305012  0.53876424  0.40503411  0.92404501]]\n"
     ]
    }
   ],
   "source": [
    "# 创建数组\n",
    "\n",
    "ar1 = np.array(range(10))\n",
    "ar2 = np.arange(10)\n",
    "ar3 = np.array([1,2,3,4,5,6])\n",
    "ar4 = np.array([[1,2,3,4,5],[2,3,4,5,6]])\n",
    "ar5 = np.array([[1,2,3,4,5],['a','b','c','d','e','f']])\n",
    "print(ar1)\n",
    "print(ar2)\n",
    "print(ar3)\n",
    "print(ar4)\n",
    "print(ar5,ar5.ndim)\n",
    "\n",
    "print(np.random.rand(10).reshape(2,5))"
   ]
  },
  {
   "cell_type": "code",
   "execution_count": 25,
   "metadata": {},
   "outputs": [
    {
     "name": "stdout",
     "output_type": "stream",
     "text": [
      "[0 1 2 3 4 5 6 7 8 9]\n",
      "(10,)\n",
      "10\n",
      "<class 'numpy.ndarray'> int32\n",
      "[0 1 2 3 4 5 6 7 8 9]\n",
      "[2 3 4 5 6 7 8]\n",
      "[['3' '4' '5' '6' '7' '8' '9']\n",
      " ['a' 'b' 'c' 'd' 'e' 'f' 'g']]\n",
      "2\n",
      "[list([1, 2, 3, 4, 5, 6]) list(['a', 'b', 'c', 'd', 'e'])]\n",
      "1\n",
      "[[0.46578633 0.3034798  0.59053782 0.16615444 0.02622011]\n",
      " [0.3287519  0.79788619 0.02716068 0.83589402 0.03858231]]\n"
     ]
    },
    {
     "data": {
      "text/plain": [
       "array([0, 1, 2, 3, 4, 5, 6, 7, 8, 9])"
      ]
     },
     "execution_count": 25,
     "metadata": {},
     "output_type": "execute_result"
    }
   ],
   "source": [
    "ar1 = np.array(range(10))\n",
    "ar2 = np.arange(10)\n",
    "ar3 = np.array([2,3,4,5,6,7,8])\n",
    "\n",
    "ar4 = np.array([[3,4,5,6,7,8,9], ['a', 'b', 'c', 'd', 'e', 'f', 'g']])    # 个数不一样，二维数组\n",
    "ar5 = np.array([[1,2,3,4,5,6], ['a', 'b', 'c', 'd', 'e']])   # 保持个数一样，一维数组\n",
    "print(ar1)\n",
    "print(ar1.shape)\n",
    "print(ar1.size)\n",
    "print(type(ar1),ar1.dtype)\n",
    "\n",
    "print(ar2)\n",
    "print(ar3)\n",
    "print(ar4)\n",
    "print(ar4.ndim)\n",
    "print(ar5)\n",
    "print(ar5.ndim)\n",
    "\n",
    "print(np.random.rand(10).reshape(2,5))    # 预告：随机生成一个随机数数组\n",
    "\n",
    "ar1"
   ]
  },
  {
   "cell_type": "code",
   "execution_count": 35,
   "metadata": {},
   "outputs": [
    {
     "name": "stdout",
     "output_type": "stream",
     "text": [
      "[0 1 2 3 4 5 6 7 8 9]\n",
      "[ 0.  1.  2.  3.  4.  5.  6.  7.  8.  9.]\n",
      "[ 5  6  7  8  9 10 11]\n",
      "[  5.   7.   9.  11.]\n",
      "[   0    1    2 ..., 9997 9998 9999]\n"
     ]
    }
   ],
   "source": [
    "# 创建数组：arange()，类似range()，在给定间隔内返回均匀间隔的值。\n",
    "\n",
    "print(np.arange(10))    # 返回0-9，整型\n",
    "print(np.arange(10.0))  # 返回0.0-9.0，浮点型\n",
    "print(np.arange(5,12))  # 返回5-11   取值：“前闭后开”的区间\n",
    "print(np.arange(5.0,12,2))  # 返回5.0-12.0，步长为2\n",
    "print(np.arange(10000))  # 如果数组太大而无法打印，NumPy会自动跳过数组的中心部分，并只打印边角："
   ]
  },
  {
   "cell_type": "code",
   "execution_count": 48,
   "metadata": {},
   "outputs": [
    {
     "name": "stdout",
     "output_type": "stream",
     "text": [
      "[ 10.          10.52631579  11.05263158  11.57894737  12.10526316\n",
      "  12.63157895  13.15789474  13.68421053  14.21052632  14.73684211\n",
      "  15.26315789  15.78947368  16.31578947  16.84210526  17.36842105\n",
      "  17.89473684  18.42105263  18.94736842  19.47368421  20.        ]\n",
      "--------------------------------------------------------------------------------\n",
      "[ 10.   10.5  11.   11.5  12.   12.5  13.   13.5  14.   14.5  15.   15.5\n",
      "  16.   16.5  17.   17.5  18.   18.5  19.   19.5  20. ]\n",
      "--------------------------------------------------------------------------------\n",
      "[ 10.          10.47619048  10.95238095  11.42857143  11.9047619\n",
      "  12.38095238  12.85714286  13.33333333  13.80952381  14.28571429\n",
      "  14.76190476  15.23809524  15.71428571  16.19047619  16.66666667\n",
      "  17.14285714  17.61904762  18.0952381   18.57142857  19.04761905\n",
      "  19.52380952]\n",
      "--------------------------------------------------------------------------------\n",
      "(array([ 10. ,  10.5,  11. ,  11.5,  12. ,  12.5,  13. ,  13.5,  14. ,\n",
      "        14.5,  15. ,  15.5,  16. ,  16.5,  17. ,  17.5,  18. ,  18.5,\n",
      "        19. ,  19.5,  20. ]), 0.5)\n",
      "<class 'tuple'>\n",
      "[ 10.   10.5  11.   11.5  12.   12.5  13.   13.5  14.   14.5  15.   15.5\n",
      "  16.   16.5  17.   17.5  18.   18.5  19.   19.5  20. ]\n"
     ]
    }
   ],
   "source": [
    "# 创建数组：linspace():返回在间隔[开始，停止]上计算的num个均匀间隔的样本。\n",
    "\n",
    "print(np.linspace(10,20,num = 20))\n",
    "print('-'*80)\n",
    "print(np.linspace(10,20,num = 21))\n",
    "print('-'*80)\n",
    "print(np.linspace(10,20,num = 21, endpoint=False))\n",
    "print('-'*80)\n",
    "s = np.linspace(10,20,num = 21, retstep = True)\n",
    "print(s)\n",
    "print(type(s))\n",
    "print(s[0])"
   ]
  },
  {
   "cell_type": "code",
   "execution_count": 34,
   "metadata": {},
   "outputs": [
    {
     "name": "stdout",
     "output_type": "stream",
     "text": [
      "[20.         21.11111111 22.22222222 23.33333333 24.44444444 25.55555556\n",
      " 26.66666667 27.77777778 28.88888889 30.        ]\n",
      "[20. 21. 22. 23. 24. 25. 26. 27. 28. 29. 30.]\n",
      "[20.         20.52631579 21.05263158 21.57894737 22.10526316 22.63157895\n",
      " 23.15789474 23.68421053 24.21052632 24.73684211 25.26315789 25.78947368\n",
      " 26.31578947 26.84210526 27.36842105 27.89473684 28.42105263 28.94736842\n",
      " 29.47368421 30.        ]\n",
      "[20.  20.5 21.  21.5 22.  22.5 23.  23.5 24.  24.5 25.  25.5 26.  26.5\n",
      " 27.  27.5 28.  28.5 29.  29.5 30. ]\n"
     ]
    }
   ],
   "source": [
    "print(np.linspace(20,30,num=10))\n",
    "print(np.linspace(20,30,num=11))\n",
    "print(np.linspace(20,30,num=20))\n",
    "print(np.linspace(20,30,num=21))"
   ]
  },
  {
   "cell_type": "code",
   "execution_count": 61,
   "metadata": {},
   "outputs": [
    {
     "name": "stdout",
     "output_type": "stream",
     "text": [
      "[ 0.  0.  0.  0.  0.  0.  0.  0.  0.  0.]\n",
      "[[ 0.  0.  0.  0.  0.  0.]\n",
      " [ 0.  0.  0.  0.  0.  0.]\n",
      " [ 0.  0.  0.  0.  0.  0.]]\n",
      "[[0 0 0 0 0 0]\n",
      " [0 0 0 0 0 0]\n",
      " [0 0 0 0 0 0]]\n",
      "--------------------------------------------------------------------------------\n",
      "[[ 0  1  2  3  4  5  6  7  8  9]\n",
      " [10 11 12 13 14 15 16 17 18 19]]\n",
      "[[0 0 0 0 0 0 0 0 0 0]\n",
      " [0 0 0 0 0 0 0 0 0 0]]\n",
      "--------------------------------------------------------------------------------\n",
      "[ 1.  1.  1.  1.  1.  1.  1.  1.  1.]\n",
      "[[[ 1.  1.  1.  1.]\n",
      "  [ 1.  1.  1.  1.]\n",
      "  [ 1.  1.  1.  1.]]\n",
      "\n",
      " [[ 1.  1.  1.  1.]\n",
      "  [ 1.  1.  1.  1.]\n",
      "  [ 1.  1.  1.  1.]]]\n",
      "[ 1.  1.  1.  1.  1.  1.  1.  1.  1.]\n"
     ]
    }
   ],
   "source": [
    "# 创建数组：zeros()/zeros_like()/ones()/ones_like()\n",
    "\n",
    "print(np.zeros(10))\n",
    "print(np.zeros((3,6)))\n",
    "print(np.zeros((3,6), dtype=np.int))\n",
    "print('-'*80)\n",
    "\n",
    "ar = np.array([list(range(10)),list(range(10,20))])\n",
    "print(ar)\n",
    "\n",
    "print(np.zeros_like(ar))\n",
    "print('-'*80)\n",
    "\n",
    "ar5 = np.ones(9)   #用1来填充\n",
    "ar6 = np.ones((2,3,4))\n",
    "ar7 = np.ones_like(ar5)\n",
    "print(ar5)\n",
    "print(ar6)\n",
    "print(ar7)\n",
    "# ones()/ones_like()和zeros()/zeros_like()一样，只是填充为1"
   ]
  },
  {
   "cell_type": "code",
   "execution_count": 62,
   "metadata": {},
   "outputs": [
    {
     "name": "stdout",
     "output_type": "stream",
     "text": [
      "[[ 1.  0.  0.  0.  0.]\n",
      " [ 0.  1.  0.  0.  0.]\n",
      " [ 0.  0.  1.  0.  0.]\n",
      " [ 0.  0.  0.  1.  0.]\n",
      " [ 0.  0.  0.  0.  1.]]\n"
     ]
    }
   ],
   "source": [
    "# 创建数组：eye()\n",
    "\n",
    "print(np.eye(5))\n",
    "# 创建一个正方的N*N的单位矩阵，对角线值为1，其余为0"
   ]
  },
  {
   "cell_type": "code",
   "execution_count": null,
   "metadata": {
    "collapsed": true
   },
   "outputs": [],
   "source": [
    "'''\n",
    "【课程1.3】  Numpy通用函数\n",
    "\n",
    "基本操作\n",
    "\n",
    "'''"
   ]
  },
  {
   "cell_type": "code",
   "execution_count": 1,
   "metadata": {},
   "outputs": [
    {
     "name": "stdout",
     "output_type": "stream",
     "text": [
      "[0 1 2 3 4 5 6 7 8 9]\n",
      "[[ 0.  0.  0.  0.  0.]\n",
      " [ 0.  0.  0.  0.  0.]]\n",
      "[ 0  1  2  3  4  5  6  7  8  9 10 11 12 13 14 15]\n",
      "[0 1 2 3 4 5 6 7 8 9]\n",
      "[[ 0.  0.]\n",
      " [ 0.  0.]\n",
      " [ 0.  0.]\n",
      " [ 0.  0.]\n",
      " [ 0.  0.]]\n",
      "--------------------------------------------------------------------------------\n",
      "[[0 1]\n",
      " [2 3]\n",
      " [4 5]\n",
      " [6 7]\n",
      " [8 9]]\n",
      "[[ 0.  0.]\n",
      " [ 0.  0.]\n",
      " [ 0.  0.]\n",
      " [ 0.  0.]\n",
      " [ 0.  0.]]\n",
      "[[ 0  1  2  3  4  5  6  7]\n",
      " [ 8  9 10 11 12 13 14 15]]\n",
      "[[ 1.  1.  1.  1.  1.  1.  1.  1.  1.  1.  1.  1.  1.  1.  1.  1.  1.  1.\n",
      "   1.  1.]\n",
      " [ 1.  1.  1.  1.  1.  1.  1.  1.  1.  1.  1.  1.  1.  1.  1.  1.  1.  1.\n",
      "   1.  1.]\n",
      " [ 1.  1.  1.  1.  1.  1.  1.  1.  1.  1.  1.  1.  1.  1.  1.  1.  1.  1.\n",
      "   1.  1.]\n",
      " [ 1.  1.  1.  1.  1.  1.  1.  1.  1.  1.  1.  1.  1.  1.  1.  1.  1.  1.\n",
      "   1.  1.]\n",
      " [ 1.  1.  1.  1.  1.  1.  1.  1.  1.  1.  1.  1.  1.  1.  1.  1.  1.  1.\n",
      "   1.  1.]]\n",
      "[[ 0  1  2  3  4  5  6  7]\n",
      " [ 8  9 10 11 12 13 14 15]]\n",
      "--------------------------------------------------------------------------------\n",
      "[[0 1 2 3]\n",
      " [4 0 1 2]\n",
      " [3 4 0 1]]\n"
     ]
    }
   ],
   "source": [
    "# 数组形状：.T/.reshape()/.resize()\n",
    "\n",
    "import numpy as np\n",
    "\n",
    "ar1 = np.arange(10)\n",
    "ar2 = np.zeros((2,5))\n",
    "ar3 = np.arange(16)\n",
    "print(ar1)\n",
    "print(ar2)\n",
    "print(ar3)\n",
    "print(ar1.T)\n",
    "print(ar2.T)\n",
    "print('-'*80)\n",
    "# .T方法：转置，例如原shape为(3,4)/(2,3,4)，转置结果为(4,3)/(4,3,2) → 所以一维数组转置后结果不变\n",
    "\n",
    "print(ar1.reshape(5,2))\n",
    "print(ar2.reshape(5,2))\n",
    "print(ar3.reshape(2,8))\n",
    "print(np.ones((10,10)).reshape((5,20)))\n",
    "print(np.reshape(np.arange(16),(2,8)))\n",
    "print('-'*80)\n",
    "\n",
    "print(np.resize(np.arange(5),(3,4)))"
   ]
  },
  {
   "cell_type": "code",
   "execution_count": 2,
   "metadata": {},
   "outputs": [
    {
     "name": "stdout",
     "output_type": "stream",
     "text": [
      "[[ 0.  0.  0.  0.  0.]\n",
      " [ 0.  0.  0.  0.  0.]]\n",
      "--------------------------------------------------------------------------------\n",
      "[ 0.  0.  0.  0.  0.  0.  0.  0.  0.  0.]\n",
      "[[ 0.  0.  0.  0.  0.]\n",
      " [ 0.  0.  0.  0.  0.]]\n"
     ]
    }
   ],
   "source": [
    "ar4 = np.zeros((2,5))\n",
    "print(ar4)\n",
    "print('-'*80)\n",
    "print(ar4.reshape((10)))\n",
    "print(ar4)"
   ]
  },
  {
   "cell_type": "code",
   "execution_count": 3,
   "metadata": {},
   "outputs": [
    {
     "name": "stdout",
     "output_type": "stream",
     "text": [
      "True\n",
      "[  0   1 100   3   4   5   6   7   8   9] [  0   1 100   3   4   5   6   7   8   9]\n",
      "[  0   1 100  88   4   5   6   7   8   9] [  0   1 100   3   4   5   6   7   8   9]\n"
     ]
    }
   ],
   "source": [
    "# 数组的复制\n",
    "\n",
    "ar1 = np.arange(10)\n",
    "ar2 = ar1\n",
    "print(ar1 is ar2)\n",
    "ar1[2] = 100\n",
    "ar1\n",
    "print(ar1,ar2)\n",
    "ar3 = ar1.copy()\n",
    "ar1[3] = 88\n",
    "print(ar1,ar3)"
   ]
  },
  {
   "cell_type": "code",
   "execution_count": 4,
   "metadata": {},
   "outputs": [
    {
     "name": "stdout",
     "output_type": "stream",
     "text": [
      "[ 0.  1.  2.  3.  4.  5.  6.  7.  8.  9.] float64\n",
      "[0 1 2 3 4 5 6 7 8 9] int64\n"
     ]
    }
   ],
   "source": [
    "# 数组类型转换：.astype()\n",
    "\n",
    "ar1 = np.arange(10,dtype=float)\n",
    "ar2 = ar1.astype(np.int64)\n",
    "print(ar1,ar1.dtype)\n",
    "print(ar2,ar2.dtype)"
   ]
  },
  {
   "cell_type": "code",
   "execution_count": 9,
   "metadata": {},
   "outputs": [
    {
     "name": "stdout",
     "output_type": "stream",
     "text": [
      "[0 1 2 3 4]\n",
      "[5 6 7 8 9]\n",
      "[0 1 2 3 4 5 6 7 8 9]\n",
      "[[0 1 2 3 4]\n",
      " [5 6 7 8 9]]\n",
      "--------------------------------------------------------------------------------\n",
      "[[1]\n",
      " [2]\n",
      " [3]]\n",
      "[['a']\n",
      " ['b']\n",
      " ['c']]\n",
      "[['1' 'a']\n",
      " ['2' 'b']\n",
      " ['3' 'c']]\n",
      "[['1']\n",
      " ['2']\n",
      " ['3']\n",
      " ['a']\n",
      " ['b']\n",
      " ['c']]\n",
      "--------------------------------------------------------------------------------\n",
      "[0 1 2 3 4 5]\n",
      "[ 6  7  8  9 10 11]\n",
      "[[ 0  1  2  3  4  5]\n",
      " [ 6  7  8  9 10 11]]\n",
      "[[ 0  6]\n",
      " [ 1  7]\n",
      " [ 2  8]\n",
      " [ 3  9]\n",
      " [ 4 10]\n",
      " [ 5 11]]\n"
     ]
    }
   ],
   "source": [
    "# 数组堆叠\n",
    "\n",
    "a = np.arange(5)\n",
    "b = np.arange(5,10)\n",
    "print(a)\n",
    "print(b)\n",
    "c = np.hstack((a,b))   #横向连接\n",
    "print(c)\n",
    "d = np.vstack((a,b))   #竖向链接\n",
    "print(d)\n",
    "print('-'*80)\n",
    "\n",
    "e = np.array(([1],[2],[3]))\n",
    "f =  np.array((['a'],['b'],['c']))\n",
    "print(e)\n",
    "print(f)\n",
    "g = np.hstack((e,f))   #横向链接\n",
    "print(g)\n",
    "g = np.vstack((e,f))   #竖向链接\n",
    "print(g)\n",
    "print('-'*80)\n",
    "\n",
    "j = np.arange(6)\n",
    "k = np.arange(6,12)\n",
    "print(j)\n",
    "print(k)\n",
    "h1 = np.stack((j,k))   # 轴参数默认为axis=0 纵向链接\n",
    "h2 = np.stack((j,k),axis=1)  #axis=1 为横向连接\n",
    "print(h1)\n",
    "print(h2)"
   ]
  },
  {
   "cell_type": "code",
   "execution_count": 16,
   "metadata": {},
   "outputs": [
    {
     "name": "stdout",
     "output_type": "stream",
     "text": [
      "[[ 0  1  2  3]\n",
      " [ 4  5  6  7]\n",
      " [ 8  9 10 11]\n",
      " [12 13 14 15]]\n",
      "[array([[ 0,  1],\n",
      "       [ 4,  5],\n",
      "       [ 8,  9],\n",
      "       [12, 13]]), array([[ 2,  3],\n",
      "       [ 6,  7],\n",
      "       [10, 11],\n",
      "       [14, 15]])]\n",
      "[array([[0, 1, 2, 3]]), array([[4, 5, 6, 7]]), array([[ 8,  9, 10, 11]]), array([[12, 13, 14, 15]])]\n"
     ]
    }
   ],
   "source": [
    "# 数组拆分 \n",
    "\n",
    "ar = np.arange(16).reshape(4,4)\n",
    "print(ar)\n",
    "print(np.hsplit(ar,2))\n",
    "print(np.vsplit(ar,4))"
   ]
  },
  {
   "cell_type": "code",
   "execution_count": 20,
   "metadata": {},
   "outputs": [
    {
     "name": "stdout",
     "output_type": "stream",
     "text": [
      "[[0 1 2]\n",
      " [3 4 5]]\n",
      "-------------------\n",
      "[[10 11 12]\n",
      " [13 14 15]]\n",
      "[[ 0  2  4]\n",
      " [ 6  8 10]]\n",
      "[[ 1.          0.5         0.33333333]\n",
      " [ 0.25        0.2         0.16666667]]\n",
      "[[ 0.          1.          1.41421356]\n",
      " [ 1.73205081  2.          2.23606798]]\n",
      "-------------------\n",
      "2.5\n",
      "5\n",
      "0\n",
      "1.70782512766\n",
      "2.91666666667\n",
      "15 [3 5 7]\n",
      "[1 2 3 4 5 6]\n"
     ]
    }
   ],
   "source": [
    "# 数组简单运算\n",
    "\n",
    "ar = np.arange(6).reshape(2,3)\n",
    "print(ar)\n",
    "print('-------------------')\n",
    "\n",
    "print(ar + 10)   # 加法\n",
    "print(ar * 2)   # 乘法\n",
    "print(1 / (ar+1))  # 除法\n",
    "print(ar ** 0.5)  # 幂\n",
    "# 与标量的运算\n",
    "print('-------------------')\n",
    "\n",
    "print(ar.mean())  # 求平均值\n",
    "print(ar.max())  # 求最大值\n",
    "print(ar.min())  # 求最小值\n",
    "print(ar.std())  # 求标准差\n",
    "print(ar.var())  # 求方差\n",
    "print(ar.sum(), np.sum(ar,axis = 0))  # 求和，np.sum() → axis为0，按列求和；axis为1，按行求和\n",
    "print(np.sort(np.array([1,4,3,2,5,6])))  # 排序\n",
    "# 常用函数"
   ]
  },
  {
   "cell_type": "code",
   "execution_count": null,
   "metadata": {
    "collapsed": true
   },
   "outputs": [],
   "source": [
    "'''\n",
    "【课程1.4】  Numpy索引及切片\n",
    "\n",
    "核心：基本索引及切片 / 布尔型索引及切片\n",
    "\n",
    "'''"
   ]
  },
  {
   "cell_type": "code",
   "execution_count": 1,
   "metadata": {},
   "outputs": [
    {
     "name": "stdout",
     "output_type": "stream",
     "text": [
      "[ 0  1  2  3  4  5  6  7  8  9 10 11 12 13 14 15 16 17 18 19]\n",
      "4\n",
      "[0 1 2]\n",
      "[ 0  2  4  6  8 10 12 14 16 18]\n",
      "------------------------------\n",
      "[[ 0  1  2  3]\n",
      " [ 4  5  6  7]\n",
      " [ 8  9 10 11]\n",
      " [12 13 14 15]]\n",
      "[ 8  9 10 11]\n",
      "10\n",
      "10\n",
      "[[ 4  5  6  7]\n",
      " [ 8  9 10 11]]\n",
      "10\n",
      "[[2 3]]\n",
      "[[2 3]\n",
      " [6 7]]\n",
      "------------------------------\n",
      "[[[ 0  1]\n",
      "  [ 2  3]]\n",
      "\n",
      " [[ 4  5]\n",
      "  [ 6  7]]\n",
      "\n",
      " [[ 8  9]\n",
      "  [10 11]]]\n",
      "---------\n",
      "[10 11]\n",
      "10\n"
     ]
    }
   ],
   "source": [
    "# 基本索引及切片\n",
    "\n",
    "import numpy as np\n",
    "\n",
    "ar = np.arange(20)\n",
    "print(ar)\n",
    "print(ar[4])\n",
    "print(ar[:3])\n",
    "print(ar[::2])\n",
    "print('-'*30)\n",
    "# 一维数组类似列表list\n",
    "\n",
    "ar = np.arange(16).reshape(4,4)\n",
    "print(ar)\n",
    "print(ar[2])\n",
    "print(ar[2][2])\n",
    "print(ar[2,2])\n",
    "print(ar[1:3])\n",
    "print(ar[2,2])\n",
    "print(ar[:1,2:])\n",
    "print(ar[:2,2:])\n",
    "print('-'*30)\n",
    "#二维数组索引\n",
    "\n",
    "ar = np.arange(12).reshape(3,2,2)\n",
    "print(ar)\n",
    "print(\"---------\")\n",
    "print(ar[2][1])\n",
    "print(ar[2][1][0])\n",
    "# **三维数组索引及切片"
   ]
  },
  {
   "cell_type": "code",
   "execution_count": 2,
   "metadata": {},
   "outputs": [
    {
     "name": "stdout",
     "output_type": "stream",
     "text": [
      "[[ 0  1  2  3]\n",
      " [ 4  5  6  7]\n",
      " [ 8  9 10 11]]\n",
      "[ True False  True]\n",
      "[ True  True False False]\n",
      "[[ 0  1  2  3]\n",
      " [ 8  9 10 11]]\n",
      "[[0 1]\n",
      " [4 5]\n",
      " [8 9]]\n",
      "[[False False False False]\n",
      " [False False  True  True]\n",
      " [ True  True  True  True]] <class 'numpy.ndarray'>\n",
      "[ 6  7  8  9 10 11]\n"
     ]
    }
   ],
   "source": [
    "# 布尔型索引及切片\n",
    "\n",
    "ar = np.arange(12).reshape(3,4)\n",
    "print(ar)\n",
    "i = np.array([True, False, True])\n",
    "j = np.array([True, True, False, False])\n",
    "print(i)\n",
    "print(j)\n",
    "print(ar[i,:])  # 在第一维度做判断，只保留True，这里第一维度就是行，ar[i,:] = ar[i]（简单书写格式）\n",
    "print(ar[:,j])  # 在第二维度做判断，这里如果ar[:,i]会有警告，因为i是3个元素，而ar在列上有4个\n",
    "# 布尔型索引：以布尔型的矩阵去做筛选\n",
    "\n",
    "print(ar > 5, type(ar>5))\n",
    "print(ar[ar > 5])"
   ]
  },
  {
   "cell_type": "code",
   "execution_count": 3,
   "metadata": {},
   "outputs": [
    {
     "name": "stdout",
     "output_type": "stream",
     "text": [
      "[0 1 2 3 4 5 6 7 8 9]\n",
      "[  0   1   2   3   4 100   6 200 200   9]\n",
      "[0 1 2 3 4 5 6 7 8 9]\n",
      "[  0   1   2   3   4   5   6 200 200   9]\n"
     ]
    }
   ],
   "source": [
    "# 数组索引及切片的值更改、复制\n",
    "\n",
    "ar = np.arange(10)\n",
    "print(ar)\n",
    "ar[5] = 100\n",
    "ar[7:9] = 200\n",
    "print(ar)\n",
    "# 一个标量赋值给一个索引/切片时，会自动改变/传播原始数组\n",
    "\n",
    "ar = np.arange(10)\n",
    "b = ar.copy()\n",
    "b[7:9] = 200\n",
    "print(ar)\n",
    "print(b)\n",
    "# 复制"
   ]
  },
  {
   "cell_type": "markdown",
   "metadata": {},
   "source": [
    "#################### 作业 1.4 ####################"
   ]
  },
  {
   "cell_type": "code",
   "execution_count": null,
   "metadata": {
    "collapsed": true
   },
   "outputs": [],
   "source": [
    "'''\n",
    "【课程1.5】  Numpy随机数\n",
    "\n",
    "numpy.random包含多种概率分布的随机样本，是数据分析辅助的重点工具之一\n",
    "\n",
    "'''"
   ]
  },
  {
   "cell_type": "code",
   "execution_count": 1,
   "metadata": {},
   "outputs": [
    {
     "name": "stdout",
     "output_type": "stream",
     "text": [
      "[[-1.21020945  0.8341987   1.32303099  0.38091159]\n",
      " [ 0.06091824 -1.65983566  0.76687068  0.22107376]\n",
      " [-0.17235529  0.35667472 -0.55719313 -0.05221554]\n",
      " [-0.39187174 -1.164165    0.20865003  1.13938215]]\n"
     ]
    }
   ],
   "source": [
    "# 随机数生成 \n",
    "import numpy as np\n",
    "\n",
    "samples = np.random.normal(size=(4,4))\n",
    "print(samples)\n",
    "# 生成一个标准正太分布的4*4样本值"
   ]
  },
  {
   "cell_type": "code",
   "execution_count": 2,
   "metadata": {},
   "outputs": [
    {
     "name": "stdout",
     "output_type": "stream",
     "text": [
      "0.32658633350645394 <class 'float'>\n",
      "[ 0.0943559   0.93574206  0.85064107  0.41988447]\n",
      "[[ 0.73424752  0.04078672  0.58841725]\n",
      " [ 0.5464639   0.20954152  0.73466941]]\n",
      "[[ 38.86106347  80.53344159  28.86134886]\n",
      " [ 33.64936723  85.55740021  94.80946198]]\n"
     ]
    }
   ],
   "source": [
    "# numpy.random.rand(d0, d1, ..., dn)：生成一个[0,1)之间的随机浮点数或N维浮点数组 —— 均匀分布\n",
    "\n",
    "a = np.random.rand()\n",
    "print(a,type(a))\n",
    "\n",
    "print(np.random.rand(4))\n",
    "print(np.random.rand(2,3))\n",
    "print(np.random.rand(2,3)*100)"
   ]
  },
  {
   "cell_type": "code",
   "execution_count": 3,
   "metadata": {},
   "outputs": [
    {
     "data": {
      "text/plain": [
       "<matplotlib.collections.PathCollection at 0x89da9b0>"
      ]
     },
     "execution_count": 3,
     "metadata": {},
     "output_type": "execute_result"
    },
    {
     "data": {
      "image/png": "[encoded data removed]",
      "text/plain": [
       "<matplotlib.figure.Figure at 0x87e8240>"
      ]
     },
     "metadata": {},
     "output_type": "display_data"
    }
   ],
   "source": [
    "date1 = np.random.rand(1000)\n",
    "date2 = np.random.rand(1000)\n",
    "\n",
    "import matplotlib.pyplot as plt\n",
    "%matplotlib inline\n",
    "\n",
    "plt.scatter(date1,date2)"
   ]
  },
  {
   "cell_type": "code",
   "execution_count": 4,
   "metadata": {},
   "outputs": [
    {
     "data": {
      "text/plain": [
       "<matplotlib.collections.PathCollection at 0x8c92c18>"
      ]
     },
     "execution_count": 4,
     "metadata": {},
     "output_type": "execute_result"
    },
    {
     "data": {
      "image/png": "[encoded data removed]",
      "text/plain": [
       "<matplotlib.figure.Figure at 0x7c016a0>"
      ]
     },
     "metadata": {},
     "output_type": "display_data"
    }
   ],
   "source": [
    "#  numpy.random.randn(d0, d1, ..., dn)：生成一个浮点数或N维浮点数组 —— 正态分布\n",
    "\n",
    "date3 = np.random.randn(1000)\n",
    "date4 = np.random.randn(1000)\n",
    "\n",
    "plt.scatter(date3,date4)"
   ]
  },
  {
   "cell_type": "code",
   "execution_count": 5,
   "metadata": {},
   "outputs": [
    {
     "name": "stdout",
     "output_type": "stream",
     "text": [
      "0\n",
      "190\n",
      "[38 15 27 18 10] \n",
      "-------------\n",
      "[[14 17 20  0 13 29]\n",
      " [17 20 32 21  6 26]\n",
      " [14 35  2 40 34 22]\n",
      " [32 38 41 45 11 17]] \n",
      "-------------\n",
      "[[39 46 34 27 15 21]\n",
      " [14 27 40 45 30 21]\n",
      " [44 47 38 47 37 37]\n",
      " [25 25 35 12 41 44]] \n",
      "-------------\n"
     ]
    }
   ],
   "source": [
    "# numpy.random.randint(low, high=None, size=None, dtype='l')：生成一个整数或N维整数数组\n",
    "# 若high不为None时，取[low,high)之间随机整数，否则取值[0,low)之间随机整数，且high必须大于low \n",
    "# dtype参数：只能是int类型 \n",
    "\n",
    "print(np.random.randint(2))\n",
    "print(np.random.randint(2,200))\n",
    "print(np.random.randint(50, size=5),'\\n-------------')\n",
    "print(np.random.randint(50, size=(4,6)),'\\n-------------')\n",
    "print(np.random.randint(10,50, size=(4,6)),'\\n-------------')"
   ]
  },
  {
   "cell_type": "code",
   "execution_count": null,
   "metadata": {
    "collapsed": true
   },
   "outputs": [],
   "source": [
    "'''\n",
    "【课程1.6】  Numpy数据的输入输出\n",
    "\n",
    "numpy读取/写入数组数据、文本数据\n",
    "\n",
    "'''"
   ]
  },
  {
   "cell_type": "code",
   "execution_count": 10,
   "metadata": {},
   "outputs": [
    {
     "name": "stdout",
     "output_type": "stream",
     "text": [
      "[[ 0.96076925  0.40622507  0.42093673  0.11140603  0.95983652]\n",
      " [ 0.74267562  0.05779056  0.22295223  0.38909355  0.33709868]\n",
      " [ 0.66807751  0.51839363  0.96358587  0.42369974  0.57343859]\n",
      " [ 0.704931    0.78864318  0.64835556  0.5339597   0.71660043]\n",
      " [ 0.82778102  0.18036134  0.50807027  0.46900615  0.9503892 ]]\n",
      "finished!\n"
     ]
    }
   ],
   "source": [
    "# 存储数组数据 .npy文件\n",
    "\n",
    "import os\n",
    "os.chdir('G:\\Python学习\\Python-DataAnalysis')\n",
    "ar = np.random.rand(5,5)\n",
    "print(ar)\n",
    "np.save('test.npy',ar)\n",
    "print('finished!')"
   ]
  },
  {
   "cell_type": "code",
   "execution_count": 12,
   "metadata": {},
   "outputs": [
    {
     "name": "stdout",
     "output_type": "stream",
     "text": [
      "[[ 0.96076925  0.40622507  0.42093673  0.11140603  0.95983652]\n",
      " [ 0.74267562  0.05779056  0.22295223  0.38909355  0.33709868]\n",
      " [ 0.66807751  0.51839363  0.96358587  0.42369974  0.57343859]\n",
      " [ 0.704931    0.78864318  0.64835556  0.5339597   0.71660043]\n",
      " [ 0.82778102  0.18036134  0.50807027  0.46900615  0.9503892 ]]\n"
     ]
    }
   ],
   "source": [
    "# 读取数组数据 .npy文件\n",
    "\n",
    "ar_load = np.load('test.npy')\n",
    "print(ar_load)"
   ]
  },
  {
   "cell_type": "code",
   "execution_count": 20,
   "metadata": {},
   "outputs": [
    {
     "name": "stdout",
     "output_type": "stream",
     "text": [
      "[[ 0.72433787  0.21180751  0.14381731  0.36852405  0.09338304]\n",
      " [ 0.45928212  0.58991988  0.82989138  0.07991186  0.01404092]\n",
      " [ 0.81202461  0.91820209  0.47365309  0.7552707   0.11219108]\n",
      " [ 0.90672554  0.38690344  0.37819081  0.60826596  0.86143902]\n",
      " [ 0.49976626  0.54842146  0.64422679  0.7637839   0.25557694]]\n",
      "finished!\n",
      "[[ 0.72  0.21  0.14  0.37  0.09]\n",
      " [ 0.46  0.59  0.83  0.08  0.01]\n",
      " [ 0.81  0.92  0.47  0.76  0.11]\n",
      " [ 0.91  0.39  0.38  0.61  0.86]\n",
      " [ 0.5   0.55  0.64  0.76  0.26]] float64\n"
     ]
    }
   ],
   "source": [
    "# 存储/读取文本文件\n",
    "\n",
    "ar = np.random.rand(5,5)\n",
    "print(ar)\n",
    "np.savetxt('savetext.txt', ar, delimiter=',',fmt='%.2f')\n",
    "print('finished!')\n",
    "\n",
    "ar_loadtxt = np.loadtxt('savetext.txt', delimiter=',')\n",
    "print(ar_loadtxt, ar_loadtxt.dtype)"
   ]
  },
  {
   "cell_type": "markdown",
   "metadata": {},
   "source": [
    "#################### 作业 1.6 ####################"
   ]
  }
 ],
 "metadata": {
  "kernelspec": {
   "display_name": "Python 3",
   "language": "python",
   "name": "python3"
  },
  "language_info": {
   "codemirror_mode": {
    "name": "ipython",
    "version": 3
   },
   "file_extension": ".py",
   "mimetype": "text/x-python",
   "name": "python",
   "nbconvert_exporter": "python",
   "pygments_lexer": "ipython3",
   "version": "3.7.3"
  }
 },
 "nbformat": 4,
 "nbformat_minor": 2
}
