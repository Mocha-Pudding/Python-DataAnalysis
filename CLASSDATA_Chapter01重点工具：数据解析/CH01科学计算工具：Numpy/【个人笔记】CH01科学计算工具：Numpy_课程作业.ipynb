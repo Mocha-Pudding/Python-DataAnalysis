{
 "cells": [
  {
   "cell_type": "code",
   "execution_count": null,
   "metadata": {
    "collapsed": true
   },
   "outputs": [],
   "source": [
    "'''\n",
    "【课程1.2  Numpy基础数据结构】 课程作业\n",
    "\n",
    "'''"
   ]
  },
  {
   "cell_type": "code",
   "execution_count": 12,
   "metadata": {},
   "outputs": [
    {
     "name": "stdout",
     "output_type": "stream",
     "text": [
      "[1 2 'a' 'hello' list([1, 2, 3]) {'two': 200, 'one': 100}]\n",
      "a1的shape为： (6,)\n",
      "------------------------------\n",
      "[['0' '1' '2' '3' '4' '5']\n",
      " ['a' 'b' 'c' 'd' 'e' 'f']\n",
      " ['True' 'False' 'True' 'False' 'True' 'True']]\n",
      "a2的shape为： (3, 6)\n",
      "------------------------------\n"
     ]
    }
   ],
   "source": [
    "import numpy as np\n",
    "\n",
    "a1 = np.array([1,2,'a','hello',[1,2,3],{'two':200,'one':100}])\n",
    "print(a1)\n",
    "print('a1的shape为：',a1.shape)\n",
    "print('-'*30)\n",
    "\n",
    "a2 = np.array([['0','1','2','3','4','5'],\n",
    "              ['a','b','c','d','e','f'],\n",
    "              ['True', False, True, False, True, True]])\n",
    "print(a2)\n",
    "print('a2的shape为：',a2.shape)\n",
    "print('-'*30)"
   ]
  },
  {
   "cell_type": "code",
   "execution_count": 15,
   "metadata": {},
   "outputs": [
    {
     "name": "stdout",
     "output_type": "stream",
     "text": [
      "[ 5  6  7  8  9 10 11 12 13 14]\n"
     ]
    }
   ],
   "source": [
    "a3 = np.arange(5,15)\n",
    "print(a3)"
   ]
  },
  {
   "cell_type": "code",
   "execution_count": 20,
   "metadata": {},
   "outputs": [
    {
     "name": "stdout",
     "output_type": "stream",
     "text": [
      "[[ 0.  0.  0.  0.]\n",
      " [ 0.  0.  0.  0.]\n",
      " [ 0.  0.  0.  0.]\n",
      " [ 0.  0.  0.  0.]]\n",
      "------------------------------\n",
      "[[ 1.  1.  1.]\n",
      " [ 1.  1.  1.]]\n",
      "------------------------------\n",
      "[[1 0 0]\n",
      " [0 1 0]\n",
      " [0 0 1]]\n",
      "------------------------------\n"
     ]
    }
   ],
   "source": [
    "a4 = np.zeros((4,4))\n",
    "print(a4)\n",
    "print('-'*30)\n",
    "\n",
    "print(np.ones((2,3)))\n",
    "print('-'*30)\n",
    "\n",
    "print(np.eye(3,dtype='int'))\n",
    "print('-'*30)"
   ]
  },
  {
   "cell_type": "code",
   "execution_count": null,
   "metadata": {
    "collapsed": true
   },
   "outputs": [],
   "source": [
    "'''\n",
    "【课程1.3  Numpy通用函数】 课程作业\n",
    "\n",
    "'''"
   ]
  },
  {
   "cell_type": "code",
   "execution_count": 1,
   "metadata": {},
   "outputs": [
    {
     "name": "stdout",
     "output_type": "stream",
     "text": [
      "[[ 0  1  2  3  4]\n",
      " [ 5  6  7  8  9]\n",
      " [10 11 12 13 14]\n",
      " [15 16 17 18 19]]\n",
      "[[ 0  1  2  3  4  5]\n",
      " [ 6  7  8  9 10 11]\n",
      " [12 13 14 15 16 17]\n",
      " [18 19  0  1  2  3]\n",
      " [ 4  5  6  7  8  9]]\n"
     ]
    }
   ],
   "source": [
    "import numpy as np\n",
    "\n",
    "ar = np.arange(20)\n",
    "print(ar.reshape(4,5))\n",
    "print(np.resize(ar,(5,6)))"
   ]
  },
  {
   "cell_type": "code",
   "execution_count": 2,
   "metadata": {},
   "outputs": [
    {
     "name": "stdout",
     "output_type": "stream",
     "text": [
      "[['0' '1' '2' '3']\n",
      " ['4' '5' '6' '7']\n",
      " ['8' '9' '10' '11']\n",
      " ['12' '13' '14' '15']]\n"
     ]
    }
   ],
   "source": [
    "ar = np.arange(16).reshape(4,4)\n",
    "print(ar.astype(np.str))"
   ]
  },
  {
   "cell_type": "code",
   "execution_count": 14,
   "metadata": {},
   "outputs": [
    {
     "name": "stdout",
     "output_type": "stream",
     "text": [
      "创建的数组为：\n",
      " [[ 0  1  2  3]\n",
      " [ 4  5  6  7]\n",
      " [ 8  9 10 11]\n",
      " [12 13 14 15]] \n",
      "-----------------------\n",
      "计算后的数组为：\n",
      " [[100 110 120 130]\n",
      " [140 150 160 170]\n",
      " [180 190 200 210]\n",
      " [220 230 240 250]] \n",
      "-----------------------\n",
      "result的均值为：\n",
      " 175.0 \n",
      "-----------------------\n",
      "result求和为：\n",
      " 2800 \n",
      "-----------------------\n"
     ]
    }
   ],
   "source": [
    "ar = np.arange(16).reshape(4,4)\n",
    "print('创建的数组为：\\n', ar, '\\n-----------------------')\n",
    "result = ar * 10 + 100\n",
    "print('计算后的数组为：\\n', result, '\\n-----------------------')\n",
    "print('result的均值为：\\n', result.mean(), '\\n-----------------------')\n",
    "print('result求和为：\\n', result.sum(), '\\n-----------------------')"
   ]
  },
  {
   "cell_type": "code",
   "execution_count": null,
   "metadata": {
    "collapsed": true
   },
   "outputs": [],
   "source": [
    "'''\n",
    "【课程1.4  Numpy索引及切片】 课程作业\n",
    "\n",
    "'''"
   ]
  },
  {
   "cell_type": "code",
   "execution_count": 1,
   "metadata": {},
   "outputs": [
    {
     "name": "stdout",
     "output_type": "stream",
     "text": [
      "[[ 0  1  2  3  4]\n",
      " [ 5  6  7  8  9]\n",
      " [10 11 12 13 14]\n",
      " [15 16 17 18 19]\n",
      " [20 21 22 23 24]] \n",
      "-------------------\n",
      "[20 21 22 23 24] \n",
      "-------------------\n",
      "[[3 4]\n",
      " [8 9]] \n",
      "-------------------\n",
      "17 \n",
      "-------------------\n"
     ]
    }
   ],
   "source": [
    "import numpy as np\n",
    "\n",
    "ar = np.arange(25).reshape(5,5)\n",
    "print(ar, '\\n-------------------')\n",
    "print(ar[4], '\\n-------------------')\n",
    "print(ar[:2,3:], '\\n-------------------')\n",
    "print(ar[3][2], '\\n-------------------')"
   ]
  },
  {
   "cell_type": "code",
   "execution_count": 2,
   "metadata": {},
   "outputs": [
    {
     "name": "stdout",
     "output_type": "stream",
     "text": [
      "[[0 1 2 3 4]\n",
      " [5 6 7 8 9]] \n",
      "-------------------\n",
      "[[False False False False False]\n",
      " [False  True  True  True  True]] \n",
      "-------------------\n",
      "[6 7 8 9] \n",
      "-------------------\n"
     ]
    }
   ],
   "source": [
    "ar = np.arange(10).reshape(2,5)\n",
    "print(ar, '\\n-------------------')\n",
    "print(ar > 5, '\\n-------------------')\n",
    "print(ar[ar > 5], '\\n-------------------')"
   ]
  },
  {
   "cell_type": "code",
   "execution_count": null,
   "metadata": {
    "collapsed": true
   },
   "outputs": [],
   "source": [
    "'''\n",
    "【课程1.5  Numpy随机数】 课程作业\n",
    "\n",
    "'''"
   ]
  },
  {
   "cell_type": "code",
   "execution_count": 3,
   "metadata": {},
   "outputs": [
    {
     "name": "stdout",
     "output_type": "stream",
     "text": [
      "[[  0.   1.   2.   3.   4.]\n",
      " [  5.   6.   7.   8.   9.]\n",
      " [ 10.  11.  12.  13.  14.]\n",
      " [ 15.  16.  17.  18.  19.]\n",
      " [ 20.  21.  22.  23.  24.]] \n",
      "----------------------------------------\n",
      "[[ 0.  1.]\n",
      " [ 5.  6.]] \n",
      "----------------------------------------\n",
      "[[  0.35338187   0.80105793   2.           3.           4.        ]\n",
      " [  0.77916789   0.07682768   7.           8.           9.        ]\n",
      " [ 10.          11.          12.          13.          14.        ]\n",
      " [ 15.          16.          17.          18.          19.        ]\n",
      " [ 20.          21.          22.          23.          24.        ]]\n"
     ]
    }
   ],
   "source": [
    "ar = np.arange(25, dtype=np.float32).reshape(5,5)\n",
    "print(ar, '\\n----------------------------------------')\n",
    "print(ar[:2,:2],'\\n----------------------------------------')\n",
    "ar[:2,:2] = np.random.rand(2,2)\n",
    "print(ar)"
   ]
  },
  {
   "cell_type": "code",
   "execution_count": 6,
   "metadata": {},
   "outputs": [
    {
     "name": "stdout",
     "output_type": "stream",
     "text": [
      "[[ 1.13522262 -1.05931208 -0.08325479 -0.30043113  1.39634175]\n",
      " [-0.98366911  0.32735806 -2.13748073 -0.83325262 -0.48295951]] \n",
      "----------\n",
      "[[ 1.23726405  1.50331417  0.55639921 -0.20674422 -0.10489313]\n",
      " [-1.16632419  0.47194029  0.24338395 -2.18121986 -0.47223832]]\n",
      "----------------------------------------------------------------\n",
      "[[ 1.13522262 -1.05931208 -0.08325479 -0.30043113  1.39634175]\n",
      " [-0.98366911  0.32735806 -2.13748073 -0.83325262 -0.48295951]\n",
      " [ 1.23726405  1.50331417  0.55639921 -0.20674422 -0.10489313]\n",
      " [-1.16632419  0.47194029  0.24338395 -2.18121986 -0.47223832]]\n"
     ]
    }
   ],
   "source": [
    "ar1 = np.random.normal(size=(2,5))\n",
    "print(ar1, '\\n----------')\n",
    "ar2 = np.random.normal(size=(2,5))\n",
    "print(ar2)\n",
    "print('----------------------------------------------------------------')\n",
    "\n",
    "ar = np.vstack((ar1,ar2))\n",
    "print(ar)"
   ]
  },
  {
   "cell_type": "code",
   "execution_count": null,
   "metadata": {
    "collapsed": true
   },
   "outputs": [],
   "source": [
    "'''\n",
    "【课程1.6  Numpy数据的输入输出】 课程作业\n",
    "\n",
    "'''"
   ]
  },
  {
   "cell_type": "code",
   "execution_count": 9,
   "metadata": {},
   "outputs": [
    {
     "name": "stdout",
     "output_type": "stream",
     "text": [
      "[[33 60 24 94 45 25 80 76 56 25]\n",
      " [24 30 30 99 80  4 96 18 35 36]\n",
      " [ 9 43 88 91 95 86 89 59 35 60]\n",
      " [94 96 69  4 88  8 45 54 25 80]\n",
      " [81 17 76 13 32 42 48 20 87 18]\n",
      " [76 91 51 75 80 45 40  3 58 47]\n",
      " [72 97 49 53 97 17 37 73 17 28]\n",
      " [66 47 36 61 67 82 33 73 23 80]\n",
      " [79  8 78 64 40 44 10 18 44 26]\n",
      " [95 90 21 31 86 54 26  4 88 86]] \n",
      "----------------------------------------------\n",
      "finished!\n"
     ]
    }
   ],
   "source": [
    "import os\n",
    "os.chdir('G:\\Python学习\\Python-DataAnalysis')\n",
    "\n",
    "ar = np.random.randint(100, size=(10,10))\n",
    "print(ar, '\\n----------------------------------------------')\n",
    "np.savetxt('homework.txt', ar, delimiter=',', fmt='%i')\n",
    "print('finished!')"
   ]
  },
  {
   "cell_type": "code",
   "execution_count": null,
   "metadata": {
    "collapsed": true
   },
   "outputs": [],
   "source": []
  }
 ],
 "metadata": {
  "kernelspec": {
   "display_name": "Python 3",
   "language": "python",
   "name": "python3"
  },
  "language_info": {
   "codemirror_mode": {
    "name": "ipython",
    "version": 3
   },
   "file_extension": ".py",
   "mimetype": "text/x-python",
   "name": "python",
   "nbconvert_exporter": "python",
   "pygments_lexer": "ipython3",
   "version": "3.6.3"
  }
 },
 "nbformat": 4,
 "nbformat_minor": 2
}
