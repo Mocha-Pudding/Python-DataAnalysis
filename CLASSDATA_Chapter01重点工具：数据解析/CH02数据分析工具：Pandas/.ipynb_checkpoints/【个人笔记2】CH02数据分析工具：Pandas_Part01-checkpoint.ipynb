{
 "cells": [
  {
   "cell_type": "code",
   "execution_count": null,
   "metadata": {},
   "outputs": [],
   "source": [
    "'''\n",
    "【课程2.2】  Pandas数据结构Series：基本概念及创建\n",
    "\n",
    "\"一维数组\"Serise\n",
    "\n",
    "'''"
   ]
  },
  {
   "cell_type": "code",
   "execution_count": 1,
   "metadata": {},
   "outputs": [],
   "source": [
    "# 导入numpy、pandas模块\n",
    "import numpy as np\n",
    "import pandas as pd"
   ]
  },
  {
   "cell_type": "code",
   "execution_count": 2,
   "metadata": {},
   "outputs": [
    {
     "name": "stdout",
     "output_type": "stream",
     "text": [
      "[0.78087401 0.73607659 0.55375446 0.17752614 0.74582616]\n",
      "0    0.780874\n",
      "1    0.736077\n",
      "2    0.553754\n",
      "3    0.177526\n",
      "4    0.745826\n",
      "dtype: float64\n",
      "<class 'numpy.ndarray'> <class 'pandas.core.series.Series'>\n",
      "-----------\n",
      "RangeIndex(start=0, stop=5, step=1) [0, 1, 2, 3, 4]\n",
      "[0.78087401 0.73607659 0.55375446 0.17752614 0.74582616] <class 'numpy.ndarray'>\n",
      "a    0.780874\n",
      "b    0.736077\n",
      "c    0.553754\n",
      "d    0.177526\n",
      "e    0.745826\n",
      "dtype: float64\n"
     ]
    }
   ],
   "source": [
    "# Series 数据结构\n",
    "# Series 是带有标签的一维数组，可以保存任何数据类型（整数，字符串，浮点数，Python对象等）,轴标签统称为索引\n",
    "\n",
    "ar = np.random.rand(5)\n",
    "s = pd.Series(ar)\n",
    "print(ar)\n",
    "print(s)\n",
    "print(type(ar), type(s))\n",
    "print('-----------')\n",
    "print(s.index, list(s.index))\n",
    "print(s.values, type(s.values))\n",
    "# .index查看series索引，类型为rangeindex\n",
    "# .values查看series值，类型是ndarray\n",
    "\n",
    "# 核心：series相比于ndarray，是一个自带索引index的数组 → 一维数组 + 对应索引\n",
    "# 所以当只看series的值的时候，就是一个ndarray\n",
    "# series和ndarray较相似，索引切片功能差别不大\n",
    "# series和dict相比，series更像一个有顺序的字典（dict本身不存在顺序），其索引原理与字典相似（一个用key，一个用index）\n",
    "\n",
    "s2 = pd.Series(ar, index=list('abcde'))   # 索引index不一定为数字，可以是字母\n",
    "print(s2)"
   ]
  },
  {
   "cell_type": "code",
   "execution_count": 3,
   "metadata": {},
   "outputs": [
    {
     "name": "stdout",
     "output_type": "stream",
     "text": [
      "a        1\n",
      "b        2\n",
      "c        3\n",
      "d    hello\n",
      "5       20\n",
      "dtype: object\n"
     ]
    }
   ],
   "source": [
    "# Series 创建方法一：由字典创建，字典的key就是index，values就是values\n",
    "\n",
    "dic = {'a':1, 'b':2, 'c':3, 'd':'hello', 5:20}\n",
    "s = pd.Series(dic)\n",
    "print(s)"
   ]
  },
  {
   "cell_type": "code",
   "execution_count": 5,
   "metadata": {},
   "outputs": [
    {
     "name": "stdout",
     "output_type": "stream",
     "text": [
      "[63.6564218   7.22909602 76.30702407 18.36791927 31.07190755 99.63579016\n",
      " 45.13901961 75.9642771  32.49118264 31.47198809]\n",
      "a    63.656422\n",
      "b     7.229096\n",
      "c    76.307024\n",
      "d    18.367919\n",
      "e    31.071908\n",
      "f    99.635790\n",
      "g    45.139020\n",
      "h    75.964277\n",
      "i    32.491183\n",
      "j    31.471988\n",
      "dtype: float64\n"
     ]
    }
   ],
   "source": [
    "# Series 创建方法二：由数组创建(一维数组)\n",
    "\n",
    "arr = np.random.rand(10,)*100\n",
    "print(arr)\n",
    "ss = pd.Series(arr, index=list('abcdefghij'), dtype=np.int)\n",
    "print(ss)\n",
    "\n",
    "# 默认index是从0开始，步长为1的数字\n",
    "# index参数：设置index，长度保持一致\n",
    "# dtype参数：设置数值类型"
   ]
  },
  {
   "cell_type": "code",
   "execution_count": 8,
   "metadata": {},
   "outputs": [
    {
     "name": "stdout",
     "output_type": "stream",
     "text": [
      "0    126\n",
      "1    126\n",
      "2    126\n",
      "3    126\n",
      "4    126\n",
      "5    126\n",
      "6    126\n",
      "7    126\n",
      "8    126\n",
      "9    126\n",
      "dtype: int64\n"
     ]
    }
   ],
   "source": [
    "# Series 创建方法三：由标量创建\n",
    "\n",
    "s = pd.Series(126, index = range(10))\n",
    "print(s)\n",
    "# 如果data是标量值，则必须提供索引。该值会重复，来匹配索引的长度"
   ]
  },
  {
   "cell_type": "code",
   "execution_count": 6,
   "metadata": {},
   "outputs": [
    {
     "name": "stdout",
     "output_type": "stream",
     "text": [
      "0   -0.680570\n",
      "1   -0.874072\n",
      "2   -1.713062\n",
      "3   -0.100428\n",
      "4    0.114255\n",
      "dtype: float64\n",
      "-----\n",
      "0   -0.344364\n",
      "1   -0.144433\n",
      "2    0.772970\n",
      "3    0.591344\n",
      "4    1.075392\n",
      "Name: test, dtype: float64\n",
      "None test <class 'str'>\n",
      "0   -0.344364\n",
      "1   -0.144433\n",
      "2    0.772970\n",
      "3    0.591344\n",
      "4    1.075392\n",
      "Name: hehehe, dtype: float64\n",
      "hehehe test\n"
     ]
    }
   ],
   "source": [
    "# Series 名称属性：name\n",
    "\n",
    "s1 = pd.Series(np.random.randn(5))\n",
    "print(s1)\n",
    "print('-----')\n",
    "s2 = pd.Series(np.random.randn(5),name = 'test')\n",
    "print(s2)\n",
    "print(s1.name, s2.name,type(s2.name))\n",
    "# name为Series的一个参数，创建一个数组的 名称\n",
    "# .name方法：输出数组的名称，输出格式为str，如果没用定义输出名称，输出为None\n",
    "\n",
    "s3 = s2.rename('hehehe')\n",
    "print(s3)\n",
    "print(s3.name, s2.name)\n",
    "# .rename()重命名一个数组的名称，并且新指向一个数组，原数组不变"
   ]
  },
  {
   "cell_type": "code",
   "execution_count": null,
   "metadata": {},
   "outputs": [],
   "source": []
  },
  {
   "cell_type": "code",
   "execution_count": null,
   "metadata": {},
   "outputs": [],
   "source": [
    "'''\n",
    "【课程2.3】  Pandas数据结构Series：索引\n",
    "\n",
    "位置下标 / 标签索引 / 切片索引 / 布尔型索引\n",
    "\n",
    "'''"
   ]
  },
  {
   "cell_type": "code",
   "execution_count": 5,
   "metadata": {},
   "outputs": [
    {
     "name": "stdout",
     "output_type": "stream",
     "text": [
      "0    0.936244\n",
      "1    0.488159\n",
      "2    0.969322\n",
      "3    0.122498\n",
      "4    0.347878\n",
      "5    0.633508\n",
      "6    0.537084\n",
      "7    0.769413\n",
      "8    0.722966\n",
      "9    0.380726\n",
      "dtype: float64\n",
      "0.6335081178183238 <class 'numpy.float64'> float64\n"
     ]
    }
   ],
   "source": [
    "# 位置下标，类似序列\n",
    "\n",
    "s = pd.Series(np.random.rand(10))\n",
    "print(s)\n",
    "print(s[5],type(s[6]),s[7].dtype)\n",
    "# 位置下标从0开始"
   ]
  },
  {
   "cell_type": "code",
   "execution_count": 10,
   "metadata": {},
   "outputs": [
    {
     "name": "stdout",
     "output_type": "stream",
     "text": [
      "a    0.227128\n",
      "b    0.728541\n",
      "c    0.904424\n",
      "d    0.837876\n",
      "e    0.453048\n",
      "dtype: float64\n",
      "0.22712756824129432 <class 'numpy.float64'> float64\n",
      "c    0.904424\n",
      "a    0.227128\n",
      "b    0.728541\n",
      "dtype: float64\n",
      "a    0.227128\n",
      "b    0.728541\n",
      "e    0.453048\n",
      "dtype: float64 <class 'pandas.core.series.Series'>\n"
     ]
    }
   ],
   "source": [
    "# 标签索引\n",
    "\n",
    "s = pd.Series(np.random.rand(5), index = ['a','b','c','d','e'])\n",
    "print(s)\n",
    "print(s['a'],type(s['a']),s['a'].dtype)\n",
    "# 方法类似下标索引，用[]表示，内写上index，注意index是字符串\n",
    "\n",
    "print(s[['c','a','b']])  # 同时选取多个标签的时候,可以不按顺序\n",
    "sci = s[['a','b','e']]\n",
    "print(sci,type(sci))\n",
    "# 如果需要选择多个标签的值，用[[]]来表示（相当于[]中包含一个列表）\n",
    "# 多标签索引结果是新的数组"
   ]
  },
  {
   "cell_type": "code",
   "execution_count": 18,
   "metadata": {},
   "outputs": [
    {
     "name": "stdout",
     "output_type": "stream",
     "text": [
      "0    0.991787\n",
      "1    0.081731\n",
      "2    0.365219\n",
      "3    0.909600\n",
      "4    0.770595\n",
      "dtype: float64 \n",
      "--------\n",
      "a    0.255550\n",
      "b    0.106897\n",
      "c    0.748090\n",
      "d    0.890867\n",
      "e    0.663743\n",
      "dtype: float64 \n",
      "--------\n",
      "1    0.081731\n",
      "2    0.365219\n",
      "3    0.909600\n",
      "dtype: float64 0.7705951301209877\n",
      "a    0.255550\n",
      "b    0.106897\n",
      "c    0.748090\n",
      "dtype: float64 0.748090356710721\n",
      "a    0.255550\n",
      "b    0.106897\n",
      "c    0.748090\n",
      "dtype: float64 0.8908674757739627\n",
      "-----\n",
      "a    0.255550\n",
      "b    0.106897\n",
      "c    0.748090\n",
      "d    0.890867\n",
      "dtype: float64\n",
      "a    0.255550\n",
      "c    0.748090\n",
      "e    0.663743\n",
      "dtype: float64\n"
     ]
    }
   ],
   "source": [
    "# 切片索引\n",
    "\n",
    "s1 = pd.Series(np.random.rand(5))\n",
    "s2 = pd.Series(np.random.rand(5),index=['a','b','c','d','e'])\n",
    "print(s1, '\\n--------')\n",
    "print(s2, '\\n--------')\n",
    "print(s1[1:4], s1[4])   # 下标\n",
    "print(s2['a':'c'], s2['c'])   # 标签(末端包含)\n",
    "print(s2[0:3], s2[3])\n",
    "print('-----')\n",
    "# 注意：用标签索引index做切片是末端包含\n",
    "\n",
    "print(s2[:-1])\n",
    "print(s2[::2])\n",
    "# 下标索引做切片，和list写法一样"
   ]
  },
  {
   "cell_type": "code",
   "execution_count": 23,
   "metadata": {},
   "outputs": [
    {
     "name": "stdout",
     "output_type": "stream",
     "text": [
      "0    92.2965\n",
      "1    72.1777\n",
      "2    5.77241\n",
      "4       None\n",
      "5        NaN\n",
      "dtype: object\n",
      "0     True\n",
      "1     True\n",
      "2    False\n",
      "4    False\n",
      "5    False\n",
      "dtype: bool <class 'pandas.core.series.Series'> bool \n",
      "--------\n",
      "0    False\n",
      "1    False\n",
      "2    False\n",
      "4     True\n",
      "5     True\n",
      "dtype: bool <class 'pandas.core.series.Series'> bool \n",
      "--------\n",
      "0     True\n",
      "1     True\n",
      "2     True\n",
      "4    False\n",
      "5    False\n",
      "dtype: bool <class 'pandas.core.series.Series'> bool \n",
      "--------\n",
      "------------------------------\n",
      "0    92.2965\n",
      "1    72.1777\n",
      "dtype: object\n",
      "0    92.2965\n",
      "1    72.1777\n",
      "2    5.77241\n",
      "dtype: object\n"
     ]
    }
   ],
   "source": [
    "# 布尔型索引\n",
    "\n",
    "s = pd.Series(np.random.rand(3)*100)\n",
    "s[4] = None  # 添加一个空值\n",
    "s[5] = np.nan   # 添加空值也可以这样写\n",
    "print(s)\n",
    "bs1 = s > 50\n",
    "bs2 = s.isnull()\n",
    "bs3 = s.notnull()\n",
    "print(bs1, type(bs1), bs1.dtype, '\\n--------')\n",
    "print(bs2, type(bs2), bs2.dtype, '\\n--------')\n",
    "print(bs3, type(bs3), bs3.dtype, '\\n--------')\n",
    "print('------------------------------')\n",
    "# 数组做判断之后，返回的是一个由布尔值组成的新的数组\n",
    "# .isnull() / .notnull() 判断是否为空值 (None代表空值，NaN代表有问题的数值，两个都会识别为空值)\n",
    "\n",
    "print(s[s > 50])\n",
    "print(s[bs3])\n",
    "# 布尔型索引方法：用[判断条件]表示，其中判断条件可以是 一个语句，或者是 一个布尔型数组！"
   ]
  },
  {
   "cell_type": "code",
   "execution_count": null,
   "metadata": {},
   "outputs": [],
   "source": []
  },
  {
   "cell_type": "code",
   "execution_count": null,
   "metadata": {},
   "outputs": [],
   "source": [
    "'''\n",
    "【课程2.4】  Pandas数据结构Series：基本技巧\n",
    "\n",
    "数据查看 / 重新索引 / 对齐 / 添加、修改、删除值\n",
    "\n",
    "'''"
   ]
  },
  {
   "cell_type": "code",
   "execution_count": 24,
   "metadata": {},
   "outputs": [
    {
     "name": "stdout",
     "output_type": "stream",
     "text": [
      "0    0.302604\n",
      "1    0.907364\n",
      "2    0.766996\n",
      "3    0.067825\n",
      "4    0.762444\n",
      "dtype: float64\n",
      "10    0.916022\n",
      "11    0.214472\n",
      "12    0.182211\n",
      "13    0.564559\n",
      "14    0.222518\n",
      "dtype: float64\n"
     ]
    }
   ],
   "source": [
    "# 数据查看\n",
    "\n",
    "s = pd.Series(np.random.rand(15))\n",
    "print(s.head())\n",
    "print(s.tail())\n",
    "# .head()查看头部数据\n",
    "# .tail()查看尾部数据\n",
    "# 默认查看5条"
   ]
  },
  {
   "cell_type": "code",
   "execution_count": 33,
   "metadata": {},
   "outputs": [
    {
     "name": "stdout",
     "output_type": "stream",
     "text": [
      "a    0.402655\n",
      "b    0.699154\n",
      "c    0.308334\n",
      "d    0.787954\n",
      "e    0.560302\n",
      "dtype: float64\n",
      "--------\n",
      "zz         NaN\n",
      "yy         NaN\n",
      "xx         NaN\n",
      "c     0.308334\n",
      "a     0.402655\n",
      "dtype: float64\n",
      "zz         NaN\n",
      "yy         NaN\n",
      "xx         NaN\n",
      "c     0.308334\n",
      "a     0.402655\n",
      "dtype: float64\n",
      "--------\n",
      "zz        0.000000\n",
      "yy        0.000000\n",
      "xx        0.000000\n",
      "c         0.308334\n",
      "a         0.402655\n",
      "cccccc    0.000000\n",
      "dtype: float64\n"
     ]
    }
   ],
   "source": [
    "# 重新索引 reindex\n",
    "# .reindex将会根据索引重新排序，如果当前索引不存在，则引入缺失值\n",
    "\n",
    "s = pd.Series(np.random.rand(5), index=list('abcde'))\n",
    "print(s)\n",
    "print('--------')\n",
    "s1 = s.reindex(['zz','yy','xx','c','a'])\n",
    "print(s1)\n",
    "print(s.reindex(['zz','yy','xx','c','a']))\n",
    "print('--------')\n",
    "\n",
    "s2 = s.reindex(['zz','yy','xx','c','a','cccccc'], fill_value=0)\n",
    "print(s2)\n",
    "# fill_value参数：填充缺失值的值"
   ]
  },
  {
   "cell_type": "code",
   "execution_count": 36,
   "metadata": {},
   "outputs": [
    {
     "name": "stdout",
     "output_type": "stream",
     "text": [
      "Jack     0.231432\n",
      "Marry    0.747641\n",
      "Tom      0.647475\n",
      "dtype: float64\n",
      "--------\n",
      "Wang     0.025933\n",
      "Jack     0.879019\n",
      "Marry    0.979609\n",
      "dtype: float64\n",
      "--------\n",
      "Jack     1.110451\n",
      "Marry    1.727250\n",
      "Tom           NaN\n",
      "Wang          NaN\n",
      "dtype: float64\n"
     ]
    }
   ],
   "source": [
    "# Series对齐\n",
    "\n",
    "s1 = pd.Series(np.random.rand(3), index = ['Jack','Marry','Tom'])\n",
    "s2 = pd.Series(np.random.rand(3), index = ['Wang','Jack','Marry'])\n",
    "print(s1)\n",
    "print('--------')\n",
    "print(s2)\n",
    "print('--------')\n",
    "print(s1+s2)\n",
    "# Series 和 ndarray 之间的主要区别是，Series 上的操作会根据标签自动对齐\n",
    "# index顺序不会影响数值计算，以标签来计算\n",
    "# 空值和任何值计算结果扔为空值"
   ]
  },
  {
   "cell_type": "code",
   "execution_count": 37,
   "metadata": {},
   "outputs": [
    {
     "name": "stdout",
     "output_type": "stream",
     "text": [
      "n    0.018801\n",
      "g    0.270495\n",
      "j    0.633204\n",
      "u    0.879861\n",
      "r    0.895924\n",
      "dtype: float64\n",
      "g    0.270495\n",
      "j    0.633204\n",
      "u    0.879861\n",
      "r    0.895924\n",
      "dtype: float64\n",
      "--------\n",
      "n    0.018801\n",
      "u    0.879861\n",
      "r    0.895924\n",
      "dtype: float64\n",
      "--------\n",
      "n    0.018801\n",
      "g    0.270495\n",
      "j    0.633204\n",
      "u    0.879861\n",
      "r    0.895924\n",
      "dtype: float64\n"
     ]
    }
   ],
   "source": [
    "# 删除：.drop\n",
    "\n",
    "s = pd.Series(np.random.rand(5), index = list('ngjur'))\n",
    "print(s)\n",
    "s1 = s.drop('n')\n",
    "s2 = s.drop(['g','j'])\n",
    "print(s1)\n",
    "print('--------')\n",
    "print(s2)\n",
    "print('--------')\n",
    "print(s)\n",
    "# drop 删除元素之后返回副本(inplace=False)"
   ]
  },
  {
   "cell_type": "code",
   "execution_count": 3,
   "metadata": {},
   "outputs": [
    {
     "name": "stdout",
     "output_type": "stream",
     "text": [
      "0    0.282983\n",
      "1    0.094869\n",
      "2    0.476947\n",
      "3    0.873530\n",
      "4    0.313112\n",
      "dtype: float64\n",
      "--------\n",
      "n    0.780867\n",
      "g    0.179253\n",
      "j    0.598774\n",
      "u    0.562769\n",
      "r    0.282016\n",
      "dtype: float64\n",
      "--------\n",
      "0      0.282983\n",
      "1      0.094869\n",
      "2      0.476947\n",
      "3      0.873530\n",
      "4      0.313112\n",
      "5    100.000000\n",
      "dtype: float64\n",
      "--------\n",
      "n      0.780867\n",
      "g      0.179253\n",
      "j      0.598774\n",
      "u      0.562769\n",
      "r      0.282016\n",
      "a    100.000000\n",
      "dtype: float64\n",
      "-----\n",
      "0      0.282983\n",
      "1      0.094869\n",
      "2      0.476947\n",
      "3      0.873530\n",
      "4      0.313112\n",
      "5    100.000000\n",
      "n      0.780867\n",
      "g      0.179253\n",
      "j      0.598774\n",
      "u      0.562769\n",
      "r      0.282016\n",
      "a    100.000000\n",
      "dtype: float64\n",
      "--------\n",
      "0      0.282983\n",
      "1      0.094869\n",
      "2      0.476947\n",
      "3      0.873530\n",
      "4      0.313112\n",
      "5    100.000000\n",
      "dtype: float64\n"
     ]
    }
   ],
   "source": [
    "# 添加\n",
    "\n",
    "s1 = pd.Series(np.random.rand(5))\n",
    "s2 = pd.Series(np.random.rand(5), index = list('ngjur'))\n",
    "print(s1)\n",
    "print('--------')\n",
    "print(s2)\n",
    "print('--------')\n",
    "s1[5] = 100\n",
    "s2['a'] = 100\n",
    "print(s1)\n",
    "print('--------')\n",
    "print(s2)\n",
    "print('-----')\n",
    "# 直接通过下标索引/标签index添加值\n",
    "\n",
    "s3 = s1.append(s2)\n",
    "print(s3)\n",
    "print('--------')\n",
    "print(s1)\n",
    "# 通过.append方法，直接添加一个数组\n",
    "# .append方法生成一个新的数组，不改变之前的数组"
   ]
  },
  {
   "cell_type": "code",
   "execution_count": 4,
   "metadata": {},
   "outputs": [
    {
     "name": "stdout",
     "output_type": "stream",
     "text": [
      "a    0.597702\n",
      "b    0.563281\n",
      "c    0.028927\n",
      "dtype: float64\n",
      "--------\n",
      "a    100.0\n",
      "b    200.0\n",
      "c    200.0\n",
      "dtype: float64\n"
     ]
    }
   ],
   "source": [
    "# 修改\n",
    "\n",
    "s = pd.Series(np.random.rand(3), index = ['a','b','c'])\n",
    "print(s)\n",
    "print('--------')\n",
    "s['a'] = 100\n",
    "s[['b','c']] = 200\n",
    "print(s)\n",
    "# 通过索引直接修改，类似序列"
   ]
  },
  {
   "cell_type": "code",
   "execution_count": null,
   "metadata": {},
   "outputs": [],
   "source": []
  },
  {
   "cell_type": "code",
   "execution_count": null,
   "metadata": {},
   "outputs": [],
   "source": [
    "'''\n",
    "【课程2.5】  Pandas数据结构Dataframe：基本概念及创建\n",
    "\n",
    "\"二维数组\"Dataframe：是一个表格型的数据结构，包含一组有序的列，其列的值类型可以是数值、字符串、布尔值等。\n",
    "\n",
    "Dataframe中的数据以一个或多个二维块存放，不是列表、字典或一维数组结构。\n",
    "\n",
    "'''"
   ]
  },
  {
   "cell_type": "code",
   "execution_count": 9,
   "metadata": {},
   "outputs": [
    {
     "name": "stdout",
     "output_type": "stream",
     "text": [
      "   name  age gender\n",
      "0  Jack   18      m\n",
      "1   Tom   19      m\n",
      "2  Mary   20      w\n",
      "<class 'pandas.core.frame.DataFrame'>\n",
      "RangeIndex(start=0, stop=3, step=1) \n",
      "该数据类型为： <class 'pandas.core.indexes.range.RangeIndex'>\n",
      "Index(['name', 'age', 'gender'], dtype='object') \n",
      "该数据类型为： <class 'pandas.core.indexes.base.Index'>\n",
      "[['Jack' 18 'm']\n",
      " ['Tom' 19 'm']\n",
      " ['Mary' 20 'w']] \n",
      "该数据类型为： <class 'numpy.ndarray'>\n"
     ]
    }
   ],
   "source": [
    "# Dataframe 数据结构\n",
    "# Dataframe是一个表格型的数据结构，“带有标签的二维数组”。\n",
    "# Dataframe带有index（行标签）和columns（列标签）\n",
    "\n",
    "data = {'name':['Jack','Tom','Mary'],\n",
    "        'age':[18,19,20],\n",
    "       'gender':['m','m','w']}\n",
    "frame = pd.DataFrame(data)\n",
    "print(frame)  \n",
    "print(type(frame))\n",
    "print(frame.index,'\\n该数据类型为：',type(frame.index))\n",
    "print(frame.columns,'\\n该数据类型为：',type(frame.columns))\n",
    "print(frame.values,'\\n该数据类型为：',type(frame.values))\n",
    "# 查看数据，数据类型为dataframe\n",
    "# .index查看行标签\n",
    "# .columns查看列标签\n",
    "# .values查看值，数据类型为ndarray"
   ]
  },
  {
   "cell_type": "markdown",
   "metadata": {},
   "source": [
    "### Pandas数据结构Dataframe的创建:\n",
    "- Dataframe 创建方法一：由数组/list组成的字典\n",
    "- Dataframe 创建方法二：由Series组成的字典\n",
    "- Dataframe 创建方法三：通过二维数组直接创建（最方便快捷的方法）\n",
    "- Dataframe 创建方法四：由字典组成的列表\n",
    "- Dataframe 创建方法五：由字典组成的字典"
   ]
  },
  {
   "cell_type": "code",
   "execution_count": 16,
   "metadata": {},
   "outputs": [
    {
     "name": "stdout",
     "output_type": "stream",
     "text": [
      "{'a': [1, 2, 3], 'b': [3, 4, 5], 'c': [5, 6, 7]}\n",
      "{'one': array([0.73280108, 0.94674823, 0.50065813]), 'two': array([0.43371633, 0.23629416, 0.71345722])}\n",
      "------\n",
      "   a  b  c\n",
      "A  1  3  5\n",
      "B  2  4  6\n",
      "C  3  5  7\n",
      "        one       two\n",
      "0  0.732801  0.433716\n",
      "1  0.946748  0.236294\n",
      "2  0.500658  0.713457\n",
      "----------------\n",
      "   b  c  a    d\n",
      "0  3  5  1  NaN\n",
      "1  4  6  2  NaN\n",
      "2  5  7  3  NaN\n",
      "   b  c\n",
      "0  3  5\n",
      "1  4  6\n",
      "2  5  7\n",
      "         one       two\n",
      "f1  0.732801  0.433716\n",
      "f2  0.946748  0.236294\n",
      "f3  0.500658  0.713457\n"
     ]
    }
   ],
   "source": [
    "# Dataframe 创建方法一：由数组/list组成的字典\n",
    "# 创建方法:pandas.Dataframe()\n",
    "\n",
    "data1 = {'a':[1,2,3],\n",
    "        'b':[3,4,5],\n",
    "        'c':[5,6,7]}\n",
    "data2 = {'one':np.random.rand(3),\n",
    "        'two':np.random.rand(3)}\n",
    "print(data1)\n",
    "print(data2)\n",
    "print('------')\n",
    "df1 = pd.DataFrame(data1, index=['A','B','C'])\n",
    "df2 = pd.DataFrame(data2)\n",
    "print(df1)\n",
    "print(df2)\n",
    "print('----------------')\n",
    "# 由数组/list组成的字典 创建Dataframe，columns为字典key，index为默认数字标签\n",
    "# 字典的值的长度必须保持一致！\n",
    "\n",
    "df1 = pd.DataFrame(data1, columns = ['b','c','a','d'])\n",
    "print(df1)\n",
    "df1 = pd.DataFrame(data1, columns = ['b','c'])\n",
    "print(df1)\n",
    "# columns参数：可以重新指定列的顺序，格式为list，如果现有数据中没有该列（比如'd'），则产生NaN值\n",
    "# 如果columns重新指定时候，列的数量可以少于原数据\n",
    "\n",
    "df2 = pd.DataFrame(data2, index = ['f1','f2','f3'])  # 这里如果尝试  index = ['f1','f2','f3','f4'] 会怎么样？\n",
    "print(df2)\n",
    "# index参数：重新定义index，格式为list，长度必须保持一致"
   ]
  },
  {
   "cell_type": "code",
   "execution_count": 19,
   "metadata": {},
   "outputs": [
    {
     "name": "stdout",
     "output_type": "stream",
     "text": [
      "{'one': 0    0.900319\n",
      "1    0.171676\n",
      "dtype: float64, 'two': 0    0.846832\n",
      "1    0.119898\n",
      "2    0.807187\n",
      "dtype: float64}\n",
      "------\n",
      "{'one': a    0.150305\n",
      "b    0.132374\n",
      "dtype: float64, 'two': a    0.115882\n",
      "b    0.189449\n",
      "c    0.689907\n",
      "dtype: float64}\n",
      "----------------\n",
      "        one       two\n",
      "0  0.900319  0.846832\n",
      "1  0.171676  0.119898\n",
      "2       NaN  0.807187\n",
      "------\n",
      "        one       two\n",
      "a  0.150305  0.115882\n",
      "b  0.132374  0.189449\n",
      "c       NaN  0.689907\n"
     ]
    }
   ],
   "source": [
    "# Dataframe 创建方法二：由Series组成的字典\n",
    "\n",
    "data1 = {'one':pd.Series(np.random.rand(2)),\n",
    "        'two':pd.Series(np.random.rand(3))}  # 没有设置index的Series\n",
    "data2 = {'one':pd.Series(np.random.rand(2), index = ['a','b']),\n",
    "        'two':pd.Series(np.random.rand(3),index = ['a','b','c'])}  # 设置了index的Series\n",
    "print(data1)\n",
    "print('------')\n",
    "print(data2)\n",
    "print('----------------')\n",
    "df1 = pd.DataFrame(data1)\n",
    "df2 = pd.DataFrame(data2)\n",
    "print(df1)\n",
    "print('------')\n",
    "print(df2)\n",
    "# 由Seris组成的字典 创建Dataframe，columns为字典key，index为Series的标签（如果Series没有指定标签，则是默认数字标签）\n",
    "# Series可以长度不一样，生成的Dataframe会出现NaN值"
   ]
  },
  {
   "cell_type": "code",
   "execution_count": 24,
   "metadata": {},
   "outputs": [
    {
     "name": "stdout",
     "output_type": "stream",
     "text": [
      "[[0.96580581 0.84782916 0.32916836]\n",
      " [0.44329933 0.33975199 0.1520495 ]\n",
      " [0.85867287 0.97092353 0.57813354]]\n",
      "--------------\n",
      "          0         1         2\n",
      "0  0.965806  0.847829  0.329168\n",
      "1  0.443299  0.339752  0.152050\n",
      "2  0.858673  0.970924  0.578134\n",
      "------\n",
      "        one       two     three\n",
      "a  0.965806  0.847829  0.329168\n",
      "b  0.443299  0.339752  0.152050\n",
      "c  0.858673  0.970924  0.578134\n",
      "------\n",
      "            车型       原厂地        品牌\n",
      "Audi  0.965806  0.847829  0.329168\n",
      "BMW   0.443299  0.339752  0.152050\n",
      "Benz  0.858673  0.970924  0.578134\n"
     ]
    }
   ],
   "source": [
    "# Dataframe 创建方法三：通过二维数组直接创建（最方便快捷的方法）\n",
    "\n",
    "ar = np.random.rand(9).reshape(3,3)\n",
    "print(ar)\n",
    "print('--------------')\n",
    "df1 = pd.DataFrame(ar)\n",
    "print(df1)\n",
    "print('------')\n",
    "df2 = pd.DataFrame(ar, index=list('abc'), columns=['one','two','three'])\n",
    "df3 = pd.DataFrame(ar,\n",
    "                  columns=['车型','原厂地','品牌'],\n",
    "                  index=['Audi','BMW','Benz'])\n",
    "print(df2)\n",
    "print('------')\n",
    "print(df3)\n",
    "# 通过二维数组直接创建Dataframe，得到一样形状的结果数据，如果不指定index和columns，两者均返回默认数字格式\n",
    "# index和colunms指定长度与原数组保持一致"
   ]
  },
  {
   "cell_type": "code",
   "execution_count": 26,
   "metadata": {},
   "outputs": [
    {
     "name": "stdout",
     "output_type": "stream",
     "text": [
      "[{'one': 1, 'two': 2}, {'one': 5, 'two': 10, 'three': 20}]\n",
      "------\n",
      "   one  three  two\n",
      "0    1    NaN    2\n",
      "1    5   20.0   10 \n",
      "------\n",
      "   one  three  two\n",
      "a    1    NaN    2\n",
      "b    5   20.0   10 \n",
      "------\n",
      "   one  two\n",
      "0    1    2\n",
      "1    5   10 \n",
      "------\n"
     ]
    }
   ],
   "source": [
    "# Dataframe 创建方法四：由字典组成的列表\n",
    "\n",
    "data = [{'one': 1, 'two': 2}, {'one': 5, 'two': 10, 'three': 20}]   # 一个字典代表一行数据\n",
    "print(data)\n",
    "print('------')\n",
    "df1 = pd.DataFrame(data)\n",
    "df2 = pd.DataFrame(data, index = ['a','b'])\n",
    "df3 = pd.DataFrame(data, columns = ['one','two'])\n",
    "print(df1, '\\n------')\n",
    "print(df2, '\\n------')\n",
    "print(df3, '\\n------')\n",
    "# 由字典组成的列表创建Dataframe，columns为字典的key，index不做指定则为默认数组标签\n",
    "# colunms和index参数分别重新指定相应列及行标签"
   ]
  },
  {
   "cell_type": "code",
   "execution_count": 28,
   "metadata": {},
   "outputs": [
    {
     "name": "stdout",
     "output_type": "stream",
     "text": [
      "         Jack  Marry   Tom\n",
      "art        78     92   NaN\n",
      "english    89     95  67.0\n",
      "math       90     82  78.0\n",
      "------\n",
      "         Jack   Tom  Bob\n",
      "art        78   NaN  NaN\n",
      "english    89  67.0  NaN\n",
      "math       90  78.0  NaN \n",
      "------\n",
      "   Jack  Marry  Tom\n",
      "a   NaN    NaN  NaN\n",
      "b   NaN    NaN  NaN\n",
      "c   NaN    NaN  NaN \n",
      "------\n"
     ]
    }
   ],
   "source": [
    "# Dataframe 创建方法五：由字典组成的字典\n",
    "\n",
    "data = {'Jack':{'math':90,'english':89,'art':78},\n",
    "       'Marry':{'math':82,'english':95,'art':92},\n",
    "       'Tom':{'math':78,'english':67}}\n",
    "df1 = pd.DataFrame(data)               # 字典里面嵌套的字典，外层的key为列标签，里面的key指的每一个index （同下面一句话）\n",
    "print(df1)\n",
    "print('------')\n",
    "# 由字典组成的字典创建Dataframe，columns为字典的key，index为子字典的key\n",
    "\n",
    "df2 = pd.DataFrame(data, columns = ['Jack','Tom','Bob'])\n",
    "df3 = pd.DataFrame(data, index = ['a','b','c'])\n",
    "print(df2, '\\n------')\n",
    "print(df3, '\\n------')\n",
    "# columns参数可以增加和减少现有列，如出现新的列，值为NaN\n",
    "# index在这里和之前不同，并不能改变原有index，如果指向新的标签，值为NaN （非常重要！）"
   ]
  },
  {
   "cell_type": "code",
   "execution_count": null,
   "metadata": {},
   "outputs": [],
   "source": []
  },
  {
   "cell_type": "code",
   "execution_count": null,
   "metadata": {},
   "outputs": [],
   "source": [
    "'''\n",
    "【课程2.6】  Pandas数据结构Dataframe：索引\n",
    "\n",
    "Dataframe既有行索引也有列索引，可以被看做由Series组成的字典（共用一个索引）\n",
    "\n",
    "选择列 / 选择行 / 切片 / 布尔判断\n",
    "\n",
    "'''"
   ]
  },
  {
   "cell_type": "code",
   "execution_count": 12,
   "metadata": {},
   "outputs": [
    {
     "name": "stdout",
     "output_type": "stream",
     "text": [
      "               a          b          c          d\n",
      "one    25.600396  53.902735   9.034391  93.167683\n",
      "two    23.970339  59.729436  44.156869  99.159949\n",
      "three  67.688556  10.706322  92.217224  14.376054 \n",
      "--------\n",
      "one      25.600396\n",
      "two      23.970339\n",
      "three    67.688556\n",
      "Name: a, dtype: float64 <class 'pandas.core.series.Series'> \n",
      "--------\n",
      "               b          c\n",
      "one    53.902735   9.034391\n",
      "two    59.729436  44.156869\n",
      "three  10.706322  92.217224 <class 'pandas.core.frame.DataFrame'> \n",
      "-------------------------\n",
      "a    25.600396\n",
      "b    53.902735\n",
      "c     9.034391\n",
      "d    93.167683\n",
      "Name: one, dtype: float64 <class 'pandas.core.series.Series'> \n",
      "--------\n",
      "               a          b          c          d\n",
      "two    23.970339  59.729436  44.156869  99.159949\n",
      "three  67.688556  10.706322  92.217224  14.376054 <class 'pandas.core.frame.DataFrame'> \n",
      "-------------------------\n"
     ]
    }
   ],
   "source": [
    "# 选择行与列\n",
    "#  可以把DataFrame看成一个表格，行为每一条的数据，而列是每个数据的字段\n",
    "\n",
    "df = pd.DataFrame(np.random.rand(12).reshape(3,4)*100,\n",
    "                   index = ['one','two','three'],\n",
    "                   columns = ['a','b','c','d'])\n",
    "print(df, '\\n--------')\n",
    "\n",
    "data1 = df['a']\n",
    "data2 = df[['b', 'c']]\n",
    "print(data1, type(data1), '\\n--------')\n",
    "print(data2, type(data2), '\\n-------------------------')\n",
    "# 按照列名选择列，只选择一列输出Series，选择多列输出Dataframe\n",
    "\n",
    "data3 = df.loc['one']\n",
    "data4 = df.loc[['two','three']]\n",
    "print(data3, type(data3), '\\n--------')\n",
    "print(data4, type(data4), '\\n-------------------------')\n",
    "# 按照index选择行，只选择一行输出Series，选择多行输出Dataframe"
   ]
  },
  {
   "cell_type": "code",
   "execution_count": 14,
   "metadata": {},
   "outputs": [
    {
     "name": "stdout",
     "output_type": "stream",
     "text": [
      "               a          b          c          d\n",
      "one    82.827479  75.200471  34.894519  39.492654\n",
      "two    36.984320  79.264425  84.852038  20.561673\n",
      "three  17.909217  87.803935  16.495743  84.268068\n",
      "-----\n",
      "one      82.827479\n",
      "two      36.984320\n",
      "three    17.909217\n",
      "Name: a, dtype: float64\n",
      "               b          c\n",
      "one    75.200471  34.894519\n",
      "two    79.264425  84.852038\n",
      "three  87.803935  16.495743\n",
      "-----\n",
      "             a          b          c          d\n",
      "one  82.827479  75.200471  34.894519  39.492654 <class 'pandas.core.frame.DataFrame'>\n"
     ]
    }
   ],
   "source": [
    "# df[] - 选择列\n",
    "# 一般用于选择列，也可以选择行\n",
    "\n",
    "df = pd.DataFrame(np.random.rand(12).reshape(3,4)*100,\n",
    "                   index = ['one','two','three'],\n",
    "                   columns = ['a','b','c','d'])\n",
    "print(df)\n",
    "print('-----')\n",
    "\n",
    "data1 = df['a']\n",
    "data2 = df[['b','c']]  # 尝试输入 data2 = df[['b','c','e']]\n",
    "print(data1)\n",
    "print(data2)\n",
    "print('-----')\n",
    "# df[]默认选择列，[]中写列名（所以一般数据colunms都会单独制定，不会用默认数字列名，以免和index冲突）\n",
    "# 单选列为Series，print结果为Series格式\n",
    "# 多选列为Dataframe，print结果为Dataframe格式\n",
    "\n",
    "data3 = df[:1]\n",
    "#data3 = df[0]\n",
    "#data3 = df['one']\n",
    "print(data3,type(data3))\n",
    "# df[]中为数字时，默认选择行，且只能进行切片的选择，不能单独选择（df[0]）\n",
    "# 输出结果为Dataframe，即便只选择一行\n",
    "# df[]不能通过索引标签名来选择行(df['one'])\n",
    "\n",
    "# 核心笔记：df[col]一般用于选择列，[]中写列名"
   ]
  },
  {
   "cell_type": "code",
   "execution_count": 3,
   "metadata": {},
   "outputs": [
    {
     "name": "stdout",
     "output_type": "stream",
     "text": [
      "               a          b          c          d\n",
      "one    33.625841  50.532673  41.447907   5.363211\n",
      "two    43.029356   4.880565  91.649314  59.845644\n",
      "three  88.948400  50.249477  41.993840  71.623084\n",
      "four    1.934352  45.935272   4.863683  48.350310\n",
      "-----\n",
      "           a          b          c          d\n",
      "0  20.732686   6.220416  35.252189  31.954107\n",
      "1   0.351301  34.521091  87.898140  23.138004\n",
      "2  45.219204  47.127686  40.068251  66.358523\n",
      "3   1.894134  93.740768  81.918525  66.023161\n",
      "------------------\n",
      "a    33.625841\n",
      "b    50.532673\n",
      "c    41.447907\n",
      "d     5.363211\n",
      "Name: one, dtype: float64\n",
      "-----\n",
      "a     0.351301\n",
      "b    34.521091\n",
      "c    87.898140\n",
      "d    23.138004\n",
      "Name: 1, dtype: float64\n",
      "单标签索引\n",
      "-----------------------\n",
      "               a          b          c          d\n",
      "two    43.029356   4.880565  91.649314  59.845644\n",
      "three  88.948400  50.249477  41.993840  71.623084\n",
      "five         NaN        NaN        NaN        NaN\n",
      "-----\n",
      "           a          b          c          d\n",
      "3   1.894134  93.740768  81.918525  66.023161\n",
      "2  45.219204  47.127686  40.068251  66.358523\n",
      "1   0.351301  34.521091  87.898140  23.138004\n",
      "多标签索引\n",
      "-----------------------\n",
      "               a          b          c          d\n",
      "one    33.625841  50.532673  41.447907   5.363211\n",
      "two    43.029356   4.880565  91.649314  59.845644\n",
      "three  88.948400  50.249477  41.993840  71.623084\n",
      "           a          b          c          d\n",
      "1   0.351301  34.521091  87.898140  23.138004\n",
      "2  45.219204  47.127686  40.068251  66.358523\n",
      "3   1.894134  93.740768  81.918525  66.023161\n",
      "切片索引\n"
     ]
    },
    {
     "name": "stderr",
     "output_type": "stream",
     "text": [
      "C:\\ProgramData\\Anaconda3\\lib\\site-packages\\ipykernel_launcher.py:21: FutureWarning: \n",
      "Passing list-likes to .loc or [] with any missing label will raise\n",
      "KeyError in the future, you can use .reindex() as an alternative.\n",
      "\n",
      "See the documentation here:\n",
      "https://pandas.pydata.org/pandas-docs/stable/indexing.html#deprecate-loc-reindex-listlike\n"
     ]
    }
   ],
   "source": [
    "# df.loc[] - 按index选择行\n",
    "\n",
    "df1 = pd.DataFrame(np.random.rand(16).reshape(4,4)*100,\n",
    "                   index = ['one','two','three','four'],\n",
    "                   columns = ['a','b','c','d'])\n",
    "df2 = pd.DataFrame(np.random.rand(16).reshape(4,4)*100,\n",
    "                   columns = ['a','b','c','d'])\n",
    "print(df1)\n",
    "print('-----')\n",
    "print(df2)\n",
    "print('------------------')\n",
    "\n",
    "data1 = df1.loc['one']\n",
    "data2 = df2.loc[1]\n",
    "print(data1)\n",
    "print('-----')\n",
    "print(data2)\n",
    "print('单标签索引\\n-----------------------')\n",
    "# 单个标签索引，返回Series\n",
    "\n",
    "data3 = df1.loc[['two','three','five']]\n",
    "data4 = df2.loc[[3,2,1]]\n",
    "print(data3)\n",
    "print('-----')\n",
    "print(data4)\n",
    "print('多标签索引\\n-----------------------')\n",
    "# 多个标签索引，如果标签不存在，则返回NaN\n",
    "# 顺序可变\n",
    "\n",
    "data5 = df1.loc['one':'three']\n",
    "data6 = df2.loc[1:3]\n",
    "print(data5)\n",
    "print(data6)\n",
    "print('切片索引')\n",
    "# 可以做切片对象\n",
    "# 末端包含\n",
    "\n",
    "# 核心笔记：df.loc[label]主要针对index选择行，同时支持指定index，及默认数字index"
   ]
  },
  {
   "cell_type": "code",
   "execution_count": 5,
   "metadata": {},
   "outputs": [
    {
     "name": "stdout",
     "output_type": "stream",
     "text": [
      "               a          b          c          d\n",
      "one    22.126786  43.909248  13.937520  50.314303\n",
      "two    59.011696  14.716085  34.286478  26.053346\n",
      "three  97.524601  83.200359  75.753947  89.147960\n",
      "four   40.896816  12.829479   6.540546  78.623216\n",
      "------\n",
      "a    22.126786\n",
      "b    43.909248\n",
      "c    13.937520\n",
      "d    50.314303\n",
      "Name: one, dtype: float64\n",
      "a    40.896816\n",
      "b    12.829479\n",
      "c     6.540546\n",
      "d    78.623216\n",
      "Name: four, dtype: float64\n",
      "单位置索引\n",
      "-----\n",
      "               a          b          c          d\n",
      "one    22.126786  43.909248  13.937520  50.314303\n",
      "three  97.524601  83.200359  75.753947  89.147960\n",
      "               a          b          c          d\n",
      "four   40.896816  12.829479   6.540546  78.623216\n",
      "three  97.524601  83.200359  75.753947  89.147960\n",
      "two    59.011696  14.716085  34.286478  26.053346\n",
      "多位置索引\n",
      "-----\n",
      "               a          b          c          d\n",
      "two    59.011696  14.716085  34.286478  26.053346\n",
      "three  97.524601  83.200359  75.753947  89.147960\n",
      "               a          b          c          d\n",
      "one    22.126786  43.909248  13.937520  50.314303\n",
      "three  97.524601  83.200359  75.753947  89.147960\n",
      "切片索引\n"
     ]
    }
   ],
   "source": [
    "# df.iloc[] - 按照整数位置（从轴的0到length-1）选择行\n",
    "# 类似list的索引，其顺序就是dataframe的整数位置，从0开始计\n",
    "\n",
    "df = pd.DataFrame(np.random.rand(16).reshape(4,4)*100,\n",
    "                   index = ['one','two','three','four'],\n",
    "                   columns = ['a','b','c','d'])\n",
    "print(df)\n",
    "print('------')\n",
    "\n",
    "print(df.iloc[0])\n",
    "print(df.iloc[-1])\n",
    "#print(df.iloc[4])\n",
    "print('单位置索引\\n-----')\n",
    "# 单位置索引\n",
    "# 和loc索引不同，不能索引超出数据行数的整数位置\n",
    "\n",
    "print(df.iloc[[0,2]])\n",
    "print(df.iloc[[3,2,1]])\n",
    "print('多位置索引\\n-----')\n",
    "# 多位置索引\n",
    "# 顺序可变\n",
    "\n",
    "print(df.iloc[1:3])\n",
    "print(df.iloc[::2])\n",
    "print('切片索引')\n",
    "# 切片索引\n",
    "# 末端不包含"
   ]
  },
  {
   "cell_type": "code",
   "execution_count": 12,
   "metadata": {},
   "outputs": [
    {
     "name": "stdout",
     "output_type": "stream",
     "text": [
      "               a          b          c          d\n",
      "one    38.230462  71.457163   0.390406   5.269502\n",
      "two    36.083732  92.396516  25.538563  83.743486\n",
      "three  29.862224  67.044095  53.170543  83.193700\n",
      "four    4.869999  24.850626  11.828308  91.340722\n",
      "------\n",
      "           a      b      c      d\n",
      "one    False  False   True   True\n",
      "two    False  False  False  False\n",
      "three  False  False  False  False\n",
      "four    True  False   True  False <class 'pandas.core.frame.DataFrame'>\n",
      "              a   b          c         d\n",
      "one         NaN NaN   0.390406  5.269502\n",
      "two         NaN NaN        NaN       NaN\n",
      "three       NaN NaN        NaN       NaN\n",
      "four   4.869999 NaN  11.828308       NaN\n",
      "------\n",
      "one      False\n",
      "two      False\n",
      "three    False\n",
      "four     False\n",
      "Name: a, dtype: bool <class 'pandas.core.series.Series'>\n",
      "Empty DataFrame\n",
      "Columns: [a, b, c, d]\n",
      "Index: []\n",
      "------\n",
      "           a      b\n",
      "one    False   True\n",
      "two    False   True\n",
      "three  False   True\n",
      "four   False  False <class 'pandas.core.frame.DataFrame'>\n",
      "        a          b   c   d\n",
      "one   NaN  71.457163 NaN NaN\n",
      "two   NaN  92.396516 NaN NaN\n",
      "three NaN  67.044095 NaN NaN\n",
      "four  NaN        NaN NaN NaN\n",
      "------\n",
      "          a      b      c      d\n",
      "one    True  False   True   True\n",
      "three  True  False  False  False <class 'pandas.core.frame.DataFrame'>\n",
      "               a   b         c         d\n",
      "one    38.230462 NaN  0.390406  5.269502\n",
      "two          NaN NaN       NaN       NaN\n",
      "three  29.862224 NaN       NaN       NaN\n",
      "four         NaN NaN       NaN       NaN\n",
      "------\n"
     ]
    }
   ],
   "source": [
    "# 布尔型索引\n",
    "# 和Series原理相同\n",
    "\n",
    "df = pd.DataFrame(np.random.rand(16).reshape(4,4)*100,\n",
    "                   index = ['one','two','three','four'],\n",
    "                   columns = ['a','b','c','d'])\n",
    "print(df)\n",
    "print('------')\n",
    "\n",
    "b1 = df < 20\n",
    "print(b1,type(b1))\n",
    "print(df[b1])  # 也可以书写为 df[df < 20]\n",
    "print('------')\n",
    "# 不做索引则会对数据每个值进行判断\n",
    "# 索引结果保留 所有数据：True返回原数据，False返回值为NaN\n",
    "\n",
    "###############################################################################\n",
    "b2 = df['a'] > 50\n",
    "print(b2,type(b2))\n",
    "print(df[b2])  # 也可以书写为 df[df['a'] > 50]\n",
    "print('------')\n",
    "# 单列做判断\n",
    "# 索引结果保留 单列判断为True的行数据，包括其他列\n",
    "\n",
    "#(注意：单列判断，是唯一不保留全部数据的)\n",
    "###############################################################################\n",
    "\n",
    "b3 = df[['a','b']] > 50\n",
    "print(b3,type(b3))\n",
    "print(df[b3])  # 也可以书写为 df[df[['a','b']] > 50]\n",
    "print('------')\n",
    "# 多列做判断\n",
    "# 索引结果保留 所有数据：True返回原数据，False返回值为NaN\n",
    "\n",
    "b4 = df.loc[['one','three']] < 50\n",
    "print(b4,type(b4))\n",
    "print(df[b4])  # 也可以书写为 df[df.loc[['one','three']] < 50]\n",
    "print('------')\n",
    "# 多行做判断\n",
    "# 索引结果保留 所有数据：True返回原数据，False返回值为NaN"
   ]
  },
  {
   "cell_type": "code",
   "execution_count": 19,
   "metadata": {},
   "outputs": [
    {
     "name": "stdout",
     "output_type": "stream",
     "text": [
      "               a          b          c          d\n",
      "one     3.358304   8.199248  38.742970  37.204543\n",
      "two    46.503437  43.759202  43.216442  45.305288\n",
      "three  19.248062  87.948499  42.195306  93.657876\n",
      "four   48.609395  22.168608  90.905293  64.004276\n",
      "------\n",
      "one       3.358304\n",
      "three    19.248062\n",
      "Name: a, dtype: float64\n",
      "               b          c          d\n",
      "one     8.199248  38.742970  37.204543\n",
      "three  87.948499  42.195306  93.657876\n",
      "             a          b          c          d\n",
      "one   3.358304   8.199248  38.742970  37.204543\n",
      "two  46.503437  43.759202  43.216442  45.305288\n"
     ]
    }
   ],
   "source": [
    "# 多重索引：比如同时索引行和列\n",
    "# 先选择列再选择行 —— 相当于对于一个数据，先筛选字段，再选择数据量\n",
    "\n",
    "df = pd.DataFrame(np.random.rand(16).reshape(4,4)*100,\n",
    "                   index = ['one','two','three','four'],\n",
    "                   columns = ['a','b','c','d'])\n",
    "print(df)\n",
    "print('------')\n",
    "\n",
    "print(df['a'].loc[['one','three']])   # 选择a列的one，three行\n",
    "print(df[['b','c','d']].iloc[::2])   # 选择b，c，d列的one，three行\n",
    "print(df[df['a'] < 50].iloc[:2])   # 选择满足判断索引的前两行数据"
   ]
  },
  {
   "cell_type": "code",
   "execution_count": 18,
   "metadata": {},
   "outputs": [
    {
     "name": "stdout",
     "output_type": "stream",
     "text": [
      "             Audi       BMW      BENZ     LEXUS    JAGUAR\n",
      "Asia     7.755417  8.376452  1.993549  2.730158  2.080328\n",
      "Europe   4.699057  6.806282  7.248387  7.819352  4.605810\n",
      "America  1.266001  7.017321  2.772197  7.962177  5.596918\n",
      "Oceania  9.505852  6.740780  4.900251  7.794477  1.990105\n",
      "Africa   4.773486  8.758432  8.121713  1.076802  7.526734\n",
      "--------------------------------------------------------------------------------------\n"
     ]
    }
   ],
   "source": [
    "######################## test ########################\n",
    "df = pd.DataFrame(np.random.rand(25).reshape(5,5)*10,\n",
    "                 index=['Asia', 'Europe', 'America', 'Oceania', 'Africa'],\n",
    "                 columns=['Audi', 'BMW', 'BENZ', 'LEXUS', 'JAGUAR'])\n",
    "print(df)\n",
    "print('-'*86)\n",
    "\n"
   ]
  },
  {
   "cell_type": "code",
   "execution_count": null,
   "metadata": {},
   "outputs": [],
   "source": []
  },
  {
   "cell_type": "code",
   "execution_count": null,
   "metadata": {},
   "outputs": [],
   "source": [
    "'''\n",
    "【课程2.7】  Pandas数据结构Dataframe：基本技巧\n",
    "\n",
    "数据查看、转置 / 添加、修改、删除值 / 对齐 / 排序\n",
    "\n",
    "'''"
   ]
  },
  {
   "cell_type": "code",
   "execution_count": 21,
   "metadata": {},
   "outputs": [
    {
     "name": "stdout",
     "output_type": "stream",
     "text": [
      "           a          b\n",
      "0  79.726911  51.759328\n",
      "1  12.705264  89.910346\n",
      "2  91.700699  96.922097\n",
      "3  95.050301   9.029582\n",
      "4  85.735165  62.583219\n",
      "5  65.094230  54.246170\n",
      "6  26.551482  95.757632\n",
      "7  66.548282  70.526271 \n",
      "------------\n",
      "           a          b\n",
      "0  79.726911  51.759328\n",
      "1  12.705264  89.910346\n",
      "           a          b\n",
      "3  95.050301   9.029582\n",
      "4  85.735165  62.583219\n",
      "5  65.094230  54.246170\n",
      "6  26.551482  95.757632\n",
      "7  66.548282  70.526271\n",
      "           0          1          2          3          4         5          6  \\\n",
      "a  79.726911  12.705264  91.700699  95.050301  85.735165  65.09423  26.551482   \n",
      "b  51.759328  89.910346  96.922097   9.029582  62.583219  54.24617  95.757632   \n",
      "\n",
      "           7  \n",
      "a  66.548282  \n",
      "b  70.526271  \n"
     ]
    }
   ],
   "source": [
    "# 数据查看、转置\n",
    "\n",
    "df = pd.DataFrame(np.random.rand(16).reshape(8,2)*100,\n",
    "                   columns = ['a','b'])\n",
    "print(df, '\\n------------')\n",
    "print(df.head(2))\n",
    "print(df.tail())\n",
    "# .head()查看头部数据\n",
    "# .tail()查看尾部数据\n",
    "# 默认查看5条\n",
    "\n",
    "print(df.T)\n",
    "# .T 转置"
   ]
  },
  {
   "cell_type": "code",
   "execution_count": 23,
   "metadata": {},
   "outputs": [
    {
     "name": "stdout",
     "output_type": "stream",
     "text": [
      "           a          b          c          d\n",
      "0  13.666008  48.195909  44.456173  44.543856\n",
      "1  78.937663  39.733285  62.808600  67.793341\n",
      "2  30.886789  70.398138  19.210762  59.032518\n",
      "3  75.559800  40.128344  36.831981  95.156614\n",
      "           a          b          c          d   e\n",
      "0  13.666008  48.195909  44.456173  44.543856  10\n",
      "1  78.937663  39.733285  62.808600  67.793341  10\n",
      "2  30.886789  70.398138  19.210762  59.032518  10\n",
      "3  75.559800  40.128344  36.831981  95.156614  10\n",
      "4  20.000000  20.000000  20.000000  20.000000  20\n",
      "     a           b    c           d    e\n",
      "0  888  888.000000  888  888.000000  888\n",
      "1  100   39.733285  100   67.793341   20\n",
      "2  888  888.000000  888  888.000000  888\n",
      "3  100   40.128344  100   95.156614   20\n",
      "4  888  888.000000  888  888.000000  888\n"
     ]
    }
   ],
   "source": [
    "# 添加与修改\n",
    "\n",
    "df = pd.DataFrame(np.random.rand(16).reshape(4,4)*100,\n",
    "                   columns = ['a','b','c','d'])\n",
    "print(df)\n",
    "\n",
    "df['e'] = 10    # 增加列\n",
    "df.loc[4] = 20  # 增加行\n",
    "print(df)\n",
    "# 新增列/行并赋值\n",
    "\n",
    "df['e'] = 20\n",
    "df[['a','c']] = 100\n",
    "df.iloc[::2] = 888\n",
    "print(df)\n",
    "# 索引后直接修改值"
   ]
  },
  {
   "cell_type": "code",
   "execution_count": 2,
   "metadata": {},
   "outputs": [
    {
     "name": "stdout",
     "output_type": "stream",
     "text": [
      "           a          b          c          d\n",
      "0  25.754341  89.985721  73.504195   1.064187\n",
      "1  25.817409  21.781065  38.347780  32.940213\n",
      "2  16.612914  18.106373   8.708667   4.168469\n",
      "3  30.741575  41.806382  27.450920  33.883684\n",
      "           b          c          d\n",
      "0  89.985721  73.504195   1.064187\n",
      "1  21.781065  38.347780  32.940213\n",
      "2  18.106373   8.708667   4.168469\n",
      "3  41.806382  27.450920  33.883684\n",
      "-----\n",
      "           b          c          d\n",
      "1  21.781065  38.347780  32.940213\n",
      "2  18.106373   8.708667   4.168469\n",
      "3  41.806382  27.450920  33.883684\n",
      "           b          c          d\n",
      "0  89.985721  73.504195   1.064187\n",
      "3  41.806382  27.450920  33.883684\n",
      "           b          c          d\n",
      "0  89.985721  73.504195   1.064187\n",
      "1  21.781065  38.347780  32.940213\n",
      "2  18.106373   8.708667   4.168469\n",
      "3  41.806382  27.450920  33.883684\n",
      "-----\n",
      "           b          c\n",
      "0  89.985721  73.504195\n",
      "1  21.781065  38.347780\n",
      "2  18.106373   8.708667\n",
      "3  41.806382  27.450920\n"
     ]
    }
   ],
   "source": [
    "# 删除  del / drop()\n",
    "\n",
    "df = pd.DataFrame(np.random.rand(16).reshape(4,4)*100,\n",
    "                   columns = ['a','b','c','d'])\n",
    "print(df)\n",
    "\n",
    "del df['a']\n",
    "print(df)\n",
    "print('-----')\n",
    "# del语句 - 删除列\n",
    "\n",
    "print(df.drop(0))\n",
    "print(df.drop([1,2]))\n",
    "print(df)\n",
    "print('-----')\n",
    "# drop()删除行，inplace=False → 删除后生成新的数据，不改变原数据\n",
    "\n",
    "print(df.drop(['d'], axis = 1))\n",
    "# print(df)\n",
    "# # drop()删除列，需要加上axis = 1，inplace=False → 删除后生成新的数据，不改变原数据"
   ]
  },
  {
   "cell_type": "code",
   "execution_count": 3,
   "metadata": {},
   "outputs": [
    {
     "name": "stdout",
     "output_type": "stream",
     "text": [
      "          A         B         C         D\n",
      "0  1.502070  1.742547 -1.414634  0.917119\n",
      "1 -0.279279  0.349783  0.044687 -1.980581\n",
      "2  0.264895  1.318283 -1.337001 -0.139797\n",
      "3  0.342850 -1.356015  0.427384 -0.256008\n",
      "4 -1.047323  0.208647 -0.967521 -0.326302\n",
      "5 -0.800368 -0.457484 -2.056408 -0.921261\n",
      "6 -0.877822  0.454901 -0.027349  1.514753\n",
      "7  0.480841 -0.111529  1.177591  0.916565\n",
      "8 -1.917589 -2.381563 -0.608797  0.517385\n",
      "9  0.583672 -0.120165  1.224820 -1.909454 \n",
      "------\n",
      "          A         B         C\n",
      "0  0.757110  0.472973  1.105212\n",
      "1 -1.926311  2.055179  0.307779\n",
      "2 -0.153482 -0.462496 -1.084647\n",
      "3 -0.473064 -0.105426 -0.930849\n",
      "4 -0.298493  0.527029  0.487208\n",
      "5 -0.302937  0.498740 -0.161303\n",
      "6 -0.139876  1.210836  1.505337 \n",
      "------\n",
      "          A         B         C   D\n",
      "0  2.259180  2.215520 -0.309422 NaN\n",
      "1 -2.205589  2.404962  0.352465 NaN\n",
      "2  0.111413  0.855787 -2.421648 NaN\n",
      "3 -0.130214 -1.461440 -0.503465 NaN\n",
      "4 -1.345816  0.735676 -0.480312 NaN\n",
      "5 -1.103305  0.041256 -2.217711 NaN\n",
      "6 -1.017698  1.665737  1.477987 NaN\n",
      "7       NaN       NaN       NaN NaN\n",
      "8       NaN       NaN       NaN NaN\n",
      "9       NaN       NaN       NaN NaN\n"
     ]
    }
   ],
   "source": [
    "# 对齐\n",
    "\n",
    "df1 = pd.DataFrame(np.random.randn(10, 4), columns=['A', 'B', 'C', 'D'])\n",
    "df2 = pd.DataFrame(np.random.randn(7, 3), columns=['A', 'B', 'C'])\n",
    "print(df1, '\\n------')\n",
    "print(df2, '\\n------')\n",
    "print(df1 + df2)\n",
    "# DataFrame对象之间的数据自动按照列和索引（行标签）对齐"
   ]
  },
  {
   "cell_type": "code",
   "execution_count": null,
   "metadata": {},
   "outputs": [],
   "source": [
    "# 排序1 - 按值排序 .sort_values\n",
    "# 同样适用于Series\n",
    "\n"
   ]
  },
  {
   "cell_type": "code",
   "execution_count": null,
   "metadata": {},
   "outputs": [],
   "source": [
    "# 排序2 - 索引排序 .sort_index\n",
    "\n"
   ]
  },
  {
   "cell_type": "code",
   "execution_count": null,
   "metadata": {},
   "outputs": [],
   "source": []
  }
 ],
 "metadata": {
  "kernelspec": {
   "display_name": "Python 3",
   "language": "python",
   "name": "python3"
  },
  "language_info": {
   "codemirror_mode": {
    "name": "ipython",
    "version": 3
   },
   "file_extension": ".py",
   "mimetype": "text/x-python",
   "name": "python",
   "nbconvert_exporter": "python",
   "pygments_lexer": "ipython3",
   "version": "3.7.3"
  }
 },
 "nbformat": 4,
 "nbformat_minor": 2
}
