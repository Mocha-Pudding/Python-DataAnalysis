{
 "cells": [
  {
   "cell_type": "code",
   "execution_count": null,
   "metadata": {},
   "outputs": [],
   "source": [
    "'''\n",
    "【课程2.2】  Pandas数据结构Series：基本概念及创建\n",
    "\n",
    "\"一维数组\"Serise\n",
    "\n",
    "'''"
   ]
  },
  {
   "cell_type": "code",
   "execution_count": 1,
   "metadata": {},
   "outputs": [],
   "source": [
    "# 导入numpy、pandas模块\n",
    "import numpy as np\n",
    "import pandas as pd"
   ]
  },
  {
   "cell_type": "code",
   "execution_count": 2,
   "metadata": {},
   "outputs": [
    {
     "name": "stdout",
     "output_type": "stream",
     "text": [
      "[0.78087401 0.73607659 0.55375446 0.17752614 0.74582616]\n",
      "0    0.780874\n",
      "1    0.736077\n",
      "2    0.553754\n",
      "3    0.177526\n",
      "4    0.745826\n",
      "dtype: float64\n",
      "<class 'numpy.ndarray'> <class 'pandas.core.series.Series'>\n",
      "-----------\n",
      "RangeIndex(start=0, stop=5, step=1) [0, 1, 2, 3, 4]\n",
      "[0.78087401 0.73607659 0.55375446 0.17752614 0.74582616] <class 'numpy.ndarray'>\n",
      "a    0.780874\n",
      "b    0.736077\n",
      "c    0.553754\n",
      "d    0.177526\n",
      "e    0.745826\n",
      "dtype: float64\n"
     ]
    }
   ],
   "source": [
    "# Series 数据结构\n",
    "# Series 是带有标签的一维数组，可以保存任何数据类型（整数，字符串，浮点数，Python对象等）,轴标签统称为索引\n",
    "\n",
    "ar = np.random.rand(5)\n",
    "s = pd.Series(ar)\n",
    "print(ar)\n",
    "print(s)\n",
    "print(type(ar), type(s))\n",
    "print('-----------')\n",
    "print(s.index, list(s.index))\n",
    "print(s.values, type(s.values))\n",
    "# .index查看series索引，类型为rangeindex\n",
    "# .values查看series值，类型是ndarray\n",
    "\n",
    "# 核心：series相比于ndarray，是一个自带索引index的数组 → 一维数组 + 对应索引\n",
    "# 所以当只看series的值的时候，就是一个ndarray\n",
    "# series和ndarray较相似，索引切片功能差别不大\n",
    "# series和dict相比，series更像一个有顺序的字典（dict本身不存在顺序），其索引原理与字典相似（一个用key，一个用index）\n",
    "\n",
    "s2 = pd.Series(ar, index=list('abcde'))   # 索引index不一定为数字，可以是字母\n",
    "print(s2)"
   ]
  },
  {
   "cell_type": "code",
   "execution_count": 3,
   "metadata": {},
   "outputs": [
    {
     "name": "stdout",
     "output_type": "stream",
     "text": [
      "a        1\n",
      "b        2\n",
      "c        3\n",
      "d    hello\n",
      "5       20\n",
      "dtype: object\n"
     ]
    }
   ],
   "source": [
    "# Series 创建方法一：由字典创建，字典的key就是index，values就是values\n",
    "\n",
    "dic = {'a':1, 'b':2, 'c':3, 'd':'hello', 5:20}\n",
    "s = pd.Series(dic)\n",
    "print(s)"
   ]
  },
  {
   "cell_type": "code",
   "execution_count": 5,
   "metadata": {},
   "outputs": [
    {
     "name": "stdout",
     "output_type": "stream",
     "text": [
      "[63.6564218   7.22909602 76.30702407 18.36791927 31.07190755 99.63579016\n",
      " 45.13901961 75.9642771  32.49118264 31.47198809]\n",
      "a    63.656422\n",
      "b     7.229096\n",
      "c    76.307024\n",
      "d    18.367919\n",
      "e    31.071908\n",
      "f    99.635790\n",
      "g    45.139020\n",
      "h    75.964277\n",
      "i    32.491183\n",
      "j    31.471988\n",
      "dtype: float64\n"
     ]
    }
   ],
   "source": [
    "# Series 创建方法二：由数组创建(一维数组)\n",
    "\n",
    "arr = np.random.rand(10,)*100\n",
    "print(arr)\n",
    "ss = pd.Series(arr, index=list('abcdefghij'), dtype=np.int)\n",
    "print(ss)\n",
    "\n",
    "# 默认index是从0开始，步长为1的数字\n",
    "# index参数：设置index，长度保持一致\n",
    "# dtype参数：设置数值类型"
   ]
  },
  {
   "cell_type": "code",
   "execution_count": 8,
   "metadata": {},
   "outputs": [
    {
     "name": "stdout",
     "output_type": "stream",
     "text": [
      "0    126\n",
      "1    126\n",
      "2    126\n",
      "3    126\n",
      "4    126\n",
      "5    126\n",
      "6    126\n",
      "7    126\n",
      "8    126\n",
      "9    126\n",
      "dtype: int64\n"
     ]
    }
   ],
   "source": [
    "# Series 创建方法三：由标量创建\n",
    "\n",
    "s = pd.Series(126, index = range(10))\n",
    "print(s)\n",
    "# 如果data是标量值，则必须提供索引。该值会重复，来匹配索引的长度"
   ]
  },
  {
   "cell_type": "code",
   "execution_count": 6,
   "metadata": {},
   "outputs": [
    {
     "name": "stdout",
     "output_type": "stream",
     "text": [
      "0   -0.680570\n",
      "1   -0.874072\n",
      "2   -1.713062\n",
      "3   -0.100428\n",
      "4    0.114255\n",
      "dtype: float64\n",
      "-----\n",
      "0   -0.344364\n",
      "1   -0.144433\n",
      "2    0.772970\n",
      "3    0.591344\n",
      "4    1.075392\n",
      "Name: test, dtype: float64\n",
      "None test <class 'str'>\n",
      "0   -0.344364\n",
      "1   -0.144433\n",
      "2    0.772970\n",
      "3    0.591344\n",
      "4    1.075392\n",
      "Name: hehehe, dtype: float64\n",
      "hehehe test\n"
     ]
    }
   ],
   "source": [
    "# Series 名称属性：name\n",
    "\n",
    "s1 = pd.Series(np.random.randn(5))\n",
    "print(s1)\n",
    "print('-----')\n",
    "s2 = pd.Series(np.random.randn(5),name = 'test')\n",
    "print(s2)\n",
    "print(s1.name, s2.name,type(s2.name))\n",
    "# name为Series的一个参数，创建一个数组的 名称\n",
    "# .name方法：输出数组的名称，输出格式为str，如果没用定义输出名称，输出为None\n",
    "\n",
    "s3 = s2.rename('hehehe')\n",
    "print(s3)\n",
    "print(s3.name, s2.name)\n",
    "# .rename()重命名一个数组的名称，并且新指向一个数组，原数组不变"
   ]
  },
  {
   "cell_type": "code",
   "execution_count": null,
   "metadata": {},
   "outputs": [],
   "source": []
  },
  {
   "cell_type": "code",
   "execution_count": null,
   "metadata": {},
   "outputs": [],
   "source": [
    "'''\n",
    "【课程2.3】  Pandas数据结构Series：索引\n",
    "\n",
    "位置下标 / 标签索引 / 切片索引 / 布尔型索引\n",
    "\n",
    "'''"
   ]
  },
  {
   "cell_type": "code",
   "execution_count": 5,
   "metadata": {},
   "outputs": [
    {
     "name": "stdout",
     "output_type": "stream",
     "text": [
      "0    0.936244\n",
      "1    0.488159\n",
      "2    0.969322\n",
      "3    0.122498\n",
      "4    0.347878\n",
      "5    0.633508\n",
      "6    0.537084\n",
      "7    0.769413\n",
      "8    0.722966\n",
      "9    0.380726\n",
      "dtype: float64\n",
      "0.6335081178183238 <class 'numpy.float64'> float64\n"
     ]
    }
   ],
   "source": [
    "# 位置下标，类似序列\n",
    "\n",
    "s = pd.Series(np.random.rand(10))\n",
    "print(s)\n",
    "print(s[5],type(s[6]),s[7].dtype)\n",
    "# 位置下标从0开始"
   ]
  },
  {
   "cell_type": "code",
   "execution_count": 10,
   "metadata": {},
   "outputs": [
    {
     "name": "stdout",
     "output_type": "stream",
     "text": [
      "a    0.227128\n",
      "b    0.728541\n",
      "c    0.904424\n",
      "d    0.837876\n",
      "e    0.453048\n",
      "dtype: float64\n",
      "0.22712756824129432 <class 'numpy.float64'> float64\n",
      "c    0.904424\n",
      "a    0.227128\n",
      "b    0.728541\n",
      "dtype: float64\n",
      "a    0.227128\n",
      "b    0.728541\n",
      "e    0.453048\n",
      "dtype: float64 <class 'pandas.core.series.Series'>\n"
     ]
    }
   ],
   "source": [
    "# 标签索引\n",
    "\n",
    "s = pd.Series(np.random.rand(5), index = ['a','b','c','d','e'])\n",
    "print(s)\n",
    "print(s['a'],type(s['a']),s['a'].dtype)\n",
    "# 方法类似下标索引，用[]表示，内写上index，注意index是字符串\n",
    "\n",
    "print(s[['c','a','b']])  # 同时选取多个标签的时候,可以不按顺序\n",
    "sci = s[['a','b','e']]\n",
    "print(sci,type(sci))\n",
    "# 如果需要选择多个标签的值，用[[]]来表示（相当于[]中包含一个列表）\n",
    "# 多标签索引结果是新的数组"
   ]
  },
  {
   "cell_type": "code",
   "execution_count": 18,
   "metadata": {},
   "outputs": [
    {
     "name": "stdout",
     "output_type": "stream",
     "text": [
      "0    0.991787\n",
      "1    0.081731\n",
      "2    0.365219\n",
      "3    0.909600\n",
      "4    0.770595\n",
      "dtype: float64 \n",
      "--------\n",
      "a    0.255550\n",
      "b    0.106897\n",
      "c    0.748090\n",
      "d    0.890867\n",
      "e    0.663743\n",
      "dtype: float64 \n",
      "--------\n",
      "1    0.081731\n",
      "2    0.365219\n",
      "3    0.909600\n",
      "dtype: float64 0.7705951301209877\n",
      "a    0.255550\n",
      "b    0.106897\n",
      "c    0.748090\n",
      "dtype: float64 0.748090356710721\n",
      "a    0.255550\n",
      "b    0.106897\n",
      "c    0.748090\n",
      "dtype: float64 0.8908674757739627\n",
      "-----\n",
      "a    0.255550\n",
      "b    0.106897\n",
      "c    0.748090\n",
      "d    0.890867\n",
      "dtype: float64\n",
      "a    0.255550\n",
      "c    0.748090\n",
      "e    0.663743\n",
      "dtype: float64\n"
     ]
    }
   ],
   "source": [
    "# 切片索引\n",
    "\n",
    "s1 = pd.Series(np.random.rand(5))\n",
    "s2 = pd.Series(np.random.rand(5),index=['a','b','c','d','e'])\n",
    "print(s1, '\\n--------')\n",
    "print(s2, '\\n--------')\n",
    "print(s1[1:4], s1[4])   # 下标\n",
    "print(s2['a':'c'], s2['c'])   # 标签(末端包含)\n",
    "print(s2[0:3], s2[3])\n",
    "print('-----')\n",
    "# 注意：用标签索引index做切片是末端包含\n",
    "\n",
    "print(s2[:-1])\n",
    "print(s2[::2])\n",
    "# 下标索引做切片，和list写法一样"
   ]
  },
  {
   "cell_type": "code",
   "execution_count": 23,
   "metadata": {},
   "outputs": [
    {
     "name": "stdout",
     "output_type": "stream",
     "text": [
      "0    92.2965\n",
      "1    72.1777\n",
      "2    5.77241\n",
      "4       None\n",
      "5        NaN\n",
      "dtype: object\n",
      "0     True\n",
      "1     True\n",
      "2    False\n",
      "4    False\n",
      "5    False\n",
      "dtype: bool <class 'pandas.core.series.Series'> bool \n",
      "--------\n",
      "0    False\n",
      "1    False\n",
      "2    False\n",
      "4     True\n",
      "5     True\n",
      "dtype: bool <class 'pandas.core.series.Series'> bool \n",
      "--------\n",
      "0     True\n",
      "1     True\n",
      "2     True\n",
      "4    False\n",
      "5    False\n",
      "dtype: bool <class 'pandas.core.series.Series'> bool \n",
      "--------\n",
      "------------------------------\n",
      "0    92.2965\n",
      "1    72.1777\n",
      "dtype: object\n",
      "0    92.2965\n",
      "1    72.1777\n",
      "2    5.77241\n",
      "dtype: object\n"
     ]
    }
   ],
   "source": [
    "# 布尔型索引\n",
    "\n",
    "s = pd.Series(np.random.rand(3)*100)\n",
    "s[4] = None  # 添加一个空值\n",
    "s[5] = np.nan   # 添加空值也可以这样写\n",
    "print(s)\n",
    "bs1 = s > 50\n",
    "bs2 = s.isnull()\n",
    "bs3 = s.notnull()\n",
    "print(bs1, type(bs1), bs1.dtype, '\\n--------')\n",
    "print(bs2, type(bs2), bs2.dtype, '\\n--------')\n",
    "print(bs3, type(bs3), bs3.dtype, '\\n--------')\n",
    "print('------------------------------')\n",
    "# 数组做判断之后，返回的是一个由布尔值组成的新的数组\n",
    "# .isnull() / .notnull() 判断是否为空值 (None代表空值，NaN代表有问题的数值，两个都会识别为空值)\n",
    "\n",
    "print(s[s > 50])\n",
    "print(s[bs3])\n",
    "# 布尔型索引方法：用[判断条件]表示，其中判断条件可以是 一个语句，或者是 一个布尔型数组！"
   ]
  },
  {
   "cell_type": "code",
   "execution_count": null,
   "metadata": {},
   "outputs": [],
   "source": []
  },
  {
   "cell_type": "code",
   "execution_count": null,
   "metadata": {},
   "outputs": [],
   "source": [
    "'''\n",
    "【课程2.4】  Pandas数据结构Series：基本技巧\n",
    "\n",
    "数据查看 / 重新索引 / 对齐 / 添加、修改、删除值\n",
    "\n",
    "'''"
   ]
  },
  {
   "cell_type": "code",
   "execution_count": 24,
   "metadata": {},
   "outputs": [
    {
     "name": "stdout",
     "output_type": "stream",
     "text": [
      "0    0.302604\n",
      "1    0.907364\n",
      "2    0.766996\n",
      "3    0.067825\n",
      "4    0.762444\n",
      "dtype: float64\n",
      "10    0.916022\n",
      "11    0.214472\n",
      "12    0.182211\n",
      "13    0.564559\n",
      "14    0.222518\n",
      "dtype: float64\n"
     ]
    }
   ],
   "source": [
    "# 数据查看\n",
    "\n",
    "s = pd.Series(np.random.rand(15))\n",
    "print(s.head())\n",
    "print(s.tail())\n",
    "# .head()查看头部数据\n",
    "# .tail()查看尾部数据\n",
    "# 默认查看5条"
   ]
  },
  {
   "cell_type": "code",
   "execution_count": 33,
   "metadata": {},
   "outputs": [
    {
     "name": "stdout",
     "output_type": "stream",
     "text": [
      "a    0.402655\n",
      "b    0.699154\n",
      "c    0.308334\n",
      "d    0.787954\n",
      "e    0.560302\n",
      "dtype: float64\n",
      "--------\n",
      "zz         NaN\n",
      "yy         NaN\n",
      "xx         NaN\n",
      "c     0.308334\n",
      "a     0.402655\n",
      "dtype: float64\n",
      "zz         NaN\n",
      "yy         NaN\n",
      "xx         NaN\n",
      "c     0.308334\n",
      "a     0.402655\n",
      "dtype: float64\n",
      "--------\n",
      "zz        0.000000\n",
      "yy        0.000000\n",
      "xx        0.000000\n",
      "c         0.308334\n",
      "a         0.402655\n",
      "cccccc    0.000000\n",
      "dtype: float64\n"
     ]
    }
   ],
   "source": [
    "# 重新索引 reindex\n",
    "# .reindex将会根据索引重新排序，如果当前索引不存在，则引入缺失值\n",
    "\n",
    "s = pd.Series(np.random.rand(5), index=list('abcde'))\n",
    "print(s)\n",
    "print('--------')\n",
    "s1 = s.reindex(['zz','yy','xx','c','a'])\n",
    "print(s1)\n",
    "print(s.reindex(['zz','yy','xx','c','a']))\n",
    "print('--------')\n",
    "\n",
    "s2 = s.reindex(['zz','yy','xx','c','a','cccccc'], fill_value=0)\n",
    "print(s2)\n",
    "# fill_value参数：填充缺失值的值"
   ]
  },
  {
   "cell_type": "code",
   "execution_count": 36,
   "metadata": {},
   "outputs": [
    {
     "name": "stdout",
     "output_type": "stream",
     "text": [
      "Jack     0.231432\n",
      "Marry    0.747641\n",
      "Tom      0.647475\n",
      "dtype: float64\n",
      "--------\n",
      "Wang     0.025933\n",
      "Jack     0.879019\n",
      "Marry    0.979609\n",
      "dtype: float64\n",
      "--------\n",
      "Jack     1.110451\n",
      "Marry    1.727250\n",
      "Tom           NaN\n",
      "Wang          NaN\n",
      "dtype: float64\n"
     ]
    }
   ],
   "source": [
    "# Series对齐\n",
    "\n",
    "s1 = pd.Series(np.random.rand(3), index = ['Jack','Marry','Tom'])\n",
    "s2 = pd.Series(np.random.rand(3), index = ['Wang','Jack','Marry'])\n",
    "print(s1)\n",
    "print('--------')\n",
    "print(s2)\n",
    "print('--------')\n",
    "print(s1+s2)\n",
    "# Series 和 ndarray 之间的主要区别是，Series 上的操作会根据标签自动对齐\n",
    "# index顺序不会影响数值计算，以标签来计算\n",
    "# 空值和任何值计算结果扔为空值"
   ]
  },
  {
   "cell_type": "code",
   "execution_count": 37,
   "metadata": {},
   "outputs": [
    {
     "name": "stdout",
     "output_type": "stream",
     "text": [
      "n    0.018801\n",
      "g    0.270495\n",
      "j    0.633204\n",
      "u    0.879861\n",
      "r    0.895924\n",
      "dtype: float64\n",
      "g    0.270495\n",
      "j    0.633204\n",
      "u    0.879861\n",
      "r    0.895924\n",
      "dtype: float64\n",
      "--------\n",
      "n    0.018801\n",
      "u    0.879861\n",
      "r    0.895924\n",
      "dtype: float64\n",
      "--------\n",
      "n    0.018801\n",
      "g    0.270495\n",
      "j    0.633204\n",
      "u    0.879861\n",
      "r    0.895924\n",
      "dtype: float64\n"
     ]
    }
   ],
   "source": [
    "# 删除：.drop\n",
    "\n",
    "s = pd.Series(np.random.rand(5), index = list('ngjur'))\n",
    "print(s)\n",
    "s1 = s.drop('n')\n",
    "s2 = s.drop(['g','j'])\n",
    "print(s1)\n",
    "print('--------')\n",
    "print(s2)\n",
    "print('--------')\n",
    "print(s)\n",
    "# drop 删除元素之后返回副本(inplace=False)"
   ]
  },
  {
   "cell_type": "code",
   "execution_count": 3,
   "metadata": {},
   "outputs": [
    {
     "name": "stdout",
     "output_type": "stream",
     "text": [
      "0    0.282983\n",
      "1    0.094869\n",
      "2    0.476947\n",
      "3    0.873530\n",
      "4    0.313112\n",
      "dtype: float64\n",
      "--------\n",
      "n    0.780867\n",
      "g    0.179253\n",
      "j    0.598774\n",
      "u    0.562769\n",
      "r    0.282016\n",
      "dtype: float64\n",
      "--------\n",
      "0      0.282983\n",
      "1      0.094869\n",
      "2      0.476947\n",
      "3      0.873530\n",
      "4      0.313112\n",
      "5    100.000000\n",
      "dtype: float64\n",
      "--------\n",
      "n      0.780867\n",
      "g      0.179253\n",
      "j      0.598774\n",
      "u      0.562769\n",
      "r      0.282016\n",
      "a    100.000000\n",
      "dtype: float64\n",
      "-----\n",
      "0      0.282983\n",
      "1      0.094869\n",
      "2      0.476947\n",
      "3      0.873530\n",
      "4      0.313112\n",
      "5    100.000000\n",
      "n      0.780867\n",
      "g      0.179253\n",
      "j      0.598774\n",
      "u      0.562769\n",
      "r      0.282016\n",
      "a    100.000000\n",
      "dtype: float64\n",
      "--------\n",
      "0      0.282983\n",
      "1      0.094869\n",
      "2      0.476947\n",
      "3      0.873530\n",
      "4      0.313112\n",
      "5    100.000000\n",
      "dtype: float64\n"
     ]
    }
   ],
   "source": [
    "# 添加\n",
    "\n",
    "s1 = pd.Series(np.random.rand(5))\n",
    "s2 = pd.Series(np.random.rand(5), index = list('ngjur'))\n",
    "print(s1)\n",
    "print('--------')\n",
    "print(s2)\n",
    "print('--------')\n",
    "s1[5] = 100\n",
    "s2['a'] = 100\n",
    "print(s1)\n",
    "print('--------')\n",
    "print(s2)\n",
    "print('-----')\n",
    "# 直接通过下标索引/标签index添加值\n",
    "\n",
    "s3 = s1.append(s2)\n",
    "print(s3)\n",
    "print('--------')\n",
    "print(s1)\n",
    "# 通过.append方法，直接添加一个数组\n",
    "# .append方法生成一个新的数组，不改变之前的数组"
   ]
  },
  {
   "cell_type": "code",
   "execution_count": 4,
   "metadata": {},
   "outputs": [
    {
     "name": "stdout",
     "output_type": "stream",
     "text": [
      "a    0.597702\n",
      "b    0.563281\n",
      "c    0.028927\n",
      "dtype: float64\n",
      "--------\n",
      "a    100.0\n",
      "b    200.0\n",
      "c    200.0\n",
      "dtype: float64\n"
     ]
    }
   ],
   "source": [
    "# 修改\n",
    "\n",
    "s = pd.Series(np.random.rand(3), index = ['a','b','c'])\n",
    "print(s)\n",
    "print('--------')\n",
    "s['a'] = 100\n",
    "s[['b','c']] = 200\n",
    "print(s)\n",
    "# 通过索引直接修改，类似序列"
   ]
  },
  {
   "cell_type": "code",
   "execution_count": null,
   "metadata": {},
   "outputs": [],
   "source": []
  },
  {
   "cell_type": "code",
   "execution_count": null,
   "metadata": {},
   "outputs": [],
   "source": [
    "'''\n",
    "【课程2.5】  Pandas数据结构Dataframe：基本概念及创建\n",
    "\n",
    "\"二维数组\"Dataframe：是一个表格型的数据结构，包含一组有序的列，其列的值类型可以是数值、字符串、布尔值等。\n",
    "\n",
    "Dataframe中的数据以一个或多个二维块存放，不是列表、字典或一维数组结构。\n",
    "\n",
    "'''"
   ]
  },
  {
   "cell_type": "code",
   "execution_count": null,
   "metadata": {},
   "outputs": [],
   "source": []
  },
  {
   "cell_type": "code",
   "execution_count": null,
   "metadata": {},
   "outputs": [],
   "source": []
  },
  {
   "cell_type": "code",
   "execution_count": null,
   "metadata": {},
   "outputs": [],
   "source": []
  },
  {
   "cell_type": "code",
   "execution_count": null,
   "metadata": {},
   "outputs": [],
   "source": [
    "'''\n",
    "【课程2.6】  Pandas数据结构Dataframe：索引\n",
    "\n",
    "Dataframe既有行索引也有列索引，可以被看做由Series组成的字典（共用一个索引）\n",
    "\n",
    "选择列 / 选择行 / 切片 / 布尔判断\n",
    "\n",
    "'''"
   ]
  },
  {
   "cell_type": "code",
   "execution_count": null,
   "metadata": {},
   "outputs": [],
   "source": []
  },
  {
   "cell_type": "code",
   "execution_count": null,
   "metadata": {},
   "outputs": [],
   "source": []
  },
  {
   "cell_type": "code",
   "execution_count": null,
   "metadata": {},
   "outputs": [],
   "source": []
  },
  {
   "cell_type": "code",
   "execution_count": null,
   "metadata": {},
   "outputs": [],
   "source": [
    "'''\n",
    "【课程2.7】  Pandas数据结构Dataframe：基本技巧\n",
    "\n",
    "数据查看、转置 / 添加、修改、删除值 / 对齐 / 排序\n",
    "\n",
    "'''"
   ]
  },
  {
   "cell_type": "code",
   "execution_count": null,
   "metadata": {},
   "outputs": [],
   "source": []
  },
  {
   "cell_type": "code",
   "execution_count": null,
   "metadata": {},
   "outputs": [],
   "source": []
  },
  {
   "cell_type": "code",
   "execution_count": null,
   "metadata": {},
   "outputs": [],
   "source": []
  },
  {
   "cell_type": "code",
   "execution_count": null,
   "metadata": {},
   "outputs": [],
   "source": []
  },
  {
   "cell_type": "code",
   "execution_count": null,
   "metadata": {},
   "outputs": [],
   "source": []
  }
 ],
 "metadata": {
  "kernelspec": {
   "display_name": "Python 3",
   "language": "python",
   "name": "python3"
  },
  "language_info": {
   "codemirror_mode": {
    "name": "ipython",
    "version": 3
   },
   "file_extension": ".py",
   "mimetype": "text/x-python",
   "name": "python",
   "nbconvert_exporter": "python",
   "pygments_lexer": "ipython3",
   "version": "3.7.3"
  }
 },
 "nbformat": 4,
 "nbformat_minor": 2
}
