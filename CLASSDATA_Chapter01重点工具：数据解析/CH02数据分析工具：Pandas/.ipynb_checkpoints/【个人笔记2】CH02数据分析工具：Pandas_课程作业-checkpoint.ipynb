{
 "cells": [
  {
   "cell_type": "code",
   "execution_count": 1,
   "metadata": {},
   "outputs": [],
   "source": [
    "import numpy as np\n",
    "import pandas as pd"
   ]
  },
  {
   "cell_type": "code",
   "execution_count": null,
   "metadata": {},
   "outputs": [],
   "source": [
    "'''\n",
    "【课程2.2  Pandas数据结构Series：基本概念及创建】 课程作业\n",
    "\n",
    "'''"
   ]
  },
  {
   "cell_type": "code",
   "execution_count": 5,
   "metadata": {},
   "outputs": [
    {
     "name": "stdout",
     "output_type": "stream",
     "text": [
      "Jack     90.0\n",
      "Marry    92.0\n",
      "Tom      89.0\n",
      "Zack     65.0\n",
      "Name: 作业1, dtype: float64\n",
      "------------------\n",
      "Jack     90.0\n",
      "Marry    92.0\n",
      "Tom      89.0\n",
      "Zack     65.0\n",
      "Name: 作业1, dtype: float64\n"
     ]
    }
   ],
   "source": [
    "# 作业1：分别由字典、数组的方式，创建以下要求的Series\n",
    "\n",
    "# 由字典的方式创建Series\n",
    "dic = {'Jack':90, 'Marry':92, 'Tom':89, 'Zack':65}\n",
    "ar = pd.Series(dic,name='作业1',dtype=np.float64)\n",
    "print(ar)\n",
    "print('------------------')\n",
    "\n",
    "# 由数组的方式创建Series\n",
    "a = np.array([90,92,89,65])\n",
    "arr = pd.Series(a,name='作业1',index=(['Jack','Marry','Tom','Zack']),dtype=np.float64)\n",
    "print(arr)"
   ]
  },
  {
   "cell_type": "code",
   "execution_count": null,
   "metadata": {},
   "outputs": [],
   "source": []
  },
  {
   "cell_type": "code",
   "execution_count": null,
   "metadata": {},
   "outputs": [],
   "source": [
    "'''\n",
    "【课程2.3  Pandas数据结构Series：索引】 课程作业\n",
    "\n",
    "'''"
   ]
  },
  {
   "cell_type": "code",
   "execution_count": 9,
   "metadata": {},
   "outputs": [
    {
     "name": "stdout",
     "output_type": "stream",
     "text": [
      "a    41.114151\n",
      "b    23.651407\n",
      "c    34.583856\n",
      "d    21.712709\n",
      "e    53.383340\n",
      "f    41.968798\n",
      "g    29.723114\n",
      "h    86.835630\n",
      "i    44.250562\n",
      "j    45.409136\n",
      "dtype: float64 \n",
      "--------\n",
      "标签b、c的值为：\n",
      "b    23.651407\n",
      "c    34.583856\n",
      "dtype: float64 \n",
      "--------\n",
      "标签b、c的值为：\n",
      " 23.6514070735672 34.5838560947626 \n",
      "--------\n",
      "Series中第4到6个值是：\n",
      "d    21.712709\n",
      "e    53.383340\n",
      "f    41.968798\n",
      "dtype: float64 \n",
      "--------\n",
      "Series中大于50的值有:\n",
      "e    53.38334\n",
      "h    86.83563\n",
      "dtype: float64\n"
     ]
    }
   ],
   "source": [
    "# 作业1：创建一个Series，包含10个元素，且每个值为0-100的均匀分布随机值，index为a-j，请分别筛选出：\n",
    "# ① 标签为b，c的值为多少\n",
    "# ② Series中第4到6个值是哪些？\n",
    "# ③ Series中大于50的值有哪些？\n",
    "\n",
    "s = pd.Series(np.random.rand(10)*100, index=['a','b','c','d','e','f','g','h','i','j'])\n",
    "print(s, '\\n--------')\n",
    "print('标签b、c的值为：\\n{}'.format(s[['b','c']]), '\\n--------')\n",
    "print('标签b、c的值为：\\n', s['b'], s['c'],'\\n--------')\n",
    "print(\"Series中第4到6个值是：\\n%s\" %s[3:6], '\\n--------')\n",
    "print(\"Series中大于50的值有:\\n%s\" %s[s>50])"
   ]
  },
  {
   "cell_type": "code",
   "execution_count": null,
   "metadata": {},
   "outputs": [],
   "source": []
  },
  {
   "cell_type": "code",
   "execution_count": null,
   "metadata": {},
   "outputs": [],
   "source": [
    "'''\n",
    "【课程2.4  Pandas数据结构Series：基本技巧】 课程作业\n",
    "\n",
    "'''"
   ]
  },
  {
   "cell_type": "code",
   "execution_count": 8,
   "metadata": {},
   "outputs": [
    {
     "name": "stdout",
     "output_type": "stream",
     "text": [
      "创建s:\n",
      " a    0\n",
      "b    1\n",
      "c    2\n",
      "d    3\n",
      "e    4\n",
      "f    5\n",
      "g    6\n",
      "h    7\n",
      "i    8\n",
      "j    9\n",
      "dtype: int32 \n",
      "--------\n",
      "s修改后:\n",
      " a    100\n",
      "c      2\n",
      "d      3\n",
      "e    100\n",
      "f    100\n",
      "g      6\n",
      "h      7\n",
      "i      8\n",
      "j      9\n",
      "dtype: int32 \n",
      "--------\n"
     ]
    }
   ],
   "source": [
    "# 作业1：如图创建Series，并按照要求修改得到结果\n",
    "\n",
    "s = pd.Series(np.array(list('0123456789')), index=(list('abcdefghij')), dtype=np.int)\n",
    "print(\"创建s:\\n\", s, '\\n--------')\n",
    "s['a'] = 100\n",
    "s['e'] = 100\n",
    "s['f'] = 100\n",
    "sl = s.drop('b')\n",
    "print(\"s修改后:\\n\", sl, '\\n--------')"
   ]
  },
  {
   "cell_type": "code",
   "execution_count": 22,
   "metadata": {},
   "outputs": [
    {
     "name": "stdout",
     "output_type": "stream",
     "text": [
      "创建s：\n",
      " a    0\n",
      "b    1\n",
      "c    2\n",
      "d    3\n",
      "e    4\n",
      "f    5\n",
      "g    6\n",
      "h    7\n",
      "i    8\n",
      "j    9\n",
      "dtype: int32 \n",
      "------\n",
      "a    100\n",
      "c      2\n",
      "d      3\n",
      "e    100\n",
      "f    100\n",
      "g      6\n",
      "h      7\n",
      "i      8\n",
      "j      9\n",
      "dtype: int32\n"
     ]
    }
   ],
   "source": [
    "s = pd.Series(np.arange(10), index=list('abcdefghij'))\n",
    "print('创建s：\\n',s,'\\n------')\n",
    "s.drop(['b'], inplace=True)   # inplace=True 删除后不生成副本\n",
    "s[['a','e','f']]=100\n",
    "print(s)"
   ]
  },
  {
   "cell_type": "code",
   "execution_count": 26,
   "metadata": {},
   "outputs": [
    {
     "name": "stdout",
     "output_type": "stream",
     "text": [
      "创建s1为：\n",
      " a    4.105054\n",
      "b    6.080107\n",
      "c    0.117209\n",
      "d    4.525895\n",
      "e    4.200216\n",
      "dtype: float64 \n",
      "\n",
      "创建s1为：\n",
      " c    8.682867\n",
      "d    5.506727\n",
      "e    7.191754\n",
      "f    7.694886\n",
      "g    6.198459\n",
      "dtype: float64 \n",
      "------\n",
      "s1+s2的值为：\n",
      " a          NaN\n",
      "b          NaN\n",
      "c     8.800076\n",
      "d    10.032622\n",
      "e    11.391971\n",
      "f          NaN\n",
      "g          NaN\n",
      "dtype: float64 \n",
      "------\n"
     ]
    }
   ],
   "source": [
    "# 作业2：已有s1，s2（值为0-10的随机数），请求出s1+s2的值\n",
    "\n",
    "s1 = pd.Series(np.random.rand(5)*10, index=list('abcde'))\n",
    "s2 = pd.Series(np.random.rand(5)*10, index=list('cdefg'))\n",
    "s3 = s1 + s2\n",
    "print(\"创建s1为：\\n\", s1, '\\n')\n",
    "print(\"创建s2为：\\n\", s2, '\\n------')\n",
    "print(\"s1+s2的值为：\\n\", s3, '\\n------')"
   ]
  },
  {
   "cell_type": "code",
   "execution_count": null,
   "metadata": {},
   "outputs": [],
   "source": []
  },
  {
   "cell_type": "code",
   "execution_count": null,
   "metadata": {},
   "outputs": [],
   "source": [
    "'''\n",
    "【课程2.5  Pandas数据结构Dataframe：基本概念及创建】 课程作业\n",
    "\n",
    "'''"
   ]
  },
  {
   "cell_type": "code",
   "execution_count": 21,
   "metadata": {},
   "outputs": [
    {
     "name": "stdout",
     "output_type": "stream",
     "text": [
      "方法一：用list组成的字典创建DataFrame：\n",
      "   four  one  three  two\n",
      "a     4    1      3    2\n",
      "b     5    2      4    3\n",
      "c     6    3      5    4\n",
      "d     7    4      6    5\n",
      "e     8    5      7    6 \n",
      "--------------------------\n",
      "方法二：用Series组成的字典创建DataFrame：\n",
      "   four one three two\n",
      "a     4   1     3   2\n",
      "b     5   2     4   3\n",
      "c     6   3     5   4\n",
      "d     7   4     6   5\n",
      "e     8   5     7   6 \n",
      "--------------------------\n",
      "方法三：用二维数组直接创建DataFrame：\n",
      "   one  two  three  four\n",
      "a    0    1      2     3\n",
      "b    4    5      6     7\n",
      "c    8    9     10    11\n",
      "d   12   13     14    15\n",
      "e   16   17     18    19 \n",
      "--------------------------\n",
      "方法四：用字典组成的列表创建DataFrame：\n",
      "  four one three two\n",
      "a    4   1     3   2\n",
      "b    5   2     4   3\n",
      "c    6   3     5   4\n",
      "d    7   4     6   5\n",
      "e    8   5     7   6 \n",
      "--------------------------\n",
      "结果Dataframe为：\n",
      "    four  one  three  two\n",
      "a     4    1      3    2\n",
      "b     5    2      4    3\n",
      "c     6    3      5    4\n",
      "d     7    4      6    5\n",
      "e     8    5      7    6\n"
     ]
    }
   ],
   "source": [
    "# 作业1：用四种不同的方法，创建以下Dataframe（保证columns和index一致，值不做要求）\n",
    "\n",
    "data = {'four':['4','5','6','7','8'],\n",
    "        'one':list('12345'),\n",
    "        'three':['3','4','5','6','7'],\n",
    "        'two':list('23456')}\n",
    "df1 = pd.DataFrame(data, index=list('abcde'), dtype=np.int)\n",
    "print(\"方法一：用list组成的字典创建DataFrame：\")\n",
    "print(df1, '\\n--------------------------')\n",
    "\n",
    "data2 = {\"four\":pd.Series(np.arange(4,9),index=list('abcde')),\n",
    "       \"one\":pd.Series(list('12345'),index=list('abcde')),\n",
    "       \"three\":pd.Series(['3','4','5','6','7'], index=list('abcde')),\n",
    "       \"two\":pd.Series(list('23456'),index=list('abcde'))}\n",
    "df2 = pd.DataFrame(data2)\n",
    "print(\"方法二：用Series组成的字典创建DataFrame：\")\n",
    "print(df2, '\\n--------------------------')\n",
    "\n",
    "data3 = np.arange(20).reshape(5,4)\n",
    "df3 = pd.DataFrame(data3,\n",
    "                   index=list('abcde'),\n",
    "                   columns=['one','two','three','four'])\n",
    "print(\"方法三：用二维数组直接创建DataFrame：\")\n",
    "print(df3, '\\n--------------------------')\n",
    "\n",
    "data4 = [{\"one\":'1',\"two\":'2',\"three\":'3',\"four\":'4'},\n",
    "        {\"four\":\"5\",\"one\":'2',\"three\":'4',\"two\":'3'},\n",
    "        {\"four\":\"6\",\"one\":'3',\"three\":'5',\"two\":'4'},\n",
    "        {\"four\":\"7\",\"one\":'4',\"three\":'6',\"two\":'5'},\n",
    "        {\"four\":\"8\",\"one\":'5',\"three\":'7',\"two\":'6'}]\n",
    "df4 = pd.DataFrame(data4, index=list('abcde'))\n",
    "print(\"方法四：用字典组成的列表创建DataFrame：\")\n",
    "print(df4, '\\n--------------------------')\n",
    "\n",
    "df5 = pd.DataFrame([{'one':1,'two':2,'three':3,'four':4},\n",
    "                   {'one':2,'two':3,'three':4,'four':5},\n",
    "                   {'one':3,'two':4,'three':5,'four':6},\n",
    "                   {'one':4,'two':5,'three':6,'four':7},\n",
    "                   {'one':5,'two':6,'three':7,'four':8}],\n",
    "                  index = list('abcde'))\n",
    "print('结果Dataframe为：\\n',df5)"
   ]
  },
  {
   "cell_type": "code",
   "execution_count": 3,
   "metadata": {},
   "outputs": [
    {
     "name": "stdout",
     "output_type": "stream",
     "text": [
      "a    1\n",
      "b    2\n",
      "c    3\n",
      "d    4\n",
      "e    5\n",
      "f    6\n",
      "dtype: object\n",
      "------\n",
      "u    2.614005\n",
      "v    5.608139\n",
      "w    5.449806\n",
      "x    9.678467\n",
      "y    8.958413\n",
      "z    2.040209\n",
      "dtype: float64\n",
      "------\n",
      "u    0\n",
      "v    1\n",
      "w    2\n",
      "x    3\n",
      "y    4\n",
      "z    5\n",
      "dtype: int32\n"
     ]
    }
   ],
   "source": [
    "ar = pd.Series(['1','2','3','4','5','6'], index=list('abcdef'))\n",
    "print(ar)\n",
    "print('------')\n",
    "\n",
    "arr = pd.Series(np.random.rand(6)*10,index=list('uvwxyz'),dtype=np.int32)\n",
    "print(arr)\n",
    "print('------')\n",
    "\n",
    "arr2 = pd.Series(np.arange(6),index=list('uvwxyz'),dtype=np.int32)\n",
    "print(arr2)"
   ]
  },
  {
   "cell_type": "code",
   "execution_count": null,
   "metadata": {},
   "outputs": [],
   "source": []
  },
  {
   "cell_type": "code",
   "execution_count": null,
   "metadata": {},
   "outputs": [],
   "source": [
    "'''\n",
    "【课程2.6  Pandas数据结构Dataframe：索引】 课程作业\n",
    "\n",
    "'''"
   ]
  },
  {
   "cell_type": "code",
   "execution_count": 11,
   "metadata": {},
   "outputs": [
    {
     "name": "stdout",
     "output_type": "stream",
     "text": [
      "               a          b          c          d\n",
      "one    97.850532  26.781701  10.292673   1.724946\n",
      "two    96.493008  17.666856  27.298946  37.388474\n",
      "three  99.254557  43.244870  74.290318  39.883937\n",
      "four   70.935627  89.293032  46.621739  66.786711\n",
      "------------------------------------------------------------\n",
      "               b          c\n",
      "one    26.781701  10.292673\n",
      "two    17.666856  27.298946\n",
      "three  43.244870  74.290318\n",
      "four   89.293032  46.621739 \n",
      "--------\n",
      "               a          b          c          d\n",
      "three  99.254557  43.244870  74.290318  39.883937\n",
      "four   70.935627  89.293032  46.621739  66.786711 \n",
      "--------\n",
      "             a          b          c          d\n",
      "two  96.493008  17.666856  27.298946  37.388474\n",
      "one  97.850532  26.781701  10.292673   1.724946 \n",
      "--------\n",
      "               a          b          c          d\n",
      "one    97.850532        NaN        NaN        NaN\n",
      "two    96.493008        NaN        NaN        NaN\n",
      "three  99.254557        NaN  74.290318        NaN\n",
      "four   70.935627  89.293032        NaN  66.786711 \n",
      "--------\n"
     ]
    }
   ],
   "source": [
    "# 作业1：如图创建Dataframe(4*4，值为0-100的随机数)，通过索引得到以下值\n",
    "# ① 索引得到b，c列的所有值\n",
    "# ② 索引得到第三第四行的数据\n",
    "# ③ 按顺序索引得到two，one行的值\n",
    "# ④ 索引得到大于50的值\n",
    "\n",
    "df = pd.DataFrame(np.random.rand(16).reshape(4,4)*100,\n",
    "                 index=['one','two','three','four'],\n",
    "                 columns=['a','b','c','d'])\n",
    "print(df)\n",
    "print('-'*60)\n",
    "\n",
    "# ① 索引得到b，c列的所有值\n",
    "data1 = df[['b','c']]\n",
    "print(data1, '\\n--------')\n",
    "\n",
    "# ② 索引得到第三第四行的数据\n",
    "# data2 = df.loc[['three','four']]\n",
    "# print(data2, '\\n--------')\n",
    "data2 = df[2:4]\n",
    "print(data2, '\\n--------')\n",
    "\n",
    "# # ③ 按顺序索引得到two，one行的值\n",
    "data3 = df.loc[['two','one']]\n",
    "print(data3, '\\n--------')\n",
    "\n",
    "# # ④ 索引得到大于50的值\n",
    "data4 = df[df > 50]\n",
    "print(data4, '\\n--------')"
   ]
  },
  {
   "cell_type": "code",
   "execution_count": null,
   "metadata": {},
   "outputs": [],
   "source": []
  },
  {
   "cell_type": "code",
   "execution_count": null,
   "metadata": {},
   "outputs": [],
   "source": [
    "'''\n",
    "【课程2.7  Pandas数据结构Dataframe：基本技巧】 课程作业\n",
    "\n",
    "'''"
   ]
  },
  {
   "cell_type": "code",
   "execution_count": 15,
   "metadata": {},
   "outputs": [
    {
     "name": "stdout",
     "output_type": "stream",
     "text": [
      "创建DataFrame为：\n",
      "           v1         v2         v3\n",
      "a  35.799546  16.772408  42.767420\n",
      "b  43.840530  78.005730  81.229757\n",
      "c  33.775161   9.902319  68.256472 \n",
      "------\n",
      "按照index降序排列为：\n",
      "           v1         v2         v3\n",
      "c  33.775161   9.902319  68.256472\n",
      "b  43.840530  78.005730  81.229757\n",
      "a  35.799546  16.772408  42.767420 \n",
      "------\n",
      "按照第二列值大小排列为：\n",
      "           v1         v2         v3\n",
      "b  43.840530  78.005730  81.229757\n",
      "a  35.799546  16.772408  42.767420\n",
      "c  33.775161   9.902319  68.256472 \n",
      "------\n"
     ]
    }
   ],
   "source": [
    "# 作业1：创建一个3*3，值在0-100区间随机值的Dataframe（如图），分别按照index和第二列值大小，降序排序\n",
    "\n",
    "df = pd.DataFrame(np.random.rand(3,3)*100,\n",
    "                 columns=['v1','v2','v3'],\n",
    "                 index=['a','b','c'])\n",
    "print(\"创建DataFrame为：\\n\", df, '\\n------')\n",
    "\n",
    "print(\"按照index降序排列为：\\n\", df.sort_index(ascending=False), '\\n------')\n",
    "print(\"按照第二列值大小排列为：\\n\", df.sort_values(['v2'], ascending=False), '\\n------')"
   ]
  },
  {
   "cell_type": "code",
   "execution_count": 20,
   "metadata": {},
   "outputs": [
    {
     "name": "stdout",
     "output_type": "stream",
     "text": [
      "创建DataFrame为：\n",
      "           v1         v2\n",
      "a  93.999916  14.523578\n",
      "b  99.335369  64.765252\n",
      "c  76.842803  95.282913\n",
      "d  45.719618  19.730800\n",
      "e  40.796146  44.895990 \n",
      "------\n",
      "修改后为：\n",
      "             a    b          c          d\n",
      "v1  93.999916  100  76.842803  45.719618\n",
      "v2  14.523578  100  95.282913  19.730800 \n",
      "------\n"
     ]
    }
   ],
   "source": [
    "# 作业2：创建一个5*2，值在0-100区间随机值的Dataframe（如图）df1，通过修改得到df2\n",
    "\n",
    "df = pd.DataFrame(np.random.rand(10).reshape(5,2)*100,\n",
    "                 columns=['v1','v2'],\n",
    "                 index=list('abcde'))\n",
    "print(\"创建DataFrame为：\\n\", df, '\\n------')\n",
    "\n",
    "df1 = df.T    # 转置\n",
    "df1['b'] = 100\n",
    "del df1['e']\n",
    "print(\"修改后为：\\n\",df1, '\\n------')"
   ]
  },
  {
   "cell_type": "code",
   "execution_count": null,
   "metadata": {},
   "outputs": [],
   "source": []
  },
  {
   "cell_type": "code",
   "execution_count": null,
   "metadata": {},
   "outputs": [],
   "source": [
    "'''\n",
    "【课程2.8  时间模块：datetime】 课程作业\n",
    "\n",
    "'''"
   ]
  },
  {
   "cell_type": "code",
   "execution_count": 2,
   "metadata": {},
   "outputs": [
    {
     "name": "stdout",
     "output_type": "stream",
     "text": [
      "1、当前时间为： 2019-10-28 21:15:10.720331 \n",
      "------\n",
      "2、输出时间为： 2017-05-01 12:30:00 \n",
      "------\n",
      "3、输出时间为： 2000-12-01 00:00:00 \n",
      "------\n"
     ]
    }
   ],
   "source": [
    "# 作业1：请调用datetime模块，输出以下时间信息\n",
    "\n",
    "import datetime\n",
    "\n",
    "now = datetime.datetime.now()\n",
    "print(\"1、当前时间为：\",now, '\\n------')\n",
    "\n",
    "t1 = datetime.datetime(2017,5,1,12,30)\n",
    "print(\"2、输出时间为：\",t1, '\\n------')\n",
    "\n",
    "t2 = datetime.datetime(2000,12,1)\n",
    "print(\"3、输出时间为：\",t2, '\\n------')"
   ]
  },
  {
   "cell_type": "code",
   "execution_count": 12,
   "metadata": {},
   "outputs": [
    {
     "name": "stdout",
     "output_type": "stream",
     "text": [
      "2000年5月1日，1000天之后的日期为： 2003-01-26 00:00:00\n"
     ]
    }
   ],
   "source": [
    "# 作业2：请创建时间变量‘2000年5月1日’，求出1000天之后是哪年哪月哪日？\n",
    "\n",
    "# t1 = datetime.date(2000,5,1)\n",
    "t1 = datetime.datetime(2000,5,1)\n",
    "tx = datetime.timedelta(1000)\n",
    "t = t1 + tx\n",
    "print(\"2000年5月1日，1000天之后的日期为：\", t)"
   ]
  },
  {
   "cell_type": "code",
   "execution_count": null,
   "metadata": {},
   "outputs": [],
   "source": []
  },
  {
   "cell_type": "code",
   "execution_count": null,
   "metadata": {},
   "outputs": [],
   "source": [
    "'''\n",
    "【课程2.9  Pandas时刻数据：Timestamp】 课程作业\n",
    "\n",
    "'''"
   ]
  },
  {
   "cell_type": "code",
   "execution_count": 34,
   "metadata": {},
   "outputs": [
    {
     "name": "stdout",
     "output_type": "stream",
     "text": [
      "创建的时间列表为：\n",
      " ['2019-11-1', '2019-11-2', '2019-11-3', '2019-11-4', '2019-11-5', '2019-11-6', '2019-11-7', '2019-11-8', '2019-11-9', '2019-11-10', '2019-11-11', '2019-11-12', '2019-11-13', '2019-11-14', '2019-11-15', '2019-11-16', '2019-11-17', '2019-11-18', '2019-11-19', '2019-11-20', '2019-11-21', '2019-11-22', '2019-11-23', '2019-11-24', '2019-11-25', '2019-11-26', '2019-11-27', '2019-11-28', '2019-11-29', '2019-11-30'] \n",
      "------\n",
      "转化成DatetimeIndex为：\n",
      " DatetimeIndex(['2019-11-01', '2019-11-02', '2019-11-03', '2019-11-04',\n",
      "               '2019-11-05', '2019-11-06', '2019-11-07', '2019-11-08',\n",
      "               '2019-11-09', '2019-11-10', '2019-11-11', '2019-11-12',\n",
      "               '2019-11-13', '2019-11-14', '2019-11-15', '2019-11-16',\n",
      "               '2019-11-17', '2019-11-18', '2019-11-19', '2019-11-20',\n",
      "               '2019-11-21', '2019-11-22', '2019-11-23', '2019-11-24',\n",
      "               '2019-11-25', '2019-11-26', '2019-11-27', '2019-11-28',\n",
      "               '2019-11-29', '2019-11-30'],\n",
      "              dtype='datetime64[ns]', freq=None) \n",
      "------\n",
      "月中日期为： 2019-11-15 00:00:00\n"
     ]
    }
   ],
   "source": [
    "# 作业1：请通过迭代创建一个时间列表（如图，时间区间为任意一个月，这里可以用for语句），然后转化成DatetimeIndex，并print月中是多少号\n",
    "\n",
    "dateArray = []\n",
    "for i in range(1,31):\n",
    "    dateArray.append(\"2019-11-%i\" %i)\n",
    "print(\"创建的时间列表为：\\n\",dateArray, '\\n------')\n",
    "date = pd.to_datetime(dateArray)\n",
    "print(\"转化成DatetimeIndex为：\\n\", date, '\\n------')\n",
    "mid = len(date)/2 - 1\n",
    "print(\"月中日期为：\", date[int(mid)])"
   ]
  },
  {
   "cell_type": "code",
   "execution_count": 12,
   "metadata": {},
   "outputs": [
    {
     "name": "stdout",
     "output_type": "stream",
     "text": [
      "读取txt文件为：\n",
      " ['20171019', '20171119', '20171219', '20180119', '20180219', '20180319', '20180419', '20180519', '20180619', '20180719', '20180819', '20180919', '20181019', '20181119', '20181219', '20190119', '20190219', '20190319', '20190419', '20190519', '20190619', '20190719', '20190819', '20190919', '20191019'] \n",
      "------\n",
      "转化成DatetimeIndex为：\n",
      " DatetimeIndex(['2017-10-19', '2017-11-19', '2017-12-19', '2018-01-19',\n",
      "               '2018-02-19', '2018-03-19', '2018-04-19', '2018-05-19',\n",
      "               '2018-06-19', '2018-07-19', '2018-08-19', '2018-09-19',\n",
      "               '2018-10-19', '2018-11-19', '2018-12-19', '2019-01-19',\n",
      "               '2019-02-19', '2019-03-19', '2019-04-19', '2019-05-19',\n",
      "               '2019-06-19', '2019-07-19', '2019-08-19', '2019-09-19',\n",
      "               '2019-10-19'],\n",
      "              dtype='datetime64[ns]', freq=None) \n",
      "------\n"
     ]
    }
   ],
   "source": [
    "# 作业2：请如图创建一个包含时间日期的txt文件，通过open语句读取后转化成DatetimeIndex\n",
    "\n",
    "f = open(\"date.txt\", 'r')\n",
    "s = f.readline()\n",
    "datelst = s.split(',')\n",
    "print(\"读取txt文件为：\\n\", datelst, '\\n------')\n",
    "t = pd.to_datetime(datelst)\n",
    "print(\"转化成DatetimeIndex为：\\n\", t, '\\n------')"
   ]
  },
  {
   "cell_type": "code",
   "execution_count": null,
   "metadata": {},
   "outputs": [],
   "source": []
  },
  {
   "cell_type": "code",
   "execution_count": null,
   "metadata": {},
   "outputs": [],
   "source": [
    "'''\n",
    "【课程2.10  Pandas时间戳索引：DatetimeIndex】 课程作业\n",
    "\n",
    "'''"
   ]
  },
  {
   "cell_type": "code",
   "execution_count": null,
   "metadata": {},
   "outputs": [],
   "source": []
  },
  {
   "cell_type": "code",
   "execution_count": null,
   "metadata": {},
   "outputs": [],
   "source": []
  },
  {
   "cell_type": "code",
   "execution_count": null,
   "metadata": {},
   "outputs": [],
   "source": []
  },
  {
   "cell_type": "code",
   "execution_count": null,
   "metadata": {},
   "outputs": [],
   "source": []
  },
  {
   "cell_type": "code",
   "execution_count": null,
   "metadata": {},
   "outputs": [],
   "source": []
  }
 ],
 "metadata": {
  "kernelspec": {
   "display_name": "Python 3",
   "language": "python",
   "name": "python3"
  },
  "language_info": {
   "codemirror_mode": {
    "name": "ipython",
    "version": 3
   },
   "file_extension": ".py",
   "mimetype": "text/x-python",
   "name": "python",
   "nbconvert_exporter": "python",
   "pygments_lexer": "ipython3",
   "version": "3.7.3"
  }
 },
 "nbformat": 4,
 "nbformat_minor": 2
}
