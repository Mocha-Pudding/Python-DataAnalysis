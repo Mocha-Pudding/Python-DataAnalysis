{
 "cells": [
  {
   "cell_type": "code",
   "execution_count": 1,
   "metadata": {},
   "outputs": [],
   "source": [
    "import numpy as np\n",
    "import pandas as pd"
   ]
  },
  {
   "cell_type": "code",
   "execution_count": null,
   "metadata": {},
   "outputs": [],
   "source": [
    "'''\n",
    "【课程2.14】  数值计算和统计基础\n",
    "\n",
    "常用数学、统计方法\n",
    " \n",
    "'''"
   ]
  },
  {
   "cell_type": "code",
   "execution_count": 5,
   "metadata": {},
   "outputs": [
    {
     "name": "stdout",
     "output_type": "stream",
     "text": [
      "   key1  key2 key3\n",
      "a   4.0   1.0    1\n",
      "b   5.0   2.0    2\n",
      "c   3.0   NaN    3\n",
      "d   NaN   4.0    j\n",
      "e   2.0   5.0    k\n",
      "float64 float64 object\n",
      "-----\n",
      "key1    3.5\n",
      "key2    3.0\n",
      "dtype: float64 <class 'pandas.core.series.Series'>\n",
      "单独统计一列: 3.0\n",
      "-----\n",
      "a    2.5\n",
      "b    3.5\n",
      "c    3.0\n",
      "d    4.0\n",
      "e    3.5\n",
      "dtype: float64\n",
      "-----\n"
     ]
    }
   ],
   "source": [
    "# 基本参数：axis、skipna\n",
    "\n",
    "df = pd.DataFrame({'key1':[4,5,3,np.nan,2],\n",
    "                 'key2':[1,2,np.nan,4,5],\n",
    "                 'key3':[1,2,3,'j','k']},\n",
    "                 index = ['a','b','c','d','e'])\n",
    "print(df)\n",
    "print(df['key1'].dtype,df['key2'].dtype,df['key3'].dtype)\n",
    "print('-----')\n",
    "\n",
    "m1 = df.mean()\n",
    "print(m1,type(m1))\n",
    "print('单独统计一列:',df['key2'].mean())\n",
    "print('-----')\n",
    "# np.nan ：空值\n",
    "# .mean()计算均值\n",
    "# 只统计数字列\n",
    "# 可以通过索引单独统计一列\n",
    "\n",
    "m2 = df.mean(axis=1)\n",
    "print(m2)\n",
    "print('-----')\n",
    "# axis参数：\n",
    "# 默认为axis=0，以列来计算\n",
    "# axis=1，以行来计算，这里就按照行来汇总了\n",
    "\n",
    "# m3 = df.mean(skipna=False)\n",
    "# print(m3)\n",
    "# print('-----')\n",
    "# # skipna参数：是否忽略NaN，默认True，如False，有NaN的列统计结果仍未NaN"
   ]
  },
  {
   "cell_type": "code",
   "execution_count": null,
   "metadata": {},
   "outputs": [],
   "source": [
    "# 主要数学计算方法，可用于Series和DataFrame（1）\n",
    "\n"
   ]
  },
  {
   "cell_type": "code",
   "execution_count": null,
   "metadata": {},
   "outputs": [],
   "source": [
    "# 主要数学计算方法，可用于Series和DataFrame（2）\n",
    "\n"
   ]
  },
  {
   "cell_type": "code",
   "execution_count": null,
   "metadata": {},
   "outputs": [],
   "source": [
    "# 唯一值：.unique()\n",
    "\n"
   ]
  },
  {
   "cell_type": "code",
   "execution_count": null,
   "metadata": {},
   "outputs": [],
   "source": [
    "# 值计数：.value_counts()\n",
    "\n"
   ]
  },
  {
   "cell_type": "code",
   "execution_count": null,
   "metadata": {},
   "outputs": [],
   "source": [
    "# 成员资格：.isin()\n",
    "\n"
   ]
  },
  {
   "cell_type": "code",
   "execution_count": null,
   "metadata": {},
   "outputs": [],
   "source": []
  },
  {
   "cell_type": "code",
   "execution_count": null,
   "metadata": {},
   "outputs": [],
   "source": []
  },
  {
   "cell_type": "code",
   "execution_count": null,
   "metadata": {},
   "outputs": [],
   "source": []
  }
 ],
 "metadata": {
  "kernelspec": {
   "display_name": "Python 3",
   "language": "python",
   "name": "python3"
  },
  "language_info": {
   "codemirror_mode": {
    "name": "ipython",
    "version": 3
   },
   "file_extension": ".py",
   "mimetype": "text/x-python",
   "name": "python",
   "nbconvert_exporter": "python",
   "pygments_lexer": "ipython3",
   "version": "3.7.3"
  }
 },
 "nbformat": 4,
 "nbformat_minor": 2
}
