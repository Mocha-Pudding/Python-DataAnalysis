{
 "cells": [
  {
   "cell_type": "code",
   "execution_count": null,
   "metadata": {},
   "outputs": [],
   "source": [
    "'''\n",
    "【课程2.8】  时间模块：datetime\n",
    "\n",
    "datetime模块，主要掌握：datetime.date(), datetime.datetime(), datetime.timedelta()\n",
    "\n",
    "日期解析方法：parser.parse\n",
    "\n",
    "'''"
   ]
  },
  {
   "cell_type": "code",
   "execution_count": 1,
   "metadata": {},
   "outputs": [],
   "source": [
    "import numpy as np\n",
    "import pandas as pd"
   ]
  },
  {
   "cell_type": "code",
   "execution_count": 4,
   "metadata": {},
   "outputs": [
    {
     "name": "stdout",
     "output_type": "stream",
     "text": [
      "2019-10-23 <class 'datetime.date'>\n",
      "2019-10-23\n",
      "2017-10-19\n"
     ]
    }
   ],
   "source": [
    "# datetime.date：date对象\n",
    "\n",
    "import datetime\n",
    "\n",
    "today = datetime.date.today()\n",
    "print(today, type(today))\n",
    "print(str(today), type(str(today)))\n",
    "# datetime.date.today 返回今日\n",
    "# 输出格式为 date类\n",
    "\n",
    "date = datetime.date(2017,10,19)\n",
    "print(date)\n",
    "# (年，月，日) → 直接得到当时日期"
   ]
  },
  {
   "cell_type": "code",
   "execution_count": 12,
   "metadata": {},
   "outputs": [
    {
     "name": "stdout",
     "output_type": "stream",
     "text": [
      "2019-10-23 21:32:17.331084 <class 'datetime.datetime'>\n",
      "2019-10-23 21:32:17.331084 <class 'str'>\n",
      "2018-12-06 00:00:00 2019-11-09 22:24:58\n",
      "338 days, 22:24:58 <class 'datetime.timedelta'>\n"
     ]
    },
    {
     "data": {
      "text/plain": [
       "datetime.timedelta(days=338, seconds=80698)"
      ]
     },
     "execution_count": 12,
     "metadata": {},
     "output_type": "execute_result"
    }
   ],
   "source": [
    "# datetime.datetime：datetime对象\n",
    "\n",
    "now = datetime.datetime.now()\n",
    "print(now, type(now))\n",
    "print(str(now), type(str(now)))\n",
    "# .now()方法，输出当前时间\n",
    "# 输出格式为 datetime类\n",
    "# 可通过str()转化为字符串\n",
    "\n",
    "t1 = datetime.datetime(2018,12,6)\n",
    "t2 = datetime.datetime(2019,11,9,22,24,58)\n",
    "print(t1, t2)\n",
    "# (年，月，日，时，分，秒)，至少输入年月日\n",
    "\n",
    "print(t2 - t1, type(t2 - t1))\n",
    "t2 - t1\n",
    "# 相减得到时间差 —— timedelta"
   ]
  },
  {
   "cell_type": "code",
   "execution_count": 19,
   "metadata": {},
   "outputs": [
    {
     "name": "stdout",
     "output_type": "stream",
     "text": [
      "2008-08-20 15:28:00\n",
      "2008-02-02 13:28:00\n"
     ]
    }
   ],
   "source": [
    "# datetime.timedelta：时间差\n",
    "\n",
    "t1 = datetime.datetime(2008,5,12,14,28)\n",
    "tx = datetime.timedelta(100, 3600)\n",
    "# tx = datetime.timedelta(100, hours=2, minutes=8)\n",
    "print(t1 + tx)\n",
    "print(t1 - tx)\n",
    "# 时间差主要用作时间的加减法，相当于可被识别的时间“差值”"
   ]
  },
  {
   "cell_type": "code",
   "execution_count": 25,
   "metadata": {},
   "outputs": [
    {
     "name": "stdout",
     "output_type": "stream",
     "text": [
      "2019-12-21 00:00:00 <class 'str'>\n",
      "2019-12-25 00:00:00 <class 'datetime.datetime'>\n",
      "2019-12-22 00:00:00 <class 'datetime.datetime'>\n",
      "2018-10-24 00:00:00 <class 'datetime.datetime'>\n",
      "2000-01-01 00:00:00 \n",
      " 2014-05-01 00:00:00 \n",
      " 2014-01-05 00:00:00 \n",
      " 2014-01-22 00:00:00 \n",
      " 1997-01-31 22:45:00\n"
     ]
    }
   ],
   "source": [
    "# parser.parse：日期字符串转换\n",
    "\n",
    "from dateutil.parser import parse\n",
    "\n",
    "date = '12-21-2019'\n",
    "date2 = '12/25/2019'\n",
    "date3 = '22/12/2019'\n",
    "date4 = '20181024'\n",
    "print(parse(date), type(date))\n",
    "print(parse(date2), type(parse(date2)))\n",
    "print(parse(date3), type(parse(date3)))\n",
    "print(parse(date4), type(parse(date4)))\n",
    "# 直接将str转化成datetime.datetime\n",
    "\n",
    "print(parse('2000-1-1'),'\\n',\n",
    "     parse('5/1/2014'),'\\n',\n",
    "     parse('5/1/2014', dayfirst = True),'\\n',  # 国际通用格式中，日在月之前，可以通过dayfirst来设置\n",
    "     parse('22/1/2014'),'\\n',\n",
    "     parse('Jan 31, 1997 10:45 PM'))\n",
    "# 各种格式可以解析，但无法支持中文"
   ]
  },
  {
   "cell_type": "code",
   "execution_count": null,
   "metadata": {},
   "outputs": [],
   "source": []
  },
  {
   "cell_type": "code",
   "execution_count": null,
   "metadata": {},
   "outputs": [],
   "source": [
    "'''\n",
    "【课程2.9】  Pandas时刻数据：Timestamp\n",
    "\n",
    "时刻数据代表时间点，是pandas的数据类型，是将值与时间点相关联的最基本类型的时间序列数据\n",
    "\n",
    "pandas.Timestamp()\n",
    "\n",
    "'''"
   ]
  },
  {
   "cell_type": "code",
   "execution_count": 30,
   "metadata": {},
   "outputs": [
    {
     "name": "stdout",
     "output_type": "stream",
     "text": [
      "2019-10-24 17:30:00 <class 'datetime.datetime'> \n",
      "--------------------\n",
      "2019-01-01 00:00:00 <class 'pandas._libs.tslibs.timestamps.Timestamp'>\n",
      "2019-10-24 17:30:00 <class 'pandas._libs.tslibs.timestamps.Timestamp'>\n"
     ]
    }
   ],
   "source": [
    "# pd.Timestamp()\n",
    "\n",
    "date1 = '20190101'\n",
    "date2 = datetime.datetime(2019,10,24,17,30)\n",
    "print(date2, type(date2), '\\n--------------------')    # 时间戳，datatime模块中的数据结构\n",
    "\n",
    "t1 = pd.Timestamp(date1)\n",
    "t2 = pd.Timestamp(date2)\n",
    "print(t1, type(t1))\n",
    "print(t2, type(t2))    # 时间戳，pandas里的数据结构\n",
    "# 直接生成pandas的时刻数据 → 时间戳\n",
    "# 数据类型为 pandas的Timestamp"
   ]
  },
  {
   "cell_type": "code",
   "execution_count": 32,
   "metadata": {},
   "outputs": [
    {
     "name": "stdout",
     "output_type": "stream",
     "text": [
      "2019-01-01 00:00:00 <class 'pandas._libs.tslibs.timestamps.Timestamp'>\n",
      "2019-10-24 17:30:00 <class 'pandas._libs.tslibs.timestamps.Timestamp'>\n",
      "DatetimeIndex(['2017-12-21', '2017-12-22', '2017-12-23'], dtype='datetime64[ns]', freq=None) <class 'pandas.core.indexes.datetimes.DatetimeIndex'>\n"
     ]
    }
   ],
   "source": [
    "# pd.to_datetime\n",
    "\n",
    "date1 = '20190101'\n",
    "date2 = datetime.datetime(2019,10,24,17,30)\n",
    "\n",
    "t1 = pd.to_datetime(date1)\n",
    "t2 = pd.to_datetime(date2)\n",
    "print(t1, type(t1))\n",
    "print(t2, type(t2))\n",
    "# pd.to_datetime()：如果是单个时间数据，转换成pandas的时刻数据，数据类型为Timestamp\n",
    "\n",
    "lst_date = [ '2017-12-21', '2017-12-22', '2017-12-23']\n",
    "t3 = pd.to_datetime(lst_date)\n",
    "print(t3,type(t3))\n",
    "# 多个时间数据，将会转换为pandas的DatetimeIndex"
   ]
  },
  {
   "cell_type": "code",
   "execution_count": 42,
   "metadata": {},
   "outputs": [
    {
     "name": "stdout",
     "output_type": "stream",
     "text": [
      "[datetime.datetime(2015, 6, 1, 0, 0), datetime.datetime(2015, 7, 1, 0, 0), datetime.datetime(2015, 8, 1, 0, 0), datetime.datetime(2015, 9, 1, 0, 0), datetime.datetime(2015, 10, 1, 0, 0)]\n",
      "['2017-2-1', '2017-2-2', '2017-2-3', '2017-2-4', '2017-2-5', '2017-2-6']\n",
      "------\n",
      "DatetimeIndex(['2015-06-01', '2015-07-01', '2015-08-01', '2015-09-01',\n",
      "               '2015-10-01'],\n",
      "              dtype='datetime64[ns]', freq=None)\n",
      "DatetimeIndex(['2017-02-01', '2017-02-02', '2017-02-03', '2017-02-04',\n",
      "               '2017-02-05', '2017-02-06'],\n",
      "              dtype='datetime64[ns]', freq=None)\n",
      "------\n",
      "Index(['2017-2-1', '2017-2-2', '2017-2-3', 'hello world!', '2017-2-5',\n",
      "       '2017-2-6'],\n",
      "      dtype='object') <class 'pandas.core.indexes.base.Index'>\n",
      "------\n",
      "DatetimeIndex(['2017-02-01', '2017-02-02', '2017-02-03', 'NaT', '2017-02-05',\n",
      "               '2017-02-06'],\n",
      "              dtype='datetime64[ns]', freq=None) <class 'pandas.core.indexes.datetimes.DatetimeIndex'>\n"
     ]
    }
   ],
   "source": [
    "# pd.to_datetime → 多个时间数据转换时间戳索引\n",
    "\n",
    "from datetime import datetime\n",
    "\n",
    "date1 = [datetime(2015,6,1),datetime(2015,7,1),datetime(2015,8,1),datetime(2015,9,1),datetime(2015,10,1)]\n",
    "date2 = ['2017-2-1','2017-2-2','2017-2-3','2017-2-4','2017-2-5','2017-2-6']\n",
    "print(date1)\n",
    "print(date2)\n",
    "print('------')\n",
    "t1 = pd.to_datetime(date1)\n",
    "t2 = pd.to_datetime(date2)\n",
    "print(t1)\n",
    "print(t2)\n",
    "print('------')\n",
    "# 多个时间数据转换为 DatetimeIndex\n",
    "\n",
    "date3 = ['2017-2-1','2017-2-2','2017-2-3','hello world!','2017-2-5','2017-2-6']\n",
    "t3 = pd.to_datetime(date3, errors = 'ignore')\n",
    "print(t3,type(t3))\n",
    "print('------')\n",
    "# 当一组时间序列中夹杂其他格式数据，可用errors参数返回\n",
    "# errors = 'ignore':不可解析时返回原始输入，这里就是直接生成一般数组\n",
    "\n",
    "t4 = pd.to_datetime(date3, errors = 'coerce')\n",
    "print(t4,type(t4))\n",
    "# errors = 'coerce':不可扩展，缺失值返回NaT（Not a Time），结果认为DatetimeIndex"
   ]
  },
  {
   "cell_type": "code",
   "execution_count": null,
   "metadata": {},
   "outputs": [],
   "source": []
  },
  {
   "cell_type": "code",
   "execution_count": null,
   "metadata": {},
   "outputs": [],
   "source": [
    "'''\n",
    "【课程2.10】  Pandas时间戳索引：DatetimeIndex\n",
    "\n",
    "核心：pd.date_range()\n",
    "\n",
    "'''"
   ]
  },
  {
   "cell_type": "code",
   "execution_count": 3,
   "metadata": {},
   "outputs": [
    {
     "name": "stdout",
     "output_type": "stream",
     "text": [
      "DatetimeIndex(['2017-12-01', '2017-12-02', '2017-12-03', '2017-12-04',\n",
      "               '2017-12-05'],\n",
      "              dtype='datetime64[ns]', freq=None) <class 'pandas.core.indexes.datetimes.DatetimeIndex'>\n",
      "2017-12-01 00:00:00 <class 'pandas._libs.tslibs.timestamps.Timestamp'>\n",
      "\n",
      "\n",
      "(2017-12-01    0.059150\n",
      "2017-12-02    0.279526\n",
      "2017-12-03    0.396014\n",
      "2017-12-04    0.580157\n",
      "2017-12-05    0.601328\n",
      "dtype: float64,) <class 'tuple'> \n",
      "------\n",
      "2017-12-01    0.764130\n",
      "2017-12-02    0.285536\n",
      "2017-12-03    0.353581\n",
      "2017-12-04    0.178416\n",
      "2017-12-05    0.534520\n",
      "dtype: float64 <class 'pandas.core.series.Series'>\n",
      "DatetimeIndex(['2017-12-01', '2017-12-02', '2017-12-03', '2017-12-04',\n",
      "               '2017-12-05'],\n",
      "              dtype='datetime64[ns]', freq=None)\n"
     ]
    }
   ],
   "source": [
    "# pd.DatetimeIndex()与TimeSeries时间序列\n",
    "\n",
    "rng = pd.DatetimeIndex(['12/1/2017','12/2/2017','12/3/2017','12/4/2017','12/5/2017'])\n",
    "print(rng,type(rng))\n",
    "print(rng[0],type(rng[0]))\n",
    "print('\\n')\n",
    "# 直接生成时间戳索引，支持str、datetime.datetime\n",
    "# 单个时间戳为Timestamp，多个时间戳为DatetimeIndex\n",
    "\n",
    "ts = pd.Series(np.random.rand(5),\n",
    "              index = rng),\n",
    "print(ts, type(ts), '\\n------')\n",
    "\n",
    "st = pd.Series(np.random.rand(len(rng)), index = rng)\n",
    "print(st,type(st))\n",
    "print(st.index)\n",
    "# 以DatetimeIndex为index的Series，为TimeSeries，时间序列"
   ]
  },
  {
   "cell_type": "code",
   "execution_count": 8,
   "metadata": {},
   "outputs": [
    {
     "name": "stdout",
     "output_type": "stream",
     "text": [
      "DatetimeIndex(['2017-01-01', '2017-01-02', '2017-01-03', '2017-01-04',\n",
      "               '2017-01-05', '2017-01-06', '2017-01-07', '2017-01-08',\n",
      "               '2017-01-09', '2017-01-10'],\n",
      "              dtype='datetime64[ns]', freq='D') <class 'pandas.core.indexes.datetimes.DatetimeIndex'>\n",
      "DatetimeIndex(['2017-01-01', '2017-01-02', '2017-01-03', '2017-01-04',\n",
      "               '2017-01-05', '2017-01-06', '2017-01-07', '2017-01-08',\n",
      "               '2017-01-09', '2017-01-10'],\n",
      "              dtype='datetime64[ns]', freq='D')\n",
      "DatetimeIndex(['2017-01-21 15:00:00', '2017-01-22 15:00:00',\n",
      "               '2017-01-23 15:00:00', '2017-01-24 15:00:00',\n",
      "               '2017-01-25 15:00:00', '2017-01-26 15:00:00',\n",
      "               '2017-01-27 15:00:00', '2017-01-28 15:00:00',\n",
      "               '2017-01-29 15:00:00', '2017-01-30 15:00:00'],\n",
      "              dtype='datetime64[ns]', freq='D')\n",
      "-------\n",
      "DatetimeIndex(['2017-01-01', '2017-01-02', '2017-01-03', '2017-01-04',\n",
      "               '2017-01-05', '2017-01-06', '2017-01-07', '2017-01-08',\n",
      "               '2017-01-09', '2017-01-10'],\n",
      "              dtype='datetime64[ns]', name='hello world!', freq='D')\n",
      "-------\n",
      "DatetimeIndex(['2017-01-01', '2017-01-02', '2017-01-03', '2017-01-04'], dtype='datetime64[ns]', freq='D')\n",
      "DatetimeIndex(['2017-01-02', '2017-01-03', '2017-01-04'], dtype='datetime64[ns]', freq='D')\n",
      "DatetimeIndex(['2017-01-01', '2017-01-02', '2017-01-03'], dtype='datetime64[ns]', freq='D')\n",
      "-------\n",
      "DatetimeIndex(['2017-01-02', '2017-01-03', '2017-01-04', '2017-01-05',\n",
      "               '2017-01-06'],\n",
      "              dtype='datetime64[ns]', freq='B')\n",
      "[Timestamp('2017-01-01 00:00:00', freq='D'), Timestamp('2017-01-02 00:00:00', freq='D'), Timestamp('2017-01-03 00:00:00', freq='D'), Timestamp('2017-01-04 00:00:00', freq='D'), Timestamp('2017-01-05 00:00:00', freq='D'), Timestamp('2017-01-06 00:00:00', freq='D'), Timestamp('2017-01-07 00:00:00', freq='D'), Timestamp('2017-01-08 00:00:00', freq='D'), Timestamp('2017-01-09 00:00:00', freq='D'), Timestamp('2017-01-10 00:00:00', freq='D')]\n"
     ]
    }
   ],
   "source": [
    "# ********************************************** 重点 **********************************************\n",
    "# pd.date_range()-日期范围：生成日期范围\n",
    "# 2种生成方式：①start + end； ②start/end + periods\n",
    "# 默认频率：day\n",
    "\n",
    "rng1 = pd.date_range('1/1/2017','1/10/2017', normalize=True)\n",
    "rng2 = pd.date_range(start = '1/1/2017', periods = 10)\n",
    "rng3 = pd.date_range(end = '1/30/2017 15:00:00', periods = 10)  # 增加了时、分、秒\n",
    "print(rng1,type(rng1))\n",
    "print(rng2)\n",
    "print(rng3)\n",
    "print('-------')\n",
    "# 直接生成DatetimeIndex\n",
    "# pd.date_range(start=None, end=None, periods=None, freq='D', tz=None, normalize=False, name=None, closed=None, **kwargs)\n",
    "# start：开始时间\n",
    "# end：结束时间\n",
    "# periods：偏移量\n",
    "# freq：频率，默认天，pd.date_range()默认频率为日历日，pd.bdate_range()默认频率为工作日\n",
    "# tz：时区\n",
    "\n",
    "rng4 = pd.date_range(start = '1/1/2017 15:30', periods = 10, name = 'hello world!', normalize = True)\n",
    "print(rng4)\n",
    "print('-------')\n",
    "# normalize：时间参数值正则化到午夜时间戳（这里最后就直接变成0:00:00，并不是15:30:00）\n",
    "# name：索引对象名称\n",
    "\n",
    "print(pd.date_range('20170101','20170104'))  # 20170101也可读取\n",
    "print(pd.date_range('20170101','20170104',closed = 'right'))\n",
    "print(pd.date_range('20170101','20170104',closed = 'left'))\n",
    "print('-------')\n",
    "# closed：默认为None的情况下，左闭右闭，left则左闭右开，right则左开右闭\n",
    "\n",
    "print(pd.bdate_range('20170101','20170107'))\n",
    "# pd.bdate_range()默认频率为工作日\n",
    "\n",
    "print(list(pd.date_range(start = '1/1/2017', periods = 10)))\n",
    "# 直接转化为list，元素为Timestamp"
   ]
  },
  {
   "cell_type": "code",
   "execution_count": 6,
   "metadata": {},
   "outputs": [
    {
     "name": "stdout",
     "output_type": "stream",
     "text": [
      "DatetimeIndex(['2017-01-01', '2017-01-02', '2017-01-03', '2017-01-04'], dtype='datetime64[ns]', freq='D')\n",
      "DatetimeIndex(['2017-01-02', '2017-01-03', '2017-01-04', '2017-01-05',\n",
      "               '2017-01-06', '2017-01-09', '2017-01-10'],\n",
      "              dtype='datetime64[ns]', freq='B')\n",
      "DatetimeIndex(['2017-01-01 00:00:00', '2017-01-01 01:00:00',\n",
      "               '2017-01-01 02:00:00', '2017-01-01 03:00:00',\n",
      "               '2017-01-01 04:00:00', '2017-01-01 05:00:00',\n",
      "               '2017-01-01 06:00:00', '2017-01-01 07:00:00',\n",
      "               '2017-01-01 08:00:00', '2017-01-01 09:00:00',\n",
      "               '2017-01-01 10:00:00', '2017-01-01 11:00:00',\n",
      "               '2017-01-01 12:00:00', '2017-01-01 13:00:00',\n",
      "               '2017-01-01 14:00:00', '2017-01-01 15:00:00',\n",
      "               '2017-01-01 16:00:00', '2017-01-01 17:00:00',\n",
      "               '2017-01-01 18:00:00', '2017-01-01 19:00:00',\n",
      "               '2017-01-01 20:00:00', '2017-01-01 21:00:00',\n",
      "               '2017-01-01 22:00:00', '2017-01-01 23:00:00',\n",
      "               '2017-01-02 00:00:00'],\n",
      "              dtype='datetime64[ns]', freq='H')\n",
      "DatetimeIndex(['2017-01-01 12:00:00', '2017-01-01 12:01:00',\n",
      "               '2017-01-01 12:02:00', '2017-01-01 12:03:00',\n",
      "               '2017-01-01 12:04:00', '2017-01-01 12:05:00',\n",
      "               '2017-01-01 12:06:00', '2017-01-01 12:07:00',\n",
      "               '2017-01-01 12:08:00', '2017-01-01 12:09:00',\n",
      "               '2017-01-01 12:10:00'],\n",
      "              dtype='datetime64[ns]', freq='T')\n",
      "DatetimeIndex(['2017-01-01 12:00:00', '2017-01-01 12:00:01',\n",
      "               '2017-01-01 12:00:02', '2017-01-01 12:00:03',\n",
      "               '2017-01-01 12:00:04', '2017-01-01 12:00:05',\n",
      "               '2017-01-01 12:00:06', '2017-01-01 12:00:07',\n",
      "               '2017-01-01 12:00:08', '2017-01-01 12:00:09',\n",
      "               '2017-01-01 12:00:10'],\n",
      "              dtype='datetime64[ns]', freq='S')\n",
      "DatetimeIndex([       '2017-01-01 12:00:00', '2017-01-01 12:00:00.001000',\n",
      "               '2017-01-01 12:00:00.002000', '2017-01-01 12:00:00.003000',\n",
      "               '2017-01-01 12:00:00.004000', '2017-01-01 12:00:00.005000',\n",
      "               '2017-01-01 12:00:00.006000', '2017-01-01 12:00:00.007000',\n",
      "               '2017-01-01 12:00:00.008000', '2017-01-01 12:00:00.009000',\n",
      "               ...\n",
      "               '2017-01-01 12:00:09.991000', '2017-01-01 12:00:09.992000',\n",
      "               '2017-01-01 12:00:09.993000', '2017-01-01 12:00:09.994000',\n",
      "               '2017-01-01 12:00:09.995000', '2017-01-01 12:00:09.996000',\n",
      "               '2017-01-01 12:00:09.997000', '2017-01-01 12:00:09.998000',\n",
      "               '2017-01-01 12:00:09.999000',        '2017-01-01 12:00:10'],\n",
      "              dtype='datetime64[ns]', length=10001, freq='L')\n",
      "DatetimeIndex([       '2017-01-01 12:00:00', '2017-01-01 12:00:00.000001',\n",
      "               '2017-01-01 12:00:00.000002', '2017-01-01 12:00:00.000003',\n",
      "               '2017-01-01 12:00:00.000004', '2017-01-01 12:00:00.000005',\n",
      "               '2017-01-01 12:00:00.000006', '2017-01-01 12:00:00.000007',\n",
      "               '2017-01-01 12:00:00.000008', '2017-01-01 12:00:00.000009',\n",
      "               ...\n",
      "               '2017-01-01 12:00:09.999991', '2017-01-01 12:00:09.999992',\n",
      "               '2017-01-01 12:00:09.999993', '2017-01-01 12:00:09.999994',\n",
      "               '2017-01-01 12:00:09.999995', '2017-01-01 12:00:09.999996',\n",
      "               '2017-01-01 12:00:09.999997', '2017-01-01 12:00:09.999998',\n",
      "               '2017-01-01 12:00:09.999999',        '2017-01-01 12:00:10'],\n",
      "              dtype='datetime64[ns]', length=10000001, freq='U')\n",
      "DatetimeIndex(['2017-01-02', '2017-01-09', '2017-01-16', '2017-01-23',\n",
      "               '2017-01-30'],\n",
      "              dtype='datetime64[ns]', freq='W-MON')\n",
      "DatetimeIndex(['2019-11-01', '2019-11-08', '2019-11-15', '2019-11-22',\n",
      "               '2019-11-29'],\n",
      "              dtype='datetime64[ns]', freq='W-FRI')\n",
      "DatetimeIndex(['2017-01-09', '2017-02-13', '2017-03-13', '2017-04-10'], dtype='datetime64[ns]', freq='WOM-2MON')\n",
      "DatetimeIndex(['2018-10-20', '2018-11-17', '2018-12-15', '2019-01-19',\n",
      "               '2019-02-16', '2019-03-16', '2019-04-20', '2019-05-18',\n",
      "               '2019-06-15', '2019-07-20', '2019-08-17', '2019-09-21',\n",
      "               '2019-10-19'],\n",
      "              dtype='datetime64[ns]', freq='WOM-3SAT')\n"
     ]
    }
   ],
   "source": [
    "# pd.date_range()-日期范围：频率(1)\n",
    "\n",
    "print(pd.date_range('2017/1/1','2017/1/4'))  # 默认freq = 'D'：每日历日\n",
    "print(pd.date_range('2017/1/1','2017/1/10', freq = 'B'))  # B：每工作日\n",
    "print(pd.date_range('2017/1/1','2017/1/2', freq = 'H'))  # H：每小时\n",
    "print(pd.date_range('2017/1/1 12:00','2017/1/1 12:10', freq = 'T'))  # T/MIN：每分\n",
    "print(pd.date_range('2017/1/1 12:00:00','2017/1/1 12:00:10', freq = 'S'))  # S：每秒\n",
    "print(pd.date_range('2017/1/1 12:00:00','2017/1/1 12:00:10', freq = 'L'))  # L：每毫秒（千分之一秒）\n",
    "print(pd.date_range('2017/1/1 12:00:00','2017/1/1 12:00:10', freq = 'U'))  # U：每微秒（百万分之一秒）\n",
    "\n",
    "print(pd.date_range('2017/1/1','2017/2/1', freq = 'W-MON'))\n",
    "print(pd.date_range('2019/10/31','2019/11/30', freq = 'W-FRI'))\n",
    "# W-MON：从指定星期几开始算起，每周\n",
    "# 星期几缩写：MON/TUE/WED/THU/FRI/SAT/SUN\n",
    "\n",
    "print(pd.date_range('2017/1/1','2017/5/1', freq = 'WOM-2MON'))  \n",
    "print(pd.date_range('2018/10/20','2019/10/20', freq = 'WOM-3SAT'))\n",
    "# WOM-2MON：每月的第几个星期几开始算，这里是每月第二个星期一"
   ]
  },
  {
   "cell_type": "code",
   "execution_count": 13,
   "metadata": {},
   "outputs": [
    {
     "name": "stdout",
     "output_type": "stream",
     "text": [
      "DatetimeIndex(['2018-01-31', '2018-02-28', '2018-03-31', '2018-04-30',\n",
      "               '2018-05-31', '2018-06-30', '2018-07-31', '2018-08-31',\n",
      "               '2018-09-30', '2018-10-31', '2018-11-30', '2018-12-31'],\n",
      "              dtype='datetime64[ns]', freq='M')\n",
      "DatetimeIndex(['2018-03-31', '2018-06-30', '2018-09-30', '2018-12-31',\n",
      "               '2019-03-31', '2019-06-30', '2019-09-30', '2019-12-31',\n",
      "               '2020-03-31', '2020-06-30', '2020-09-30', '2020-12-31',\n",
      "               '2021-03-31', '2021-06-30', '2021-09-30', '2021-12-31'],\n",
      "              dtype='datetime64[ns]', freq='Q-DEC')\n",
      "DatetimeIndex(['2019-02-28', '2019-05-31', '2019-08-31', '2019-11-30',\n",
      "               '2020-02-29', '2020-05-31', '2020-08-31', '2020-11-30',\n",
      "               '2021-02-28', '2021-05-31', '2021-08-31', '2021-11-30'],\n",
      "              dtype='datetime64[ns]', freq='Q-AUG')\n",
      "DatetimeIndex(['2018-12-31', '2019-12-31', '2020-12-31', '2021-12-31'], dtype='datetime64[ns]', freq='A-DEC')\n",
      "------------------\n",
      "DatetimeIndex(['2017-01-31', '2017-02-28', '2017-03-31', '2017-04-28',\n",
      "               '2017-05-31', '2017-06-30', '2017-07-31', '2017-08-31',\n",
      "               '2017-09-29', '2017-10-31', '2017-11-30', '2017-12-29'],\n",
      "              dtype='datetime64[ns]', freq='BM')\n",
      "DatetimeIndex(['2017-03-31', '2017-06-30', '2017-09-29', '2017-12-29',\n",
      "               '2018-03-30', '2018-06-29', '2018-09-28', '2018-12-31',\n",
      "               '2019-03-29', '2019-06-28', '2019-09-30', '2019-12-31'],\n",
      "              dtype='datetime64[ns]', freq='BQ-DEC')\n",
      "DatetimeIndex(['2017-12-29', '2018-12-31', '2019-12-31'], dtype='datetime64[ns]', freq='BA-DEC')\n",
      "------------------\n",
      "DatetimeIndex(['2017-01-01', '2017-02-01', '2017-03-01', '2017-04-01',\n",
      "               '2017-05-01', '2017-06-01', '2017-07-01', '2017-08-01',\n",
      "               '2017-09-01', '2017-10-01', '2017-11-01', '2017-12-01',\n",
      "               '2018-01-01'],\n",
      "              dtype='datetime64[ns]', freq='MS')\n",
      "DatetimeIndex(['2017-03-01', '2017-06-01', '2017-09-01', '2017-12-01',\n",
      "               '2018-03-01', '2018-06-01', '2018-09-01', '2018-12-01',\n",
      "               '2019-03-01', '2019-06-01', '2019-09-01', '2019-12-01'],\n",
      "              dtype='datetime64[ns]', freq='QS-DEC')\n",
      "DatetimeIndex(['2017-12-01', '2018-12-01', '2019-12-01'], dtype='datetime64[ns]', freq='AS-DEC')\n",
      "------------------\n",
      "DatetimeIndex(['2017-01-02', '2017-02-01', '2017-03-01', '2017-04-03',\n",
      "               '2017-05-01', '2017-06-01', '2017-07-03', '2017-08-01',\n",
      "               '2017-09-01', '2017-10-02', '2017-11-01', '2017-12-01',\n",
      "               '2018-01-01'],\n",
      "              dtype='datetime64[ns]', freq='BMS')\n",
      "DatetimeIndex(['2017-03-01', '2017-06-01', '2017-09-01', '2017-12-01',\n",
      "               '2018-03-01', '2018-06-01', '2018-09-03', '2018-12-03',\n",
      "               '2019-03-01', '2019-06-03', '2019-09-02', '2019-12-02'],\n",
      "              dtype='datetime64[ns]', freq='BQS-DEC')\n",
      "DatetimeIndex(['2017-12-01', '2018-12-03', '2019-12-02'], dtype='datetime64[ns]', freq='BAS-DEC')\n",
      "------------------\n"
     ]
    }
   ],
   "source": [
    "# pd.date_range()-日期范围：频率(2)\n",
    "\n",
    "print(pd.date_range('2018','2019', freq = 'M'))                            # M：每月最后一个日历日\n",
    "print(pd.date_range('2018','2022', freq = 'Q-DEC'))\n",
    "print(pd.date_range('2019','2022', freq = 'Q-AUG'))\n",
    "print(pd.date_range('2018','2022', freq = 'A-DEC')) \n",
    "print('------------------')\n",
    "# M：每月最后一个日历日\n",
    "# Q-月：指定月为季度末，每个季度末最后一月的最后一个日历日\n",
    "# A-月：每年指定月份的最后一个日历日\n",
    "# 月缩写：JAN/FEB/MAR/APR/MAY/JUN/JUL/AUG/SEP/OCT/NOV/DEC\n",
    "# 所以Q-月只有三种情况：1-4-7-10,2-5-8-11,3-6-9-12\n",
    "\n",
    "print(pd.date_range('2017','2018', freq = 'BM'))                           # BM：每月最后一个工作日\n",
    "print(pd.date_range('2017','2020', freq = 'BQ-DEC'))  \n",
    "print(pd.date_range('2017','2020', freq = 'BA-DEC')) \n",
    "print('------------------')\n",
    "# BM：每月最后一个工作日\n",
    "# BQ-月：指定月为季度末，每个季度末最后一月的最后一个工作日\n",
    "# BA-月：每年指定月份的最后一个工作日\n",
    "\n",
    "print(pd.date_range('2017','2018', freq = 'MS'))                            # MS：每月第一个日历日\n",
    "print(pd.date_range('2017','2020', freq = 'QS-DEC'))  \n",
    "print(pd.date_range('2017','2020', freq = 'AS-DEC')) \n",
    "print('------------------')\n",
    "# M：每月第一个日历日\n",
    "# Q-月：指定月为季度末，每个季度末最后一月的第一个日历日\n",
    "# A-月：每年指定月份的第一个日历日\n",
    "\n",
    "print(pd.date_range('2017','2018', freq = 'BMS'))                           # BMS：每月第一个工作日\n",
    "print(pd.date_range('2017','2020', freq = 'BQS-DEC'))  \n",
    "print(pd.date_range('2017','2020', freq = 'BAS-DEC')) \n",
    "print('------------------')\n",
    "# BM：每月第一个工作日\n",
    "# BQ-月：指定月为季度末，每个季度末最后一月的第一个工作日\n",
    "# BA-月：每年指定月份的第一个工作日"
   ]
  },
  {
   "cell_type": "code",
   "execution_count": 15,
   "metadata": {},
   "outputs": [
    {
     "name": "stdout",
     "output_type": "stream",
     "text": [
      "DatetimeIndex(['2019-01-01', '2019-01-08', '2019-01-15', '2019-01-22',\n",
      "               '2019-01-29'],\n",
      "              dtype='datetime64[ns]', freq='7D')\n",
      "DatetimeIndex(['2019-01-01 00:00:00', '2019-01-01 02:30:00',\n",
      "               '2019-01-01 05:00:00', '2019-01-01 07:30:00',\n",
      "               '2019-01-01 10:00:00', '2019-01-01 12:30:00',\n",
      "               '2019-01-01 15:00:00', '2019-01-01 17:30:00',\n",
      "               '2019-01-01 20:00:00', '2019-01-01 22:30:00'],\n",
      "              dtype='datetime64[ns]', freq='150T')\n",
      "DatetimeIndex(['2019-01-31', '2019-03-31', '2019-05-31', '2019-07-31',\n",
      "               '2019-09-30', '2019-11-30'],\n",
      "              dtype='datetime64[ns]', freq='2M')\n",
      "DatetimeIndex(['2019-01-01', '2019-03-01', '2019-05-01', '2019-07-01',\n",
      "               '2019-09-01', '2019-11-01', '2020-01-01'],\n",
      "              dtype='datetime64[ns]', freq='2MS')\n"
     ]
    }
   ],
   "source": [
    "# pd.date_range()-日期范围：复合频率\n",
    "\n",
    "print(pd.date_range('2019/1/1','2019/2/1', freq = '7D'))  # 7天\n",
    "print(pd.date_range('2019/1/1','2019/1/2', freq = '2h30min'))  # 2小时30分钟\n",
    "print(pd.date_range('2019','2020', freq = '2M'))  # 2月，每月最后一个日历日\n",
    "print(pd.date_range('2019','2020', freq = '2MS'))  # 2月，每月第一个日历日（比如）"
   ]
  },
  {
   "cell_type": "code",
   "execution_count": 17,
   "metadata": {},
   "outputs": [
    {
     "name": "stdout",
     "output_type": "stream",
     "text": [
      "2020-01-01    0.800788\n",
      "2020-01-02    0.872653\n",
      "2020-01-03    0.477710\n",
      "2020-01-04    0.117998\n",
      "Freq: D, dtype: float64\n",
      "2020-01-01 00:00:00    0.800788\n",
      "2020-01-01 04:00:00    0.800788\n",
      "2020-01-01 08:00:00    0.800788\n",
      "2020-01-01 12:00:00    0.800788\n",
      "2020-01-01 16:00:00    0.800788\n",
      "2020-01-01 20:00:00    0.800788\n",
      "2020-01-02 00:00:00    0.872653\n",
      "2020-01-02 04:00:00    0.872653\n",
      "2020-01-02 08:00:00    0.872653\n",
      "2020-01-02 12:00:00    0.872653\n",
      "2020-01-02 16:00:00    0.872653\n",
      "2020-01-02 20:00:00    0.872653\n",
      "2020-01-03 00:00:00    0.477710\n",
      "2020-01-03 04:00:00    0.477710\n",
      "2020-01-03 08:00:00    0.477710\n",
      "2020-01-03 12:00:00    0.477710\n",
      "2020-01-03 16:00:00    0.477710\n",
      "2020-01-03 20:00:00    0.477710\n",
      "2020-01-04 00:00:00    0.117998\n",
      "Freq: 4H, dtype: float64\n"
     ]
    }
   ],
   "source": [
    "# asfreq：时期频率转换\n",
    "\n",
    "ts = pd.Series(np.random.rand(4),\n",
    "              index = pd.date_range('20200101','20200104'))\n",
    "print(ts)\n",
    "print(ts.asfreq('4H',method = 'ffill'))\n",
    "# 改变频率，这里是D改为4H\n",
    "# method：插值模式，None不插值，ffill用之前值填充，bfill用之后值填充"
   ]
  },
  {
   "cell_type": "code",
   "execution_count": 19,
   "metadata": {},
   "outputs": [
    {
     "name": "stdout",
     "output_type": "stream",
     "text": [
      "2018-01-01    0.039324\n",
      "2018-01-02    0.162687\n",
      "2018-01-03    0.669824\n",
      "2018-01-04    0.076135\n",
      "Freq: D, dtype: float64\n",
      "2018-01-01         NaN\n",
      "2018-01-02         NaN\n",
      "2018-01-03    0.039324\n",
      "2018-01-04    0.162687\n",
      "Freq: D, dtype: float64\n",
      "2018-01-01    0.669824\n",
      "2018-01-02    0.076135\n",
      "2018-01-03         NaN\n",
      "2018-01-04         NaN\n",
      "Freq: D, dtype: float64\n",
      "------\n",
      "2018-01-01         NaN\n",
      "2018-01-02    3.137119\n",
      "2018-01-03    3.117265\n",
      "2018-01-04   -0.886335\n",
      "Freq: D, dtype: float64\n",
      "------\n",
      "2018-01-03    0.039324\n",
      "2018-01-04    0.162687\n",
      "2018-01-05    0.669824\n",
      "2018-01-06    0.076135\n",
      "Freq: D, dtype: float64\n",
      "2018-01-01 00:02:00    0.039324\n",
      "2018-01-02 00:02:00    0.162687\n",
      "2018-01-03 00:02:00    0.669824\n",
      "2018-01-04 00:02:00    0.076135\n",
      "Freq: D, dtype: float64\n"
     ]
    }
   ],
   "source": [
    "# pd.date_range()-日期范围：超前/滞后数据\n",
    "\n",
    "ts = pd.Series(np.random.rand(4),\n",
    "              index = pd.date_range('20180101','20180104'))\n",
    "print(ts)\n",
    "\n",
    "print(ts.shift(2))\n",
    "print(ts.shift(-2))\n",
    "print('------')\n",
    "# 正数：数值后移（滞后）；负数：数值前移（超前）\n",
    "\n",
    "per = ts/ts.shift(1) - 1\n",
    "print(per)\n",
    "print('------')\n",
    "# 计算变化百分比，这里计算：该时间戳与上一个时间戳相比，变化百分比\n",
    "\n",
    "print(ts.shift(2, freq = 'D'))\n",
    "print(ts.shift(2, freq = 'T'))\n",
    "# 加上freq参数：对时间戳进行位移，而不是对数值进行位移"
   ]
  },
  {
   "cell_type": "code",
   "execution_count": null,
   "metadata": {},
   "outputs": [],
   "source": []
  },
  {
   "cell_type": "code",
   "execution_count": null,
   "metadata": {},
   "outputs": [],
   "source": [
    "'''\n",
    "【课程2.11】  Pandas时期：Period\n",
    "\n",
    "核心：pd.Period()\n",
    "\n",
    "'''"
   ]
  },
  {
   "cell_type": "code",
   "execution_count": 6,
   "metadata": {},
   "outputs": [
    {
     "name": "stdout",
     "output_type": "stream",
     "text": [
      "2017-01 <class 'pandas._libs.tslibs.period.Period'>\n",
      "DatetimeIndex(['2019-11-01'], dtype='datetime64[ns]', freq=None) <class 'pandas.core.indexes.datetimes.DatetimeIndex'>\n",
      "2017-02\n",
      "2016-11\n",
      "2012\n",
      "2011\n"
     ]
    }
   ],
   "source": [
    "# pd.Period()创建时期\n",
    "\n",
    "p = pd.Period('2017', freq = 'M')\n",
    "t = pd.DatetimeIndex(['2019-11-01'])   ###\n",
    "print(p, type(p))\n",
    "print(t, type(t))   ###\n",
    "# 生成一个以2017-01开始，月为频率的时间构造器\n",
    "# pd.Period()参数：一个时间戳 + freq 参数 → freq 用于指明该 period 的长度，时间戳则说明该 period 在时间轴上的位置\n",
    "\n",
    "print(p + 1)\n",
    "print(p - 2)\n",
    "print(pd.Period('2012', freq = 'A-DEC'))\n",
    "print(pd.Period('2012', freq = 'A-DEC') - 1)\n",
    "# 通过加减整数，将周期整体移动\n",
    "# 这里是按照 月、年 移动"
   ]
  },
  {
   "cell_type": "code",
   "execution_count": 12,
   "metadata": {},
   "outputs": [
    {
     "name": "stdout",
     "output_type": "stream",
     "text": [
      "PeriodIndex(['2011-01', '2011-02', '2011-03', '2011-04', '2011-05', '2011-06',\n",
      "             '2011-07', '2011-08', '2011-09', '2011-10', '2011-11', '2011-12',\n",
      "             '2012-01'],\n",
      "            dtype='period[M]', freq='M') <class 'pandas.core.indexes.period.PeriodIndex'>\n",
      "DatetimeIndex(['2011-01-31', '2011-02-28', '2011-03-31', '2011-04-30',\n",
      "               '2011-05-31', '2011-06-30', '2011-07-31', '2011-08-31',\n",
      "               '2011-09-30', '2011-10-31', '2011-11-30', '2011-12-31'],\n",
      "              dtype='datetime64[ns]', freq='M') <class 'pandas.core.indexes.datetimes.DatetimeIndex'>\n",
      "2011-01 <class 'pandas._libs.tslibs.period.Period'>\n",
      "---------\n",
      "2011-01    0.155777\n",
      "2011-02    0.496704\n",
      "2011-03    0.915955\n",
      "2011-04    0.999968\n",
      "2011-05    0.270638\n",
      "2011-06    0.246403\n",
      "2011-07    0.180040\n",
      "2011-08    0.685719\n",
      "2011-09    0.797255\n",
      "2011-10    0.962075\n",
      "2011-11    0.618486\n",
      "2011-12    0.245707\n",
      "2012-01    0.999847\n",
      "Freq: M, dtype: float64 <class 'pandas.core.series.Series'> \n",
      "\n",
      "2011-01-31    0.931021\n",
      "2011-02-28    0.810331\n",
      "2011-03-31    0.956441\n",
      "2011-04-30    0.245615\n",
      "2011-05-31    0.507993\n",
      "2011-06-30    0.619665\n",
      "2011-07-31    0.118996\n",
      "2011-08-31    0.134501\n",
      "2011-09-30    0.948142\n",
      "2011-10-31    0.806289\n",
      "2011-11-30    0.440406\n",
      "2011-12-31    0.756472\n",
      "Freq: M, dtype: float64 <class 'pandas.core.series.Series'> \n",
      "\n",
      "PeriodIndex(['2011-01', '2011-02', '2011-03', '2011-04', '2011-05', '2011-06',\n",
      "             '2011-07', '2011-08', '2011-09', '2011-10', '2011-11', '2011-12',\n",
      "             '2012-01'],\n",
      "            dtype='period[M]', freq='M')\n",
      "DatetimeIndex(['2011-01-31', '2011-02-28', '2011-03-31', '2011-04-30',\n",
      "               '2011-05-31', '2011-06-30', '2011-07-31', '2011-08-31',\n",
      "               '2011-09-30', '2011-10-31', '2011-11-30', '2011-12-31'],\n",
      "              dtype='datetime64[ns]', freq='M')\n",
      "---------\n"
     ]
    }
   ],
   "source": [
    "# pd.period_range()创建时期范围\n",
    "\n",
    "prng = pd.period_range('1/1/2011', '1/1/2012', freq='M')\n",
    "rng = pd.date_range('1/1/2011', '1/1/2012', freq='M')   ###\n",
    "print(prng,type(prng))\n",
    "print(rng,type(rng))   ###\n",
    "print(prng[0],type(prng[0]))\n",
    "print('---------')\n",
    "# 数据格式为PeriodIndex，单个数值为Period\n",
    "\n",
    "ts = pd.Series(np.random.rand(len(prng)), index = prng)\n",
    "ts2 = pd.Series(np.random.rand(len(rng)), index = rng)   ###\n",
    "print(ts,type(ts),'\\n')\n",
    "print(ts2,type(ts2),'\\n')   ###\n",
    "print(ts.index)\n",
    "print(ts2.index)   ###\n",
    "print('---------')\n",
    "# 时间序列\n",
    "\n",
    "# Period('2011', freq = 'A-DEC')可以看成多个时间期的时间段中的游标\n",
    "# Timestamp表示一个时间戳，是一个时间截面；Period是一个时期，是一个时间段！！但两者作为index时区别不大"
   ]
  },
  {
   "cell_type": "code",
   "execution_count": 13,
   "metadata": {},
   "outputs": [
    {
     "name": "stdout",
     "output_type": "stream",
     "text": [
      "2017\n",
      "2017-01\n",
      "2017-12-31\n",
      "2017-01    0.029239\n",
      "2017-02    0.018138\n",
      "2017-03    0.654265\n",
      "2017-04    0.582397\n",
      "2017-05    0.124258\n",
      "Freq: M, dtype: float64 13\n",
      "2017-01-01    0.364872\n",
      "2017-02-01    0.336371\n",
      "2017-03-01    0.254745\n",
      "2017-04-01    0.062171\n",
      "2017-05-01    0.154594\n",
      "Freq: D, dtype: float64 13\n"
     ]
    }
   ],
   "source": [
    "# asfreq：频率转换\n",
    "\n",
    "p = pd.Period('2017','A-DEC')\n",
    "print(p)\n",
    "print(p.asfreq('M', how = 'start'))  # 也可写 how = 's'\n",
    "print(p.asfreq('D', how = 'end'))  # 也可写 how = 'e'\n",
    "# 通过.asfreq(freq, method=None, how=None)方法转换成别的频率\n",
    "\n",
    "prng = pd.period_range('2017','2018',freq = 'M')\n",
    "ts1 = pd.Series(np.random.rand(len(prng)), index = prng)\n",
    "ts2 = pd.Series(np.random.rand(len(prng)), index = prng.asfreq('D', how = 'start'))\n",
    "print(ts1.head(),len(ts1))\n",
    "print(ts2.head(),len(ts2))\n",
    "# asfreq也可以转换TIMESeries的index"
   ]
  },
  {
   "cell_type": "code",
   "execution_count": 14,
   "metadata": {},
   "outputs": [
    {
     "name": "stdout",
     "output_type": "stream",
     "text": [
      "2017-01-31    0.896318\n",
      "2017-02-28    0.455724\n",
      "2017-03-31    0.676966\n",
      "2017-04-30    0.914192\n",
      "2017-05-31    0.843830\n",
      "Freq: M, dtype: float64\n",
      "2017-01    0.896318\n",
      "2017-02    0.455724\n",
      "2017-03    0.676966\n",
      "2017-04    0.914192\n",
      "2017-05    0.843830\n",
      "Freq: M, dtype: float64\n",
      "2017-01    0.201708\n",
      "2017-02    0.802108\n",
      "2017-03    0.285160\n",
      "2017-04    0.517119\n",
      "2017-05    0.221795\n",
      "Freq: M, dtype: float64\n",
      "2017-01-01    0.201708\n",
      "2017-02-01    0.802108\n",
      "2017-03-01    0.285160\n",
      "2017-04-01    0.517119\n",
      "2017-05-01    0.221795\n",
      "Freq: MS, dtype: float64\n"
     ]
    }
   ],
   "source": [
    "# 时间戳与时期之间的转换：pd.to_period()、pd.to_timestamp()\n",
    "\n",
    "rng = pd.date_range('2017/1/1', periods = 10, freq = 'M')\n",
    "prng = pd.period_range('2017','2018', freq = 'M')\n",
    "\n",
    "ts1 = pd.Series(np.random.rand(len(rng)), index = rng)\n",
    "print(ts1.head())\n",
    "print(ts1.to_period().head())\n",
    "# 每月最后一日，转化为每月\n",
    "\n",
    "ts2 = pd.Series(np.random.rand(len(prng)), index = prng)\n",
    "print(ts2.head())\n",
    "print(ts2.to_timestamp().head())\n",
    "# 每月，转化为每月第一天"
   ]
  },
  {
   "cell_type": "code",
   "execution_count": null,
   "metadata": {},
   "outputs": [],
   "source": []
  },
  {
   "cell_type": "code",
   "execution_count": null,
   "metadata": {},
   "outputs": [],
   "source": [
    "'''\n",
    "【课程2.12】  时间序列 - 索引及切片\n",
    "\n",
    "TimeSeries是Series的一个子类，所以Series索引及数据选取方面的方法基本一样\n",
    "\n",
    "同时TimeSeries通过时间序列有更便捷的方法做索引和切片\n",
    " \n",
    "'''"
   ]
  },
  {
   "cell_type": "code",
   "execution_count": 15,
   "metadata": {},
   "outputs": [
    {
     "name": "stdout",
     "output_type": "stream",
     "text": [
      "2017-01-01    0.523655\n",
      "2017-01-02    0.270584\n",
      "2017-01-03    0.543091\n",
      "2017-01-04    0.339754\n",
      "2017-01-05    0.969098\n",
      "Freq: D, dtype: float64\n"
     ]
    }
   ],
   "source": [
    "# 索引\n",
    "\n",
    "rng = pd.date_range('2017/1','2017/3')\n",
    "ts = pd.Series(np.random.rand(len(rng)), index = rng)\n",
    "print(ts.head())"
   ]
  },
  {
   "cell_type": "code",
   "execution_count": null,
   "metadata": {},
   "outputs": [],
   "source": [
    "# 切片\n",
    "\n"
   ]
  },
  {
   "cell_type": "code",
   "execution_count": null,
   "metadata": {},
   "outputs": [],
   "source": [
    "# 重复索引的时间序列\n",
    "\n"
   ]
  },
  {
   "cell_type": "code",
   "execution_count": null,
   "metadata": {},
   "outputs": [],
   "source": []
  },
  {
   "cell_type": "code",
   "execution_count": null,
   "metadata": {},
   "outputs": [],
   "source": []
  },
  {
   "cell_type": "code",
   "execution_count": null,
   "metadata": {},
   "outputs": [],
   "source": []
  },
  {
   "cell_type": "code",
   "execution_count": null,
   "metadata": {},
   "outputs": [],
   "source": []
  },
  {
   "cell_type": "code",
   "execution_count": null,
   "metadata": {},
   "outputs": [],
   "source": []
  }
 ],
 "metadata": {
  "kernelspec": {
   "display_name": "Python 3",
   "language": "python",
   "name": "python3"
  },
  "language_info": {
   "codemirror_mode": {
    "name": "ipython",
    "version": 3
   },
   "file_extension": ".py",
   "mimetype": "text/x-python",
   "name": "python",
   "nbconvert_exporter": "python",
   "pygments_lexer": "ipython3",
   "version": "3.7.3"
  }
 },
 "nbformat": 4,
 "nbformat_minor": 2
}
