{
 "cells": [
  {
   "cell_type": "code",
   "execution_count": 1,
   "metadata": {},
   "outputs": [],
   "source": [
    "import numpy as np\n",
    "import pandas as pd"
   ]
  },
  {
   "cell_type": "code",
   "execution_count": null,
   "metadata": {},
   "outputs": [],
   "source": [
    "'''\n",
    "【课程2.2  Pandas数据结构Series：基本概念及创建】 课程作业\n",
    "\n",
    "'''"
   ]
  },
  {
   "cell_type": "code",
   "execution_count": 5,
   "metadata": {},
   "outputs": [
    {
     "name": "stdout",
     "output_type": "stream",
     "text": [
      "Jack     90.0\n",
      "Marry    92.0\n",
      "Tom      89.0\n",
      "Zack     65.0\n",
      "Name: 作业1, dtype: float64\n",
      "------------------\n",
      "Jack     90.0\n",
      "Marry    92.0\n",
      "Tom      89.0\n",
      "Zack     65.0\n",
      "Name: 作业1, dtype: float64\n"
     ]
    }
   ],
   "source": [
    "# 作业1：分别由字典、数组的方式，创建以下要求的Series\n",
    "\n",
    "# 由字典的方式创建Series\n",
    "dic = {'Jack':90, 'Marry':92, 'Tom':89, 'Zack':65}\n",
    "ar = pd.Series(dic,name='作业1',dtype=np.float64)\n",
    "print(ar)\n",
    "print('------------------')\n",
    "\n",
    "# 由数组的方式创建Series\n",
    "a = np.array([90,92,89,65])\n",
    "arr = pd.Series(a,name='作业1',index=(['Jack','Marry','Tom','Zack']),dtype=np.float64)\n",
    "print(arr)"
   ]
  },
  {
   "cell_type": "code",
   "execution_count": null,
   "metadata": {},
   "outputs": [],
   "source": []
  },
  {
   "cell_type": "code",
   "execution_count": null,
   "metadata": {},
   "outputs": [],
   "source": [
    "'''\n",
    "【课程2.3  Pandas数据结构Series：索引】 课程作业\n",
    "\n",
    "'''"
   ]
  },
  {
   "cell_type": "code",
   "execution_count": 9,
   "metadata": {},
   "outputs": [
    {
     "name": "stdout",
     "output_type": "stream",
     "text": [
      "a    41.114151\n",
      "b    23.651407\n",
      "c    34.583856\n",
      "d    21.712709\n",
      "e    53.383340\n",
      "f    41.968798\n",
      "g    29.723114\n",
      "h    86.835630\n",
      "i    44.250562\n",
      "j    45.409136\n",
      "dtype: float64 \n",
      "--------\n",
      "标签b、c的值为：\n",
      "b    23.651407\n",
      "c    34.583856\n",
      "dtype: float64 \n",
      "--------\n",
      "标签b、c的值为：\n",
      " 23.6514070735672 34.5838560947626 \n",
      "--------\n",
      "Series中第4到6个值是：\n",
      "d    21.712709\n",
      "e    53.383340\n",
      "f    41.968798\n",
      "dtype: float64 \n",
      "--------\n",
      "Series中大于50的值有:\n",
      "e    53.38334\n",
      "h    86.83563\n",
      "dtype: float64\n"
     ]
    }
   ],
   "source": [
    "# 作业1：创建一个Series，包含10个元素，且每个值为0-100的均匀分布随机值，index为a-j，请分别筛选出：\n",
    "# ① 标签为b，c的值为多少\n",
    "# ② Series中第4到6个值是哪些？\n",
    "# ③ Series中大于50的值有哪些？\n",
    "\n",
    "s = pd.Series(np.random.rand(10)*100, index=['a','b','c','d','e','f','g','h','i','j'])\n",
    "print(s, '\\n--------')\n",
    "print('标签b、c的值为：\\n{}'.format(s[['b','c']]), '\\n--------')\n",
    "print('标签b、c的值为：\\n', s['b'], s['c'],'\\n--------')\n",
    "print(\"Series中第4到6个值是：\\n%s\" %s[3:6], '\\n--------')\n",
    "print(\"Series中大于50的值有:\\n%s\" %s[s>50])"
   ]
  },
  {
   "cell_type": "code",
   "execution_count": null,
   "metadata": {},
   "outputs": [],
   "source": []
  },
  {
   "cell_type": "code",
   "execution_count": null,
   "metadata": {},
   "outputs": [],
   "source": [
    "'''\n",
    "【课程2.4  Pandas数据结构Series：基本技巧】 课程作业\n",
    "\n",
    "'''"
   ]
  },
  {
   "cell_type": "code",
   "execution_count": 8,
   "metadata": {},
   "outputs": [
    {
     "name": "stdout",
     "output_type": "stream",
     "text": [
      "创建s:\n",
      " a    0\n",
      "b    1\n",
      "c    2\n",
      "d    3\n",
      "e    4\n",
      "f    5\n",
      "g    6\n",
      "h    7\n",
      "i    8\n",
      "j    9\n",
      "dtype: int32 \n",
      "--------\n",
      "s修改后:\n",
      " a    100\n",
      "c      2\n",
      "d      3\n",
      "e    100\n",
      "f    100\n",
      "g      6\n",
      "h      7\n",
      "i      8\n",
      "j      9\n",
      "dtype: int32 \n",
      "--------\n"
     ]
    }
   ],
   "source": [
    "# 作业1：如图创建Series，并按照要求修改得到结果\n",
    "\n",
    "s = pd.Series(np.array(list('0123456789')), index=(list('abcdefghij')), dtype=np.int)\n",
    "print(\"创建s:\\n\", s, '\\n--------')\n",
    "s['a'] = 100\n",
    "s['e'] = 100\n",
    "s['f'] = 100\n",
    "sl = s.drop('b')\n",
    "print(\"s修改后:\\n\", sl, '\\n--------')"
   ]
  },
  {
   "cell_type": "code",
   "execution_count": 22,
   "metadata": {},
   "outputs": [
    {
     "name": "stdout",
     "output_type": "stream",
     "text": [
      "创建s：\n",
      " a    0\n",
      "b    1\n",
      "c    2\n",
      "d    3\n",
      "e    4\n",
      "f    5\n",
      "g    6\n",
      "h    7\n",
      "i    8\n",
      "j    9\n",
      "dtype: int32 \n",
      "------\n",
      "a    100\n",
      "c      2\n",
      "d      3\n",
      "e    100\n",
      "f    100\n",
      "g      6\n",
      "h      7\n",
      "i      8\n",
      "j      9\n",
      "dtype: int32\n"
     ]
    }
   ],
   "source": [
    "s = pd.Series(np.arange(10), index=list('abcdefghij'))\n",
    "print('创建s：\\n',s,'\\n------')\n",
    "s.drop(['b'], inplace=True)   # inplace=True 删除后不生成副本\n",
    "s[['a','e','f']]=100\n",
    "print(s)"
   ]
  },
  {
   "cell_type": "code",
   "execution_count": 26,
   "metadata": {},
   "outputs": [
    {
     "name": "stdout",
     "output_type": "stream",
     "text": [
      "创建s1为：\n",
      " a    4.105054\n",
      "b    6.080107\n",
      "c    0.117209\n",
      "d    4.525895\n",
      "e    4.200216\n",
      "dtype: float64 \n",
      "\n",
      "创建s1为：\n",
      " c    8.682867\n",
      "d    5.506727\n",
      "e    7.191754\n",
      "f    7.694886\n",
      "g    6.198459\n",
      "dtype: float64 \n",
      "------\n",
      "s1+s2的值为：\n",
      " a          NaN\n",
      "b          NaN\n",
      "c     8.800076\n",
      "d    10.032622\n",
      "e    11.391971\n",
      "f          NaN\n",
      "g          NaN\n",
      "dtype: float64 \n",
      "------\n"
     ]
    }
   ],
   "source": [
    "# 作业2：已有s1，s2（值为0-10的随机数），请求出s1+s2的值\n",
    "\n",
    "s1 = pd.Series(np.random.rand(5)*10, index=list('abcde'))\n",
    "s2 = pd.Series(np.random.rand(5)*10, index=list('cdefg'))\n",
    "s3 = s1 + s2\n",
    "print(\"创建s1为：\\n\", s1, '\\n')\n",
    "print(\"创建s2为：\\n\", s2, '\\n------')\n",
    "print(\"s1+s2的值为：\\n\", s3, '\\n------')"
   ]
  },
  {
   "cell_type": "code",
   "execution_count": null,
   "metadata": {},
   "outputs": [],
   "source": []
  },
  {
   "cell_type": "code",
   "execution_count": null,
   "metadata": {},
   "outputs": [],
   "source": [
    "'''\n",
    "【课程2.5  Pandas数据结构Dataframe：基本概念及创建】 课程作业\n",
    "\n",
    "'''"
   ]
  },
  {
   "cell_type": "code",
   "execution_count": null,
   "metadata": {},
   "outputs": [],
   "source": []
  },
  {
   "cell_type": "code",
   "execution_count": null,
   "metadata": {},
   "outputs": [],
   "source": []
  },
  {
   "cell_type": "code",
   "execution_count": null,
   "metadata": {},
   "outputs": [],
   "source": []
  },
  {
   "cell_type": "code",
   "execution_count": null,
   "metadata": {},
   "outputs": [],
   "source": []
  },
  {
   "cell_type": "code",
   "execution_count": null,
   "metadata": {},
   "outputs": [],
   "source": []
  }
 ],
 "metadata": {
  "kernelspec": {
   "display_name": "Python 3",
   "language": "python",
   "name": "python3"
  },
  "language_info": {
   "codemirror_mode": {
    "name": "ipython",
    "version": 3
   },
   "file_extension": ".py",
   "mimetype": "text/x-python",
   "name": "python",
   "nbconvert_exporter": "python",
   "pygments_lexer": "ipython3",
   "version": "3.7.3"
  }
 },
 "nbformat": 4,
 "nbformat_minor": 2
}
