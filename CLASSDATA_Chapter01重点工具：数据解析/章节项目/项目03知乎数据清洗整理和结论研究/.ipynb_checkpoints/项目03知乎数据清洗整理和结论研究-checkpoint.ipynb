{
 "cells": [
  {
   "cell_type": "code",
   "execution_count": null,
   "metadata": {
    "collapsed": true
   },
   "outputs": [],
   "source": [
    "'''\n",
    "【项目03】  知乎数据清洗整理和结论研究\n",
    "\n",
    "作业要求：\n",
    "1、数据清洗 - 去除空值\n",
    "要求：创建函数\n",
    "提示：fillna方法填充缺失数据，注意inplace参数\n",
    "\n",
    "2、问题1 知友全国地域分布情况，分析出TOP20\n",
    "要求：\n",
    "① 按照地域统计 知友数量、知友密度（知友数量/城市常住人口），不要求创建函数\n",
    "② 知友数量，知友密度，标准化处理，取值0-100，要求创建函数\n",
    "③ 通过多系列柱状图，做图表可视化\n",
    "提示：\n",
    "① 标准化计算方法 = (X - Xmin) / (Xmax - Xmin)\n",
    "② 可自行设置图表风格\n",
    "\n",
    "3、问题2 知友全国地域分布情况，分析出TOP20\n",
    "要求：\n",
    "① 按照学校（教育经历字段） 统计粉丝数（‘关注者’）、关注人数（‘关注’），并筛选出粉丝数TOP20的学校，不要求创建函数\n",
    "② 通过散点图 → 横坐标为关注人数，纵坐标为粉丝数，做图表可视化\n",
    "③ 散点图中，标记出平均关注人数（x参考线），平均粉丝数（y参考线）\n",
    "提示：\n",
    "① 可自行设置图表风格\n",
    "\n",
    "'''"
   ]
  },
  {
   "cell_type": "code",
   "execution_count": null,
   "metadata": {
    "collapsed": true
   },
   "outputs": [],
   "source": []
  }
 ],
 "metadata": {
  "anaconda-cloud": {},
  "kernelspec": {
   "display_name": "Python 3",
   "language": "python",
   "name": "python3"
  },
  "language_info": {
   "codemirror_mode": {
    "name": "ipython",
    "version": 3
   },
   "file_extension": ".py",
   "mimetype": "text/x-python",
   "name": "python",
   "nbconvert_exporter": "python",
   "pygments_lexer": "ipython3",
   "version": "3.7.3"
  }
 },
 "nbformat": 4,
 "nbformat_minor": 1
}
