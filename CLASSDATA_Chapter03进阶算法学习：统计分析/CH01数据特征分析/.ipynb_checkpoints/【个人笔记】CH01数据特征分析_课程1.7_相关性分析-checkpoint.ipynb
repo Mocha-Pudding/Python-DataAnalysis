{
 "cells": [
  {
   "cell_type": "code",
   "execution_count": null,
   "metadata": {},
   "outputs": [],
   "source": [
    "'''\n",
    "【课程1.7】  相关性分析\n",
    "\n",
    "分析连续变量之间的线性相关程度的强弱\n",
    "\n",
    "图示初判 / Pearson相关系数（皮尔逊相关系数） / Sperman秩相关系数（斯皮尔曼相关系数）\n",
    "\n",
    "'''"
   ]
  },
  {
   "cell_type": "code",
   "execution_count": 2,
   "metadata": {},
   "outputs": [],
   "source": [
    "import numpy as np\n",
    "import pandas as pd\n",
    "import matplotlib.pyplot as plt\n",
    "from scipy import stats\n",
    "%matplotlib inline"
   ]
  },
  {
   "cell_type": "code",
   "execution_count": 6,
   "metadata": {},
   "outputs": [
    {
     "data": {
      "image/png": "[encoded data removed]",
      "text/plain": [
       "<Figure size 864x360 with 2 Axes>"
      ]
     },
     "metadata": {
      "needs_background": "light"
     },
     "output_type": "display_data"
    }
   ],
   "source": [
    "# 图示初判\n",
    "# （1）变量之间的线性相关性\n",
    "\n",
    "data1 = pd.Series(np.random.rand(50)*100).sort_values()\n",
    "data2 = pd.Series(np.random.rand(50)*50).sort_values()\n",
    "data3 = pd.Series(np.random.rand(50)*500).sort_values(ascending = False)\n",
    "# 创建三个数据：\n",
    "# data1为0-100的随机数并从小到大排列\n",
    "# data2为0-50的随机数并从小到大排列\n",
    "# data3为0-500的随机数并从大到小排列\n",
    "\n",
    "fig = plt.figure(figsize = (12,5))\n",
    "ax1 = fig.add_subplot(1,2,1)\n",
    "ax1.scatter(data1, data2)\n",
    "plt.grid()\n",
    "# 正线性相关\n",
    "\n",
    "ax2 = fig.add_subplot(1,2,2)\n",
    "ax2.scatter(data1, data3)\n",
    "plt.grid()\n",
    "# 负线性相关"
   ]
  },
  {
   "cell_type": "code",
   "execution_count": 7,
   "metadata": {},
   "outputs": [
    {
     "ename": "AttributeError",
     "evalue": "module 'pandas' has no attribute 'scatter_matrix'",
     "output_type": "error",
     "traceback": [
      "\u001b[1;31m---------------------------------------------------------------------------\u001b[0m",
      "\u001b[1;31mAttributeError\u001b[0m                            Traceback (most recent call last)",
      "\u001b[1;32m<ipython-input-7-1f8e1c1f3327>\u001b[0m in \u001b[0;36m<module>\u001b[1;34m\u001b[0m\n\u001b[0;32m      3\u001b[0m \u001b[1;33m\u001b[0m\u001b[0m\n\u001b[0;32m      4\u001b[0m \u001b[0mdata\u001b[0m \u001b[1;33m=\u001b[0m \u001b[0mpd\u001b[0m\u001b[1;33m.\u001b[0m\u001b[0mDataFrame\u001b[0m\u001b[1;33m(\u001b[0m\u001b[0mnp\u001b[0m\u001b[1;33m.\u001b[0m\u001b[0mrandom\u001b[0m\u001b[1;33m.\u001b[0m\u001b[0mrandn\u001b[0m\u001b[1;33m(\u001b[0m\u001b[1;36m200\u001b[0m\u001b[1;33m,\u001b[0m\u001b[1;36m4\u001b[0m\u001b[1;33m)\u001b[0m\u001b[1;33m*\u001b[0m\u001b[1;36m100\u001b[0m\u001b[1;33m,\u001b[0m \u001b[0mcolumns\u001b[0m \u001b[1;33m=\u001b[0m \u001b[1;33m[\u001b[0m\u001b[1;34m'A'\u001b[0m\u001b[1;33m,\u001b[0m\u001b[1;34m'B'\u001b[0m\u001b[1;33m,\u001b[0m\u001b[1;34m'C'\u001b[0m\u001b[1;33m,\u001b[0m\u001b[1;34m'D'\u001b[0m\u001b[1;33m]\u001b[0m\u001b[1;33m)\u001b[0m\u001b[1;33m\u001b[0m\u001b[1;33m\u001b[0m\u001b[0m\n\u001b[1;32m----> 5\u001b[1;33m pd.scatter_matrix(data,figsize=(8,8),\n\u001b[0m\u001b[0;32m      6\u001b[0m                   \u001b[0mc\u001b[0m \u001b[1;33m=\u001b[0m \u001b[1;34m'k'\u001b[0m\u001b[1;33m,\u001b[0m\u001b[1;33m\u001b[0m\u001b[1;33m\u001b[0m\u001b[0m\n\u001b[0;32m      7\u001b[0m                  \u001b[0mmarker\u001b[0m \u001b[1;33m=\u001b[0m \u001b[1;34m'+'\u001b[0m\u001b[1;33m,\u001b[0m\u001b[1;33m\u001b[0m\u001b[1;33m\u001b[0m\u001b[0m\n",
      "\u001b[1;31mAttributeError\u001b[0m: module 'pandas' has no attribute 'scatter_matrix'"
     ]
    }
   ],
   "source": [
    "# 图示初判\n",
    "# （2）散点图矩阵初判多变量间关系\n",
    "\n",
    "data = pd.DataFrame(np.random.randn(200,4)*100,columns = ['A','B','C','D'])\n",
    "pd.scatter_matrix(data,figsize=(8,8),\n",
    "                  c = 'k',\n",
    "                 marker = '+',\n",
    "                 diagonal='hist',\n",
    "                 alpha = 0.8,\n",
    "                 range_padding=0.1)\n",
    "data.head()"
   ]
  },
  {
   "cell_type": "code",
   "execution_count": null,
   "metadata": {},
   "outputs": [],
   "source": [
    "# 解决：pandas的scatter_matrix用法已经发生变化了,变成了pandas.plotting.scatter_matrix\n",
    "module 'pandas' has no attribute 'scatter_matrix'   # 问题报错"
   ]
  },
  {
   "cell_type": "code",
   "execution_count": 9,
   "metadata": {},
   "outputs": [
    {
     "data": {
      "text/html": [
       "<div>\n",
       "<style scoped>\n",
       "    .dataframe tbody tr th:only-of-type {\n",
       "        vertical-align: middle;\n",
       "    }\n",
       "\n",
       "    .dataframe tbody tr th {\n",
       "        vertical-align: top;\n",
       "    }\n",
       "\n",
       "    .dataframe thead th {\n",
       "        text-align: right;\n",
       "    }\n",
       "</style>\n",
       "<table border=\"1\" class=\"dataframe\">\n",
       "  <thead>\n",
       "    <tr style=\"text-align: right;\">\n",
       "      <th></th>\n",
       "      <th>A</th>\n",
       "      <th>B</th>\n",
       "      <th>C</th>\n",
       "      <th>D</th>\n",
       "    </tr>\n",
       "  </thead>\n",
       "  <tbody>\n",
       "    <tr>\n",
       "      <th>0</th>\n",
       "      <td>291.998476</td>\n",
       "      <td>-90.537742</td>\n",
       "      <td>-22.812986</td>\n",
       "      <td>87.068025</td>\n",
       "    </tr>\n",
       "    <tr>\n",
       "      <th>1</th>\n",
       "      <td>9.802118</td>\n",
       "      <td>-269.718487</td>\n",
       "      <td>197.749141</td>\n",
       "      <td>107.821728</td>\n",
       "    </tr>\n",
       "    <tr>\n",
       "      <th>2</th>\n",
       "      <td>17.174467</td>\n",
       "      <td>42.542699</td>\n",
       "      <td>-18.817119</td>\n",
       "      <td>-42.948382</td>\n",
       "    </tr>\n",
       "    <tr>\n",
       "      <th>3</th>\n",
       "      <td>-103.194736</td>\n",
       "      <td>-45.222010</td>\n",
       "      <td>-122.777042</td>\n",
       "      <td>-10.030843</td>\n",
       "    </tr>\n",
       "    <tr>\n",
       "      <th>4</th>\n",
       "      <td>26.005551</td>\n",
       "      <td>47.996074</td>\n",
       "      <td>62.039773</td>\n",
       "      <td>225.650324</td>\n",
       "    </tr>\n",
       "  </tbody>\n",
       "</table>\n",
       "</div>"
      ],
      "text/plain": [
       "            A           B           C           D\n",
       "0  291.998476  -90.537742  -22.812986   87.068025\n",
       "1    9.802118 -269.718487  197.749141  107.821728\n",
       "2   17.174467   42.542699  -18.817119  -42.948382\n",
       "3 -103.194736  -45.222010 -122.777042  -10.030843\n",
       "4   26.005551   47.996074   62.039773  225.650324"
      ]
     },
     "execution_count": 9,
     "metadata": {},
     "output_type": "execute_result"
    },
    {
     "data": {
      "image/png": "[encoded data removed]",
      "text/plain": [
       "<Figure size 864x864 with 16 Axes>"
      ]
     },
     "metadata": {
      "needs_background": "light"
     },
     "output_type": "display_data"
    }
   ],
   "source": [
    "data = pd.DataFrame(np.random.randn(200,4)*100,columns = ['A','B','C','D'])\n",
    "pd.plotting.scatter_matrix(data,figsize=(12,12),\n",
    "                  c = 'k',\n",
    "                 marker = '+',\n",
    "                 diagonal='hist',\n",
    "                 alpha = 0.8,\n",
    "                 range_padding=0.1)\n",
    "data.head()"
   ]
  },
  {
   "cell_type": "code",
   "execution_count": 13,
   "metadata": {},
   "outputs": [
    {
     "name": "stdout",
     "output_type": "stream",
     "text": [
      "     value1    value2\n",
      "0  0.184706  0.674428\n",
      "1  1.002197  1.501286\n",
      "2  3.978995  2.776107\n",
      "3  5.011786  3.240698\n",
      "4  5.564729  3.563095\n",
      "------\n",
      "value1正态性检验：\n",
      " KstestResult(statistic=0.1041710962852892, pvalue=0.21284504139078683)\n",
      "value2正态性检验：\n",
      " KstestResult(statistic=0.08034705365784955, pvalue=0.5217479821017789)\n",
      "------\n",
      "     value1    value2  (x-u1)*(y-u2)    (x-u1)**2   (y-u2)**2\n",
      "0  0.184706  0.674428    1210.060818  2162.479448  677.114959\n",
      "1  1.002197  1.501286    1151.013502  2087.116996  634.766563\n",
      "2  3.978995  2.776107    1021.569082  1823.988420  572.154613\n",
      "3  5.011786  3.240698     977.502962  1736.837860  550.144641\n",
      "4  5.564729  3.563095     951.275824  1691.055408  535.124804\n",
      "------\n",
      "Pearson相关系数为：0.9968\n"
     ]
    }
   ],
   "source": [
    "# Pearson相关系数\n",
    "\n",
    "data1 = pd.Series(np.random.rand(100)*100).sort_values()\n",
    "data2 = pd.Series(np.random.rand(100)*50).sort_values()\n",
    "data = pd.DataFrame({'value1':data1.values,\n",
    "                     'value2':data2.values})\n",
    "print(data.head())\n",
    "print('------')\n",
    "# 创建样本数据\n",
    "\n",
    "# 首先需要检验是否为正态分布\n",
    "u1,u2 = data['value1'].mean(),data['value2'].mean()  # 计算均值\n",
    "std1,std2 = data['value1'].std(),data['value2'].std()  # 计算标准差\n",
    "print('value1正态性检验：\\n',stats.kstest(data['value1'], 'norm', (u1, std1)))\n",
    "print('value2正态性检验：\\n',stats.kstest(data['value2'], 'norm', (u2, std2)))\n",
    "print('------')\n",
    "# 正态性检验 → pvalue >0.05\n",
    "\n",
    "data['(x-u1)*(y-u2)'] = (data['value1'] - u1) * (data['value2'] - u2)\n",
    "data['(x-u1)**2'] = (data['value1'] - u1)**2\n",
    "data['(y-u2)**2'] = (data['value2'] - u2)**2\n",
    "print(data.head())\n",
    "print('------')\n",
    "# 制作Pearson相关系数求值表\n",
    "\n",
    "r = data['(x-u1)*(y-u2)'].sum() / (np.sqrt(data['(x-u1)**2'].sum() * data['(y-u2)**2'].sum()))\n",
    "print('Pearson相关系数为：%.4f' % r)\n",
    "# 求出r\n",
    "# |r| > 0.8 → 高度线性相关"
   ]
  },
  {
   "cell_type": "code",
   "execution_count": 14,
   "metadata": {},
   "outputs": [
    {
     "name": "stdout",
     "output_type": "stream",
     "text": [
      "     value1    value2\n",
      "0  0.415977  0.318194\n",
      "1  0.951431  2.314785\n",
      "2  1.065750  3.015604\n",
      "3  1.807425  3.090015\n",
      "4  3.007577  3.451050\n",
      "------\n"
     ]
    },
    {
     "data": {
      "text/html": [
       "<div>\n",
       "<style scoped>\n",
       "    .dataframe tbody tr th:only-of-type {\n",
       "        vertical-align: middle;\n",
       "    }\n",
       "\n",
       "    .dataframe tbody tr th {\n",
       "        vertical-align: top;\n",
       "    }\n",
       "\n",
       "    .dataframe thead th {\n",
       "        text-align: right;\n",
       "    }\n",
       "</style>\n",
       "<table border=\"1\" class=\"dataframe\">\n",
       "  <thead>\n",
       "    <tr style=\"text-align: right;\">\n",
       "      <th></th>\n",
       "      <th>value1</th>\n",
       "      <th>value2</th>\n",
       "    </tr>\n",
       "  </thead>\n",
       "  <tbody>\n",
       "    <tr>\n",
       "      <th>value1</th>\n",
       "      <td>1.000000</td>\n",
       "      <td>0.997891</td>\n",
       "    </tr>\n",
       "    <tr>\n",
       "      <th>value2</th>\n",
       "      <td>0.997891</td>\n",
       "      <td>1.000000</td>\n",
       "    </tr>\n",
       "  </tbody>\n",
       "</table>\n",
       "</div>"
      ],
      "text/plain": [
       "          value1    value2\n",
       "value1  1.000000  0.997891\n",
       "value2  0.997891  1.000000"
      ]
     },
     "execution_count": 14,
     "metadata": {},
     "output_type": "execute_result"
    }
   ],
   "source": [
    "# Pearson相关系数 - 算法\n",
    "\n",
    "data1 = pd.Series(np.random.rand(100)*100).sort_values()\n",
    "data2 = pd.Series(np.random.rand(100)*50).sort_values()\n",
    "data = pd.DataFrame({'value1':data1.values,\n",
    "                     'value2':data2.values})\n",
    "print(data.head())\n",
    "print('------')\n",
    "# 创建样本数据\n",
    "\n",
    "data.corr()\n",
    "# pandas相关性方法：data.corr(method='pearson', min_periods=1) → 直接给出数据字段的相关系数矩阵\n",
    "# method默认pearson"
   ]
  },
  {
   "cell_type": "code",
   "execution_count": 16,
   "metadata": {},
   "outputs": [
    {
     "name": "stdout",
     "output_type": "stream",
     "text": [
      "    智商  每周看电视小时数\n",
      "0  106         7\n",
      "1   86         0\n",
      "2  100        27\n",
      "3  101        50\n",
      "4   99        28\n",
      "5  103        29\n",
      "6   97        20\n",
      "7  113        12\n",
      "8  112         6\n",
      "9  110        17\n",
      "------\n",
      "    智商  每周看电视小时数  range1  range2\n",
      "1   86         0       1       1\n",
      "8  112         6       9       2\n",
      "0  106         7       7       3\n",
      "7  113        12      10       4\n",
      "9  110        17       8       5\n",
      "6   97        20       2       6\n",
      "2  100        27       4       7\n",
      "4   99        28       3       8\n",
      "5  103        29       6       9\n",
      "3  101        50       5      10\n",
      "------\n",
      "    智商  每周看电视小时数  range1  range2  d  d2\n",
      "1   86         0       1       1  0   0\n",
      "8  112         6       9       2  7  49\n",
      "0  106         7       7       3  4  16\n",
      "7  113        12      10       4  6  36\n",
      "9  110        17       8       5  3   9\n",
      "6   97        20       2       6 -4  16\n",
      "2  100        27       4       7 -3   9\n",
      "4   99        28       3       8 -5  25\n",
      "5  103        29       6       9 -3   9\n",
      "3  101        50       5      10 -5  25\n",
      "------\n",
      "Pearson相关系数为：-0.1758\n"
     ]
    }
   ],
   "source": [
    "# Sperman秩相关系数\n",
    "\n",
    "data = pd.DataFrame({'智商':[106,86,100,101,99,103,97,113,112,110],\n",
    "                    '每周看电视小时数':[7,0,27,50,28,29,20,12,6,17]})\n",
    "print(data)\n",
    "print('------')\n",
    "# 创建样本数据\n",
    "\n",
    "data.sort_values('智商', inplace=True)\n",
    "data['range1'] = np.arange(1,len(data)+1)\n",
    "data.sort_values('每周看电视小时数', inplace=True)\n",
    "data['range2'] = np.arange(1,len(data)+1)\n",
    "print(data)\n",
    "print('------')\n",
    "# “智商”、“每周看电视小时数”重新按照从小到大排序，并设定秩次index\n",
    "\n",
    "data['d'] = data['range1'] - data['range2']\n",
    "data['d2'] = data['d']**2\n",
    "print(data)\n",
    "print('------')\n",
    "# 求出di，di2\n",
    "\n",
    "n = len(data)\n",
    "rs = 1 - 6 * (data['d2'].sum()) / (n * (n**2 - 1))\n",
    "print('Pearson相关系数为：%.4f' % rs)\n",
    "# 求出rs"
   ]
  },
  {
   "cell_type": "code",
   "execution_count": 17,
   "metadata": {},
   "outputs": [
    {
     "name": "stdout",
     "output_type": "stream",
     "text": [
      "    智商  每周看电视小时数\n",
      "0  106         7\n",
      "1   86         0\n",
      "2  100        27\n",
      "3  101        50\n",
      "4   99        28\n",
      "5  103        29\n",
      "6   97        20\n",
      "7  113        12\n",
      "8  112         6\n",
      "9  110        17\n",
      "------\n"
     ]
    },
    {
     "data": {
      "text/html": [
       "<div>\n",
       "<style scoped>\n",
       "    .dataframe tbody tr th:only-of-type {\n",
       "        vertical-align: middle;\n",
       "    }\n",
       "\n",
       "    .dataframe tbody tr th {\n",
       "        vertical-align: top;\n",
       "    }\n",
       "\n",
       "    .dataframe thead th {\n",
       "        text-align: right;\n",
       "    }\n",
       "</style>\n",
       "<table border=\"1\" class=\"dataframe\">\n",
       "  <thead>\n",
       "    <tr style=\"text-align: right;\">\n",
       "      <th></th>\n",
       "      <th>智商</th>\n",
       "      <th>每周看电视小时数</th>\n",
       "    </tr>\n",
       "  </thead>\n",
       "  <tbody>\n",
       "    <tr>\n",
       "      <th>智商</th>\n",
       "      <td>1.000000</td>\n",
       "      <td>-0.175758</td>\n",
       "    </tr>\n",
       "    <tr>\n",
       "      <th>每周看电视小时数</th>\n",
       "      <td>-0.175758</td>\n",
       "      <td>1.000000</td>\n",
       "    </tr>\n",
       "  </tbody>\n",
       "</table>\n",
       "</div>"
      ],
      "text/plain": [
       "                智商  每周看电视小时数\n",
       "智商        1.000000 -0.175758\n",
       "每周看电视小时数 -0.175758  1.000000"
      ]
     },
     "execution_count": 17,
     "metadata": {},
     "output_type": "execute_result"
    }
   ],
   "source": [
    "# Pearson相关系数 - 算法\n",
    "\n",
    "data = pd.DataFrame({'智商':[106,86,100,101,99,103,97,113,112,110],\n",
    "                    '每周看电视小时数':[7,0,27,50,28,29,20,12,6,17]})\n",
    "print(data)\n",
    "print('------')\n",
    "# 创建样本数据\n",
    "\n",
    "data.corr(method='spearman')\n",
    "# pandas相关性方法：data.corr(method='pearson', min_periods=1) → 直接给出数据字段的相关系数矩阵\n",
    "# method默认pearson"
   ]
  },
  {
   "cell_type": "code",
   "execution_count": null,
   "metadata": {},
   "outputs": [],
   "source": []
  }
 ],
 "metadata": {
  "kernelspec": {
   "display_name": "Python 3",
   "language": "python",
   "name": "python3"
  },
  "language_info": {
   "codemirror_mode": {
    "name": "ipython",
    "version": 3
   },
   "file_extension": ".py",
   "mimetype": "text/x-python",
   "name": "python",
   "nbconvert_exporter": "python",
   "pygments_lexer": "ipython3",
   "version": "3.7.3"
  }
 },
 "nbformat": 4,
 "nbformat_minor": 2
}
