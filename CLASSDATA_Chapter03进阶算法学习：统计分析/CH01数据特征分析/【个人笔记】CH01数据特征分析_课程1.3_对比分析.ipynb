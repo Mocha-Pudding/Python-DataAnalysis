{
 "cells": [
  {
   "cell_type": "code",
   "execution_count": null,
   "metadata": {},
   "outputs": [],
   "source": [
    "'''\n",
    "【课程1.3】  对比分析\n",
    "\n",
    "对比分析 → 两个互相联系的指标进行比较\n",
    "\n",
    "绝对数比较（相减） / 相对数比较（相除）\n",
    "结构分析、比例分析、空间比较分析、动态对比分析\n",
    "\n",
    "'''"
   ]
  },
  {
   "cell_type": "code",
   "execution_count": 2,
   "metadata": {},
   "outputs": [],
   "source": [
    "import numpy as np\n",
    "import pandas as pd\n",
    "import matplotlib.pyplot as plt\n",
    "%matplotlib inline"
   ]
  },
  {
   "cell_type": "code",
   "execution_count": 5,
   "metadata": {},
   "outputs": [
    {
     "name": "stdout",
     "output_type": "stream",
     "text": [
      "                A_sale      B_sale\n",
      "2019-06-01  841.336796  880.605816\n",
      "2019-06-02  627.449125  230.447550\n",
      "2019-06-03   61.504425  223.248764\n",
      "2019-06-04  586.867999  934.341689\n",
      "2019-06-05  528.333641  837.022847\n",
      "2019-06-06  205.910556  348.839393\n",
      "2019-06-07  473.598097  640.740918\n",
      "2019-06-08   67.702917  938.631902\n",
      "2019-06-09  181.984362  392.859102\n",
      "2019-06-10  881.649831  435.864625\n",
      "2019-06-11  144.627812   34.058752\n",
      "2019-06-12  585.411322  108.306134\n",
      "2019-06-13  509.981371  958.544243\n",
      "2019-06-14  326.910179  576.987898\n",
      "2019-06-15  228.979160  698.476784\n",
      "2019-06-16  850.518250  423.497916\n",
      "2019-06-17  291.966258  257.937587\n",
      "2019-06-18  515.161439  406.773085\n",
      "2019-06-19  790.772718  499.915550\n",
      "2019-06-20  307.854579  793.326550\n",
      "2019-06-21  804.947512  639.686990\n",
      "2019-06-22  510.705572  185.259743\n",
      "2019-06-23  653.345574  106.577021\n",
      "2019-06-24   98.112475  109.748051\n",
      "2019-06-25  262.197703  372.469053\n",
      "2019-06-26  358.033367  949.496101\n",
      "2019-06-27  775.009742  516.684411\n",
      "2019-06-28  996.441633  470.345214\n",
      "2019-06-29  625.825907  147.134310\n",
      "2019-06-30  695.809961  166.500674\n"
     ]
    }
   ],
   "source": [
    "# 1、绝对数比较 → 相减\n",
    "# 相互对比的指标在量级上不能差别过大\n",
    "# （1）折线图比较\n",
    "# （2）多系列柱状图比较\n",
    "\n",
    "data= pd.DataFrame(np.random.rand(30,2)*1000,\n",
    "                  columns=['A_sale', 'B_sale'],\n",
    "                  index=pd.period_range('20190601','20190630'))\n",
    "print(data)\n",
    "# 创建数据 → 30天内A/B产品的日销售额"
   ]
  },
  {
   "cell_type": "code",
   "execution_count": null,
   "metadata": {},
   "outputs": [],
   "source": []
  },
  {
   "cell_type": "code",
   "execution_count": null,
   "metadata": {},
   "outputs": [],
   "source": []
  },
  {
   "cell_type": "code",
   "execution_count": null,
   "metadata": {},
   "outputs": [],
   "source": []
  }
 ],
 "metadata": {
  "kernelspec": {
   "display_name": "Python 3",
   "language": "python",
   "name": "python3"
  },
  "language_info": {
   "codemirror_mode": {
    "name": "ipython",
    "version": 3
   },
   "file_extension": ".py",
   "mimetype": "text/x-python",
   "name": "python",
   "nbconvert_exporter": "python",
   "pygments_lexer": "ipython3",
   "version": "3.7.3"
  }
 },
 "nbformat": 4,
 "nbformat_minor": 2
}
