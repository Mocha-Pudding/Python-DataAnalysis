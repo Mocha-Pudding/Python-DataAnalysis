{
 "cells": [
  {
   "cell_type": "code",
   "execution_count": null,
   "metadata": {},
   "outputs": [],
   "source": [
    "'''\n",
    "【课程2.4】  数据连续属性离散化\n",
    "\n",
    "连续属性变换成分类属性，即连续属性离散化\n",
    "在数值的取值范围内设定若干个离散划分点，将取值范围划分为一些离散化的区间，最后用不同的符号或整数值代表每个子区间中的数据值\n",
    "\n",
    "等宽法 / 等频法 \n",
    "\n",
    "'''"
   ]
  },
  {
   "cell_type": "code",
   "execution_count": 1,
   "metadata": {},
   "outputs": [],
   "source": [
    "import numpy as np\n",
    "import pandas as pd\n",
    "import matplotlib.pyplot as plt\n",
    "%matplotlib inline"
   ]
  },
  {
   "cell_type": "code",
   "execution_count": 8,
   "metadata": {},
   "outputs": [
    {
     "name": "stdout",
     "output_type": "stream",
     "text": [
      "[(18, 25], (18, 25], (18, 25], (25, 35], (18, 25], ..., (25, 35], (60, 100], (35, 60], (35, 60], (25, 35]]\n",
      "Length: 12\n",
      "Categories (4, interval[int64]): [(18, 25] < (25, 35] < (35, 60] < (60, 100]]\n",
      "<class 'pandas.core.arrays.categorical.Categorical'>\n",
      "-------\n",
      "[0 0 0 1 0 0 2 1 3 2 2 1] <class 'numpy.ndarray'>\n",
      "IntervalIndex([(18, 25], (25, 35], (35, 60], (60, 100]],\n",
      "              closed='right',\n",
      "              dtype='interval[int64]') <class 'pandas.core.indexes.interval.IntervalIndex'>\n",
      "(18, 25]     5\n",
      "(35, 60]     3\n",
      "(25, 35]     3\n",
      "(60, 100]    1\n",
      "dtype: int64\n",
      "-------\n",
      "[[18, 26), [18, 26), [18, 26), [26, 36), [18, 26), ..., [26, 36), [61, 100), [36, 61), [36, 61), [26, 36)]\n",
      "Length: 12\n",
      "Categories (4, interval[int64]): [[18, 26) < [26, 36) < [36, 61) < [61, 100)]\n",
      "-------\n",
      "[Youth, Youth, Youth, YoungAdult, Youth, ..., YoungAdult, Senior, MiddleAged, MiddleAged, YoungAdult]\n",
      "Length: 12\n",
      "Categories (4, object): [Youth < YoungAdult < MiddleAged < Senior]\n",
      "-------\n"
     ]
    }
   ],
   "source": [
    "# 等宽法 → 将数据均匀划分成n等份，每份的间距相等\n",
    "# cut方法\n",
    "\n",
    "ages=[20,22,25,27,21,23,37,31,61,45,41,32]\n",
    "# 有一组人员年龄数据，希望将这些数据划分为“18到25”,“26到35”,“36到60”,“60以上”几个面元\n",
    "\n",
    "bins = [18, 25, 35, 60, 100]\n",
    "cats = pd.cut(ages, bins)\n",
    "print(cats)\n",
    "print(type(cats))\n",
    "print('-------')\n",
    "# 返回的是一个特殊的Categorical对象 → 一组表示面元名称的字符串\n",
    "\n",
    "print(cats.codes, type(cats.codes))  # 0-3对应分组后的四个区间，用代号来注释数据对应区间，结果为ndarray\n",
    "print(cats.categories, type(cats.categories))  # 四个区间，结果为index\n",
    "print(pd.value_counts(cats))  # 按照区间计数\n",
    "print('-------')\n",
    "# cut结果含有一个表示不同分类名称的层级数组以及一个年龄数据进行标号的代号属性\n",
    "\n",
    "print(pd.cut(ages,[18,26,36,61,100],right=False))\n",
    "print('-------')\n",
    "# 通过right函数修改闭端，默认为True\n",
    "\n",
    "group_names=['Youth','YoungAdult','MiddleAged','Senior']\n",
    "print(pd.cut(ages,bins,labels=group_names))\n",
    "print('-------')\n",
    "# 可以设置自己的区间名称，用labels参数"
   ]
  },
  {
   "cell_type": "code",
   "execution_count": null,
   "metadata": {},
   "outputs": [],
   "source": []
  },
  {
   "cell_type": "code",
   "execution_count": null,
   "metadata": {},
   "outputs": [],
   "source": []
  },
  {
   "cell_type": "code",
   "execution_count": null,
   "metadata": {},
   "outputs": [],
   "source": []
  },
  {
   "cell_type": "code",
   "execution_count": null,
   "metadata": {},
   "outputs": [],
   "source": []
  },
  {
   "cell_type": "code",
   "execution_count": null,
   "metadata": {},
   "outputs": [],
   "source": []
  },
  {
   "cell_type": "code",
   "execution_count": null,
   "metadata": {},
   "outputs": [],
   "source": []
  }
 ],
 "metadata": {
  "kernelspec": {
   "display_name": "Python 3",
   "language": "python",
   "name": "python3"
  },
  "language_info": {
   "codemirror_mode": {
    "name": "ipython",
    "version": 3
   },
   "file_extension": ".py",
   "mimetype": "text/x-python",
   "name": "python",
   "nbconvert_exporter": "python",
   "pygments_lexer": "ipython3",
   "version": "3.7.3"
  }
 },
 "nbformat": 4,
 "nbformat_minor": 2
}
