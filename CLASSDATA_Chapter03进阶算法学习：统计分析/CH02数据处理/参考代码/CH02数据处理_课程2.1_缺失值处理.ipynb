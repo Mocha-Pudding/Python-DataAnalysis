{
 "cells": [
  {
   "cell_type": "code",
   "execution_count": null,
   "metadata": {
    "collapsed": true
   },
   "outputs": [],
   "source": [
    "'''\n",
    "【课程2.1】  缺失值处理\n",
    "\n",
    "数据缺失主要包括记录缺失和字段信息缺失等情况，其对数据分析会有较大影响，导致结果不确定性更加显著\n",
    "\n",
    "缺失值的处理：删除记录 / 数据插补 / 不处理\n",
    "\n",
    "'''"
   ]
  },
  {
   "cell_type": "code",
   "execution_count": 1,
   "metadata": {
    "collapsed": true
   },
   "outputs": [],
   "source": [
    "import numpy as np\n",
    "import pandas as pd\n",
    "import matplotlib.pyplot as plt\n",
    "from scipy import stats\n",
    "% matplotlib inline"
   ]
  },
  {
   "cell_type": "code",
   "execution_count": 2,
   "metadata": {
    "collapsed": false
   },
   "outputs": [
    {
     "name": "stdout",
     "output_type": "stream",
     "text": [
      "0    False\n",
      "1    False\n",
      "2    False\n",
      "3    False\n",
      "4     True\n",
      "5     True\n",
      "6    False\n",
      "7    False\n",
      "8     True\n",
      "9    False\n",
      "dtype: bool\n",
      "   value1 value2\n",
      "0    True   True\n",
      "1    True   True\n",
      "2    True   True\n",
      "3    True   True\n",
      "4   False   True\n",
      "5   False  False\n",
      "6    True  False\n",
      "7    True   True\n",
      "8   False   True\n",
      "9    True  False\n",
      "10   True   True\n",
      "0      True\n",
      "1      True\n",
      "2      True\n",
      "3      True\n",
      "4     False\n",
      "5     False\n",
      "6      True\n",
      "7      True\n",
      "8     False\n",
      "9      True\n",
      "10     True\n",
      "Name: value1, dtype: bool\n",
      "------\n",
      "0    12.0\n",
      "1    33.0\n",
      "2    45.0\n",
      "3    23.0\n",
      "6    66.0\n",
      "7    54.0\n",
      "9    99.0\n",
      "dtype: float64\n",
      "0      12.0\n",
      "1      33.0\n",
      "2      45.0\n",
      "3      23.0\n",
      "4       NaN\n",
      "7      54.0\n",
      "8       NaN\n",
      "10    190.0\n",
      "Name: value1, dtype: float64\n"
     ]
    }
   ],
   "source": [
    "# 判断是否有缺失值数据 - isnull，notnull\n",
    "# isnull：缺失值为True，非缺失值为False\n",
    "# notnull：缺失值为False，非缺失值为True\n",
    "\n",
    "s = pd.Series([12,33,45,23,np.nan,np.nan,66,54,np.nan,99])\n",
    "df = pd.DataFrame({'value1':[12,33,45,23,np.nan,np.nan,66,54,np.nan,99,190],\n",
    "                  'value2':['a','b','c','d','e',np.nan,np.nan,'f','g',np.nan,'g']})\n",
    "# 创建数据\n",
    "\n",
    "print(s.isnull())  # Series直接判断是否是缺失值，返回一个Series\n",
    "print(df.notnull())  # Dataframe直接判断是否是缺失值，返回一个Series\n",
    "print(df['value1'].notnull())  # 通过索引判断\n",
    "print('------')\n",
    "\n",
    "s2 = s[s.isnull() == False]  \n",
    "df2 = df[df['value2'].notnull()]    # 注意和 df2 = df[df['value2'].notnull()] ['value1'] 的区别\n",
    "print(s2)\n",
    "print(df2)\n",
    "# 筛选非缺失值"
   ]
  },
  {
   "cell_type": "code",
   "execution_count": 3,
   "metadata": {
    "collapsed": false
   },
   "outputs": [
    {
     "name": "stdout",
     "output_type": "stream",
     "text": [
      "0    12.0\n",
      "1    33.0\n",
      "2    45.0\n",
      "3    23.0\n",
      "6    66.0\n",
      "7    54.0\n",
      "9    99.0\n",
      "dtype: float64\n",
      "0      12.0\n",
      "1      33.0\n",
      "2      45.0\n",
      "3      23.0\n",
      "6      66.0\n",
      "7      54.0\n",
      "9      99.0\n",
      "10    190.0\n",
      "Name: value1, dtype: float64\n"
     ]
    }
   ],
   "source": [
    "# 删除缺失值 - dropna\n",
    "\n",
    "s = pd.Series([12,33,45,23,np.nan,np.nan,66,54,np.nan,99])\n",
    "df = pd.DataFrame({'value1':[12,33,45,23,np.nan,np.nan,66,54,np.nan,99,190],\n",
    "                  'value2':['a','b','c','d','e',np.nan,np.nan,'f','g',np.nan,'g']})\n",
    "# 创建数据\n",
    "\n",
    "s.dropna(inplace = True)\n",
    "df2 = df['value1'].dropna()\n",
    "print(s)\n",
    "print(df2)\n",
    "# drop方法：可直接用于Series，Dataframe\n",
    "# 注意inplace参数，默认False → 生成新的值"
   ]
  },
  {
   "cell_type": "code",
   "execution_count": 4,
   "metadata": {
    "collapsed": false
   },
   "outputs": [
    {
     "name": "stdout",
     "output_type": "stream",
     "text": [
      "0    12.0\n",
      "1    33.0\n",
      "2    45.0\n",
      "3    23.0\n",
      "4     0.0\n",
      "5     0.0\n",
      "6    66.0\n",
      "7    54.0\n",
      "8     0.0\n",
      "9    99.0\n",
      "dtype: float64\n",
      "------\n",
      "    value1 value2\n",
      "0     12.0      a\n",
      "1     33.0      b\n",
      "2     45.0      c\n",
      "3     23.0      d\n",
      "4     23.0      e\n",
      "5     23.0    NaN\n",
      "6     66.0    NaN\n",
      "7     54.0      f\n",
      "8     54.0      g\n",
      "9     99.0    NaN\n",
      "10   190.0      g\n",
      "------\n",
      "0        1\n",
      "1        1\n",
      "2        1\n",
      "3        1\n",
      "4        2\n",
      "5        2\n",
      "6        2\n",
      "7        3\n",
      "8        4\n",
      "9        5\n",
      "10    缺失数据\n",
      "11    缺失数据\n",
      "12      66\n",
      "13      54\n",
      "14    缺失数据\n",
      "15      99\n",
      "dtype: object\n",
      "------\n",
      "0      NaN\n",
      "1      NaN\n",
      "2      NaN\n",
      "3      NaN\n",
      "4      NaN\n",
      "5      NaN\n",
      "6      NaN\n",
      "7      NaN\n",
      "8        4\n",
      "9        5\n",
      "10    缺失数据\n",
      "11    缺失数据\n",
      "12      66\n",
      "13      54\n",
      "14    缺失数据\n",
      "15      99\n",
      "dtype: object\n"
     ]
    }
   ],
   "source": [
    "# 填充/替换缺失数据 - fillna、replace\n",
    "\n",
    "s = pd.Series([12,33,45,23,np.nan,np.nan,66,54,np.nan,99])\n",
    "df = pd.DataFrame({'value1':[12,33,45,23,np.nan,np.nan,66,54,np.nan,99,190],\n",
    "                  'value2':['a','b','c','d','e',np.nan,np.nan,'f','g',np.nan,'g']})\n",
    "# 创建数据\n",
    "\n",
    "s.fillna(0,inplace = True)\n",
    "print(s)\n",
    "print('------')\n",
    "# s.fillna(value=None, method=None, axis=None, inplace=False, limit=None, downcast=None, **kwargs)\n",
    "# value：填充值\n",
    "# 注意inplace参数\n",
    "\n",
    "df['value1'].fillna(method = 'pad',inplace = True)\n",
    "print(df)\n",
    "print('------')\n",
    "# method参数：\n",
    "# pad / ffill → 用之前的数据填充 \n",
    "# backfill / bfill → 用之后的数据填充 \n",
    "\n",
    "s = pd.Series([1,1,1,1,2,2,2,3,4,5,np.nan,np.nan,66,54,np.nan,99])\n",
    "s.replace(np.nan,'缺失数据',inplace = True)\n",
    "print(s)\n",
    "print('------')\n",
    "# df.replace(to_replace=None, value=None, inplace=False, limit=None, regex=False, method='pad', axis=None)\n",
    "# to_replace → 被替换的值\n",
    "# value → 替换值\n",
    "\n",
    "s.replace([1,2,3],np.nan,inplace = True)\n",
    "print(s)\n",
    "# 多值用np.nan代替"
   ]
  },
  {
   "cell_type": "code",
   "execution_count": 5,
   "metadata": {
    "collapsed": false
   },
   "outputs": [
    {
     "name": "stdout",
     "output_type": "stream",
     "text": [
      "------\n",
      "均值为：4.56, 中位数为：4.50\n",
      "众数为： [5.0]\n",
      "------\n",
      "0      1.0000\n",
      "1      2.0000\n",
      "2      3.0000\n",
      "3      4.5625\n",
      "4      3.0000\n",
      "5      4.0000\n",
      "6      5.0000\n",
      "7      5.0000\n",
      "8      5.0000\n",
      "9      5.0000\n",
      "10     4.5625\n",
      "11     4.5625\n",
      "12     6.0000\n",
      "13     6.0000\n",
      "14     7.0000\n",
      "15    12.0000\n",
      "16     2.0000\n",
      "17     4.5625\n",
      "18     3.0000\n",
      "19     4.0000\n",
      "dtype: float64\n"
     ]
    }
   ],
   "source": [
    "# 缺失值插补\n",
    "# 几种思路：均值/中位数/众数插补、临近值插补、插值法\n",
    "# （1）均值/中位数/众数插补\n",
    "\n",
    "s = pd.Series([1,2,3,np.nan,3,4,5,5,5,5,np.nan,np.nan,6,6,7,12,2,np.nan,3,4])\n",
    "#print(s)\n",
    "print('------')\n",
    "# 创建数据\n",
    "\n",
    "u = s.mean()     # 均值\n",
    "me = s.median()  # 中位数\n",
    "mod = s.mode()   # 众数\n",
    "print('均值为：%.2f, 中位数为：%.2f' % (u,me))\n",
    "print('众数为：', mod.tolist())\n",
    "print('------')\n",
    "# 分别求出均值/中位数/众数\n",
    "\n",
    "s.fillna(u,inplace = True)\n",
    "print(s)\n",
    "# 用均值填补"
   ]
  },
  {
   "cell_type": "code",
   "execution_count": 6,
   "metadata": {
    "collapsed": false
   },
   "outputs": [
    {
     "name": "stdout",
     "output_type": "stream",
     "text": [
      "------\n",
      "0      1.0\n",
      "1      2.0\n",
      "2      3.0\n",
      "3      3.0\n",
      "4      3.0\n",
      "5      4.0\n",
      "6      5.0\n",
      "7      5.0\n",
      "8      5.0\n",
      "9      5.0\n",
      "10     5.0\n",
      "11     5.0\n",
      "12     6.0\n",
      "13     6.0\n",
      "14     7.0\n",
      "15    12.0\n",
      "16     2.0\n",
      "17     2.0\n",
      "18     3.0\n",
      "19     4.0\n",
      "dtype: float64\n"
     ]
    }
   ],
   "source": [
    "# 缺失值插补\n",
    "# 几种思路：均值/中位数/众数插补、临近值插补、插值法\n",
    "# （2）临近值插补\n",
    "\n",
    "s = pd.Series([1,2,3,np.nan,3,4,5,5,5,5,np.nan,np.nan,6,6,7,12,2,np.nan,3,4])\n",
    "#print(s)\n",
    "print('------')\n",
    "# 创建数据\n",
    "\n",
    "s.fillna(method = 'ffill',inplace = True)\n",
    "print(s)\n",
    "# 用前值插补"
   ]
  },
  {
   "cell_type": "code",
   "execution_count": 7,
   "metadata": {
    "collapsed": false
   },
   "outputs": [
    {
     "name": "stdout",
     "output_type": "stream",
     "text": [
      "         2\n",
      "-0.1111 x + 0.3333 x + 10\n",
      "<class 'numpy.lib.polynomial.poly1d'>\n",
      "插值10为：2.22\n",
      "------\n"
     ]
    }
   ],
   "source": [
    "# 缺失值插补\n",
    "# 几种思路：均值/中位数/众数插补、临近值插补、插值法\n",
    "# （3）插值法 —— 拉格朗日插值法\n",
    "\n",
    "from scipy.interpolate import lagrange\n",
    "x = [3, 6, 9]\n",
    "y = [10, 8, 4]\n",
    "print(lagrange(x,y))\n",
    "print(type(lagrange(x,y)))\n",
    "# 的输出值为的是多项式的n个系数\n",
    "# 这里输出3个值，分别为a0,a1,a2\n",
    "# y = a0 * x**2 + a1 * x + a2 → y = -0.11111111 * x**2 + 0.33333333 * x + 10\n",
    "\n",
    "print('插值10为：%.2f' % lagrange(x,y)(10))\n",
    "print('------')\n",
    "# -0.11111111*100 + 0.33333333*10 + 10 = -11.11111111 + 3.33333333 +10 = 2.22222222"
   ]
  },
  {
   "cell_type": "code",
   "execution_count": 8,
   "metadata": {
    "collapsed": false
   },
   "outputs": [
    {
     "name": "stdout",
     "output_type": "stream",
     "text": [
      "0    17.824704\n",
      "1    17.585902\n",
      "2    31.765869\n",
      "3          NaN\n",
      "4    51.779036\n",
      "dtype: float64\n",
      "总数据量:100\n",
      "------\n",
      "缺失值数据量:9\n",
      "缺失数据占比:9.00%\n",
      "55.4089720353\n",
      "71.8125483135\n",
      "64.3771972656\n",
      "114.778320313\n",
      "96.9274902344\n",
      "-0.108276367188\n",
      "-79.5625\n",
      "836.0\n",
      "1208.0\n",
      "finished!\n"
     ]
    },
    {
     "data": {
      "image/png": "[encoded data removed]",
      "text/plain": [
       "<matplotlib.figure.Figure at 0xcb05fd0>"
      ]
     },
     "metadata": {},
     "output_type": "display_data"
    }
   ],
   "source": [
    "# 缺失值插补\n",
    "# 几种思路：均值/中位数/众数插补、临近值插补、插值法\n",
    "# （3）插值法 —— 拉格朗日插值法，实际运用\n",
    "\n",
    "data = pd.Series(np.random.rand(100)*100)\n",
    "data[3,6,33,56,45,66,67,80,90] = np.nan\n",
    "print(data.head())\n",
    "print('总数据量:%i' % len(data))\n",
    "print('------')\n",
    "# 创建数据\n",
    "\n",
    "data_na = data[data.isnull()]\n",
    "print('缺失值数据量:%i' % len(data_na))\n",
    "print('缺失数据占比:%.2f%%' % (len(data_na) / len(data) * 100))\n",
    "# 缺失值的数量\n",
    "\n",
    "data_c = data.fillna(data.median())  #  中位数填充缺失值\n",
    "fig,axes = plt.subplots(1,4,figsize = (20,5))\n",
    "data.plot.box(ax = axes[0],grid = True,title = '数据分布')\n",
    "data.plot(kind = 'kde',style = '--r',ax = axes[1],grid = True,title = '删除缺失值',xlim = [-50,150])\n",
    "data_c.plot(kind = 'kde',style = '--b',ax = axes[2],grid = True,title = '缺失值填充中位数',xlim = [-50,150])\n",
    "# 密度图查看缺失值情况\n",
    "\n",
    "def na_c(s,n,k=5):\n",
    "    y = s[list(range(n-k,n+1+k))] # 取数\n",
    "    y = y[y.notnull()]  # 剔除空值\n",
    "    return(lagrange(y.index,list(y))(n))\n",
    "# 创建函数，做插值，由于数据量原因，以空值前后5个数据（共10个数据）为例做插值\n",
    "\n",
    "na_re = []\n",
    "for i in range(len(data)):\n",
    "    if data.isnull()[i]:\n",
    "        data[i] = na_c(data,i)\n",
    "        print(na_c(data,i))\n",
    "        na_re.append(data[i])\n",
    "data.dropna(inplace=True)  # 清除插值后仍存在的缺失值\n",
    "data.plot(kind = 'kde',style = '--k',ax = axes[3],grid = True,title = '拉格朗日插值后',xlim = [-50,150])\n",
    "print('finished!')\n",
    "# 缺失值插值"
   ]
  }
 ],
 "metadata": {
  "anaconda-cloud": {},
  "kernelspec": {
   "display_name": "Python [default]",
   "language": "python",
   "name": "python3"
  },
  "language_info": {
   "codemirror_mode": {
    "name": "ipython",
    "version": 3
   },
   "file_extension": ".py",
   "mimetype": "text/x-python",
   "name": "python",
   "nbconvert_exporter": "python",
   "pygments_lexer": "ipython3",
   "version": "3.5.2"
  }
 },
 "nbformat": 4,
 "nbformat_minor": 1
}
